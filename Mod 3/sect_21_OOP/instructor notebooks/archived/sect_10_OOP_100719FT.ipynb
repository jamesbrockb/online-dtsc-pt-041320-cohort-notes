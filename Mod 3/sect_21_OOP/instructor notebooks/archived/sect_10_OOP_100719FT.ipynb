{
 "cells": [
  {
   "cell_type": "markdown",
   "metadata": {
    "colab_type": "text",
    "id": "V0E5IGVvkUEw"
   },
   "source": [
    "# Object-Oriented Programming (Section 10)\n"
   ]
  },
  {
   "cell_type": "markdown",
   "metadata": {
    "colab_type": "text",
    "id": "YsQ8QZvHSXBk"
   },
   "source": [
    "- online-ds-ft-100719\n",
    "- 10/30/19"
   ]
  },
  {
   "cell_type": "markdown",
   "metadata": {
    "colab_type": "text",
    "id": "HWydWW3Lj7hA"
   },
   "source": [
    "## Objectives\n",
    "\n",
    "You will be able to: \n",
    "\n",
    "* To review how to construct functions\n",
    "* Understand different vocabulary/terminology related to OOP \n",
    "* Describe a Class and an instance \n",
    "* Describe Methods and Attributes\n",
    "* Connect the OOP concepts to functions and classes you've been using all along. \n",
    "* Define and create a class with attributes & methods\n"
   ]
  },
  {
   "cell_type": "markdown",
   "metadata": {
    "colab_type": "text",
    "id": "2nMzaHqhnfTz"
   },
   "source": [
    "# What does it mean to be 'Object-Oriented'?\n",
    "\n",
    "> ### _\"Everything is an object._\"\n",
    "- some Python sensei\n"
   ]
  },
  {
   "cell_type": "code",
   "execution_count": 0,
   "metadata": {
    "colab": {},
    "colab_type": "code",
    "id": "jCvTtiklLi3O"
   },
   "outputs": [],
   "source": [
    "# help(str)\n"
   ]
  },
  {
   "cell_type": "markdown",
   "metadata": {
    "colab_type": "text",
    "id": "zD62ZhGBZDRa"
   },
   "source": [
    "## OOP VOCABULARY\n"
   ]
  },
  {
   "cell_type": "code",
   "execution_count": 37,
   "metadata": {
    "colab": {
     "base_uri": "https://localhost:8080/",
     "height": 34
    },
    "colab_type": "code",
    "executionInfo": {
     "elapsed": 197,
     "status": "ok",
     "timestamp": 1573069643707,
     "user": {
      "displayName": "James Irving",
      "photoUrl": "https://lh3.googleusercontent.com/a-/AAuE7mACcEVd68LdN9V-4mJvzZsDjLhNHVOS2V_dwAYB=s64",
      "userId": "14376829558859029468"
     },
     "user_tz": 300
    },
    "id": "zcXNu3gpQYXb",
    "outputId": "dd6c71d8-064d-4db5-8622-958cbaa790d2"
   },
   "outputs": [
    {
     "data": {
      "text/plain": [
       "sklearn.preprocessing.data.StandardScaler"
      ]
     },
     "execution_count": 37,
     "metadata": {
      "tags": []
     },
     "output_type": "execute_result"
    }
   ],
   "source": [
    "from sklearn.preprocessing import StandardScaler\n",
    "StandardScaler._"
   ]
  },
  {
   "cell_type": "code",
   "execution_count": 36,
   "metadata": {
    "colab": {
     "base_uri": "https://localhost:8080/",
     "height": 34
    },
    "colab_type": "code",
    "executionInfo": {
     "elapsed": 734,
     "status": "ok",
     "timestamp": 1573069572936,
     "user": {
      "displayName": "James Irving",
      "photoUrl": "https://lh3.googleusercontent.com/a-/AAuE7mACcEVd68LdN9V-4mJvzZsDjLhNHVOS2V_dwAYB=s64",
      "userId": "14376829558859029468"
     },
     "user_tz": 300
    },
    "id": "BRasZKdXL6_k",
    "outputId": "f7cd3206-7479-4cb0-cb0e-92d82521ec10"
   },
   "outputs": [
    {
     "data": {
      "text/plain": [
       "sklearn.preprocessing.data.StandardScaler"
      ]
     },
     "execution_count": 36,
     "metadata": {
      "tags": []
     },
     "output_type": "execute_result"
    }
   ],
   "source": [
    "from sklearn.preprocessing import StandardScaler\n",
    "# help(StandardScaler)\n",
    "scaler = StandardScaler()\n",
    "# help(scaler)\n",
    "# scaler.\n",
    "# StandardScaler.fit_transform()\n",
    "MyCopy= StandardScaler\n",
    "def __str__(self):\n",
    "    return 'FISH'\n",
    "MyCopy.__repr__=__repr__\n",
    "MyCopy"
   ]
  },
  {
   "cell_type": "code",
   "execution_count": 15,
   "metadata": {
    "colab": {
     "base_uri": "https://localhost:8080/",
     "height": 204
    },
    "colab_type": "code",
    "executionInfo": {
     "elapsed": 1575,
     "status": "ok",
     "timestamp": 1573068794639,
     "user": {
      "displayName": "James Irving",
      "photoUrl": "https://lh3.googleusercontent.com/a-/AAuE7mACcEVd68LdN9V-4mJvzZsDjLhNHVOS2V_dwAYB=s64",
      "userId": "14376829558859029468"
     },
     "user_tz": 300
    },
    "id": "i0eCP26MNED0",
    "outputId": "3d5ba096-a408-4074-f4f3-3d1cca8c0f5c"
   },
   "outputs": [
    {
     "data": {
      "text/html": [
       "<style  type=\"text/css\" >\n",
       "</style><table id=\"T_45516078_00cc_11ea_8207_0242ac1c0002\" ><caption>Loaded Packages and Handles</caption><thead>    <tr>        <th class=\"col_heading level0 col0\" >Handle</th>        <th class=\"col_heading level0 col1\" >Package</th>        <th class=\"col_heading level0 col2\" >Description</th>    </tr></thead><tbody>\n",
       "                <tr>\n",
       "                                <td id=\"T_45516078_00cc_11ea_8207_0242ac1c0002row0_col0\" class=\"data row0 col0\" >dp</td>\n",
       "                        <td id=\"T_45516078_00cc_11ea_8207_0242ac1c0002row0_col1\" class=\"data row0 col1\" >IPython.display</td>\n",
       "                        <td id=\"T_45516078_00cc_11ea_8207_0242ac1c0002row0_col2\" class=\"data row0 col2\" >Display modules with helpful display and clearing commands.</td>\n",
       "            </tr>\n",
       "            <tr>\n",
       "                                <td id=\"T_45516078_00cc_11ea_8207_0242ac1c0002row1_col0\" class=\"data row1 col0\" >fs</td>\n",
       "                        <td id=\"T_45516078_00cc_11ea_8207_0242ac1c0002row1_col1\" class=\"data row1 col1\" >fsds_100719</td>\n",
       "                        <td id=\"T_45516078_00cc_11ea_8207_0242ac1c0002row1_col2\" class=\"data row1 col2\" >Custom data science bootcamp student package</td>\n",
       "            </tr>\n",
       "            <tr>\n",
       "                                <td id=\"T_45516078_00cc_11ea_8207_0242ac1c0002row2_col0\" class=\"data row2 col0\" >mpl</td>\n",
       "                        <td id=\"T_45516078_00cc_11ea_8207_0242ac1c0002row2_col1\" class=\"data row2 col1\" >matplotlib</td>\n",
       "                        <td id=\"T_45516078_00cc_11ea_8207_0242ac1c0002row2_col2\" class=\"data row2 col2\" >Matplotlib's base OOP module with formatting artists</td>\n",
       "            </tr>\n",
       "            <tr>\n",
       "                                <td id=\"T_45516078_00cc_11ea_8207_0242ac1c0002row3_col0\" class=\"data row3 col0\" >plt</td>\n",
       "                        <td id=\"T_45516078_00cc_11ea_8207_0242ac1c0002row3_col1\" class=\"data row3 col1\" >matplotlib.pyplot</td>\n",
       "                        <td id=\"T_45516078_00cc_11ea_8207_0242ac1c0002row3_col2\" class=\"data row3 col2\" >Matplotlib's matlab-like plotting module</td>\n",
       "            </tr>\n",
       "            <tr>\n",
       "                                <td id=\"T_45516078_00cc_11ea_8207_0242ac1c0002row4_col0\" class=\"data row4 col0\" >np</td>\n",
       "                        <td id=\"T_45516078_00cc_11ea_8207_0242ac1c0002row4_col1\" class=\"data row4 col1\" >numpy</td>\n",
       "                        <td id=\"T_45516078_00cc_11ea_8207_0242ac1c0002row4_col2\" class=\"data row4 col2\" >scientific computing with Python</td>\n",
       "            </tr>\n",
       "            <tr>\n",
       "                                <td id=\"T_45516078_00cc_11ea_8207_0242ac1c0002row5_col0\" class=\"data row5 col0\" >pd</td>\n",
       "                        <td id=\"T_45516078_00cc_11ea_8207_0242ac1c0002row5_col1\" class=\"data row5 col1\" >pandas</td>\n",
       "                        <td id=\"T_45516078_00cc_11ea_8207_0242ac1c0002row5_col2\" class=\"data row5 col2\" >High performance data structures and tools</td>\n",
       "            </tr>\n",
       "            <tr>\n",
       "                                <td id=\"T_45516078_00cc_11ea_8207_0242ac1c0002row6_col0\" class=\"data row6 col0\" >sns</td>\n",
       "                        <td id=\"T_45516078_00cc_11ea_8207_0242ac1c0002row6_col1\" class=\"data row6 col1\" >seaborn</td>\n",
       "                        <td id=\"T_45516078_00cc_11ea_8207_0242ac1c0002row6_col2\" class=\"data row6 col2\" >High-level data visualization library based on matplotlib</td>\n",
       "            </tr>\n",
       "    </tbody></table>"
      ],
      "text/plain": [
       "<pandas.io.formats.style.Styler at 0x7f1be2c13ac8>"
      ]
     },
     "metadata": {
      "tags": []
     },
     "output_type": "display_data"
    },
    {
     "data": {
      "text/html": [
       "        <script type=\"text/javascript\">\n",
       "        window.PlotlyConfig = {MathJaxConfig: 'local'};\n",
       "        if (window.MathJax) {MathJax.Hub.Config({SVG: {font: \"STIX-Web\"}});}\n",
       "        if (typeof require !== 'undefined') {\n",
       "        require.undef(\"plotly\");\n",
       "        requirejs.config({\n",
       "            paths: {\n",
       "                'plotly': ['https://cdn.plot.ly/plotly-latest.min']\n",
       "            }\n",
       "        });\n",
       "        require(['plotly'], function(Plotly) {\n",
       "            window._Plotly = Plotly;\n",
       "        });\n",
       "        }\n",
       "        </script>\n",
       "        "
      ]
     },
     "metadata": {
      "tags": []
     },
     "output_type": "display_data"
    }
   ],
   "source": [
    "!pip install fsds_100719\n",
    "from fsds_100719.imports import *"
   ]
  },
  {
   "cell_type": "code",
   "execution_count": 0,
   "metadata": {
    "colab": {},
    "colab_type": "code",
    "id": "yJuLj8r-NRun"
   },
   "outputs": [],
   "source": [
    "fs.ihelp(StandardScaler,False)\n",
    "scaler = StandardScaler(with_mean=False)"
   ]
  },
  {
   "cell_type": "code",
   "execution_count": 0,
   "metadata": {
    "colab": {},
    "colab_type": "code",
    "id": "wP6xhQbLN9rO"
   },
   "outputs": [],
   "source": [
    "df = fs.datasets.load_mod1_proj()"
   ]
  },
  {
   "cell_type": "code",
   "execution_count": 32,
   "metadata": {
    "colab": {
     "base_uri": "https://localhost:8080/",
     "height": 361
    },
    "colab_type": "code",
    "executionInfo": {
     "elapsed": 2049,
     "status": "ok",
     "timestamp": 1573069334080,
     "user": {
      "displayName": "James Irving",
      "photoUrl": "https://lh3.googleusercontent.com/a-/AAuE7mACcEVd68LdN9V-4mJvzZsDjLhNHVOS2V_dwAYB=s64",
      "userId": "14376829558859029468"
     },
     "user_tz": 300
    },
    "id": "dO1uJ9qkN1NF",
    "outputId": "7c5da5b7-324f-481b-9363-f6f014aea0f6"
   },
   "outputs": [
    {
     "data": {
      "text/plain": [
       "Text(0.5, 0.98, 'test')"
      ]
     },
     "execution_count": 32,
     "metadata": {
      "tags": []
     },
     "output_type": "execute_result"
    },
    {
     "data": {
      "image/png": "[encoded data removed]",
      "text/plain": [
       "<Figure size 432x288 with 1 Axes>"
      ]
     },
     "metadata": {
      "tags": []
     },
     "output_type": "display_data"
    }
   ],
   "source": [
    "plt.plot\n",
    "ax = df.plot()#.drop('id',axis=1).plot()\n",
    "ax.set_title('Title')\n",
    "fig = ax.get_figure()\n",
    "fig.suptitle('test')\n",
    "ax.set_"
   ]
  },
  {
   "cell_type": "code",
   "execution_count": 0,
   "metadata": {
    "colab": {},
    "colab_type": "code",
    "id": "sbfr93WrM1dd"
   },
   "outputs": [],
   "source": [
    "scaler = StandardScaler.__init__(StandardScaler)\n",
    "scaler"
   ]
  },
  {
   "cell_type": "markdown",
   "metadata": {
    "colab_type": "text",
    "id": "vudBN45kvwt3"
   },
   "source": [
    "\n",
    "- **Function:** An object that performs a task/operation/calc on external information/variables.\n",
    "- Parameters: any/all inputs in a function definition.\n",
    "- Argument: The actual values passed in for the parameters.\n",
    "<br><br>\n",
    "- **Class:** template object with a set of attributes/methods.\n",
    "- Instance: a copy of/ built version of our Class template.\n",
    "- Object: Another general word for instance/class\n",
    "<!-- - Property:  -->\n",
    "- Attribute: variable that belongs to a object\n",
    "- Method: a function that belongs to that object. \n"
   ]
  },
  {
   "cell_type": "markdown",
   "metadata": {
    "colab_type": "text",
    "id": "-sqK6vmKY1xB"
   },
   "source": [
    "# Functions\n"
   ]
  },
  {
   "cell_type": "markdown",
   "metadata": {
    "colab_type": "text",
    "id": "x7M3bHLLMUWg"
   },
   "source": [
    "* Using Function `arguments`,`keyword=arguments`, `*args`, and `**kwargs`  \n",
    "- Define Parameters vs Arguments\n",
    "- Define Keyword Arguments\n",
    "- Learn about `**` unpacking.\n",
    "\n",
    "```python\n",
    "def my_func(req_arg1,req_arg2, req_kwd1='team_1', req_kwd2=None,**optional_kwargs):\n",
    "    \"\"\"Example function displaying the possibility of both required  arguments, unlimited arguments (*args), required keyword arguments, as well as unlimited keyword arguments (**kwargs).\n",
    "    \"\"\" \n",
    "    import modules_you_need as usual\n",
    "    \n",
    "    ## Note: Using None as a default\n",
    "    # Its a good placeholder in many situations.\n",
    "    if req_kwd2 is None:\n",
    "        print('[i] Must use `is` None, not `==`')\n",
    "        req_kwd2 = usual.generate_random_name(req_arg2)\n",
    "        ## Notice you can use a function to generate\n",
    "        # the keyword based on another input  \n",
    "    \n",
    "    ## Start the list with the two required input arguments.\n",
    "    arg_list = [req_arg1, req_arg2]\n",
    "\n",
    "    ## List Comp to Append Any Additional *Arguments\n",
    "    [arg_list.append(arg) for arg in *optional_args]\n",
    "    \n",
    "    total=np.sum(arg_list)\n",
    "    \n",
    "    ## Do the same for the kwargs\n",
    "    kwarg_list = [req_kwd1, req_kwd2]\n",
    "    [kwarg_list.append(str(kwarg)) for kwarg in **optional_kwargs] \n",
    "\n",
    "    ## Combine into a dictionary\n",
    "    comb_dict = dict(zip(kwarg_list,arg_list))\n",
    "\n",
    "    return comb_dict\n",
    "\n",
    "\n",
    "```"
   ]
  },
  {
   "cell_type": "markdown",
   "metadata": {
    "colab_type": "text",
    "id": "-FUbPevKMbxb"
   },
   "source": [
    "### Using **kwargs to shuttle commands to other functions\n",
    "- Since we now know we can pass ALL of a functions parameters using **kwargs, \n",
    "    - as long as it contains\n",
    "        - normal required arguments \n",
    "        - required keyword arguments\n",
    "        - *unlimited additional kwargs*\n",
    "We can now have a varaiable for our functions that accepts keywords meant to be passed as **kwargs.\n",
    "- Good example is plotting parameters\n",
    "\n",
    "```python\n",
    "\n",
    "def calc_and_plot_someting(val1, val2, plt_kwds = {'kind':'bar'}):\n",
    "    \"\"\"\n",
    "    Calculates metrics on val1 and val2, plots the results using plt_kwds.\n",
    "    Args:\n",
    "        val1 (arr):\n",
    "        val1 (arr):\n",
    "        plt_kwds: Plotting parameters passed on to pandas df.plot()\n",
    "    \n",
    "    Returns:\n",
    "        df_results (df): Results from calculation.\n",
    "        fig: fig object from .plot() call\n",
    "    \"\"\"\n",
    "    import pandas as pd\n",
    "    import bs_ds as bs\n",
    "    import matplotlib.pyplot as plt\n",
    "    results = some_calculations(val1,val2)\n",
    "    df_result = bs.list2df(results)\n",
    "    fig = df_results.plot(**plt_kwds)\n",
    "    return df_results, fig\n"
   ]
  },
  {
   "cell_type": "markdown",
   "metadata": {
    "colab_type": "text",
    "id": "ORtL6PXlG2Qc"
   },
   "source": [
    "# Defining and Initializing Classes\n"
   ]
  },
  {
   "cell_type": "markdown",
   "metadata": {
    "colab_type": "text",
    "id": "26Ii5e0lVjCE"
   },
   "source": [
    "\n",
    "\n",
    "```python\n",
    "## Bare minimum to define a class.\n",
    "class Person:\n",
    "    pass\n",
    "```\n",
    "\n",
    "- Use `class NewClassName():` like you use `def function_name():` for functions.\n",
    "    - the `()` are optional for classes. (used to inherit other classes, more on that later)\n",
    "- Convention for naming classes = `UpperCamelCase`\n",
    "- Convention for naming function = `snake_case`\n"
   ]
  },
  {
   "cell_type": "markdown",
   "metadata": {
    "colab_type": "text",
    "id": "pgbK9ZGWV-bM"
   },
   "source": [
    "\n",
    "```python\n",
    "## StandardScaler is a class\n",
    "from sklearn.preprocessing import StandardScaler\n",
    "\n",
    "## We create an instance of the class\n",
    "scaler = StandardScaler()\n",
    "\n",
    "## We use the scaler's fit_transform method\n",
    "X_scaled = scaler.fit_transform(X)\n",
    "```\n"
   ]
  },
  {
   "cell_type": "markdown",
   "metadata": {
    "colab_type": "text",
    "id": "k4nzIdO4ZNWE"
   },
   "source": [
    "### Initialization \n"
   ]
  },
  {
   "cell_type": "code",
   "execution_count": 0,
   "metadata": {
    "colab": {
     "base_uri": "https://localhost:8080/",
     "height": 34
    },
    "colab_type": "code",
    "executionInfo": {
     "elapsed": 301,
     "status": "ok",
     "timestamp": 1572452495689,
     "user": {
      "displayName": "James Irving",
      "photoUrl": "https://lh3.googleusercontent.com/a-/AAuE7mACcEVd68LdN9V-4mJvzZsDjLhNHVOS2V_dwAYB=s64",
      "userId": "14376829558859029468"
     },
     "user_tz": 240
    },
    "id": "keoKoLmWd_q2",
    "outputId": "0ba23c9c-d5bc-4dcd-8002-2b7d5b23d89c"
   },
   "outputs": [
    {
     "data": {
      "text/plain": [
       "StandardScaler(copy=True, with_mean=True, with_std=True)"
      ]
     },
     "execution_count": 25,
     "metadata": {
      "tags": []
     },
     "output_type": "execute_result"
    }
   ],
   "source": [
    "from sklearn.preprocessing import StandardScaler\n",
    "scaler = StandardScaler()\n",
    "scaler"
   ]
  },
  {
   "cell_type": "markdown",
   "metadata": {
    "colab_type": "text",
    "id": "l7JyuM8-ByvS"
   },
   "source": [
    "- We create an instance by setting a `instance = ClassName()`\n",
    "-  This uses the template `ClassName` to create an instance of the class ( which we named `instance`)\n",
    "- When an instance is `initialized`, we `call` it using `()`, which runs a default `__init__()` method.\n",
    "\n",
    "\n",
    "#### Know thy `self`\n",
    "- Because Methods are designed to operate on the `object_its.attached_to()`, Python automatically gives every method a copy of instance its attached to, which we call `self`\n",
    "- We have to pass `self` as the first parameter for every method we make.\n",
    "- Otherwise it will think that the first thing we give it is actually itself. This will cause an *existential crisis** and corresponding error.\n",
    "\n",
    "```python\n",
    "\n",
    "class Person:\n",
    "    species = 'human'\n",
    "    alive = True\n",
    "    \n",
    "    def __init__(self,name=None,fav_color=None,location=None):\n",
    "        self.name = name\n",
    "        self.location = location\n",
    "        self.fav_color = fav_color\n",
    "\n",
    "```\n"
   ]
  },
  {
   "cell_type": "markdown",
   "metadata": {
    "colab_type": "text",
    "id": "Cn5aMHLzZKyY"
   },
   "source": [
    "### Class Attributes & Methods \n"
   ]
  },
  {
   "cell_type": "code",
   "execution_count": 0,
   "metadata": {
    "colab": {},
    "colab_type": "code",
    "id": "Nfc7Oq4Vei7f"
   },
   "outputs": [],
   "source": [
    "class Person:\n",
    "    # Class Attributes\n",
    "    species = 'human'\n",
    "    alive = True\n",
    "person = Person()\n",
    "person."
   ]
  },
  {
   "cell_type": "markdown",
   "metadata": {
    "colab_type": "text",
    "id": "BPiCmIx9hmRY"
   },
   "source": [
    "```python\n",
    "class Person:\n",
    "    # Class Attributes\n",
    "    species = 'human'\n",
    "    alive = True\n",
    "```    \n",
    "\n",
    "\n",
    "- Attributes are properties of an\n",
    "\n",
    "```\n",
    "# This is formatted as code\n",
    "```\n",
    "\n",
    " object, essentially a stored variable\n",
    "    - Accessed using `.notation` \n",
    "        - i.e. `df.columns`,`model.resid`\n",
    "* Methods are like functions, but they are attached to / contained by the class/instance\n",
    "* When calling a object **.method()**, the object *implicitly* called\n",
    "    * Must use `self` to tell methods to expect input variable \n",
    "    - i.e. `df.plot()`, `df.drop()`, `df.corr()`,etc.\n",
    "\n",
    "\n",
    "\n"
   ]
  },
  {
   "cell_type": "markdown",
   "metadata": {
    "colab_type": "text",
    "id": "6M4CAiIrVoTF"
   },
   "source": []
  },
  {
   "cell_type": "code",
   "execution_count": 0,
   "metadata": {
    "colab": {},
    "colab_type": "code",
    "id": "guaZoxQnwDVQ"
   },
   "outputs": [],
   "source": [
    "class Person:\n",
    "    species = 'human'\n",
    "    alive = True\n",
    "\n",
    "    def __init__(self,name,fav_color,location=None):\n",
    "        self.name = name\n",
    "        self.location = location\n",
    "        self.fav_color = fav_color\n",
    "\n",
    "\n",
    "    def who_am_i(self):\n",
    "        print(f\"My name is {self.name}\")\n",
    "        print(f\"I live in {self.location}\") \n",
    "        print(f\"My favorite color is {self.fav_color}\")\n",
    "\n",
    "me = Person('James','purple','Baltimore, MD')\n"
   ]
  },
  {
   "cell_type": "code",
   "execution_count": 0,
   "metadata": {
    "colab": {
     "base_uri": "https://localhost:8080/",
     "height": 68
    },
    "colab_type": "code",
    "executionInfo": {
     "elapsed": 271,
     "status": "ok",
     "timestamp": 1572452847734,
     "user": {
      "displayName": "James Irving",
      "photoUrl": "https://lh3.googleusercontent.com/a-/AAuE7mACcEVd68LdN9V-4mJvzZsDjLhNHVOS2V_dwAYB=s64",
      "userId": "14376829558859029468"
     },
     "user_tz": 240
    },
    "id": "HZ5eAzjwwDSy",
    "outputId": "60f9f35b-38b1-408c-a9a4-ba05ed112a52"
   },
   "outputs": [
    {
     "name": "stdout",
     "output_type": "stream",
     "text": [
      "My name is James\n",
      "I live in None\n",
      "My favorite color is purple\n"
     ]
    }
   ],
   "source": [
    "me = Person('James','purple') #'James','purple','Baltimore, MD')\n",
    "me.who_am_i()"
   ]
  },
  {
   "cell_type": "markdown",
   "metadata": {
    "colab_type": "text",
    "id": "FXDWzac3xh-W"
   },
   "source": [
    "### Inheritance\n",
    "- Define a Class based on another class by passing the class to inherit from as a parameter:\n",
    "```\n",
    "def FlatironStudent(Person):\n",
    "    pass # hopefully! lol\n",
    "\n",
    "## What did you inherit?    \n",
    "- To view all of the attributes and methods of a class, **use the help() command**\n",
    "    -  Note: There is often ***information in `help()` that you may not be able to find ANYWHERE else*** and does not show up in documentation."
   ]
  },
  {
   "cell_type": "code",
   "execution_count": 0,
   "metadata": {
    "colab": {},
    "colab_type": "code",
    "id": "AoOY7I9Xw955"
   },
   "outputs": [],
   "source": [
    "class FlatironStudent(Person):\n",
    "    # def __init__(self):\n",
    "    pass\n",
    "\n",
    "# help(FlatironStudent)"
   ]
  },
  {
   "cell_type": "code",
   "execution_count": 0,
   "metadata": {
    "colab": {
     "base_uri": "https://localhost:8080/",
     "height": 544
    },
    "colab_type": "code",
    "executionInfo": {
     "elapsed": 297,
     "status": "ok",
     "timestamp": 1572452939108,
     "user": {
      "displayName": "James Irving",
      "photoUrl": "https://lh3.googleusercontent.com/a-/AAuE7mACcEVd68LdN9V-4mJvzZsDjLhNHVOS2V_dwAYB=s64",
      "userId": "14376829558859029468"
     },
     "user_tz": 240
    },
    "id": "Jd8NueSkf1ui",
    "outputId": "8c466e55-9306-40d7-d2e5-b50d890150be"
   },
   "outputs": [
    {
     "name": "stdout",
     "output_type": "stream",
     "text": [
      "Help on class FlatironStudent in module __main__:\n",
      "\n",
      "class FlatironStudent(Person)\n",
      " |  Method resolution order:\n",
      " |      FlatironStudent\n",
      " |      Person\n",
      " |      builtins.object\n",
      " |  \n",
      " |  Methods inherited from Person:\n",
      " |  \n",
      " |  __init__(self, name, fav_color, location=None)\n",
      " |      Initialize self.  See help(type(self)) for accurate signature.\n",
      " |  \n",
      " |  who_am_i(self)\n",
      " |  \n",
      " |  ----------------------------------------------------------------------\n",
      " |  Data descriptors inherited from Person:\n",
      " |  \n",
      " |  __dict__\n",
      " |      dictionary for instance variables (if defined)\n",
      " |  \n",
      " |  __weakref__\n",
      " |      list of weak references to the object (if defined)\n",
      " |  \n",
      " |  ----------------------------------------------------------------------\n",
      " |  Data and other attributes inherited from Person:\n",
      " |  \n",
      " |  alive = True\n",
      " |  \n",
      " |  species = 'human'\n",
      "\n"
     ]
    }
   ],
   "source": [
    "help(FlatironStudent)"
   ]
  },
  {
   "cell_type": "markdown",
   "metadata": {
    "colab_type": "text",
    "id": "s3GPG94KXQ1G"
   },
   "source": [
    "# Activity (15 min)\n",
    "- We are going to keep building our `FlatironStudent` class. \n",
    "- We want to have our student complete the mod 1 project.\n",
    "- The project has `requrements` that must be met to pass each part of the project. \n",
    "\n"
   ]
  },
  {
   "cell_type": "code",
   "execution_count": 0,
   "metadata": {
    "colab": {
     "base_uri": "https://localhost:8080/",
     "height": 629
    },
    "colab_type": "code",
    "executionInfo": {
     "elapsed": 372,
     "status": "ok",
     "timestamp": 1572453407590,
     "user": {
      "displayName": "James Irving",
      "photoUrl": "https://lh3.googleusercontent.com/a-/AAuE7mACcEVd68LdN9V-4mJvzZsDjLhNHVOS2V_dwAYB=s64",
      "userId": "14376829558859029468"
     },
     "user_tz": 240
    },
    "id": "SBgILXmtRPkr",
    "outputId": "02def786-5212-4921-a819-82919d345b3a"
   },
   "outputs": [
    {
     "name": "stdout",
     "output_type": "stream",
     "text": [
      "Help on class FlatironStudent in module __main__:\n",
      "\n",
      "class FlatironStudent(Person)\n",
      " |  Method resolution order:\n",
      " |      FlatironStudent\n",
      " |      Person\n",
      " |      builtins.object\n",
      " |  \n",
      " |  Data and other attributes defined here:\n",
      " |  \n",
      " |  mod_project = None\n",
      " |  \n",
      " |  ----------------------------------------------------------------------\n",
      " |  Methods inherited from Person:\n",
      " |  \n",
      " |  __init__(self, name=None, fav_color=None, location=None)\n",
      " |      Initialize self.  See help(type(self)) for accurate signature.\n",
      " |  \n",
      " |  who_am_i(self)\n",
      " |  \n",
      " |  ----------------------------------------------------------------------\n",
      " |  Data descriptors inherited from Person:\n",
      " |  \n",
      " |  __dict__\n",
      " |      dictionary for instance variables (if defined)\n",
      " |  \n",
      " |  __weakref__\n",
      " |      list of weak references to the object (if defined)\n",
      " |  \n",
      " |  ----------------------------------------------------------------------\n",
      " |  Data and other attributes inherited from Person:\n",
      " |  \n",
      " |  alive = True\n",
      " |  \n",
      " |  species = 'human'\n",
      "\n"
     ]
    }
   ],
   "source": [
    "help(FlatironStudent)"
   ]
  },
  {
   "cell_type": "code",
   "execution_count": 0,
   "metadata": {
    "colab": {
     "base_uri": "https://localhost:8080/",
     "height": 51
    },
    "colab_type": "code",
    "executionInfo": {
     "elapsed": 488,
     "status": "ok",
     "timestamp": 1572455119611,
     "user": {
      "displayName": "James Irving",
      "photoUrl": "https://lh3.googleusercontent.com/a-/AAuE7mACcEVd68LdN9V-4mJvzZsDjLhNHVOS2V_dwAYB=s64",
      "userId": "14376829558859029468"
     },
     "user_tz": 240
    },
    "id": "3Of0fyLFw93l",
    "outputId": "331a5a67-f083-4e74-eef0-2b64fa11e105"
   },
   "outputs": [
    {
     "name": "stdout",
     "output_type": "stream",
     "text": [
      "The Project is Due on 2019-11-01 00:00:00\n"
     ]
    },
    {
     "data": {
      "text/plain": [
       "False"
      ]
     },
     "execution_count": 52,
     "metadata": {
      "tags": []
     },
     "output_type": "execute_result"
    }
   ],
   "source": [
    "class Project():\n",
    "    \"\"\"\"Module Project class\"\"\"\n",
    "    def __init__(self,mod_num):\n",
    "        self.mod_num = mod_num\n",
    "\n",
    "    def __str__(self):\n",
    "        msg = self.__repr__()\n",
    "        return (msg)\n",
    "    def __repr__(self ,mod_num=None):\n",
    "        status = [f\"The Mod {self.mod_num} Project is Due on {self.due_date}.\"]\n",
    "        status.append(f'Project Requirements:\\n{list(self.requirements.keys())}')\n",
    "        return \"\\n\".join(status)\n",
    "\n",
    "\n",
    "\n",
    "\n",
    "    def assign(self,due_date):\n",
    "        \"\"\"Set a project due date and requirements.\"\"\"\n",
    "        import pandas as pd\n",
    "\n",
    "        ## convert to datetime object if possible\n",
    "        try:\n",
    "            due_date = pd.to_datetime(due_date)\n",
    "        except:\n",
    "            print('[!] Conversion to datetime failed.')\n",
    "        \n",
    "        ## Set due date\n",
    "        self.due_date = due_date\n",
    "\n",
    "        print(f'The Project is Due on {due_date}')\n",
    "        self.requirements = {}\n",
    "        self.requirements['notebook']={'visualizations': '>= 3',\n",
    "                                        'nulls_in_data':False,\n",
    "                                        'check_linear':True,\n",
    "                                        'multicoll_data':False,\n",
    "                                        'check_normality':True,\n",
    "                                        'check_outliers': True,\n",
    "                                        'recommendations': '>3',\n",
    "                                        'num_models':'>1'}\n",
    "\n",
    "\n",
    "        self.requirements['presentation'] = {'technical_jargon':False,\n",
    "                                             'recommendations': True,\n",
    "                                             'visualizations':True}\n",
    "        self.requirements['blog post'] = True\n",
    "        self.requirements['video'] = True \n",
    "\n",
    "        self.notebook = {'visualizations': 0,\n",
    "                                        'nulls_in_data':True,\n",
    "                                        'check_linear':True,\n",
    "                                        'multicoll_data':True,\n",
    "                                        'normal_data':False,\n",
    "                                        'outliers_present': True,\n",
    "                                        'recommendations': '>3',\n",
    "                                        'num_models':'>1'}\n",
    "\n",
    "        self.presentation = {'technical_jargon':None,\n",
    "                                             'recommendations': None,\n",
    "                                             'visualizations':None}\n",
    "        self.blog_post = False\n",
    "        self.video = False\n",
    "\n",
    "\n",
    "class Person:\n",
    "    species = 'human'\n",
    "    alive = True\n",
    "\n",
    "    def __init__(self,name=None,fav_color=None,location=None):\n",
    "        self.name = name\n",
    "        self.location = location\n",
    "        self.fav_color = fav_color\n",
    "\n",
    "\n",
    "    def who_am_i(self):\n",
    "        print(f\"My name is {self.name}\")\n",
    "        print(f\"I live in {self.location}\") \n",
    "        print(f\"My favorite color is {self.fav_color}\")\n",
    "\n",
    "\n",
    "class FlatironStudent(Person):\n",
    "    mod1_project = None\n",
    "    # mod2_project = None\n",
    "   \n",
    "    def start_project(self,num,date):\n",
    "        mod_project = Project(num)\n",
    "        mod_project.assign(date)\n",
    "        self.mod1_project = mod_project\n",
    "    # def work_on_notebook()\n",
    "\n",
    "    # def work_on_presentation()\n",
    "\n",
    "    # def work_on_blog()\n",
    "\n",
    "    # def work_on_video()\n",
    "   \n",
    "    # Have this function        \n",
    "\n",
    "\n",
    "\n",
    "## Initialize a FlatironStudent\n",
    "\n",
    "## Assign the Project to the student\n",
    "\n",
    "## work_on_notebook/presentation/blog/video\n",
    "\n",
    "## Have the student turn in the projecty\n",
    "student =FlatironStudent()\n",
    "student.start_project(1,'11/01/19')\n",
    "student.mod_project.requirements\n",
    "student.mod_project.notebook\n",
    "student.mod_project.blog_post\n",
    "student.mod_project.video"
   ]
  },
  {
   "cell_type": "code",
   "execution_count": 0,
   "metadata": {
    "colab": {
     "base_uri": "https://localhost:8080/",
     "height": 493
    },
    "colab_type": "code",
    "executionInfo": {
     "elapsed": 303,
     "status": "ok",
     "timestamp": 1572454854199,
     "user": {
      "displayName": "James Irving",
      "photoUrl": "https://lh3.googleusercontent.com/a-/AAuE7mACcEVd68LdN9V-4mJvzZsDjLhNHVOS2V_dwAYB=s64",
      "userId": "14376829558859029468"
     },
     "user_tz": 240
    },
    "id": "vLchWz2qhvFI",
    "outputId": "500715f6-7661-4515-dc55-ba7cda17fcd4"
   },
   "outputs": [
    {
     "name": "stdout",
     "output_type": "stream",
     "text": [
      "Help on class Project in module __main__:\n",
      "\n",
      "class Project(builtins.object)\n",
      " |  \"Module Project class\n",
      " |  \n",
      " |  Methods defined here:\n",
      " |  \n",
      " |  __init__(self, mod_num)\n",
      " |      Initialize self.  See help(type(self)) for accurate signature.\n",
      " |  \n",
      " |  __repr__(self, mod_num=None)\n",
      " |      Return repr(self).\n",
      " |  \n",
      " |  __str__(self)\n",
      " |      Return str(self).\n",
      " |  \n",
      " |  assign(self, due_date)\n",
      " |      Set a project due date and requirements.\n",
      " |  \n",
      " |  ----------------------------------------------------------------------\n",
      " |  Data descriptors defined here:\n",
      " |  \n",
      " |  __dict__\n",
      " |      dictionary for instance variables (if defined)\n",
      " |  \n",
      " |  __weakref__\n",
      " |      list of weak references to the object (if defined)\n",
      "\n"
     ]
    }
   ],
   "source": [
    "help(Project)"
   ]
  },
  {
   "cell_type": "code",
   "execution_count": 0,
   "metadata": {
    "colab": {},
    "colab_type": "code",
    "id": "kbuDdM0RYv2E"
   },
   "outputs": [],
   "source": []
  },
  {
   "cell_type": "code",
   "execution_count": 0,
   "metadata": {
    "colab": {
     "base_uri": "https://localhost:8080/",
     "height": 85
    },
    "colab_type": "code",
    "executionInfo": {
     "elapsed": 246,
     "status": "ok",
     "timestamp": 1572449235731,
     "user": {
      "displayName": "James Irving",
      "photoUrl": "https://lh3.googleusercontent.com/a-/AAuE7mACcEVd68LdN9V-4mJvzZsDjLhNHVOS2V_dwAYB=s64",
      "userId": "14376829558859029468"
     },
     "user_tz": 240
    },
    "id": "hUit9aalPh_o",
    "outputId": "37f8d6e9-7d69-431f-9201-11e3962bcc15"
   },
   "outputs": [
    {
     "name": "stdout",
     "output_type": "stream",
     "text": [
      "The Project is Due on 2019-11-07 00:00:00\n"
     ]
    },
    {
     "data": {
      "text/plain": [
       "The Mod 1 Project is Due on 2019-11-07 00:00:00.\n",
       "Project Requirements:\n",
       "['notebook', 'presentation', 'blog post', 'video']"
      ]
     },
     "execution_count": 20,
     "metadata": {
      "tags": []
     },
     "output_type": "execute_result"
    }
   ],
   "source": [
    "## How to assign the project\n",
    "mod1proj = Project(1)\n",
    "mod1proj.assign(due_date='11/07/2019')\n",
    "mod1proj"
   ]
  },
  {
   "cell_type": "markdown",
   "metadata": {
    "colab_type": "text",
    "id": "iAyfF7FpcHax"
   },
   "source": []
  },
  {
   "cell_type": "markdown",
   "metadata": {
    "colab_type": "text",
    "id": "lOSn8KbxcHYt"
   },
   "source": []
  },
  {
   "cell_type": "markdown",
   "metadata": {
    "colab_type": "text",
    "id": "0W0QGlpMcHWz"
   },
   "source": []
  },
  {
   "cell_type": "markdown",
   "metadata": {
    "colab_type": "text",
    "id": "FXU0grvgcHUP"
   },
   "source": [
    "# BONUS MATERIAL:\n"
   ]
  },
  {
   "cell_type": "markdown",
   "metadata": {
    "colab_type": "text",
    "id": "go8ISGxxMjwJ"
   },
   "source": [
    "## Decorators with Classes\n",
    "## Some special decorators used in classes.\n",
    "\n",
    "1. `@staticmethod`:\n",
    "    - Defines a method that does not get passed `self` when its called and can act on external code as if it was a function, not a \"`bound method`\"\n",
    "2. `@classmethod`:\n",
    "    - Specifies a method that should always refer to the default method spelled out in the class definition, NOT the version of it that is stored inside the **instance** of a method.\n",
    "3. `@property`: (see example class `EncryptedPassword` below.)\n",
    "    - Specifies that a function is going to determine the value of the `class.property`:\n",
    "    - Essentially replaces the property name with a getter function to determine that value.\n",
    "    - Use '@property.setter' above another function to define it as the setter function. "
   ]
  },
  {
   "cell_type": "markdown",
   "metadata": {
    "colab_type": "text",
    "id": "DvObAPNRXJI8"
   },
   "source": [
    "# Appendix: Examples From Lessons"
   ]
  },
  {
   "cell_type": "markdown",
   "metadata": {
    "colab_type": "text",
    "id": "WyFO6rJKnfRF"
   },
   "source": [
    "\n",
    "> **Note:** Dictionary object attributes are accessed using the bracket (`[]`) notation. However, instance object attributes are accessed using the dot (`.`) notation. "
   ]
  },
  {
   "cell_type": "markdown",
   "metadata": {
    "colab_type": "text",
    "id": "OsN58_LAhrHP"
   },
   "source": [
    "```python        \n",
    "# Initializing Instance Objects Using _init_ \n",
    "class Business():\n",
    "    def __init__(name=None, biz_type=None, city=None, customers = {}):\n",
    "        business.name = name\n",
    "        business.biz_type = biz_type\n",
    "        business.city = city\n",
    "        business.customers = customers\n",
    "\n",
    "    # Normal function to instantiate a BankAccount\n",
    "    def make_account():\n",
    "        new_account = BankAccount()\n",
    "        new_account._balance = 0\n",
    "        new_account._minimum_balance = 250\n",
    "        new_account._max_withdrawal = 150 \n",
    "        return new_account\n",
    "```\n",
    "```python\n",
    "class Customer():\n",
    "    def __init__(self, name=None, orders=[], location=None):\n",
    "        self.name=name\n",
    "        self.orders = orders\n",
    "        self.location = location\n",
    "    def add_order(item_name, item_cost, quantity):\n",
    "        self.orders.append({'item_name': item_name, 'item_cost':item_cost, 'quantity':quantity})\n",
    "```\n",
    "\n",
    "```python\n",
    "\n",
    "# Simple / lazy way\n",
    "class Person:\n",
    "    def set_name(self, name):\n",
    "        self.name = name\n",
    "    def set_job(self, job):\n",
    "        self.job = job\n",
    "\n",
    "```"
   ]
  },
  {
   "cell_type": "markdown",
   "metadata": {
    "colab_type": "text",
    "id": "TWWKB_t_BgUQ"
   },
   "source": [
    "\n",
    "```python \n",
    "# Defining an instance method:\n",
    "class Dog():\n",
    "    def bark(self):\n",
    "        return \"Ruh-roh!\"\n",
    "    def needs_a_walk(self):\n",
    "        self.gotta_go = False \n",
    "        return 'Phew that was close!'\n",
    "    def whose_a_good_dog(self, name):\n",
    "        return f'Whos a good dog???\"\\n {name.title()} is!'  \n",
    "\n",
    "# Calling an instance method\n",
    "new_rex = Dog()\n",
    "new_rex.bark() # Ruh-roh!\n",
    "new_rex.whose_a_good_dog('Fido')\n",
    "\n",
    "```"
   ]
  },
  {
   "cell_type": "markdown",
   "metadata": {
    "colab_type": "text",
    "id": "pHWqLtEANGDM"
   },
   "source": [
    "# Appendix B: Example Class "
   ]
  },
  {
   "cell_type": "code",
   "execution_count": 0,
   "metadata": {
    "colab": {},
    "colab_type": "code",
    "id": "_uJfVJxLNJwM"
   },
   "outputs": [],
   "source": [
    "class EncryptedPassword():\n",
    "    \"\"\"Class that can be used to either provide a password/username to be encrypted \n",
    "    OR to load a previously encypted password from file.    \n",
    "    NOTE: Once you have encrypted your password and saved to bin files, you do not need to provide the password again. \n",
    "    Make sure to delete your password from the notebook after. \n",
    "    - If encrypting a password, a key file and a password file will be saved to disk. \n",
    "        - Default Key Filename: '..\\\\encryption_key.bin',\n",
    "        - Default Password Filename: '..\\\\encrypted_pwd.bin'\n",
    "        - Default Username Filename: '..\\\\encrypted_username.bin'\n",
    "    \n",
    "    The string representations of the unencrypted password are shielded from displaying, when possible. \n",
    "    \n",
    "\n",
    "\n",
    "    - If opening and decrypting key and password files, pass filenames during initialization. \n",
    "    \n",
    "    \n",
    "    Example Usage:\n",
    "    >> # To Encrypt, with default folders:\n",
    "    >> my_pwd EncryptedPassword('my_password')\n",
    "    \n",
    "    >> # To Encrypt With custom folders\n",
    "    >> my_pwd = EncryptedPassword('my_password',filename_for_key='..\\folder_outside_repo\\key.bin',\n",
    "                                    filename_for_password = '..\\folder_outside_repo\\key.bin')\n",
    "                                    \n",
    "                                    \n",
    "    >> # To open and decrypt files (from default folders):\n",
    "    >> my_pwd = EncryptedPassword(from_file=True)\n",
    "    \n",
    "    >> # To open and decrypt files (from custom folders):\n",
    "    >> my_pwd = EncryptedPassword(from_file=True, \n",
    "                                filename_for_key='..\\folder_outside_repo\\key.bin',\n",
    "                                filename_for_password = '..\\folder_outside_repo\\key.bin')\n",
    "                                    \n",
    "        \n",
    "    \"\"\"\n",
    "    \n",
    "    ## Default username\n",
    "    username = 'NOT PROVIDED'\n",
    "    \n",
    "    ## the .password property is designed so it will not display an unencrypted password. \n",
    "    @property ## password getter \n",
    "    def password(self):\n",
    "        # if the encrypyted password already exists, print the encrypted pwd (unusable without key)\n",
    "        if hasattr(self,'_encrypted_password_'):\n",
    "            print('Encrypted Password:')\n",
    "            return self._encrypted_password_\n",
    "        else:\n",
    "            raise Exception('Password not yet encrypted.')\n",
    "    \n",
    "    ## the .password property cannot be set by a user\n",
    "    @password.setter ## password setter\n",
    "    def password(self,password):\n",
    "        raise Exception('.password is read only.')\n",
    "        \n",
    "               \n",
    "    ## \n",
    "    def __init__(self,username=None,password=None,from_file=False, encrypt=True,\n",
    "                filename_for_key='..\\\\encryption_key.bin',\n",
    "                filename_for_password='..\\\\encrypted_pwd.bin',\n",
    "                filename_for_username = '..\\\\encrypted_username.bin'):\n",
    "        \"\"\"Accepts either a username and password to encyrypt, \n",
    "        or loads a previously encrypyed password from file.\n",
    "        \n",
    "        Args:\n",
    "            username (str): email username.\n",
    "            password (str): email password (note: if have 2-factor authentication on email account, \n",
    "                will need app-specific password).\n",
    "            from_file (bool): whether to load the user credentials from file\n",
    "            encrypt (bool): whether to encrypt provided password. Default=True\n",
    "            \n",
    "            filename_for_key (str): filepath for key.bin (default is'..\\\\encryption_key.bin')\n",
    "            filename_for_password: filepath for password.bin (default is'..\\\\encryption_pwd.bin')\n",
    "            filename_for_username: filepath for username.bin (default is'..\\\\encrypted_username.bin')\n",
    "            \"\"\"\n",
    "        \n",
    "        ## Save filenames \n",
    "        self.filename_for_key = filename_for_key\n",
    "        self.filename_for_password = filename_for_password\n",
    "        self.filename_for_username = filename_for_username\n",
    "        \n",
    "        ## If user passed a username, set username\n",
    "        if username is not None:\n",
    "            self.username = username\n",
    "        \n",
    "        ## If no password is provided:\n",
    "        if (password is None):\n",
    "            \n",
    "            ##  if load from file if `from_file`=True\n",
    "            if (from_file==True):\n",
    "                \n",
    "                try: ## Load in the key, password, username files\n",
    "                    self.load_from_file(key_filename=filename_for_key,\n",
    "                                    password_filename=filename_for_password,\n",
    "                                        username_filename=filename_for_username)\n",
    "                except:\n",
    "                    raise Exception('Something went wrong. Do the key and password files exist?')\n",
    "            \n",
    "            ## If no password provided, and from_file=False, raise error\n",
    "            else:\n",
    "                raise Exception('Must either provide a password to encrypt, or set from_file=True')\n",
    "        \n",
    "        \n",
    "        ## If the user DOES provide a password\n",
    "        else:\n",
    "            self._password_ = password # set the private attribute for password\n",
    "            \n",
    "            ## Encrypt the password\n",
    "            if encrypt:\n",
    "                self.encrypt_password()\n",
    "                \n",
    "                \n",
    "    def encrypt_password(self, show_encrypted_password=False):\n",
    "        \"\"\"Encrypt the key, username, and password and save to external files.\"\"\"\n",
    "         ## Get filenames to use.\n",
    "        filename_for_key= self.filename_for_key\n",
    "        filename_for_password=self.filename_for_password\n",
    "        filename_for_username = self.filename_for_username\n",
    "\n",
    "        ## Import cryptography and generate encryption key\n",
    "        from cryptography.fernet import Fernet\n",
    "        key = Fernet.generate_key()\n",
    "        self._key_ = key\n",
    "\n",
    "        ## Create the cipher_suit from key for encrypting/decrypting\n",
    "        cipher_suite = Fernet(key)\n",
    "        self._cipher_suite_ = cipher_suite\n",
    " \n",
    "        ## ENCRYPT PASSWORD\n",
    "        # Get password and change to byte encoding\n",
    "        password = self._password_\n",
    "        password_to_encrypt = bytes(password,'utf-8') #password must be in bytes format\n",
    "        \n",
    "        # Use the encryption suite to encrypt the password and save to self\n",
    "        ciphered_pwd = cipher_suite.encrypt(password_to_encrypt)\n",
    "        self._encrypted_password_ = bytes(ciphered_pwd).decode('utf-8')\n",
    "        \n",
    "        # Print encrypyted password if true\n",
    "        if show_encrypted_password:\n",
    "            print('Encrypyted Password:')\n",
    "            print(self._encrypted_password_)\n",
    "        \n",
    "        \n",
    "        ## ENCRYPT USERNAME\n",
    "        username = self.username\n",
    "        username_to_encrypt = bytes(username,'utf-8')\n",
    "        ciphered_username = cipher_suite.encrypt(username_to_encrypt)\n",
    "        self._encrypted_username_ = bytes(ciphered_username).decode('utf-8')\n",
    "        \n",
    "        ## TEST DECRYPTION\n",
    "        # decrypt password and username\n",
    "        unciphered_pwd = cipher_suite.decrypt(ciphered_pwd)\n",
    "        unciphered_username = cipher_suite.decrypt(ciphered_username)\n",
    "        \n",
    "        ## Decode from bytes to utf-8\n",
    "        password_decoded = unciphered_pwd.decode('utf-8')\n",
    "        username_decoded = unciphered_username.decode('utf-8')\n",
    "        \n",
    "        # Check if decoded text matches input text\n",
    "        check_pwd = password_decoded==password\n",
    "        check_user = username_decoded==username\n",
    "        \n",
    "        ## If everything matches, warn user to delete their exposed password\n",
    "        if  check_pwd & check_user:\n",
    "            self._password_ = password_decoded \n",
    "            print('[!] Make sure to delete typed password above from class instantiation.')\n",
    "        else:\n",
    "            raise Exception('Decrypted password and input password/username do not match. Something went wrong.')\n",
    "\n",
    "        ## SAVE KEY, PASSWORD, AND USERNAME TO BIN FILES\n",
    "        ## Specify binary files (outside of repo) for storing key and password files\n",
    "        with open(filename_for_key,'wb') as file:\n",
    "            file.write(key)\n",
    "\n",
    "        with open(filename_for_password,'wb') as file:\n",
    "            file.write(ciphered_pwd)\n",
    "            \n",
    "        with open(filename_for_username,'wb') as file:\n",
    "            file.write(ciphered_username)\n",
    "\n",
    "        # Display filepaths for user.\n",
    "        print(f'[io] Encryption Key saved as {filename_for_key}')\n",
    "        print(f'[io] Encrypted Password saved as {filename_for_password}')\n",
    "        print(f'[io] Encrypted Username saved as {filename_for_username}')\n",
    "\n",
    "            \n",
    "    \n",
    "    def load_from_file(self,key_filename,password_filename,\n",
    "                      username_filename):\n",
    "        \"\"\"Load in the encrypted password from file. \"\"\"\n",
    "        \n",
    "        from cryptography.fernet import Fernet\n",
    "        \n",
    "        ## Load Key \n",
    "        with open(key_filename,'rb') as file:\n",
    "            for line in file:\n",
    "                key = line\n",
    "\n",
    "        ## Make ciphere suite from key\n",
    "        cipher_suite = Fernet(key)\n",
    "        self._cipher_suite_ = cipher_suite\n",
    "\n",
    "        ## Load password\n",
    "        with open(password_filename,'rb') as file:\n",
    "            for line in file:\n",
    "                encryptedpwd = line\n",
    "        self._encrypted_password_ = encryptedpwd\n",
    "        \n",
    "        ## Decrypt password\n",
    "        unciphered_text = (cipher_suite.decrypt(encryptedpwd))\n",
    "        plain_text_encrypted_password = bytes(unciphered_text).decode('utf-8')\n",
    "        self._password_ = plain_text_encrypted_password\n",
    "        \n",
    "        ## Load username\n",
    "        with open(username_filename,'rb') as file:\n",
    "            for line in file:\n",
    "                username = line\n",
    "        unciphered_username = (cipher_suite.decrypt(username))\n",
    "        plan_text_username = bytes(unciphered_username).decode('utf-8')\n",
    "        self.username = plan_text_username\n",
    "        \n",
    "    def __repr__(self):\n",
    "        \"\"\"Controls the printout when the object is the final command in a cell.\n",
    "        i.e:\n",
    "        >> pwd =EncrypytedPassword(username='me',password='secret')\n",
    "        >> pwd\n",
    "        \"\"\"\n",
    "        password = self._password_\n",
    "        msg = f'[i] Password is {len(password)} chars long.'\n",
    "        return msg\n",
    "\n",
    "    def __str__(self):\n",
    "        \"\"\"Controls the printout when the object is printed.\n",
    "        i.e:\n",
    "        >> pwd =EncrypytedPassword(username='me',password='secret')\n",
    "        >> print(pwd)\n",
    "        \"\"\"\n",
    "        password = self._password_\n",
    "        msg = f'[i] Password is {len(password)} chars long.'\n",
    "        return msg "
   ]
  }
 ],
 "metadata": {
  "colab": {
   "collapsed_sections": [
    "FXU0grvgcHUP",
    "DvObAPNRXJI8",
    "pHWqLtEANGDM"
   ],
   "name": "section_10_OOP.ipynb",
   "provenance": [],
   "toc_visible": true
  },
  "kernelspec": {
   "display_name": "Python 3",
   "language": "python",
   "name": "python3"
  },
  "language_info": {
   "codemirror_mode": {
    "name": "ipython",
    "version": 3
   },
   "file_extension": ".py",
   "mimetype": "text/x-python",
   "name": "python",
   "nbconvert_exporter": "python",
   "pygments_lexer": "ipython3",
   "version": "3.6.11"
  },
  "toc": {
   "base_numbering": 1,
   "nav_menu": {},
   "number_sections": false,
   "sideBar": true,
   "skip_h1_title": false,
   "title_cell": "Table of Contents",
   "title_sidebar": "Contents",
   "toc_cell": false,
   "toc_position": {},
   "toc_section_display": true,
   "toc_window_display": true
  }
 },
 "nbformat": 4,
 "nbformat_minor": 1
}
