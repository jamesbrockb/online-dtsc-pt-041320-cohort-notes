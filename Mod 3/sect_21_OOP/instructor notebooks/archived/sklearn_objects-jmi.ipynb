{
 "cells": [
  {
   "cell_type": "markdown",
   "metadata": {},
   "source": [
    "# Scikit-Learn and OOP"
   ]
  },
  {
   "cell_type": "code",
   "execution_count": 1,
   "metadata": {
    "ExecuteTime": {
     "end_time": "2020-08-08T01:28:56.363448Z",
     "start_time": "2020-08-08T01:28:56.182992Z"
    }
   },
   "outputs": [],
   "source": [
    "import numpy as np"
   ]
  },
  {
   "cell_type": "markdown",
   "metadata": {},
   "source": [
    "Very often the way you'll interact with `sklearn` will take the form of instantiating an object of a given class. And very often that object will have methods like `.fit()`, `.predict()`, `.score()`, and `.transform()`.\n",
    "\n",
    "Let's look at a case of this that is already very familiar:"
   ]
  },
  {
   "cell_type": "code",
   "execution_count": 2,
   "metadata": {
    "ExecuteTime": {
     "end_time": "2020-08-08T01:28:57.991331Z",
     "start_time": "2020-08-08T01:28:56.789754Z"
    }
   },
   "outputs": [],
   "source": [
    "from sklearn.preprocessing import StandardScaler"
   ]
  },
  {
   "cell_type": "markdown",
   "metadata": {},
   "source": [
    "We'll start by bringing in a StandardScaler object:"
   ]
  },
  {
   "cell_type": "code",
   "execution_count": 3,
   "metadata": {
    "ExecuteTime": {
     "end_time": "2020-08-08T01:28:57.994407Z",
     "start_time": "2020-08-08T01:28:57.992359Z"
    }
   },
   "outputs": [],
   "source": [
    "ss = StandardScaler()"
   ]
  },
  {
   "cell_type": "markdown",
   "metadata": {},
   "source": [
    "Of course, we could have called it anything we wanted:"
   ]
  },
  {
   "cell_type": "code",
   "execution_count": 4,
   "metadata": {
    "ExecuteTime": {
     "end_time": "2020-08-08T01:28:58.507069Z",
     "start_time": "2020-08-08T01:28:58.504805Z"
    }
   },
   "outputs": [],
   "source": [
    "greg = StandardScaler()"
   ]
  },
  {
   "cell_type": "markdown",
   "metadata": {},
   "source": [
    "Are these two objects the same?"
   ]
  },
  {
   "cell_type": "code",
   "execution_count": 5,
   "metadata": {
    "ExecuteTime": {
     "end_time": "2020-08-08T01:28:59.600189Z",
     "start_time": "2020-08-08T01:28:59.591456Z"
    }
   },
   "outputs": [
    {
     "data": {
      "text/plain": [
       "False"
      ]
     },
     "execution_count": 5,
     "metadata": {},
     "output_type": "execute_result"
    }
   ],
   "source": [
    "ss == greg"
   ]
  },
  {
   "cell_type": "markdown",
   "metadata": {},
   "source": [
    "Of course not! I can have as many StandardScaler objects as I want.\n",
    "\n",
    "What attributes and methods are available for a Standard Scaler object? Let's check out the code on [GitHub](https://github.com/scikit-learn/scikit-learn/blob/master/sklearn/preprocessing/_data.py)!\n",
    "\n",
    "## Attributes\n",
    "\n",
    "### `.scale_`"
   ]
  },
  {
   "cell_type": "code",
   "execution_count": 6,
   "metadata": {
    "ExecuteTime": {
     "end_time": "2020-08-08T01:29:00.984293Z",
     "start_time": "2020-08-08T01:29:00.876622Z"
    }
   },
   "outputs": [
    {
     "ename": "AttributeError",
     "evalue": "'StandardScaler' object has no attribute 'scale_'",
     "output_type": "error",
     "traceback": [
      "\u001b[0;31m---------------------------------------------------------------------------\u001b[0m",
      "\u001b[0;31mAttributeError\u001b[0m                            Traceback (most recent call last)",
      "\u001b[0;32m<ipython-input-6-dd18ca9f8ae3>\u001b[0m in \u001b[0;36m<module>\u001b[0;34m\u001b[0m\n\u001b[0;32m----> 1\u001b[0;31m \u001b[0mgreg\u001b[0m\u001b[0;34m.\u001b[0m\u001b[0mscale_\u001b[0m\u001b[0;34m\u001b[0m\u001b[0;34m\u001b[0m\u001b[0m\n\u001b[0m",
      "\u001b[0;31mAttributeError\u001b[0m: 'StandardScaler' object has no attribute 'scale_'"
     ]
    }
   ],
   "source": [
    "greg.scale_"
   ]
  },
  {
   "cell_type": "markdown",
   "metadata": {},
   "source": [
    "Some attributes and methods don't arise until we've fitted the object."
   ]
  },
  {
   "cell_type": "code",
   "execution_count": 7,
   "metadata": {
    "ExecuteTime": {
     "end_time": "2020-08-08T01:29:01.950159Z",
     "start_time": "2020-08-08T01:29:01.945038Z"
    }
   },
   "outputs": [],
   "source": [
    "X1, X2 = np.random.normal(size=20), np.random.normal(loc=2, size=20)"
   ]
  },
  {
   "cell_type": "code",
   "execution_count": 8,
   "metadata": {
    "ExecuteTime": {
     "end_time": "2020-08-08T01:29:02.566368Z",
     "start_time": "2020-08-08T01:29:02.562252Z"
    }
   },
   "outputs": [
    {
     "data": {
      "text/plain": [
       "[(-1.4359812800263534, 4.199987532348802),\n",
       " (2.064298131814442, 2.5537868030218163),\n",
       " (-0.2535539939207522, 2.9951284356399084),\n",
       " (-0.9214140151624111, 2.185259735787001),\n",
       " (0.5533208453536919, 2.030173953885489),\n",
       " (1.9113351490640125, 2.7999187502850265),\n",
       " (0.355748226320544, 2.7761078775747703),\n",
       " (1.6488317692657382, 2.1941486248496385),\n",
       " (0.7859100037299711, 1.201918057083422),\n",
       " (-1.4271970055532468, 2.103159012731747),\n",
       " (-0.8037460164449384, 1.560978112765135),\n",
       " (0.8175361419450755, 1.6668405742643655),\n",
       " (1.216948324988673, 2.066953776035555),\n",
       " (-0.8592322310261523, 0.7322851851425309),\n",
       " (0.6335823268417408, 1.8636182218716615),\n",
       " (1.3311041818969338, 2.235854537436865),\n",
       " (2.8395278646114708, 1.450338526378557),\n",
       " (0.4092467815194047, 1.4853959419184835),\n",
       " (0.14453726422289132, 2.8906978510862475),\n",
       " (-1.8692413440511053, 1.5108096390383308)]"
      ]
     },
     "execution_count": 8,
     "metadata": {},
     "output_type": "execute_result"
    }
   ],
   "source": [
    "X = list(zip(X1, X2))\n",
    "X"
   ]
  },
  {
   "cell_type": "code",
   "execution_count": 9,
   "metadata": {
    "ExecuteTime": {
     "end_time": "2020-08-08T01:29:02.612168Z",
     "start_time": "2020-08-08T01:29:02.606755Z"
    }
   },
   "outputs": [
    {
     "data": {
      "text/plain": [
       "StandardScaler()"
      ]
     },
     "execution_count": 9,
     "metadata": {},
     "output_type": "execute_result"
    }
   ],
   "source": [
    "greg.fit(X)"
   ]
  },
  {
   "cell_type": "code",
   "execution_count": 10,
   "metadata": {
    "ExecuteTime": {
     "end_time": "2020-08-08T01:29:02.971293Z",
     "start_time": "2020-08-08T01:29:02.966878Z"
    }
   },
   "outputs": [
    {
     "data": {
      "text/plain": [
       "array([1.25693913, 0.75416913])"
      ]
     },
     "execution_count": 10,
     "metadata": {},
     "output_type": "execute_result"
    }
   ],
   "source": [
    "greg.scale_"
   ]
  },
  {
   "cell_type": "markdown",
   "metadata": {},
   "source": [
    "### `.mean_`"
   ]
  },
  {
   "cell_type": "code",
   "execution_count": 11,
   "metadata": {
    "ExecuteTime": {
     "end_time": "2020-08-08T01:29:03.893794Z",
     "start_time": "2020-08-08T01:29:03.890468Z"
    }
   },
   "outputs": [
    {
     "data": {
      "text/plain": [
       "array([0.35707806, 2.12516806])"
      ]
     },
     "execution_count": 11,
     "metadata": {},
     "output_type": "execute_result"
    }
   ],
   "source": [
    "greg.mean_"
   ]
  },
  {
   "cell_type": "code",
   "execution_count": 12,
   "metadata": {
    "ExecuteTime": {
     "end_time": "2020-08-08T01:29:04.188764Z",
     "start_time": "2020-08-08T01:29:04.185170Z"
    }
   },
   "outputs": [
    {
     "data": {
      "text/plain": [
       "True"
      ]
     },
     "execution_count": 12,
     "metadata": {},
     "output_type": "execute_result"
    }
   ],
   "source": [
    "np.allclose(greg.mean_[0], X1.mean())"
   ]
  },
  {
   "cell_type": "code",
   "execution_count": 13,
   "metadata": {
    "ExecuteTime": {
     "end_time": "2020-08-08T01:29:04.758479Z",
     "start_time": "2020-08-08T01:29:04.754790Z"
    }
   },
   "outputs": [
    {
     "data": {
      "text/plain": [
       "True"
      ]
     },
     "execution_count": 13,
     "metadata": {},
     "output_type": "execute_result"
    }
   ],
   "source": [
    "np.allclose(greg.mean_[1], X2.mean())"
   ]
  },
  {
   "cell_type": "markdown",
   "metadata": {},
   "source": [
    "### `.var_`"
   ]
  },
  {
   "cell_type": "code",
   "execution_count": 14,
   "metadata": {
    "ExecuteTime": {
     "end_time": "2020-08-08T01:29:05.744978Z",
     "start_time": "2020-08-08T01:29:05.741591Z"
    }
   },
   "outputs": [
    {
     "data": {
      "text/plain": [
       "array([1.57989597, 0.56877107])"
      ]
     },
     "execution_count": 14,
     "metadata": {},
     "output_type": "execute_result"
    }
   ],
   "source": [
    "greg.var_"
   ]
  },
  {
   "cell_type": "code",
   "execution_count": 15,
   "metadata": {
    "ExecuteTime": {
     "end_time": "2020-08-08T01:29:06.058692Z",
     "start_time": "2020-08-08T01:29:06.054838Z"
    }
   },
   "outputs": [
    {
     "data": {
      "text/plain": [
       "True"
      ]
     },
     "execution_count": 15,
     "metadata": {},
     "output_type": "execute_result"
    }
   ],
   "source": [
    "np.allclose(greg.var_[0], X1.var())"
   ]
  },
  {
   "cell_type": "code",
   "execution_count": 16,
   "metadata": {
    "ExecuteTime": {
     "end_time": "2020-08-08T01:29:06.471564Z",
     "start_time": "2020-08-08T01:29:06.467954Z"
    }
   },
   "outputs": [
    {
     "data": {
      "text/plain": [
       "True"
      ]
     },
     "execution_count": 16,
     "metadata": {},
     "output_type": "execute_result"
    }
   ],
   "source": [
    "np.allclose(greg.var_[1], X2.var())"
   ]
  },
  {
   "cell_type": "markdown",
   "metadata": {},
   "source": [
    "### `.n_samples_seen_`"
   ]
  },
  {
   "cell_type": "code",
   "execution_count": 17,
   "metadata": {
    "ExecuteTime": {
     "end_time": "2020-08-08T01:29:06.955347Z",
     "start_time": "2020-08-08T01:29:06.952040Z"
    }
   },
   "outputs": [
    {
     "data": {
      "text/plain": [
       "20"
      ]
     },
     "execution_count": 17,
     "metadata": {},
     "output_type": "execute_result"
    }
   ],
   "source": [
    "greg.n_samples_seen_"
   ]
  },
  {
   "cell_type": "markdown",
   "metadata": {},
   "source": [
    "## Methods"
   ]
  },
  {
   "cell_type": "markdown",
   "metadata": {},
   "source": [
    "### `._reset()`\n",
    "\n",
    "If I ever want to \"cancel\" the fit, I can do that with `.reset()`:"
   ]
  },
  {
   "cell_type": "code",
   "execution_count": 18,
   "metadata": {
    "ExecuteTime": {
     "end_time": "2020-08-08T01:29:07.868478Z",
     "start_time": "2020-08-08T01:29:07.866190Z"
    }
   },
   "outputs": [],
   "source": [
    "greg._reset()"
   ]
  },
  {
   "cell_type": "code",
   "execution_count": 19,
   "metadata": {
    "ExecuteTime": {
     "end_time": "2020-08-08T01:29:08.249512Z",
     "start_time": "2020-08-08T01:29:08.242579Z"
    }
   },
   "outputs": [
    {
     "ename": "AttributeError",
     "evalue": "'StandardScaler' object has no attribute 'n_samples_seen_'",
     "output_type": "error",
     "traceback": [
      "\u001b[0;31m---------------------------------------------------------------------------\u001b[0m",
      "\u001b[0;31mAttributeError\u001b[0m                            Traceback (most recent call last)",
      "\u001b[0;32m<ipython-input-19-22275db689be>\u001b[0m in \u001b[0;36m<module>\u001b[0;34m\u001b[0m\n\u001b[0;32m----> 1\u001b[0;31m \u001b[0mgreg\u001b[0m\u001b[0;34m.\u001b[0m\u001b[0mn_samples_seen_\u001b[0m\u001b[0;34m\u001b[0m\u001b[0;34m\u001b[0m\u001b[0m\n\u001b[0m",
      "\u001b[0;31mAttributeError\u001b[0m: 'StandardScaler' object has no attribute 'n_samples_seen_'"
     ]
    }
   ],
   "source": [
    "greg.n_samples_seen_"
   ]
  },
  {
   "cell_type": "code",
   "execution_count": 20,
   "metadata": {
    "ExecuteTime": {
     "end_time": "2020-08-08T01:29:08.505133Z",
     "start_time": "2020-08-08T01:29:08.501172Z"
    }
   },
   "outputs": [
    {
     "data": {
      "text/plain": [
       "StandardScaler()"
      ]
     },
     "execution_count": 20,
     "metadata": {},
     "output_type": "execute_result"
    }
   ],
   "source": [
    "greg.fit(X)"
   ]
  },
  {
   "cell_type": "markdown",
   "metadata": {},
   "source": [
    "### `.transform()`\n",
    "\n",
    "This of course does the main job I want the StandardScaler to do!"
   ]
  },
  {
   "cell_type": "code",
   "execution_count": 21,
   "metadata": {
    "ExecuteTime": {
     "end_time": "2020-08-08T01:29:09.390493Z",
     "start_time": "2020-08-08T01:29:09.386373Z"
    }
   },
   "outputs": [
    {
     "data": {
      "text/plain": [
       "array([[-1.42652838e+00,  2.75113287e+00],\n",
       "       [ 1.35823608e+00,  5.68332394e-01],\n",
       "       [-4.85808770e-01,  1.15353486e+00],\n",
       "       [-1.01714717e+00,  7.96793136e-02],\n",
       "       [ 1.56127520e-01, -1.25958621e-01],\n",
       "       [ 1.23654126e+00,  8.94694133e-01],\n",
       "       [-1.05799073e-03,  8.63121808e-01],\n",
       "       [ 1.02769791e+00,  9.14656474e-02],\n",
       "       [ 3.41171612e-01, -1.22419490e+00],\n",
       "       [-1.41953976e+00, -2.91831685e-02],\n",
       "       [-9.23532452e-01, -7.48094724e-01],\n",
       "       [ 3.66332845e-01, -6.07725067e-01],\n",
       "       [ 6.84098578e-01, -7.71899556e-02],\n",
       "       [-9.67676368e-01, -1.84691049e+00],\n",
       "       [ 2.19982229e-01, -3.46805281e-01],\n",
       "       [ 7.74919092e-01,  1.46766125e-01],\n",
       "       [ 1.97499605e+00, -8.94798669e-01],\n",
       "       [ 4.15045758e-02, -8.48313850e-01],\n",
       "       [-1.69093942e-01,  1.01506382e+00],\n",
       "       [-1.77122293e+00, -8.14616240e-01]])"
      ]
     },
     "execution_count": 21,
     "metadata": {},
     "output_type": "execute_result"
    }
   ],
   "source": [
    "greg.transform(X)"
   ]
  },
  {
   "cell_type": "code",
   "execution_count": 22,
   "metadata": {
    "ExecuteTime": {
     "end_time": "2020-08-08T01:29:09.635469Z",
     "start_time": "2020-08-08T01:29:09.631796Z"
    }
   },
   "outputs": [
    {
     "data": {
      "text/plain": [
       "-1.4265283812919012"
      ]
     },
     "execution_count": 22,
     "metadata": {},
     "output_type": "execute_result"
    }
   ],
   "source": [
    "greg.transform(X)[0, 0]"
   ]
  },
  {
   "cell_type": "code",
   "execution_count": 23,
   "metadata": {
    "ExecuteTime": {
     "end_time": "2020-08-08T01:29:09.978836Z",
     "start_time": "2020-08-08T01:29:09.975054Z"
    }
   },
   "outputs": [
    {
     "data": {
      "text/plain": [
       "-1.4265283812919012"
      ]
     },
     "execution_count": 23,
     "metadata": {},
     "output_type": "execute_result"
    }
   ],
   "source": [
    "(X[0][0] - greg.mean_[0]) / greg.var_[0]**0.5"
   ]
  },
  {
   "cell_type": "markdown",
   "metadata": {},
   "source": [
    "### `.inverse_transform()`\n",
    "\n",
    "If I ever need to recover my initial values, I can use `.inverse_transform()`:"
   ]
  },
  {
   "cell_type": "code",
   "execution_count": 24,
   "metadata": {
    "ExecuteTime": {
     "end_time": "2020-08-08T01:29:10.523182Z",
     "start_time": "2020-08-08T01:29:10.518366Z"
    }
   },
   "outputs": [
    {
     "data": {
      "text/plain": [
       "array([[-1.43598128,  4.19998753],\n",
       "       [ 2.06429813,  2.5537868 ],\n",
       "       [-0.25355399,  2.99512844],\n",
       "       [-0.92141402,  2.18525974],\n",
       "       [ 0.55332085,  2.03017395],\n",
       "       [ 1.91133515,  2.79991875],\n",
       "       [ 0.35574823,  2.77610788],\n",
       "       [ 1.64883177,  2.19414862],\n",
       "       [ 0.78591   ,  1.20191806],\n",
       "       [-1.42719701,  2.10315901],\n",
       "       [-0.80374602,  1.56097811],\n",
       "       [ 0.81753614,  1.66684057],\n",
       "       [ 1.21694832,  2.06695378],\n",
       "       [-0.85923223,  0.73228519],\n",
       "       [ 0.63358233,  1.86361822],\n",
       "       [ 1.33110418,  2.23585454],\n",
       "       [ 2.83952786,  1.45033853],\n",
       "       [ 0.40924678,  1.48539594],\n",
       "       [ 0.14453726,  2.89069785],\n",
       "       [-1.86924134,  1.51080964]])"
      ]
     },
     "execution_count": 24,
     "metadata": {},
     "output_type": "execute_result"
    }
   ],
   "source": [
    "greg.inverse_transform(greg.transform(X))"
   ]
  },
  {
   "cell_type": "code",
   "execution_count": 25,
   "metadata": {
    "ExecuteTime": {
     "end_time": "2020-08-08T01:29:10.820136Z",
     "start_time": "2020-08-08T01:29:10.816345Z"
    }
   },
   "outputs": [
    {
     "data": {
      "text/plain": [
       "True"
      ]
     },
     "execution_count": 25,
     "metadata": {},
     "output_type": "execute_result"
    }
   ],
   "source": [
    "np.allclose(greg.inverse_transform(greg.transform(X)), X)"
   ]
  },
  {
   "cell_type": "code",
   "execution_count": null,
   "metadata": {},
   "outputs": [],
   "source": []
  }
 ],
 "metadata": {
  "kernelspec": {
   "display_name": "Python 3",
   "language": "python",
   "name": "python3"
  },
  "language_info": {
   "codemirror_mode": {
    "name": "ipython",
    "version": 3
   },
   "file_extension": ".py",
   "mimetype": "text/x-python",
   "name": "python",
   "nbconvert_exporter": "python",
   "pygments_lexer": "ipython3",
   "version": "3.6.11"
  },
  "toc": {
   "base_numbering": 1,
   "nav_menu": {},
   "number_sections": false,
   "sideBar": true,
   "skip_h1_title": false,
   "title_cell": "Table of Contents",
   "title_sidebar": "Contents",
   "toc_cell": false,
   "toc_position": {},
   "toc_section_display": true,
   "toc_window_display": false
  }
 },
 "nbformat": 4,
 "nbformat_minor": 2
}
