{
 "cells": [
  {
   "cell_type": "markdown",
   "metadata": {},
   "source": [
    "# Objects in Python"
   ]
  },
  {
   "cell_type": "markdown",
   "metadata": {},
   "source": [
    "Python is an object-oriented programming language. You'll hear people say that \"everything is an object\" in Python. What does this mean?\n",
    "\n",
    "Go back to the idea of a function for a moment. A function is a kind of abstraction whereby an algorithm is made repeatable. So instead of coding:"
   ]
  },
  {
   "cell_type": "code",
   "execution_count": 1,
   "metadata": {
    "ExecuteTime": {
     "end_time": "2020-08-09T01:17:28.440141Z",
     "start_time": "2020-08-09T01:17:28.436314Z"
    }
   },
   "outputs": [
    {
     "name": "stdout",
     "output_type": "stream",
     "text": [
      "19\n",
      "26\n",
      "35\n"
     ]
    }
   ],
   "source": [
    "print(3**2 + 10)\n",
    "print(4**2 + 10)\n",
    "print(5**2 + 10)"
   ]
  },
  {
   "cell_type": "markdown",
   "metadata": {},
   "source": [
    "or even:"
   ]
  },
  {
   "cell_type": "code",
   "execution_count": 2,
   "metadata": {
    "ExecuteTime": {
     "end_time": "2020-08-09T01:17:29.143237Z",
     "start_time": "2020-08-09T01:17:29.140121Z"
    }
   },
   "outputs": [
    {
     "name": "stdout",
     "output_type": "stream",
     "text": [
      "19\n",
      "26\n",
      "35\n"
     ]
    }
   ],
   "source": [
    "for x in range(3, 6):\n",
    "    print(x**2 + 10)"
   ]
  },
  {
   "cell_type": "markdown",
   "metadata": {},
   "source": [
    "I can write:"
   ]
  },
  {
   "cell_type": "code",
   "execution_count": 3,
   "metadata": {
    "ExecuteTime": {
     "end_time": "2020-08-09T01:17:29.922102Z",
     "start_time": "2020-08-09T01:17:29.919813Z"
    }
   },
   "outputs": [],
   "source": [
    "def square_and_add_ten(x):\n",
    "    return x**2 + 10"
   ]
  },
  {
   "cell_type": "markdown",
   "metadata": {},
   "source": [
    "Now imagine a further abstraction: Before, creating a function was about making a certain algorithm available to different inputs. Now I want to make that function available to different **objects**.\n",
    "\n",
    "An object is what we get out of this further abstraction. Each object is an instance of a **class** that defines a bundle of attributes and functions (now, as proprietary to the object type, called *methods*), the point being that **every object of that class will automatically have those proprietary attributes and methods**.\n",
    "\n",
    "Even Python integers are objects. Consider:"
   ]
  },
  {
   "cell_type": "code",
   "execution_count": 4,
   "metadata": {
    "ExecuteTime": {
     "end_time": "2020-08-09T01:17:31.202318Z",
     "start_time": "2020-08-09T01:17:31.199998Z"
    }
   },
   "outputs": [],
   "source": [
    "x = 3"
   ]
  },
  {
   "cell_type": "markdown",
   "metadata": {},
   "source": [
    "By setting x equal to an integer, I'm imbuing x with the attributes and methods of the integer class."
   ]
  },
  {
   "cell_type": "code",
   "execution_count": 5,
   "metadata": {
    "ExecuteTime": {
     "end_time": "2020-08-09T01:17:32.048690Z",
     "start_time": "2020-08-09T01:17:32.040087Z"
    }
   },
   "outputs": [
    {
     "data": {
      "text/plain": [
       "0"
      ]
     },
     "execution_count": 5,
     "metadata": {},
     "output_type": "execute_result"
    }
   ],
   "source": [
    "x.imag"
   ]
  },
  {
   "cell_type": "code",
   "execution_count": 6,
   "metadata": {
    "ExecuteTime": {
     "end_time": "2020-08-09T01:17:32.443509Z",
     "start_time": "2020-08-09T01:17:32.440216Z"
    }
   },
   "outputs": [
    {
     "data": {
      "text/plain": [
       "2"
      ]
     },
     "execution_count": 6,
     "metadata": {},
     "output_type": "execute_result"
    }
   ],
   "source": [
    "x.bit_length()"
   ]
  },
  {
   "cell_type": "markdown",
   "metadata": {},
   "source": [
    "For more details on this general feature of Python, see [here](https://jakevdp.github.io/WhirlwindTourOfPython/03-semantics-variables.html)."
   ]
  },
  {
   "cell_type": "markdown",
   "metadata": {},
   "source": [
    "## Classes\n",
    "\n",
    "We can define **new** classes of objects altogether by using the keyword `class`:"
   ]
  },
  {
   "cell_type": "markdown",
   "metadata": {},
   "source": [
    "### Car"
   ]
  },
  {
   "cell_type": "code",
   "execution_count": 7,
   "metadata": {
    "ExecuteTime": {
     "end_time": "2020-08-08T01:28:09.260776Z",
     "start_time": "2020-08-08T01:28:09.257578Z"
    }
   },
   "outputs": [],
   "source": [
    "class Car:\n",
    "    \"\"\"Automotive object\"\"\"\n",
    "    \n",
    "    wheels = 4                      # These are attributes of *every* car.\n",
    "    moving = False\n",
    "    doors = 2\n",
    "    def go(self):                   # These are methods we can call on *any* car.\n",
    "        print('It\\'s going!')\n",
    "        self.moving = True\n",
    "    \n",
    "    def stop(self):\n",
    "        print('Stopped.')\n",
    "        self.moving = False"
   ]
  },
  {
   "cell_type": "code",
   "execution_count": 8,
   "metadata": {
    "ExecuteTime": {
     "end_time": "2020-08-08T01:28:09.688125Z",
     "start_time": "2020-08-08T01:28:09.685986Z"
    }
   },
   "outputs": [],
   "source": [
    "ferrari = Car()\n",
    "lamborghini = Car()"
   ]
  },
  {
   "cell_type": "code",
   "execution_count": 9,
   "metadata": {
    "ExecuteTime": {
     "end_time": "2020-08-08T01:28:10.107967Z",
     "start_time": "2020-08-08T01:28:10.104153Z"
    }
   },
   "outputs": [
    {
     "data": {
      "text/plain": [
       "4"
      ]
     },
     "execution_count": 9,
     "metadata": {},
     "output_type": "execute_result"
    }
   ],
   "source": [
    "lamborghini.wheels"
   ]
  },
  {
   "cell_type": "code",
   "execution_count": 10,
   "metadata": {
    "ExecuteTime": {
     "end_time": "2020-08-08T01:28:10.496776Z",
     "start_time": "2020-08-08T01:28:10.494543Z"
    }
   },
   "outputs": [
    {
     "name": "stdout",
     "output_type": "stream",
     "text": [
      "It's going!\n"
     ]
    }
   ],
   "source": [
    "ferrari.go()"
   ]
  },
  {
   "cell_type": "code",
   "execution_count": 11,
   "metadata": {
    "ExecuteTime": {
     "end_time": "2020-08-08T01:28:11.049152Z",
     "start_time": "2020-08-08T01:28:11.046372Z"
    }
   },
   "outputs": [
    {
     "data": {
      "text/plain": [
       "True"
      ]
     },
     "execution_count": 11,
     "metadata": {},
     "output_type": "execute_result"
    }
   ],
   "source": [
    "ferrari.moving"
   ]
  },
  {
   "cell_type": "code",
   "execution_count": 12,
   "metadata": {
    "ExecuteTime": {
     "end_time": "2020-08-08T01:28:11.382553Z",
     "start_time": "2020-08-08T01:28:11.379770Z"
    }
   },
   "outputs": [
    {
     "name": "stdout",
     "output_type": "stream",
     "text": [
      "Stopped.\n"
     ]
    }
   ],
   "source": [
    "ferrari.stop()"
   ]
  },
  {
   "cell_type": "code",
   "execution_count": 13,
   "metadata": {
    "ExecuteTime": {
     "end_time": "2020-08-08T01:28:11.777190Z",
     "start_time": "2020-08-08T01:28:11.774033Z"
    }
   },
   "outputs": [
    {
     "data": {
      "text/plain": [
       "False"
      ]
     },
     "execution_count": 13,
     "metadata": {},
     "output_type": "execute_result"
    }
   ],
   "source": [
    "ferrari.moving"
   ]
  },
  {
   "cell_type": "markdown",
   "metadata": {},
   "source": [
    "### Bird\n",
    "\n",
    "We can leave class definitions empty in the same way that we can leave function definitions empty:"
   ]
  },
  {
   "cell_type": "code",
   "execution_count": 14,
   "metadata": {
    "ExecuteTime": {
     "end_time": "2020-08-08T01:28:12.249106Z",
     "start_time": "2020-08-08T01:28:12.246898Z"
    }
   },
   "outputs": [],
   "source": [
    "class Bird:\n",
    "    \"\"\"Avian creature\"\"\"\n",
    "    pass"
   ]
  },
  {
   "cell_type": "code",
   "execution_count": 15,
   "metadata": {
    "ExecuteTime": {
     "end_time": "2020-08-08T01:28:12.624322Z",
     "start_time": "2020-08-08T01:28:12.622112Z"
    }
   },
   "outputs": [],
   "source": [
    "robin = Bird()"
   ]
  },
  {
   "cell_type": "markdown",
   "metadata": {},
   "source": [
    "## Inheritance\n",
    "\n",
    "We can also define classes in terms of *other* classes, in which cases the new classes **inherit** the attributes and methods from the classes in terms of which they're defined.\n",
    "\n",
    "Suppose we decided that a bird was really just a certain sort of set. Then we could write:"
   ]
  },
  {
   "cell_type": "code",
   "execution_count": 16,
   "metadata": {
    "ExecuteTime": {
     "end_time": "2020-08-08T01:28:13.227868Z",
     "start_time": "2020-08-08T01:28:13.225566Z"
    }
   },
   "outputs": [],
   "source": [
    "class Bird(set):\n",
    "    \"\"\"Avian creature\"\"\"\n",
    "    pass"
   ]
  },
  {
   "cell_type": "code",
   "execution_count": 17,
   "metadata": {
    "ExecuteTime": {
     "end_time": "2020-08-08T01:28:13.529536Z",
     "start_time": "2020-08-08T01:28:13.527307Z"
    }
   },
   "outputs": [],
   "source": [
    "robin = Bird()"
   ]
  },
  {
   "cell_type": "code",
   "execution_count": 18,
   "metadata": {
    "ExecuteTime": {
     "end_time": "2020-08-08T01:28:13.832137Z",
     "start_time": "2020-08-08T01:28:13.828970Z"
    }
   },
   "outputs": [
    {
     "data": {
      "text/plain": [
       "True"
      ]
     },
     "execution_count": 18,
     "metadata": {},
     "output_type": "execute_result"
    }
   ],
   "source": [
    "isinstance(robin, set)"
   ]
  },
  {
   "cell_type": "code",
   "execution_count": 19,
   "metadata": {
    "ExecuteTime": {
     "end_time": "2020-08-08T01:28:14.192223Z",
     "start_time": "2020-08-08T01:28:14.188783Z"
    }
   },
   "outputs": [
    {
     "data": {
      "text/plain": [
       "True"
      ]
     },
     "execution_count": 19,
     "metadata": {},
     "output_type": "execute_result"
    }
   ],
   "source": [
    "robin.intersection({1, 2}) == set()"
   ]
  },
  {
   "cell_type": "markdown",
   "metadata": {},
   "source": [
    "It's easy to add more functionality on top of what it inherits from sets:"
   ]
  },
  {
   "cell_type": "code",
   "execution_count": 20,
   "metadata": {
    "ExecuteTime": {
     "end_time": "2020-08-08T01:28:14.763809Z",
     "start_time": "2020-08-08T01:28:14.761291Z"
    }
   },
   "outputs": [],
   "source": [
    "class Bird(set):\n",
    "    \"\"\"Avian creature\"\"\"\n",
    "    \n",
    "    wings = 2"
   ]
  },
  {
   "cell_type": "code",
   "execution_count": 21,
   "metadata": {
    "ExecuteTime": {
     "end_time": "2020-08-08T01:28:14.922318Z",
     "start_time": "2020-08-08T01:28:14.920203Z"
    }
   },
   "outputs": [],
   "source": [
    "robin = Bird()"
   ]
  },
  {
   "cell_type": "code",
   "execution_count": 22,
   "metadata": {
    "ExecuteTime": {
     "end_time": "2020-08-08T01:28:15.370849Z",
     "start_time": "2020-08-08T01:28:15.367248Z"
    }
   },
   "outputs": [
    {
     "data": {
      "text/plain": [
       "set()"
      ]
     },
     "execution_count": 22,
     "metadata": {},
     "output_type": "execute_result"
    }
   ],
   "source": [
    "robin.intersection({1, 2})"
   ]
  },
  {
   "cell_type": "code",
   "execution_count": 23,
   "metadata": {
    "ExecuteTime": {
     "end_time": "2020-08-08T01:28:15.802423Z",
     "start_time": "2020-08-08T01:28:15.798694Z"
    }
   },
   "outputs": [
    {
     "data": {
      "text/plain": [
       "2"
      ]
     },
     "execution_count": 23,
     "metadata": {},
     "output_type": "execute_result"
    }
   ],
   "source": [
    "robin.wings"
   ]
  },
  {
   "cell_type": "markdown",
   "metadata": {},
   "source": [
    "## Magic Methods\n",
    "\n",
    "It is common for a class to have magic methods. These are identifiable by the \"dunder\" (i.e. **d**ouble **under**score) prefixes and suffixes, such as `__init__()`. These methods will get called **automatically**, as we'll see below.\n",
    "\n",
    "For more on these \"magic methods\", see [here](https://www.geeksforgeeks.org/dunder-magic-methods-python/)."
   ]
  },
  {
   "cell_type": "code",
   "execution_count": 24,
   "metadata": {
    "ExecuteTime": {
     "end_time": "2020-08-08T01:28:16.492398Z",
     "start_time": "2020-08-08T01:28:16.489351Z"
    }
   },
   "outputs": [],
   "source": [
    "class Bird:\n",
    "    \"\"\"Avian creature\"\"\"\n",
    "    \n",
    "    def __init__(self, wingspan, lifespan, color):\n",
    "        \"\"\"Creates a new Bird\"\"\"\n",
    "        \n",
    "        self.wingspan = wingspan\n",
    "        self.lifespan = lifespan\n",
    "        self.color = color"
   ]
  },
  {
   "cell_type": "code",
   "execution_count": 25,
   "metadata": {
    "ExecuteTime": {
     "end_time": "2020-08-08T01:28:17.688644Z",
     "start_time": "2020-08-08T01:28:17.684227Z"
    }
   },
   "outputs": [
    {
     "name": "stdout",
     "output_type": "stream",
     "text": [
      "<__main__.Bird object at 0x1078a0f60>\n"
     ]
    },
    {
     "data": {
      "text/plain": [
       "'<__main__.Bird object at 0x1078a0f60>'"
      ]
     },
     "execution_count": 25,
     "metadata": {},
     "output_type": "execute_result"
    }
   ],
   "source": [
    "robin = Bird(wingspan=20, lifespan=1.1, color=(255, 0, 0))\n",
    "print(robin)\n",
    "repr(robin)"
   ]
  },
  {
   "cell_type": "code",
   "execution_count": 26,
   "metadata": {
    "ExecuteTime": {
     "end_time": "2020-08-08T01:28:21.370212Z",
     "start_time": "2020-08-08T01:28:21.366681Z"
    }
   },
   "outputs": [],
   "source": [
    "class Bird:\n",
    "    \"\"\"Avian creature\"\"\"\n",
    "    \n",
    "    def __init__(self, wingspan, lifespan, color):\n",
    "        \"\"\"Creates a new Bird\"\"\"\n",
    "        \n",
    "        self.wingspan = wingspan\n",
    "        self.lifespan = lifespan\n",
    "        self.color = color\n",
    "      \n",
    "    def __repr__(self):                                               # 'dunder reaper'\n",
    "        \"\"\"Returns a string representation of this Bird\"\"\"\n",
    "        return(f\"Bird(wingspan={self.wingspan}, \"\n",
    "               f\"lifespan={self.lifespan}, \"\n",
    "               f\"color={self.color})\")"
   ]
  },
  {
   "cell_type": "code",
   "execution_count": 27,
   "metadata": {
    "ExecuteTime": {
     "end_time": "2020-08-08T01:28:21.930807Z",
     "start_time": "2020-08-08T01:28:21.926343Z"
    }
   },
   "outputs": [
    {
     "name": "stdout",
     "output_type": "stream",
     "text": [
      "Bird(wingspan=20, lifespan=1.1, color=(255, 0, 0))\n"
     ]
    },
    {
     "data": {
      "text/plain": [
       "'Bird(wingspan=20, lifespan=1.1, color=(255, 0, 0))'"
      ]
     },
     "execution_count": 27,
     "metadata": {},
     "output_type": "execute_result"
    }
   ],
   "source": [
    "robin = Bird(wingspan=20, lifespan=1.1, color=(255, 0, 0))\n",
    "print(robin)\n",
    "repr(robin)"
   ]
  },
  {
   "cell_type": "code",
   "execution_count": 28,
   "metadata": {
    "ExecuteTime": {
     "end_time": "2020-08-08T01:28:22.618228Z",
     "start_time": "2020-08-08T01:28:22.614117Z"
    }
   },
   "outputs": [],
   "source": [
    "class Bird:\n",
    "    \"\"\"Avian creature\"\"\"\n",
    "    \n",
    "    def __init__(self, wingspan, lifespan, color):\n",
    "        \"\"\"Creates a new Bird\"\"\"\n",
    "        self.wingspan = wingspan\n",
    "        self.lifespan = lifespan\n",
    "        self.color = color\n",
    "      \n",
    "    def __repr__(self):\n",
    "        \"\"\"Returns a string representation of this Bird\"\"\"\n",
    "        return(f\" Bird(wingspan={self.wingspan}, \"\n",
    "               f\" lifespan={self.lifespan}, \"\n",
    "               f\" color={self.color})\")\n",
    "    \n",
    "    def __str__(self):                                                 # 'dunder stir'\n",
    "        \"\"\"Returns a human-readable representation of this Bird\"\"\"\n",
    "        return (f\"Cute and/or fearsome bird!\\n\"\n",
    "               f\" Wingspan: {self.wingspan} cm;\"\n",
    "                f\" Lifespan: {self.lifespan} years;\"\n",
    "                f\" Color: {self.color}\")"
   ]
  },
  {
   "cell_type": "code",
   "execution_count": 29,
   "metadata": {
    "ExecuteTime": {
     "end_time": "2020-08-08T01:28:23.570458Z",
     "start_time": "2020-08-08T01:28:23.565954Z"
    }
   },
   "outputs": [
    {
     "name": "stdout",
     "output_type": "stream",
     "text": [
      "Cute and/or fearsome bird!\n",
      " Wingspan: 20 cm; Lifespan: 1.1 years; Color: (255, 0, 0)\n"
     ]
    },
    {
     "data": {
      "text/plain": [
       "' Bird(wingspan=20,  lifespan=1.1,  color=(255, 0, 0))'"
      ]
     },
     "execution_count": 29,
     "metadata": {},
     "output_type": "execute_result"
    }
   ],
   "source": [
    "robin = Bird(wingspan=20, lifespan=1.1, color=(255, 0, 0))\n",
    "print(robin)\n",
    "repr(robin)"
   ]
  },
  {
   "cell_type": "markdown",
   "metadata": {},
   "source": [
    "### `__repr__()` vs. `__str__()`\n",
    "\n",
    "`__repr__()` and `__str__()` are both designed to return string-representations of the object. But `__repr__()` focuses on minimizing ambiguity while `__str__()` focuses on readability. However, if your class has no `__str__()` method, it will fall back on `__repr__()` (if it exists!). For more on this distinction, see [this post](https://dbader.org/blog/python-repr-vs-str)."
   ]
  },
  {
   "cell_type": "code",
   "execution_count": null,
   "metadata": {},
   "outputs": [],
   "source": []
  }
 ],
 "metadata": {
  "kernelspec": {
   "display_name": "learn-env",
   "language": "python",
   "name": "learn-env"
  },
  "language_info": {
   "codemirror_mode": {
    "name": "ipython",
    "version": 3
   },
   "file_extension": ".py",
   "mimetype": "text/x-python",
   "name": "python",
   "nbconvert_exporter": "python",
   "pygments_lexer": "ipython3",
   "version": "3.6.11"
  },
  "toc": {
   "base_numbering": 1,
   "nav_menu": {},
   "number_sections": false,
   "sideBar": true,
   "skip_h1_title": false,
   "title_cell": "Table of Contents",
   "title_sidebar": "Contents",
   "toc_cell": false,
   "toc_position": {},
   "toc_section_display": true,
   "toc_window_display": false
  }
 },
 "nbformat": 4,
 "nbformat_minor": 2
}
