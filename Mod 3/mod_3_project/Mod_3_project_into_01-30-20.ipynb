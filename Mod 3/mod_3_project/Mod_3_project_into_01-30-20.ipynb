{
 "cells": [
  {
   "cell_type": "markdown",
   "metadata": {},
   "source": [
    "# Intro to Mod 3 Project"
   ]
  },
  {
   "cell_type": "markdown",
   "metadata": {},
   "source": [
    "- 01/30/20 study group"
   ]
  },
  {
   "cell_type": "markdown",
   "metadata": {},
   "source": [
    "# QUESTIONS/INSIGHTS?"
   ]
  },
  {
   "cell_type": "markdown",
   "metadata": {},
   "source": [
    "- Yay for python packages!!"
   ]
  },
  {
   "cell_type": "markdown",
   "metadata": {},
   "source": [
    "## ANNOUNCEMENTS"
   ]
  },
  {
   "cell_type": "markdown",
   "metadata": {},
   "source": [
    "### Upcoming Study Group Sections"
   ]
  },
  {
   "cell_type": "markdown",
   "metadata": {},
   "source": [
    "- **REMAINING SECTIONS OF MOD 3**\n",
    "    - Section 23: We will cover section 23 after the mod 3 project links are turned in.\n",
    "    - Section 24: This has been removed from new curriculum and we will not be having a full study group.\n",
    "    \n",
    "\n",
    "- **TRANSITION TO CURRICULUM V2.1**\n",
    "    - We may be swapping to new curriculum after Mod 3 project.\n",
    "    - We would be covering my favorite sections next (instead of a few months later). \n",
    "    - Here's a fun little preview.\n",
    "        - http://www.r2d3.us/visual-intro-to-machine-learning-part-1/\n"
   ]
  },
  {
   "cell_type": "markdown",
   "metadata": {},
   "source": [
    "### **Mod 3 Project Timeline / Due Dates**\n",
    "- **Mod 3 Project starter notebook** *(my gift to you)*\n",
    "    - https://github.com/jirvingphd/hypothesis_testing_workflow_python\n",
    "    \n",
    "    \n",
    "- **Official project start date is 02/04/2020**\n",
    "- **Project links are due on 02/17/20 by 11:59 pm**\n",
    "    - Links must be turned in on Learn.co (and click I'm done!)\n",
    "\n",
    "\n",
    "- **Schedule your project review ASAP**\n",
    "    - https://go.oncehub.com/ModProjectReviews\n",
    "        \n",
    "        \n",
    "- **Deadline for successful project review: 03/02/20**\n",
    "\n",
    "\n",
    "- **Next 4 Study Groups Are Mod 3 Project Office Hours**\n",
    "    -"
   ]
  },
  {
   "cell_type": "code",
   "execution_count": null,
   "metadata": {},
   "outputs": [],
   "source": []
  }
 ],
 "metadata": {
  "kernelspec": {
   "display_name": "learn-env",
   "language": "python",
   "name": "learn-env"
  },
  "language_info": {
   "codemirror_mode": {
    "name": "ipython",
    "version": 3
   },
   "file_extension": ".py",
   "mimetype": "text/x-python",
   "name": "python",
   "nbconvert_exporter": "python",
   "pygments_lexer": "ipython3",
   "version": "3.6.9"
  },
  "toc": {
   "base_numbering": 1,
   "nav_menu": {},
   "number_sections": false,
   "sideBar": true,
   "skip_h1_title": false,
   "title_cell": "Table of Contents",
   "title_sidebar": "Contents",
   "toc_cell": false,
   "toc_position": {},
   "toc_section_display": true,
   "toc_window_display": true
  }
 },
 "nbformat": 4,
 "nbformat_minor": 2
}
