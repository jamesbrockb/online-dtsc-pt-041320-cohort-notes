{
 "cells": [
  {
   "cell_type": "markdown",
   "metadata": {},
   "source": [
    "# Sect 25-Pt 2: Intro to Logistic Regression "
   ]
  },
  {
   "cell_type": "markdown",
   "metadata": {},
   "source": [
    "- online-ds-pt-041320\n",
    "- 09/02/20"
   ]
  },
  {
   "cell_type": "markdown",
   "metadata": {},
   "source": [
    "## Questions?"
   ]
  },
  {
   "cell_type": "markdown",
   "metadata": {},
   "source": [
    "## From Last Class/Gdoc"
   ]
  },
  {
   "cell_type": "markdown",
   "metadata": {},
   "source": [
    "- I’m confused about ROC and AUC. \n",
    "    - how are the false positive or false negative percents a parameter for ROC? \n",
    "    - How do you graph one vs the other when they are fixed values?<br>I don’t think I’m understanding what’s going on under the hood with this function…\n",
    "\n",
    "\n",
    "- Pseudo R-squared from Statsmodels Logit summary\n",
    "\n",
    "\n",
    "- Logistic Regression in Scikit Learn  Lab: \n",
    "    - Why didnt they do the get dummies?\n",
    "    - \n",
    "logreg = `LogisticRegression(fit_intercept = False, C = 1e12, solver = 'liblinear')` \n",
    "        - why is the fit_intercept False, and why do we assign large value to C?\n"
   ]
  },
  {
   "cell_type": "markdown",
   "metadata": {},
   "source": [
    "### Answers"
   ]
  },
  {
   "cell_type": "markdown",
   "metadata": {},
   "source": [
    "#### **Pseudo R-Squared: Stack Overflow Discussion:**\n",
    "    > \"Those unfamiliar with 𝜌2 should be forewarned that its values tend to be considerably lower than those of the 𝑅2 index...For example, values of 0.2 to 0.4 for 𝜌2 represent EXCELLENT fit.\"\n",
    "<br><br> So basically, 𝜌2 can be interpreted like 𝑅2, but don't expect it to be as big. And values from 0.2-0.4 indicate (in McFadden's words) excellent model fit.\"\n",
    "- Source: https://stats.stackexchange.com/questions/82105/mcfaddens-pseudo-r2-interpretation\n",
    "    \n",
    "    \n",
    "#### Scikit Learn Logistic Regression parameters:\n",
    "- From the docstring for LogsisticRegression,C:\n",
    "```C : float, default=1.0\n",
    "    Inverse of regularization strength; must be a positive float.\n",
    "    Like in support vector machines, smaller values specify strong```\n",
    "    \n",
    "- Scikit-Learn Logistic Regression User Guide:\n",
    "    - https://scikit-learn.org/stable/modules/linear_model.html#logistic-regression"
   ]
  },
  {
   "cell_type": "markdown",
   "metadata": {},
   "source": [
    "## Topics in Sect 25"
   ]
  },
  {
   "cell_type": "markdown",
   "metadata": {},
   "source": [
    "- Last Class:\n",
    "    - Supervised vs Unsupervised Learning\n",
    "    - Logistic Regression - Theory\n",
    "    - Applying Logistic Regression with `statsmodels`\n",
    "    - Evaluating Classifiers\n",
    "        - Accuracy, Precision, Recall, F1-Score\n",
    "        - Confusion Matrices\n",
    "\n",
    "\n",
    "- Today:\n",
    "    - Logistic Regression with scikit-learn\n",
    "    - Evaluating Classifiers:\n",
    "        - ROC-AUC curve\n",
    "    - Class Imbalance Problems"
   ]
  },
  {
   "cell_type": "markdown",
   "metadata": {},
   "source": [
    "# Previously on..."
   ]
  },
  {
   "cell_type": "markdown",
   "metadata": {},
   "source": [
    "## Implementing Logistic Regression"
   ]
  },
  {
   "cell_type": "markdown",
   "metadata": {},
   "source": [
    "#### Predict Passenger Survival on Titanic"
   ]
  },
  {
   "cell_type": "code",
   "execution_count": 70,
   "metadata": {
    "ExecuteTime": {
     "end_time": "2020-09-01T23:01:46.621673Z",
     "start_time": "2020-09-01T23:01:46.619432Z"
    },
    "scrolled": true
   },
   "outputs": [],
   "source": [
    "# !pip install fsds\n",
    "from fsds.imports import *"
   ]
  },
  {
   "cell_type": "code",
   "execution_count": 71,
   "metadata": {
    "ExecuteTime": {
     "end_time": "2020-09-01T23:01:46.942809Z",
     "start_time": "2020-09-01T23:01:46.625795Z"
    }
   },
   "outputs": [
    {
     "data": {
      "text/html": [
       "<div>\n",
       "<style scoped>\n",
       "    .dataframe tbody tr th:only-of-type {\n",
       "        vertical-align: middle;\n",
       "    }\n",
       "\n",
       "    .dataframe tbody tr th {\n",
       "        vertical-align: top;\n",
       "    }\n",
       "\n",
       "    .dataframe thead th {\n",
       "        text-align: right;\n",
       "    }\n",
       "</style>\n",
       "<table border=\"1\" class=\"dataframe\">\n",
       "  <thead>\n",
       "    <tr style=\"text-align: right;\">\n",
       "      <th></th>\n",
       "      <th>Pclass</th>\n",
       "      <th>Age</th>\n",
       "      <th>SibSp</th>\n",
       "      <th>Fare</th>\n",
       "      <th>Sex</th>\n",
       "      <th>Embarked</th>\n",
       "      <th>Survived</th>\n",
       "    </tr>\n",
       "  </thead>\n",
       "  <tbody>\n",
       "    <tr>\n",
       "      <th>0</th>\n",
       "      <td>3</td>\n",
       "      <td>22.0</td>\n",
       "      <td>1</td>\n",
       "      <td>7.2500</td>\n",
       "      <td>male</td>\n",
       "      <td>S</td>\n",
       "      <td>0</td>\n",
       "    </tr>\n",
       "    <tr>\n",
       "      <th>1</th>\n",
       "      <td>1</td>\n",
       "      <td>38.0</td>\n",
       "      <td>1</td>\n",
       "      <td>71.2833</td>\n",
       "      <td>female</td>\n",
       "      <td>C</td>\n",
       "      <td>1</td>\n",
       "    </tr>\n",
       "    <tr>\n",
       "      <th>2</th>\n",
       "      <td>3</td>\n",
       "      <td>26.0</td>\n",
       "      <td>0</td>\n",
       "      <td>7.9250</td>\n",
       "      <td>female</td>\n",
       "      <td>S</td>\n",
       "      <td>1</td>\n",
       "    </tr>\n",
       "    <tr>\n",
       "      <th>3</th>\n",
       "      <td>1</td>\n",
       "      <td>35.0</td>\n",
       "      <td>1</td>\n",
       "      <td>53.1000</td>\n",
       "      <td>female</td>\n",
       "      <td>S</td>\n",
       "      <td>1</td>\n",
       "    </tr>\n",
       "    <tr>\n",
       "      <th>4</th>\n",
       "      <td>3</td>\n",
       "      <td>35.0</td>\n",
       "      <td>0</td>\n",
       "      <td>8.0500</td>\n",
       "      <td>male</td>\n",
       "      <td>S</td>\n",
       "      <td>0</td>\n",
       "    </tr>\n",
       "  </tbody>\n",
       "</table>\n",
       "</div>"
      ],
      "text/plain": [
       "  Pclass   Age  SibSp     Fare     Sex Embarked  Survived\n",
       "0      3  22.0      1   7.2500    male        S         0\n",
       "1      1  38.0      1  71.2833  female        C         1\n",
       "2      3  26.0      0   7.9250  female        S         1\n",
       "3      1  35.0      1  53.1000  female        S         1\n",
       "4      3  35.0      0   8.0500    male        S         0"
      ]
     },
     "execution_count": 71,
     "metadata": {},
     "output_type": "execute_result"
    }
   ],
   "source": [
    "df = fs.datasets.load_titanic(read_csv_kwds={'index_col':0})\n",
    "relevant_columns = ['Pclass', 'Age', 'SibSp', 'Fare', 'Sex', 'Embarked', 'Survived']\n",
    "df = df[relevant_columns]\n",
    "df.head()"
   ]
  },
  {
   "cell_type": "code",
   "execution_count": 72,
   "metadata": {
    "ExecuteTime": {
     "end_time": "2020-09-01T23:01:46.953088Z",
     "start_time": "2020-09-01T23:01:46.944655Z"
    }
   },
   "outputs": [
    {
     "name": "stdout",
     "output_type": "stream",
     "text": [
      "<class 'pandas.core.frame.DataFrame'>\n",
      "Int64Index: 891 entries, 0 to 890\n",
      "Data columns (total 7 columns):\n",
      " #   Column    Non-Null Count  Dtype  \n",
      "---  ------    --------------  -----  \n",
      " 0   Pclass    891 non-null    object \n",
      " 1   Age       714 non-null    float64\n",
      " 2   SibSp     891 non-null    int64  \n",
      " 3   Fare      891 non-null    float64\n",
      " 4   Sex       891 non-null    object \n",
      " 5   Embarked  889 non-null    object \n",
      " 6   Survived  891 non-null    int64  \n",
      "dtypes: float64(2), int64(2), object(3)\n",
      "memory usage: 55.7+ KB\n"
     ]
    }
   ],
   "source": [
    "df.info()"
   ]
  },
  {
   "cell_type": "code",
   "execution_count": 73,
   "metadata": {
    "ExecuteTime": {
     "end_time": "2020-09-01T23:01:46.959026Z",
     "start_time": "2020-09-01T23:01:46.955356Z"
    }
   },
   "outputs": [],
   "source": [
    "# Recast Number Cols\n",
    "df['Pclass'] = pd.to_numeric(df['Pclass'],errors='coerce')"
   ]
  },
  {
   "cell_type": "code",
   "execution_count": 74,
   "metadata": {
    "ExecuteTime": {
     "end_time": "2020-09-01T23:01:46.967524Z",
     "start_time": "2020-09-01T23:01:46.961534Z"
    }
   },
   "outputs": [
    {
     "data": {
      "text/plain": [
       "0    0.616162\n",
       "1    0.383838\n",
       "Name: Survived, dtype: float64"
      ]
     },
     "execution_count": 74,
     "metadata": {},
     "output_type": "execute_result"
    }
   ],
   "source": [
    "df['Survived'].value_counts(normalize=True,dropna=False)"
   ]
  },
  {
   "cell_type": "code",
   "execution_count": 75,
   "metadata": {
    "ExecuteTime": {
     "end_time": "2020-09-01T23:01:47.134546Z",
     "start_time": "2020-09-01T23:01:46.969284Z"
    }
   },
   "outputs": [
    {
     "data": {
      "image/png": "[encoded data removed]",
      "text/plain": [
       "<Figure size 432x288 with 1 Axes>"
      ]
     },
     "metadata": {
      "needs_background": "light"
     },
     "output_type": "display_data"
    }
   ],
   "source": [
    "df.plot('Age','Survived',kind='scatter');"
   ]
  },
  {
   "cell_type": "code",
   "execution_count": 76,
   "metadata": {
    "ExecuteTime": {
     "end_time": "2020-09-01T23:01:47.292517Z",
     "start_time": "2020-09-01T23:01:47.136237Z"
    }
   },
   "outputs": [
    {
     "data": {
      "image/png": "[encoded data removed]",
      "text/plain": [
       "<Figure size 432x288 with 1 Axes>"
      ]
     },
     "metadata": {
      "needs_background": "light"
     },
     "output_type": "display_data"
    }
   ],
   "source": [
    "df.plot('Fare','Survived',kind='scatter');"
   ]
  },
  {
   "cell_type": "markdown",
   "metadata": {
    "ExecuteTime": {
     "end_time": "2020-03-24T22:26:15.520827Z",
     "start_time": "2020-03-24T22:26:15.518673Z"
    }
   },
   "source": [
    "### Q: What are the preprocessing steps I need to perform before I create the model?"
   ]
  },
  {
   "cell_type": "markdown",
   "metadata": {},
   "source": [
    "<!-- Fill/drop in missing/null values\n",
    "- Feature Selection / Feature Engineering (interaction terms)\n",
    "- Handling categorial variables\n",
    "    - One Hot Encoding \n",
    "    - Label Encoding\n",
    "- Handling Outliers (maybe apply today)\n",
    "- Normalizing/Standardizing our data\n",
    "\n",
    "- **Multicollinearity (does it still matter as much for Logistic?)**\n",
    "\n",
    "- Train-test-split\n",
    "-->\n",
    "\n",
    "- Train-test-split\n",
    "- Address null values\n",
    "- Encode categorical data\n",
    "- Train Model with train data\n",
    "- Evaluate Model with test data"
   ]
  },
  {
   "cell_type": "markdown",
   "metadata": {},
   "source": [
    "### Preprocessing"
   ]
  },
  {
   "cell_type": "code",
   "execution_count": 77,
   "metadata": {
    "ExecuteTime": {
     "end_time": "2020-09-01T23:01:47.300451Z",
     "start_time": "2020-09-01T23:01:47.294434Z"
    }
   },
   "outputs": [
    {
     "data": {
      "text/plain": [
       "Pclass      0.054994\n",
       "Age         0.198653\n",
       "SibSp       0.000000\n",
       "Fare        0.000000\n",
       "Sex         0.000000\n",
       "Embarked    0.002245\n",
       "Survived    0.000000\n",
       "dtype: float64"
      ]
     },
     "execution_count": 77,
     "metadata": {},
     "output_type": "execute_result"
    }
   ],
   "source": [
    "## Null Values\n",
    "df.isna().sum() / len(df)"
   ]
  },
  {
   "cell_type": "code",
   "execution_count": 78,
   "metadata": {
    "ExecuteTime": {
     "end_time": "2020-09-01T23:01:47.310738Z",
     "start_time": "2020-09-01T23:01:47.303936Z"
    }
   },
   "outputs": [
    {
     "data": {
      "text/plain": [
       "0      0\n",
       "1      1\n",
       "2      1\n",
       "3      1\n",
       "4      0\n",
       "      ..\n",
       "886    0\n",
       "887    1\n",
       "888    0\n",
       "889    1\n",
       "890    0\n",
       "Name: Survived, Length: 891, dtype: int64"
      ]
     },
     "execution_count": 78,
     "metadata": {},
     "output_type": "execute_result"
    }
   ],
   "source": [
    "target = 'Survived'\n",
    "X = df.drop(columns=target)\n",
    "y = df[target]\n",
    "y"
   ]
  },
  {
   "cell_type": "code",
   "execution_count": 79,
   "metadata": {
    "ExecuteTime": {
     "end_time": "2020-09-01T23:01:47.315522Z",
     "start_time": "2020-09-01T23:01:47.313255Z"
    }
   },
   "outputs": [],
   "source": [
    "target = 'Survived'"
   ]
  },
  {
   "cell_type": "code",
   "execution_count": 80,
   "metadata": {
    "ExecuteTime": {
     "end_time": "2020-09-01T23:01:47.322949Z",
     "start_time": "2020-09-01T23:01:47.316948Z"
    }
   },
   "outputs": [
    {
     "data": {
      "text/plain": [
       "Index(['Sex', 'Embarked'], dtype='object')"
      ]
     },
     "execution_count": 80,
     "metadata": {},
     "output_type": "execute_result"
    }
   ],
   "source": [
    "cat_cols = df.drop(columns=target).select_dtypes('O').columns\n",
    "cat_cols"
   ]
  },
  {
   "cell_type": "code",
   "execution_count": 81,
   "metadata": {
    "ExecuteTime": {
     "end_time": "2020-09-01T23:01:47.331288Z",
     "start_time": "2020-09-01T23:01:47.324689Z"
    }
   },
   "outputs": [
    {
     "data": {
      "text/plain": [
       "Index(['Pclass', 'Age', 'SibSp', 'Fare'], dtype='object')"
      ]
     },
     "execution_count": 81,
     "metadata": {},
     "output_type": "execute_result"
    }
   ],
   "source": [
    "num_cols = df.drop(columns=target).select_dtypes('number').columns\n",
    "num_cols"
   ]
  },
  {
   "cell_type": "code",
   "execution_count": 82,
   "metadata": {
    "ExecuteTime": {
     "end_time": "2020-09-01T23:01:47.338610Z",
     "start_time": "2020-09-01T23:01:47.333148Z"
    }
   },
   "outputs": [
    {
     "data": {
      "text/plain": [
       "((668, 6), (223,))"
      ]
     },
     "execution_count": 82,
     "metadata": {},
     "output_type": "execute_result"
    }
   ],
   "source": [
    "## Train Test Split\n",
    "from sklearn.model_selection import train_test_split\n",
    "X_train, X_test, y_train, y_test = train_test_split(X, y)\n",
    "X_train.shape, y_test.shape"
   ]
  },
  {
   "cell_type": "code",
   "execution_count": 83,
   "metadata": {
    "ExecuteTime": {
     "end_time": "2020-09-01T23:01:47.345464Z",
     "start_time": "2020-09-01T23:01:47.340191Z"
    }
   },
   "outputs": [
    {
     "data": {
      "text/plain": [
       "Pclass       40\n",
       "Age         135\n",
       "SibSp         0\n",
       "Fare          0\n",
       "Sex           0\n",
       "Embarked      1\n",
       "dtype: int64"
      ]
     },
     "execution_count": 83,
     "metadata": {},
     "output_type": "execute_result"
    }
   ],
   "source": [
    "X_train.isna().sum()"
   ]
  },
  {
   "cell_type": "code",
   "execution_count": null,
   "metadata": {
    "ExecuteTime": {
     "end_time": "2020-09-01T20:11:53.060876Z",
     "start_time": "2020-09-01T20:11:53.009850Z"
    }
   },
   "outputs": [],
   "source": []
  },
  {
   "cell_type": "code",
   "execution_count": 84,
   "metadata": {
    "ExecuteTime": {
     "end_time": "2020-09-01T23:01:47.351374Z",
     "start_time": "2020-09-01T23:01:47.346960Z"
    }
   },
   "outputs": [],
   "source": [
    "## Saving null value indices\n",
    "train_nulls = X_train.isna().any(axis=1)\n",
    "test_nulls = X_test.isna().any(axis=1)\n"
   ]
  },
  {
   "cell_type": "code",
   "execution_count": 85,
   "metadata": {
    "ExecuteTime": {
     "end_time": "2020-09-01T23:01:47.358113Z",
     "start_time": "2020-09-01T23:01:47.352973Z"
    }
   },
   "outputs": [],
   "source": [
    "\n",
    "# dropna_cols = [*cat_cols,'Age']\n",
    "X_train = X_train.loc[~train_nulls]\n",
    "y_train = y_train.loc[~train_nulls]\n",
    "\n",
    "X_test = X_test.loc[~test_nulls]\n",
    "y_test = y_test.loc[~test_nulls]\n",
    "# X_train.isna().sum()"
   ]
  },
  {
   "cell_type": "code",
   "execution_count": 86,
   "metadata": {
    "ExecuteTime": {
     "end_time": "2020-09-01T23:01:47.366101Z",
     "start_time": "2020-09-01T23:01:47.359768Z"
    }
   },
   "outputs": [
    {
     "data": {
      "text/plain": [
       "(Pclass      0\n",
       " Age         0\n",
       " SibSp       0\n",
       " Fare        0\n",
       " Sex         0\n",
       " Embarked    0\n",
       " dtype: int64,\n",
       " Pclass      0\n",
       " Age         0\n",
       " SibSp       0\n",
       " Fare        0\n",
       " Sex         0\n",
       " Embarked    0\n",
       " dtype: int64)"
      ]
     },
     "execution_count": 86,
     "metadata": {},
     "output_type": "execute_result"
    }
   ],
   "source": [
    "X_train.isna().sum(), X_test.isna().sum()"
   ]
  },
  {
   "cell_type": "code",
   "execution_count": 87,
   "metadata": {
    "ExecuteTime": {
     "end_time": "2020-09-01T23:01:47.369936Z",
     "start_time": "2020-09-01T23:01:47.367918Z"
    }
   },
   "outputs": [],
   "source": [
    "## REMOVED FROM WORKFLOW\n",
    "# from sklearn.impute import SimpleImputer\n",
    "# imputer_num = SimpleImputer(strategy='median')\n",
    "\n",
    "# X_train[num_cols] = imputer_num.fit_transform(X_train[num_cols])\n",
    "# X_test[num_cols] = imputer_num.transform(X_test[num_cols])\n",
    "\n",
    "# X_train[cat_cols] = imputer_cat.fit_transform(X_train[cat_cols])\n",
    "# X_test[cat_cols] = imputer_cat.transform(X_test[cat_cols])\n"
   ]
  },
  {
   "cell_type": "code",
   "execution_count": 88,
   "metadata": {
    "ExecuteTime": {
     "end_time": "2020-09-01T23:01:47.399898Z",
     "start_time": "2020-09-01T23:01:47.371555Z"
    }
   },
   "outputs": [
    {
     "data": {
      "text/html": [
       "<div>\n",
       "<style scoped>\n",
       "    .dataframe tbody tr th:only-of-type {\n",
       "        vertical-align: middle;\n",
       "    }\n",
       "\n",
       "    .dataframe tbody tr th {\n",
       "        vertical-align: top;\n",
       "    }\n",
       "\n",
       "    .dataframe thead th {\n",
       "        text-align: right;\n",
       "    }\n",
       "</style>\n",
       "<table border=\"1\" class=\"dataframe\">\n",
       "  <thead>\n",
       "    <tr style=\"text-align: right;\">\n",
       "      <th></th>\n",
       "      <th>Pclass</th>\n",
       "      <th>Age</th>\n",
       "      <th>SibSp</th>\n",
       "      <th>Fare</th>\n",
       "      <th>Sex_male</th>\n",
       "      <th>Embarked_Q</th>\n",
       "      <th>Embarked_S</th>\n",
       "    </tr>\n",
       "  </thead>\n",
       "  <tbody>\n",
       "    <tr>\n",
       "      <th>585</th>\n",
       "      <td>1.0</td>\n",
       "      <td>18.00</td>\n",
       "      <td>0</td>\n",
       "      <td>79.6500</td>\n",
       "      <td>0.0</td>\n",
       "      <td>0.0</td>\n",
       "      <td>1.0</td>\n",
       "    </tr>\n",
       "    <tr>\n",
       "      <th>305</th>\n",
       "      <td>1.0</td>\n",
       "      <td>0.92</td>\n",
       "      <td>1</td>\n",
       "      <td>151.5500</td>\n",
       "      <td>1.0</td>\n",
       "      <td>0.0</td>\n",
       "      <td>1.0</td>\n",
       "    </tr>\n",
       "    <tr>\n",
       "      <th>676</th>\n",
       "      <td>3.0</td>\n",
       "      <td>24.50</td>\n",
       "      <td>0</td>\n",
       "      <td>8.0500</td>\n",
       "      <td>1.0</td>\n",
       "      <td>0.0</td>\n",
       "      <td>1.0</td>\n",
       "    </tr>\n",
       "    <tr>\n",
       "      <th>419</th>\n",
       "      <td>3.0</td>\n",
       "      <td>10.00</td>\n",
       "      <td>0</td>\n",
       "      <td>24.1500</td>\n",
       "      <td>0.0</td>\n",
       "      <td>0.0</td>\n",
       "      <td>1.0</td>\n",
       "    </tr>\n",
       "    <tr>\n",
       "      <th>439</th>\n",
       "      <td>2.0</td>\n",
       "      <td>31.00</td>\n",
       "      <td>0</td>\n",
       "      <td>10.5000</td>\n",
       "      <td>1.0</td>\n",
       "      <td>0.0</td>\n",
       "      <td>1.0</td>\n",
       "    </tr>\n",
       "    <tr>\n",
       "      <th>...</th>\n",
       "      <td>...</td>\n",
       "      <td>...</td>\n",
       "      <td>...</td>\n",
       "      <td>...</td>\n",
       "      <td>...</td>\n",
       "      <td>...</td>\n",
       "      <td>...</td>\n",
       "    </tr>\n",
       "    <tr>\n",
       "      <th>744</th>\n",
       "      <td>3.0</td>\n",
       "      <td>31.00</td>\n",
       "      <td>0</td>\n",
       "      <td>7.9250</td>\n",
       "      <td>1.0</td>\n",
       "      <td>0.0</td>\n",
       "      <td>1.0</td>\n",
       "    </tr>\n",
       "    <tr>\n",
       "      <th>127</th>\n",
       "      <td>3.0</td>\n",
       "      <td>24.00</td>\n",
       "      <td>0</td>\n",
       "      <td>7.1417</td>\n",
       "      <td>1.0</td>\n",
       "      <td>0.0</td>\n",
       "      <td>1.0</td>\n",
       "    </tr>\n",
       "    <tr>\n",
       "      <th>134</th>\n",
       "      <td>2.0</td>\n",
       "      <td>25.00</td>\n",
       "      <td>0</td>\n",
       "      <td>13.0000</td>\n",
       "      <td>1.0</td>\n",
       "      <td>0.0</td>\n",
       "      <td>1.0</td>\n",
       "    </tr>\n",
       "    <tr>\n",
       "      <th>417</th>\n",
       "      <td>2.0</td>\n",
       "      <td>18.00</td>\n",
       "      <td>0</td>\n",
       "      <td>13.0000</td>\n",
       "      <td>0.0</td>\n",
       "      <td>0.0</td>\n",
       "      <td>1.0</td>\n",
       "    </tr>\n",
       "    <tr>\n",
       "      <th>350</th>\n",
       "      <td>3.0</td>\n",
       "      <td>23.00</td>\n",
       "      <td>0</td>\n",
       "      <td>9.2250</td>\n",
       "      <td>1.0</td>\n",
       "      <td>0.0</td>\n",
       "      <td>1.0</td>\n",
       "    </tr>\n",
       "  </tbody>\n",
       "</table>\n",
       "<p>502 rows × 7 columns</p>\n",
       "</div>"
      ],
      "text/plain": [
       "     Pclass    Age  SibSp      Fare  Sex_male  Embarked_Q  Embarked_S\n",
       "585     1.0  18.00      0   79.6500       0.0         0.0         1.0\n",
       "305     1.0   0.92      1  151.5500       1.0         0.0         1.0\n",
       "676     3.0  24.50      0    8.0500       1.0         0.0         1.0\n",
       "419     3.0  10.00      0   24.1500       0.0         0.0         1.0\n",
       "439     2.0  31.00      0   10.5000       1.0         0.0         1.0\n",
       "..      ...    ...    ...       ...       ...         ...         ...\n",
       "744     3.0  31.00      0    7.9250       1.0         0.0         1.0\n",
       "127     3.0  24.00      0    7.1417       1.0         0.0         1.0\n",
       "134     2.0  25.00      0   13.0000       1.0         0.0         1.0\n",
       "417     2.0  18.00      0   13.0000       0.0         0.0         1.0\n",
       "350     3.0  23.00      0    9.2250       1.0         0.0         1.0\n",
       "\n",
       "[502 rows x 7 columns]"
      ]
     },
     "execution_count": 88,
     "metadata": {},
     "output_type": "execute_result"
    }
   ],
   "source": [
    "from sklearn.preprocessing import OneHotEncoder\n",
    "\n",
    "encoder = OneHotEncoder(sparse=False,drop='first')#,handle_unknown='ignore')\n",
    "\n",
    "X_train_ohe = X_train.drop(columns=cat_cols).copy()\n",
    "X_test_ohe = X_test.drop(columns=cat_cols).copy()\n",
    "\n",
    "\n",
    "encoder.fit(X_train[cat_cols])\n",
    "\n",
    "X_train_ohe[encoder.get_feature_names(cat_cols)] = encoder.transform(X_train[cat_cols])\n",
    "X_test_ohe[encoder.get_feature_names(cat_cols)] = encoder.transform(X_test[cat_cols])\n",
    "\n",
    "X_train_ohe"
   ]
  },
  {
   "cell_type": "code",
   "execution_count": 89,
   "metadata": {
    "ExecuteTime": {
     "end_time": "2020-09-01T23:01:47.426125Z",
     "start_time": "2020-09-01T23:01:47.401786Z"
    }
   },
   "outputs": [
    {
     "data": {
      "text/html": [
       "<div>\n",
       "<style scoped>\n",
       "    .dataframe tbody tr th:only-of-type {\n",
       "        vertical-align: middle;\n",
       "    }\n",
       "\n",
       "    .dataframe tbody tr th {\n",
       "        vertical-align: top;\n",
       "    }\n",
       "\n",
       "    .dataframe thead th {\n",
       "        text-align: right;\n",
       "    }\n",
       "</style>\n",
       "<table border=\"1\" class=\"dataframe\">\n",
       "  <thead>\n",
       "    <tr style=\"text-align: right;\">\n",
       "      <th></th>\n",
       "      <th>Pclass</th>\n",
       "      <th>Age</th>\n",
       "      <th>SibSp</th>\n",
       "      <th>Fare</th>\n",
       "      <th>Sex_male</th>\n",
       "      <th>Embarked_Q</th>\n",
       "      <th>Embarked_S</th>\n",
       "    </tr>\n",
       "  </thead>\n",
       "  <tbody>\n",
       "    <tr>\n",
       "      <th>585</th>\n",
       "      <td>-1.471846</td>\n",
       "      <td>-0.750518</td>\n",
       "      <td>-0.583130</td>\n",
       "      <td>0.760796</td>\n",
       "      <td>0.0</td>\n",
       "      <td>0.0</td>\n",
       "      <td>1.0</td>\n",
       "    </tr>\n",
       "    <tr>\n",
       "      <th>305</th>\n",
       "      <td>-1.471846</td>\n",
       "      <td>-1.902998</td>\n",
       "      <td>0.477491</td>\n",
       "      <td>2.024536</td>\n",
       "      <td>1.0</td>\n",
       "      <td>0.0</td>\n",
       "      <td>1.0</td>\n",
       "    </tr>\n",
       "    <tr>\n",
       "      <th>676</th>\n",
       "      <td>0.919308</td>\n",
       "      <td>-0.311928</td>\n",
       "      <td>-0.583130</td>\n",
       "      <td>-0.497672</td>\n",
       "      <td>1.0</td>\n",
       "      <td>0.0</td>\n",
       "      <td>1.0</td>\n",
       "    </tr>\n",
       "    <tr>\n",
       "      <th>419</th>\n",
       "      <td>0.919308</td>\n",
       "      <td>-1.290321</td>\n",
       "      <td>-0.583130</td>\n",
       "      <td>-0.214692</td>\n",
       "      <td>0.0</td>\n",
       "      <td>0.0</td>\n",
       "      <td>1.0</td>\n",
       "    </tr>\n",
       "    <tr>\n",
       "      <th>439</th>\n",
       "      <td>-0.276269</td>\n",
       "      <td>0.126661</td>\n",
       "      <td>-0.583130</td>\n",
       "      <td>-0.454610</td>\n",
       "      <td>1.0</td>\n",
       "      <td>0.0</td>\n",
       "      <td>1.0</td>\n",
       "    </tr>\n",
       "    <tr>\n",
       "      <th>...</th>\n",
       "      <td>...</td>\n",
       "      <td>...</td>\n",
       "      <td>...</td>\n",
       "      <td>...</td>\n",
       "      <td>...</td>\n",
       "      <td>...</td>\n",
       "      <td>...</td>\n",
       "    </tr>\n",
       "    <tr>\n",
       "      <th>744</th>\n",
       "      <td>0.919308</td>\n",
       "      <td>0.126661</td>\n",
       "      <td>-0.583130</td>\n",
       "      <td>-0.499869</td>\n",
       "      <td>1.0</td>\n",
       "      <td>0.0</td>\n",
       "      <td>1.0</td>\n",
       "    </tr>\n",
       "    <tr>\n",
       "      <th>127</th>\n",
       "      <td>0.919308</td>\n",
       "      <td>-0.345666</td>\n",
       "      <td>-0.583130</td>\n",
       "      <td>-0.513636</td>\n",
       "      <td>1.0</td>\n",
       "      <td>0.0</td>\n",
       "      <td>1.0</td>\n",
       "    </tr>\n",
       "    <tr>\n",
       "      <th>134</th>\n",
       "      <td>-0.276269</td>\n",
       "      <td>-0.278191</td>\n",
       "      <td>-0.583130</td>\n",
       "      <td>-0.410669</td>\n",
       "      <td>1.0</td>\n",
       "      <td>0.0</td>\n",
       "      <td>1.0</td>\n",
       "    </tr>\n",
       "    <tr>\n",
       "      <th>417</th>\n",
       "      <td>-0.276269</td>\n",
       "      <td>-0.750518</td>\n",
       "      <td>-0.583130</td>\n",
       "      <td>-0.410669</td>\n",
       "      <td>0.0</td>\n",
       "      <td>0.0</td>\n",
       "      <td>1.0</td>\n",
       "    </tr>\n",
       "    <tr>\n",
       "      <th>350</th>\n",
       "      <td>0.919308</td>\n",
       "      <td>-0.413141</td>\n",
       "      <td>-0.583130</td>\n",
       "      <td>-0.477019</td>\n",
       "      <td>1.0</td>\n",
       "      <td>0.0</td>\n",
       "      <td>1.0</td>\n",
       "    </tr>\n",
       "  </tbody>\n",
       "</table>\n",
       "<p>502 rows × 7 columns</p>\n",
       "</div>"
      ],
      "text/plain": [
       "       Pclass       Age     SibSp      Fare  Sex_male  Embarked_Q  Embarked_S\n",
       "585 -1.471846 -0.750518 -0.583130  0.760796       0.0         0.0         1.0\n",
       "305 -1.471846 -1.902998  0.477491  2.024536       1.0         0.0         1.0\n",
       "676  0.919308 -0.311928 -0.583130 -0.497672       1.0         0.0         1.0\n",
       "419  0.919308 -1.290321 -0.583130 -0.214692       0.0         0.0         1.0\n",
       "439 -0.276269  0.126661 -0.583130 -0.454610       1.0         0.0         1.0\n",
       "..        ...       ...       ...       ...       ...         ...         ...\n",
       "744  0.919308  0.126661 -0.583130 -0.499869       1.0         0.0         1.0\n",
       "127  0.919308 -0.345666 -0.583130 -0.513636       1.0         0.0         1.0\n",
       "134 -0.276269 -0.278191 -0.583130 -0.410669       1.0         0.0         1.0\n",
       "417 -0.276269 -0.750518 -0.583130 -0.410669       0.0         0.0         1.0\n",
       "350  0.919308 -0.413141 -0.583130 -0.477019       1.0         0.0         1.0\n",
       "\n",
       "[502 rows x 7 columns]"
      ]
     },
     "execution_count": 89,
     "metadata": {},
     "output_type": "execute_result"
    }
   ],
   "source": [
    "## Scale data\n",
    "from sklearn.preprocessing import MinMaxScaler, StandardScaler\n",
    "scaler= StandardScaler()\n",
    "\n",
    "X_train_sca = X_train_ohe.copy()\n",
    "X_test_sca = X_test_ohe.copy()\n",
    "\n",
    "\n",
    "X_train_sca[num_cols] = scaler.fit_transform(X_train_sca[num_cols])\n",
    "X_test_sca[num_cols] = scaler.transform(X_test_sca[num_cols])\n",
    "\n",
    "X_train_sca"
   ]
  },
  {
   "cell_type": "code",
   "execution_count": 90,
   "metadata": {
    "ExecuteTime": {
     "end_time": "2020-09-01T23:01:47.459030Z",
     "start_time": "2020-09-01T23:01:47.427842Z"
    }
   },
   "outputs": [
    {
     "data": {
      "text/html": [
       "<div>\n",
       "<style scoped>\n",
       "    .dataframe tbody tr th:only-of-type {\n",
       "        vertical-align: middle;\n",
       "    }\n",
       "\n",
       "    .dataframe tbody tr th {\n",
       "        vertical-align: top;\n",
       "    }\n",
       "\n",
       "    .dataframe thead th {\n",
       "        text-align: right;\n",
       "    }\n",
       "</style>\n",
       "<table border=\"1\" class=\"dataframe\">\n",
       "  <thead>\n",
       "    <tr style=\"text-align: right;\">\n",
       "      <th></th>\n",
       "      <th>Pclass</th>\n",
       "      <th>Age</th>\n",
       "      <th>SibSp</th>\n",
       "      <th>Fare</th>\n",
       "      <th>Sex_male</th>\n",
       "      <th>Embarked_Q</th>\n",
       "      <th>Embarked_S</th>\n",
       "    </tr>\n",
       "  </thead>\n",
       "  <tbody>\n",
       "    <tr>\n",
       "      <th>count</th>\n",
       "      <td>502.00</td>\n",
       "      <td>502.00</td>\n",
       "      <td>502.00</td>\n",
       "      <td>502.00</td>\n",
       "      <td>502.00</td>\n",
       "      <td>502.00</td>\n",
       "      <td>502.00</td>\n",
       "    </tr>\n",
       "    <tr>\n",
       "      <th>mean</th>\n",
       "      <td>2.23</td>\n",
       "      <td>29.12</td>\n",
       "      <td>0.55</td>\n",
       "      <td>36.36</td>\n",
       "      <td>0.64</td>\n",
       "      <td>0.03</td>\n",
       "      <td>0.78</td>\n",
       "    </tr>\n",
       "    <tr>\n",
       "      <th>std</th>\n",
       "      <td>0.84</td>\n",
       "      <td>14.84</td>\n",
       "      <td>0.94</td>\n",
       "      <td>56.95</td>\n",
       "      <td>0.48</td>\n",
       "      <td>0.18</td>\n",
       "      <td>0.42</td>\n",
       "    </tr>\n",
       "    <tr>\n",
       "      <th>min</th>\n",
       "      <td>1.00</td>\n",
       "      <td>0.42</td>\n",
       "      <td>0.00</td>\n",
       "      <td>0.00</td>\n",
       "      <td>0.00</td>\n",
       "      <td>0.00</td>\n",
       "      <td>0.00</td>\n",
       "    </tr>\n",
       "    <tr>\n",
       "      <th>25%</th>\n",
       "      <td>1.00</td>\n",
       "      <td>20.00</td>\n",
       "      <td>0.00</td>\n",
       "      <td>8.05</td>\n",
       "      <td>0.00</td>\n",
       "      <td>0.00</td>\n",
       "      <td>1.00</td>\n",
       "    </tr>\n",
       "    <tr>\n",
       "      <th>50%</th>\n",
       "      <td>2.00</td>\n",
       "      <td>28.00</td>\n",
       "      <td>0.00</td>\n",
       "      <td>15.85</td>\n",
       "      <td>1.00</td>\n",
       "      <td>0.00</td>\n",
       "      <td>1.00</td>\n",
       "    </tr>\n",
       "    <tr>\n",
       "      <th>75%</th>\n",
       "      <td>3.00</td>\n",
       "      <td>37.75</td>\n",
       "      <td>1.00</td>\n",
       "      <td>36.94</td>\n",
       "      <td>1.00</td>\n",
       "      <td>0.00</td>\n",
       "      <td>1.00</td>\n",
       "    </tr>\n",
       "    <tr>\n",
       "      <th>max</th>\n",
       "      <td>3.00</td>\n",
       "      <td>80.00</td>\n",
       "      <td>5.00</td>\n",
       "      <td>512.33</td>\n",
       "      <td>1.00</td>\n",
       "      <td>1.00</td>\n",
       "      <td>1.00</td>\n",
       "    </tr>\n",
       "  </tbody>\n",
       "</table>\n",
       "</div>"
      ],
      "text/plain": [
       "       Pclass     Age   SibSp    Fare  Sex_male  Embarked_Q  Embarked_S\n",
       "count  502.00  502.00  502.00  502.00    502.00      502.00      502.00\n",
       "mean     2.23   29.12    0.55   36.36      0.64        0.03        0.78\n",
       "std      0.84   14.84    0.94   56.95      0.48        0.18        0.42\n",
       "min      1.00    0.42    0.00    0.00      0.00        0.00        0.00\n",
       "25%      1.00   20.00    0.00    8.05      0.00        0.00        1.00\n",
       "50%      2.00   28.00    0.00   15.85      1.00        0.00        1.00\n",
       "75%      3.00   37.75    1.00   36.94      1.00        0.00        1.00\n",
       "max      3.00   80.00    5.00  512.33      1.00        1.00        1.00"
      ]
     },
     "execution_count": 90,
     "metadata": {},
     "output_type": "execute_result"
    }
   ],
   "source": [
    "## Verify scaling\n",
    "X_train_ohe.describe().round(2)"
   ]
  },
  {
   "cell_type": "code",
   "execution_count": 91,
   "metadata": {
    "ExecuteTime": {
     "end_time": "2020-09-01T23:01:47.493483Z",
     "start_time": "2020-09-01T23:01:47.460732Z"
    }
   },
   "outputs": [
    {
     "data": {
      "text/html": [
       "<div>\n",
       "<style scoped>\n",
       "    .dataframe tbody tr th:only-of-type {\n",
       "        vertical-align: middle;\n",
       "    }\n",
       "\n",
       "    .dataframe tbody tr th {\n",
       "        vertical-align: top;\n",
       "    }\n",
       "\n",
       "    .dataframe thead th {\n",
       "        text-align: right;\n",
       "    }\n",
       "</style>\n",
       "<table border=\"1\" class=\"dataframe\">\n",
       "  <thead>\n",
       "    <tr style=\"text-align: right;\">\n",
       "      <th></th>\n",
       "      <th>Pclass</th>\n",
       "      <th>Age</th>\n",
       "      <th>SibSp</th>\n",
       "      <th>Fare</th>\n",
       "      <th>Sex_male</th>\n",
       "      <th>Embarked_Q</th>\n",
       "      <th>Embarked_S</th>\n",
       "    </tr>\n",
       "  </thead>\n",
       "  <tbody>\n",
       "    <tr>\n",
       "      <th>count</th>\n",
       "      <td>502.00</td>\n",
       "      <td>502.00</td>\n",
       "      <td>502.00</td>\n",
       "      <td>502.00</td>\n",
       "      <td>502.00</td>\n",
       "      <td>502.00</td>\n",
       "      <td>502.00</td>\n",
       "    </tr>\n",
       "    <tr>\n",
       "      <th>mean</th>\n",
       "      <td>0.00</td>\n",
       "      <td>-0.00</td>\n",
       "      <td>0.00</td>\n",
       "      <td>-0.00</td>\n",
       "      <td>0.64</td>\n",
       "      <td>0.03</td>\n",
       "      <td>0.78</td>\n",
       "    </tr>\n",
       "    <tr>\n",
       "      <th>std</th>\n",
       "      <td>1.00</td>\n",
       "      <td>1.00</td>\n",
       "      <td>1.00</td>\n",
       "      <td>1.00</td>\n",
       "      <td>0.48</td>\n",
       "      <td>0.18</td>\n",
       "      <td>0.42</td>\n",
       "    </tr>\n",
       "    <tr>\n",
       "      <th>min</th>\n",
       "      <td>-1.47</td>\n",
       "      <td>-1.94</td>\n",
       "      <td>-0.58</td>\n",
       "      <td>-0.64</td>\n",
       "      <td>0.00</td>\n",
       "      <td>0.00</td>\n",
       "      <td>0.00</td>\n",
       "    </tr>\n",
       "    <tr>\n",
       "      <th>25%</th>\n",
       "      <td>-1.47</td>\n",
       "      <td>-0.62</td>\n",
       "      <td>-0.58</td>\n",
       "      <td>-0.50</td>\n",
       "      <td>0.00</td>\n",
       "      <td>0.00</td>\n",
       "      <td>1.00</td>\n",
       "    </tr>\n",
       "    <tr>\n",
       "      <th>50%</th>\n",
       "      <td>-0.28</td>\n",
       "      <td>-0.08</td>\n",
       "      <td>-0.58</td>\n",
       "      <td>-0.36</td>\n",
       "      <td>1.00</td>\n",
       "      <td>0.00</td>\n",
       "      <td>1.00</td>\n",
       "    </tr>\n",
       "    <tr>\n",
       "      <th>75%</th>\n",
       "      <td>0.92</td>\n",
       "      <td>0.58</td>\n",
       "      <td>0.48</td>\n",
       "      <td>0.01</td>\n",
       "      <td>1.00</td>\n",
       "      <td>0.00</td>\n",
       "      <td>1.00</td>\n",
       "    </tr>\n",
       "    <tr>\n",
       "      <th>max</th>\n",
       "      <td>0.92</td>\n",
       "      <td>3.43</td>\n",
       "      <td>4.72</td>\n",
       "      <td>8.37</td>\n",
       "      <td>1.00</td>\n",
       "      <td>1.00</td>\n",
       "      <td>1.00</td>\n",
       "    </tr>\n",
       "  </tbody>\n",
       "</table>\n",
       "</div>"
      ],
      "text/plain": [
       "       Pclass     Age   SibSp    Fare  Sex_male  Embarked_Q  Embarked_S\n",
       "count  502.00  502.00  502.00  502.00    502.00      502.00      502.00\n",
       "mean     0.00   -0.00    0.00   -0.00      0.64        0.03        0.78\n",
       "std      1.00    1.00    1.00    1.00      0.48        0.18        0.42\n",
       "min     -1.47   -1.94   -0.58   -0.64      0.00        0.00        0.00\n",
       "25%     -1.47   -0.62   -0.58   -0.50      0.00        0.00        1.00\n",
       "50%     -0.28   -0.08   -0.58   -0.36      1.00        0.00        1.00\n",
       "75%      0.92    0.58    0.48    0.01      1.00        0.00        1.00\n",
       "max      0.92    3.43    4.72    8.37      1.00        1.00        1.00"
      ]
     },
     "execution_count": 91,
     "metadata": {},
     "output_type": "execute_result"
    }
   ],
   "source": [
    "X_train_sca.describe().round(2)"
   ]
  },
  {
   "cell_type": "markdown",
   "metadata": {},
   "source": [
    "## Fitting a Logistic Regression with `statsmodels`"
   ]
  },
  {
   "cell_type": "code",
   "execution_count": 92,
   "metadata": {
    "ExecuteTime": {
     "end_time": "2020-09-01T23:01:47.497162Z",
     "start_time": "2020-09-01T23:01:47.494847Z"
    }
   },
   "outputs": [],
   "source": [
    "import statsmodels.api as sm"
   ]
  },
  {
   "cell_type": "code",
   "execution_count": 93,
   "metadata": {
    "ExecuteTime": {
     "end_time": "2020-09-01T23:01:47.506775Z",
     "start_time": "2020-09-01T23:01:47.502205Z"
    }
   },
   "outputs": [
    {
     "data": {
      "text/plain": [
       "0    297\n",
       "1    205\n",
       "Name: Survived, dtype: int64"
      ]
     },
     "execution_count": 93,
     "metadata": {},
     "output_type": "execute_result"
    }
   ],
   "source": [
    "y_train.value_counts()"
   ]
  },
  {
   "cell_type": "code",
   "execution_count": 94,
   "metadata": {
    "ExecuteTime": {
     "end_time": "2020-09-01T23:01:47.527980Z",
     "start_time": "2020-09-01T23:01:47.508654Z"
    }
   },
   "outputs": [
    {
     "data": {
      "text/html": [
       "<div>\n",
       "<style scoped>\n",
       "    .dataframe tbody tr th:only-of-type {\n",
       "        vertical-align: middle;\n",
       "    }\n",
       "\n",
       "    .dataframe tbody tr th {\n",
       "        vertical-align: top;\n",
       "    }\n",
       "\n",
       "    .dataframe thead th {\n",
       "        text-align: right;\n",
       "    }\n",
       "</style>\n",
       "<table border=\"1\" class=\"dataframe\">\n",
       "  <thead>\n",
       "    <tr style=\"text-align: right;\">\n",
       "      <th></th>\n",
       "      <th>const</th>\n",
       "      <th>Pclass</th>\n",
       "      <th>Age</th>\n",
       "      <th>SibSp</th>\n",
       "      <th>Fare</th>\n",
       "      <th>Sex_male</th>\n",
       "      <th>Embarked_Q</th>\n",
       "      <th>Embarked_S</th>\n",
       "    </tr>\n",
       "  </thead>\n",
       "  <tbody>\n",
       "    <tr>\n",
       "      <th>585</th>\n",
       "      <td>1.0</td>\n",
       "      <td>-1.471846</td>\n",
       "      <td>-0.750518</td>\n",
       "      <td>-0.583130</td>\n",
       "      <td>0.760796</td>\n",
       "      <td>0.0</td>\n",
       "      <td>0.0</td>\n",
       "      <td>1.0</td>\n",
       "    </tr>\n",
       "    <tr>\n",
       "      <th>305</th>\n",
       "      <td>1.0</td>\n",
       "      <td>-1.471846</td>\n",
       "      <td>-1.902998</td>\n",
       "      <td>0.477491</td>\n",
       "      <td>2.024536</td>\n",
       "      <td>1.0</td>\n",
       "      <td>0.0</td>\n",
       "      <td>1.0</td>\n",
       "    </tr>\n",
       "    <tr>\n",
       "      <th>676</th>\n",
       "      <td>1.0</td>\n",
       "      <td>0.919308</td>\n",
       "      <td>-0.311928</td>\n",
       "      <td>-0.583130</td>\n",
       "      <td>-0.497672</td>\n",
       "      <td>1.0</td>\n",
       "      <td>0.0</td>\n",
       "      <td>1.0</td>\n",
       "    </tr>\n",
       "    <tr>\n",
       "      <th>419</th>\n",
       "      <td>1.0</td>\n",
       "      <td>0.919308</td>\n",
       "      <td>-1.290321</td>\n",
       "      <td>-0.583130</td>\n",
       "      <td>-0.214692</td>\n",
       "      <td>0.0</td>\n",
       "      <td>0.0</td>\n",
       "      <td>1.0</td>\n",
       "    </tr>\n",
       "    <tr>\n",
       "      <th>439</th>\n",
       "      <td>1.0</td>\n",
       "      <td>-0.276269</td>\n",
       "      <td>0.126661</td>\n",
       "      <td>-0.583130</td>\n",
       "      <td>-0.454610</td>\n",
       "      <td>1.0</td>\n",
       "      <td>0.0</td>\n",
       "      <td>1.0</td>\n",
       "    </tr>\n",
       "    <tr>\n",
       "      <th>...</th>\n",
       "      <td>...</td>\n",
       "      <td>...</td>\n",
       "      <td>...</td>\n",
       "      <td>...</td>\n",
       "      <td>...</td>\n",
       "      <td>...</td>\n",
       "      <td>...</td>\n",
       "      <td>...</td>\n",
       "    </tr>\n",
       "    <tr>\n",
       "      <th>744</th>\n",
       "      <td>1.0</td>\n",
       "      <td>0.919308</td>\n",
       "      <td>0.126661</td>\n",
       "      <td>-0.583130</td>\n",
       "      <td>-0.499869</td>\n",
       "      <td>1.0</td>\n",
       "      <td>0.0</td>\n",
       "      <td>1.0</td>\n",
       "    </tr>\n",
       "    <tr>\n",
       "      <th>127</th>\n",
       "      <td>1.0</td>\n",
       "      <td>0.919308</td>\n",
       "      <td>-0.345666</td>\n",
       "      <td>-0.583130</td>\n",
       "      <td>-0.513636</td>\n",
       "      <td>1.0</td>\n",
       "      <td>0.0</td>\n",
       "      <td>1.0</td>\n",
       "    </tr>\n",
       "    <tr>\n",
       "      <th>134</th>\n",
       "      <td>1.0</td>\n",
       "      <td>-0.276269</td>\n",
       "      <td>-0.278191</td>\n",
       "      <td>-0.583130</td>\n",
       "      <td>-0.410669</td>\n",
       "      <td>1.0</td>\n",
       "      <td>0.0</td>\n",
       "      <td>1.0</td>\n",
       "    </tr>\n",
       "    <tr>\n",
       "      <th>417</th>\n",
       "      <td>1.0</td>\n",
       "      <td>-0.276269</td>\n",
       "      <td>-0.750518</td>\n",
       "      <td>-0.583130</td>\n",
       "      <td>-0.410669</td>\n",
       "      <td>0.0</td>\n",
       "      <td>0.0</td>\n",
       "      <td>1.0</td>\n",
       "    </tr>\n",
       "    <tr>\n",
       "      <th>350</th>\n",
       "      <td>1.0</td>\n",
       "      <td>0.919308</td>\n",
       "      <td>-0.413141</td>\n",
       "      <td>-0.583130</td>\n",
       "      <td>-0.477019</td>\n",
       "      <td>1.0</td>\n",
       "      <td>0.0</td>\n",
       "      <td>1.0</td>\n",
       "    </tr>\n",
       "  </tbody>\n",
       "</table>\n",
       "<p>502 rows × 8 columns</p>\n",
       "</div>"
      ],
      "text/plain": [
       "     const    Pclass       Age     SibSp      Fare  Sex_male  Embarked_Q  \\\n",
       "585    1.0 -1.471846 -0.750518 -0.583130  0.760796       0.0         0.0   \n",
       "305    1.0 -1.471846 -1.902998  0.477491  2.024536       1.0         0.0   \n",
       "676    1.0  0.919308 -0.311928 -0.583130 -0.497672       1.0         0.0   \n",
       "419    1.0  0.919308 -1.290321 -0.583130 -0.214692       0.0         0.0   \n",
       "439    1.0 -0.276269  0.126661 -0.583130 -0.454610       1.0         0.0   \n",
       "..     ...       ...       ...       ...       ...       ...         ...   \n",
       "744    1.0  0.919308  0.126661 -0.583130 -0.499869       1.0         0.0   \n",
       "127    1.0  0.919308 -0.345666 -0.583130 -0.513636       1.0         0.0   \n",
       "134    1.0 -0.276269 -0.278191 -0.583130 -0.410669       1.0         0.0   \n",
       "417    1.0 -0.276269 -0.750518 -0.583130 -0.410669       0.0         0.0   \n",
       "350    1.0  0.919308 -0.413141 -0.583130 -0.477019       1.0         0.0   \n",
       "\n",
       "     Embarked_S  \n",
       "585         1.0  \n",
       "305         1.0  \n",
       "676         1.0  \n",
       "419         1.0  \n",
       "439         1.0  \n",
       "..          ...  \n",
       "744         1.0  \n",
       "127         1.0  \n",
       "134         1.0  \n",
       "417         1.0  \n",
       "350         1.0  \n",
       "\n",
       "[502 rows x 8 columns]"
      ]
     },
     "execution_count": 94,
     "metadata": {},
     "output_type": "execute_result"
    }
   ],
   "source": [
    "X_train_sms = sm.add_constant(X_train_sca)\n",
    "X_test_sms = sm.add_constant(X_test_sca)\n",
    "X_train_sms"
   ]
  },
  {
   "cell_type": "code",
   "execution_count": 95,
   "metadata": {
    "ExecuteTime": {
     "end_time": "2020-09-01T23:01:47.556840Z",
     "start_time": "2020-09-01T23:01:47.529561Z"
    },
    "scrolled": false
   },
   "outputs": [
    {
     "name": "stdout",
     "output_type": "stream",
     "text": [
      "Optimization terminated successfully.\n",
      "         Current function value: 0.461427\n",
      "         Iterations 6\n"
     ]
    },
    {
     "data": {
      "text/html": [
       "<table class=\"simpletable\">\n",
       "<caption>Logit Regression Results</caption>\n",
       "<tr>\n",
       "  <th>Dep. Variable:</th>       <td>Survived</td>     <th>  No. Observations:  </th>  <td>   502</td>  \n",
       "</tr>\n",
       "<tr>\n",
       "  <th>Model:</th>                 <td>Logit</td>      <th>  Df Residuals:      </th>  <td>   494</td>  \n",
       "</tr>\n",
       "<tr>\n",
       "  <th>Method:</th>                 <td>MLE</td>       <th>  Df Model:          </th>  <td>     7</td>  \n",
       "</tr>\n",
       "<tr>\n",
       "  <th>Date:</th>            <td>Tue, 01 Sep 2020</td> <th>  Pseudo R-squ.:     </th>  <td>0.3177</td>  \n",
       "</tr>\n",
       "<tr>\n",
       "  <th>Time:</th>                <td>19:01:47</td>     <th>  Log-Likelihood:    </th> <td> -231.64</td> \n",
       "</tr>\n",
       "<tr>\n",
       "  <th>converged:</th>             <td>True</td>       <th>  LL-Null:           </th> <td> -339.48</td> \n",
       "</tr>\n",
       "<tr>\n",
       "  <th>Covariance Type:</th>     <td>nonrobust</td>    <th>  LLR p-value:       </th> <td>5.418e-43</td>\n",
       "</tr>\n",
       "</table>\n",
       "<table class=\"simpletable\">\n",
       "<tr>\n",
       "       <td></td>         <th>coef</th>     <th>std err</th>      <th>z</th>      <th>P>|z|</th>  <th>[0.025</th>    <th>0.975]</th>  \n",
       "</tr>\n",
       "<tr>\n",
       "  <th>const</th>      <td>    1.3443</td> <td>    0.312</td> <td>    4.302</td> <td> 0.000</td> <td>    0.732</td> <td>    1.957</td>\n",
       "</tr>\n",
       "<tr>\n",
       "  <th>Pclass</th>     <td>   -0.9033</td> <td>    0.158</td> <td>   -5.716</td> <td> 0.000</td> <td>   -1.213</td> <td>   -0.594</td>\n",
       "</tr>\n",
       "<tr>\n",
       "  <th>Age</th>        <td>   -0.5996</td> <td>    0.139</td> <td>   -4.303</td> <td> 0.000</td> <td>   -0.873</td> <td>   -0.326</td>\n",
       "</tr>\n",
       "<tr>\n",
       "  <th>SibSp</th>      <td>   -0.2482</td> <td>    0.130</td> <td>   -1.905</td> <td> 0.057</td> <td>   -0.503</td> <td>    0.007</td>\n",
       "</tr>\n",
       "<tr>\n",
       "  <th>Fare</th>       <td>    0.0908</td> <td>    0.145</td> <td>    0.627</td> <td> 0.531</td> <td>   -0.193</td> <td>    0.375</td>\n",
       "</tr>\n",
       "<tr>\n",
       "  <th>Sex_male</th>   <td>   -2.5067</td> <td>    0.249</td> <td>  -10.066</td> <td> 0.000</td> <td>   -2.995</td> <td>   -2.019</td>\n",
       "</tr>\n",
       "<tr>\n",
       "  <th>Embarked_Q</th> <td>   -0.4787</td> <td>    0.747</td> <td>   -0.641</td> <td> 0.522</td> <td>   -1.943</td> <td>    0.986</td>\n",
       "</tr>\n",
       "<tr>\n",
       "  <th>Embarked_S</th> <td>   -0.2550</td> <td>    0.307</td> <td>   -0.830</td> <td> 0.407</td> <td>   -0.857</td> <td>    0.347</td>\n",
       "</tr>\n",
       "</table>"
      ],
      "text/plain": [
       "<class 'statsmodels.iolib.summary.Summary'>\n",
       "\"\"\"\n",
       "                           Logit Regression Results                           \n",
       "==============================================================================\n",
       "Dep. Variable:               Survived   No. Observations:                  502\n",
       "Model:                          Logit   Df Residuals:                      494\n",
       "Method:                           MLE   Df Model:                            7\n",
       "Date:                Tue, 01 Sep 2020   Pseudo R-squ.:                  0.3177\n",
       "Time:                        19:01:47   Log-Likelihood:                -231.64\n",
       "converged:                       True   LL-Null:                       -339.48\n",
       "Covariance Type:            nonrobust   LLR p-value:                 5.418e-43\n",
       "==============================================================================\n",
       "                 coef    std err          z      P>|z|      [0.025      0.975]\n",
       "------------------------------------------------------------------------------\n",
       "const          1.3443      0.312      4.302      0.000       0.732       1.957\n",
       "Pclass        -0.9033      0.158     -5.716      0.000      -1.213      -0.594\n",
       "Age           -0.5996      0.139     -4.303      0.000      -0.873      -0.326\n",
       "SibSp         -0.2482      0.130     -1.905      0.057      -0.503       0.007\n",
       "Fare           0.0908      0.145      0.627      0.531      -0.193       0.375\n",
       "Sex_male      -2.5067      0.249    -10.066      0.000      -2.995      -2.019\n",
       "Embarked_Q    -0.4787      0.747     -0.641      0.522      -1.943       0.986\n",
       "Embarked_S    -0.2550      0.307     -0.830      0.407      -0.857       0.347\n",
       "==============================================================================\n",
       "\"\"\""
      ]
     },
     "execution_count": 95,
     "metadata": {},
     "output_type": "execute_result"
    }
   ],
   "source": [
    "logit = sm.Logit(y_train,X_train_sms).fit()\n",
    "logit.summary()"
   ]
  },
  {
   "cell_type": "code",
   "execution_count": 96,
   "metadata": {
    "ExecuteTime": {
     "end_time": "2020-09-01T23:01:47.569379Z",
     "start_time": "2020-09-01T23:01:47.559177Z"
    }
   },
   "outputs": [
    {
     "data": {
      "text/plain": [
       "585    1.0\n",
       "305    1.0\n",
       "676    0.0\n",
       "419    1.0\n",
       "439    0.0\n",
       "dtype: float64"
      ]
     },
     "metadata": {},
     "output_type": "display_data"
    },
    {
     "data": {
      "text/plain": [
       "585    1\n",
       "305    1\n",
       "676    0\n",
       "419    0\n",
       "439    0\n",
       "Name: Survived, dtype: int64"
      ]
     },
     "metadata": {},
     "output_type": "display_data"
    }
   ],
   "source": [
    "from sklearn import metrics\n",
    "y_hat_train = logit.predict(X_train_sms).round()\n",
    "y_hat_test = logit.predict(X_test_sms).round()\n",
    "display(y_hat_train.head(),y_train.head())"
   ]
  },
  {
   "cell_type": "code",
   "execution_count": 155,
   "metadata": {
    "ExecuteTime": {
     "end_time": "2020-09-01T23:12:29.771449Z",
     "start_time": "2020-09-01T23:12:29.761797Z"
    },
    "code_folding": [
     0,
     5,
     28
    ]
   },
   "outputs": [],
   "source": [
    "def remake_df(array,df):\n",
    "    \"\"\"Returns the array as a df with the same columns and index as df\"\"\"\n",
    "    return pd.DataFrame(array, columns=df.columns, index=df.index)\n",
    "\n",
    "\n",
    "def plot_confusion_matrix(y_test,y_hat_test, normalize='true',\n",
    "                          classes=['Died','Survived'],cmap='Blues',\n",
    "                         style='seaborn-notebook'):\n",
    "    \"\"\"Plots Confusion Matrix from sklearn.\"\"\"\n",
    "    \n",
    "    cm = metrics.confusion_matrix(y_test,y_hat_test.round(),\n",
    "                                  normalize=normalize)\n",
    "    \n",
    "    with plt.style.context(style):\n",
    "        ax = sns.heatmap(cm,annot=True,square=True, center=0,cmap=cmap,\n",
    "                   xticklabels=classes,yticklabels=classes)\n",
    "        \n",
    "    if normalize==False:\n",
    "        title = \"Raw Confusion Matrix\"\n",
    "    else:\n",
    "        title = f\"Normalized Confusion Matrix\\n(by {normalize} classes)\"\n",
    "        \n",
    "    ax.set(ylabel='True Classes',xlabel='Predicted Classes',title=title)\n",
    "    fig = ax.get_figure()\n",
    "    \n",
    "    return fig,ax\n",
    "\n",
    "\n",
    "def evaluate_model(y_test,y_hat_test,classes=['Died','Survived'],\n",
    "                   normalize='true',cmap='Blues'):\n",
    "    \"\"\"Evaluates Classification models by displaying:\n",
    "    - Classification Report\n",
    "    - Normalized Confusion Matrix\"\"\"\n",
    "    dashes = '---'*20\n",
    "    print(dashes)\n",
    "    print(\"[i] CLASSIFICATION REPORT\")\n",
    "    print(dashes)\n",
    "    \n",
    "    print(metrics.classification_report(y_test,y_hat_test.round(),\n",
    "                                        target_names=classes))\n",
    "    print(dashes)\n",
    "    fig,ax = plot_confusion_matrix(y_test,y_hat_test)\n",
    "\n",
    "    \n",
    "def get_model_coeffs(X_df,model, statsmodels=True):\n",
    "        \n",
    "    if statsmodels == False:\n",
    "        coeffs_df = pd.DataFrame({'Coefficients':model.coef_[0]},index=X_df.columns)\n",
    "        coeffs_df.loc['const'] = model.intercept_\n",
    "        coeffs_df\n",
    "        # dict(zip(X_df.col\n",
    "#         coeffs_df = pd.DataFrame(coeffs,index=['Coefficents']).Tx\n",
    "\n",
    "    else:\n",
    "        coeffs_df = pd.DataFrame({\n",
    "            'Coefficents':model.params,\n",
    "            'p-values':model.pvalues.round(4)\n",
    "        })\n",
    "        \n",
    "    return coeffs_df"
   ]
  },
  {
   "cell_type": "code",
   "execution_count": 156,
   "metadata": {
    "ExecuteTime": {
     "end_time": "2020-09-01T23:12:30.504084Z",
     "start_time": "2020-09-01T23:12:30.285675Z"
    }
   },
   "outputs": [
    {
     "name": "stdout",
     "output_type": "stream",
     "text": [
      "Optimization terminated successfully.\n",
      "         Current function value: 0.461427\n",
      "         Iterations 6\n"
     ]
    },
    {
     "data": {
      "text/html": [
       "<table class=\"simpletable\">\n",
       "<caption>Logit Regression Results</caption>\n",
       "<tr>\n",
       "  <th>Dep. Variable:</th>       <td>Survived</td>     <th>  No. Observations:  </th>  <td>   502</td>  \n",
       "</tr>\n",
       "<tr>\n",
       "  <th>Model:</th>                 <td>Logit</td>      <th>  Df Residuals:      </th>  <td>   494</td>  \n",
       "</tr>\n",
       "<tr>\n",
       "  <th>Method:</th>                 <td>MLE</td>       <th>  Df Model:          </th>  <td>     7</td>  \n",
       "</tr>\n",
       "<tr>\n",
       "  <th>Date:</th>            <td>Tue, 01 Sep 2020</td> <th>  Pseudo R-squ.:     </th>  <td>0.3177</td>  \n",
       "</tr>\n",
       "<tr>\n",
       "  <th>Time:</th>                <td>19:12:30</td>     <th>  Log-Likelihood:    </th> <td> -231.64</td> \n",
       "</tr>\n",
       "<tr>\n",
       "  <th>converged:</th>             <td>True</td>       <th>  LL-Null:           </th> <td> -339.48</td> \n",
       "</tr>\n",
       "<tr>\n",
       "  <th>Covariance Type:</th>     <td>nonrobust</td>    <th>  LLR p-value:       </th> <td>5.418e-43</td>\n",
       "</tr>\n",
       "</table>\n",
       "<table class=\"simpletable\">\n",
       "<tr>\n",
       "       <td></td>         <th>coef</th>     <th>std err</th>      <th>z</th>      <th>P>|z|</th>  <th>[0.025</th>    <th>0.975]</th>  \n",
       "</tr>\n",
       "<tr>\n",
       "  <th>const</th>      <td>    1.3443</td> <td>    0.312</td> <td>    4.302</td> <td> 0.000</td> <td>    0.732</td> <td>    1.957</td>\n",
       "</tr>\n",
       "<tr>\n",
       "  <th>Pclass</th>     <td>   -0.9033</td> <td>    0.158</td> <td>   -5.716</td> <td> 0.000</td> <td>   -1.213</td> <td>   -0.594</td>\n",
       "</tr>\n",
       "<tr>\n",
       "  <th>Age</th>        <td>   -0.5996</td> <td>    0.139</td> <td>   -4.303</td> <td> 0.000</td> <td>   -0.873</td> <td>   -0.326</td>\n",
       "</tr>\n",
       "<tr>\n",
       "  <th>SibSp</th>      <td>   -0.2482</td> <td>    0.130</td> <td>   -1.905</td> <td> 0.057</td> <td>   -0.503</td> <td>    0.007</td>\n",
       "</tr>\n",
       "<tr>\n",
       "  <th>Fare</th>       <td>    0.0908</td> <td>    0.145</td> <td>    0.627</td> <td> 0.531</td> <td>   -0.193</td> <td>    0.375</td>\n",
       "</tr>\n",
       "<tr>\n",
       "  <th>Sex_male</th>   <td>   -2.5067</td> <td>    0.249</td> <td>  -10.066</td> <td> 0.000</td> <td>   -2.995</td> <td>   -2.019</td>\n",
       "</tr>\n",
       "<tr>\n",
       "  <th>Embarked_Q</th> <td>   -0.4787</td> <td>    0.747</td> <td>   -0.641</td> <td> 0.522</td> <td>   -1.943</td> <td>    0.986</td>\n",
       "</tr>\n",
       "<tr>\n",
       "  <th>Embarked_S</th> <td>   -0.2550</td> <td>    0.307</td> <td>   -0.830</td> <td> 0.407</td> <td>   -0.857</td> <td>    0.347</td>\n",
       "</tr>\n",
       "</table>"
      ],
      "text/plain": [
       "<class 'statsmodels.iolib.summary.Summary'>\n",
       "\"\"\"\n",
       "                           Logit Regression Results                           \n",
       "==============================================================================\n",
       "Dep. Variable:               Survived   No. Observations:                  502\n",
       "Model:                          Logit   Df Residuals:                      494\n",
       "Method:                           MLE   Df Model:                            7\n",
       "Date:                Tue, 01 Sep 2020   Pseudo R-squ.:                  0.3177\n",
       "Time:                        19:12:30   Log-Likelihood:                -231.64\n",
       "converged:                       True   LL-Null:                       -339.48\n",
       "Covariance Type:            nonrobust   LLR p-value:                 5.418e-43\n",
       "==============================================================================\n",
       "                 coef    std err          z      P>|z|      [0.025      0.975]\n",
       "------------------------------------------------------------------------------\n",
       "const          1.3443      0.312      4.302      0.000       0.732       1.957\n",
       "Pclass        -0.9033      0.158     -5.716      0.000      -1.213      -0.594\n",
       "Age           -0.5996      0.139     -4.303      0.000      -0.873      -0.326\n",
       "SibSp         -0.2482      0.130     -1.905      0.057      -0.503       0.007\n",
       "Fare           0.0908      0.145      0.627      0.531      -0.193       0.375\n",
       "Sex_male      -2.5067      0.249    -10.066      0.000      -2.995      -2.019\n",
       "Embarked_Q    -0.4787      0.747     -0.641      0.522      -1.943       0.986\n",
       "Embarked_S    -0.2550      0.307     -0.830      0.407      -0.857       0.347\n",
       "==============================================================================\n",
       "\"\"\""
      ]
     },
     "metadata": {},
     "output_type": "display_data"
    },
    {
     "name": "stdout",
     "output_type": "stream",
     "text": [
      "------------------------------------------------------------\n",
      "[i] CLASSIFICATION REPORT\n",
      "------------------------------------------------------------\n",
      "              precision    recall  f1-score   support\n",
      "\n",
      "        Died       0.87      0.84      0.85       112\n",
      "    Survived       0.73      0.77      0.75        62\n",
      "\n",
      "    accuracy                           0.82       174\n",
      "   macro avg       0.80      0.81      0.80       174\n",
      "weighted avg       0.82      0.82      0.82       174\n",
      "\n",
      "------------------------------------------------------------\n"
     ]
    },
    {
     "data": {
      "image/png": "[encoded data removed]",
      "text/plain": [
       "<Figure size 576x396 with 2 Axes>"
      ]
     },
     "metadata": {
      "needs_background": "light"
     },
     "output_type": "display_data"
    }
   ],
   "source": [
    "## Putting it all Together\n",
    "logit = sm.Logit(y_train,X_train_sms).fit()\n",
    "display(logit.summary())\n",
    "\n",
    "y_hat_train = logit.predict(X_train_sms).round()\n",
    "y_hat_test = logit.predict(X_test_sms).round()\n",
    "evaluate_model(y_test,y_hat_test)"
   ]
  },
  {
   "cell_type": "code",
   "execution_count": 157,
   "metadata": {
    "ExecuteTime": {
     "end_time": "2020-09-01T23:12:31.127010Z",
     "start_time": "2020-09-01T23:12:30.907650Z"
    },
    "scrolled": false
   },
   "outputs": [
    {
     "name": "stdout",
     "output_type": "stream",
     "text": [
      "Optimization terminated successfully.\n",
      "         Current function value: 0.461427\n",
      "         Iterations 6\n"
     ]
    },
    {
     "data": {
      "text/html": [
       "<table class=\"simpletable\">\n",
       "<caption>Logit Regression Results</caption>\n",
       "<tr>\n",
       "  <th>Dep. Variable:</th>       <td>Survived</td>     <th>  No. Observations:  </th>  <td>   502</td>  \n",
       "</tr>\n",
       "<tr>\n",
       "  <th>Model:</th>                 <td>Logit</td>      <th>  Df Residuals:      </th>  <td>   494</td>  \n",
       "</tr>\n",
       "<tr>\n",
       "  <th>Method:</th>                 <td>MLE</td>       <th>  Df Model:          </th>  <td>     7</td>  \n",
       "</tr>\n",
       "<tr>\n",
       "  <th>Date:</th>            <td>Tue, 01 Sep 2020</td> <th>  Pseudo R-squ.:     </th>  <td>0.3177</td>  \n",
       "</tr>\n",
       "<tr>\n",
       "  <th>Time:</th>                <td>19:12:30</td>     <th>  Log-Likelihood:    </th> <td> -231.64</td> \n",
       "</tr>\n",
       "<tr>\n",
       "  <th>converged:</th>             <td>True</td>       <th>  LL-Null:           </th> <td> -339.48</td> \n",
       "</tr>\n",
       "<tr>\n",
       "  <th>Covariance Type:</th>     <td>nonrobust</td>    <th>  LLR p-value:       </th> <td>5.418e-43</td>\n",
       "</tr>\n",
       "</table>\n",
       "<table class=\"simpletable\">\n",
       "<tr>\n",
       "       <td></td>         <th>coef</th>     <th>std err</th>      <th>z</th>      <th>P>|z|</th>  <th>[0.025</th>    <th>0.975]</th>  \n",
       "</tr>\n",
       "<tr>\n",
       "  <th>const</th>      <td>    1.3443</td> <td>    0.312</td> <td>    4.302</td> <td> 0.000</td> <td>    0.732</td> <td>    1.957</td>\n",
       "</tr>\n",
       "<tr>\n",
       "  <th>Pclass</th>     <td>   -0.9033</td> <td>    0.158</td> <td>   -5.716</td> <td> 0.000</td> <td>   -1.213</td> <td>   -0.594</td>\n",
       "</tr>\n",
       "<tr>\n",
       "  <th>Age</th>        <td>   -0.5996</td> <td>    0.139</td> <td>   -4.303</td> <td> 0.000</td> <td>   -0.873</td> <td>   -0.326</td>\n",
       "</tr>\n",
       "<tr>\n",
       "  <th>SibSp</th>      <td>   -0.2482</td> <td>    0.130</td> <td>   -1.905</td> <td> 0.057</td> <td>   -0.503</td> <td>    0.007</td>\n",
       "</tr>\n",
       "<tr>\n",
       "  <th>Fare</th>       <td>    0.0908</td> <td>    0.145</td> <td>    0.627</td> <td> 0.531</td> <td>   -0.193</td> <td>    0.375</td>\n",
       "</tr>\n",
       "<tr>\n",
       "  <th>Sex_male</th>   <td>   -2.5067</td> <td>    0.249</td> <td>  -10.066</td> <td> 0.000</td> <td>   -2.995</td> <td>   -2.019</td>\n",
       "</tr>\n",
       "<tr>\n",
       "  <th>Embarked_Q</th> <td>   -0.4787</td> <td>    0.747</td> <td>   -0.641</td> <td> 0.522</td> <td>   -1.943</td> <td>    0.986</td>\n",
       "</tr>\n",
       "<tr>\n",
       "  <th>Embarked_S</th> <td>   -0.2550</td> <td>    0.307</td> <td>   -0.830</td> <td> 0.407</td> <td>   -0.857</td> <td>    0.347</td>\n",
       "</tr>\n",
       "</table>"
      ],
      "text/plain": [
       "<class 'statsmodels.iolib.summary.Summary'>\n",
       "\"\"\"\n",
       "                           Logit Regression Results                           \n",
       "==============================================================================\n",
       "Dep. Variable:               Survived   No. Observations:                  502\n",
       "Model:                          Logit   Df Residuals:                      494\n",
       "Method:                           MLE   Df Model:                            7\n",
       "Date:                Tue, 01 Sep 2020   Pseudo R-squ.:                  0.3177\n",
       "Time:                        19:12:30   Log-Likelihood:                -231.64\n",
       "converged:                       True   LL-Null:                       -339.48\n",
       "Covariance Type:            nonrobust   LLR p-value:                 5.418e-43\n",
       "==============================================================================\n",
       "                 coef    std err          z      P>|z|      [0.025      0.975]\n",
       "------------------------------------------------------------------------------\n",
       "const          1.3443      0.312      4.302      0.000       0.732       1.957\n",
       "Pclass        -0.9033      0.158     -5.716      0.000      -1.213      -0.594\n",
       "Age           -0.5996      0.139     -4.303      0.000      -0.873      -0.326\n",
       "SibSp         -0.2482      0.130     -1.905      0.057      -0.503       0.007\n",
       "Fare           0.0908      0.145      0.627      0.531      -0.193       0.375\n",
       "Sex_male      -2.5067      0.249    -10.066      0.000      -2.995      -2.019\n",
       "Embarked_Q    -0.4787      0.747     -0.641      0.522      -1.943       0.986\n",
       "Embarked_S    -0.2550      0.307     -0.830      0.407      -0.857       0.347\n",
       "==============================================================================\n",
       "\"\"\""
      ]
     },
     "metadata": {},
     "output_type": "display_data"
    },
    {
     "name": "stdout",
     "output_type": "stream",
     "text": [
      "------------------------------------------------------------\n",
      "[i] CLASSIFICATION REPORT\n",
      "------------------------------------------------------------\n",
      "              precision    recall  f1-score   support\n",
      "\n",
      "        Died       0.87      0.84      0.85       112\n",
      "    Survived       0.73      0.77      0.75        62\n",
      "\n",
      "    accuracy                           0.82       174\n",
      "   macro avg       0.80      0.81      0.80       174\n",
      "weighted avg       0.82      0.82      0.82       174\n",
      "\n",
      "------------------------------------------------------------\n"
     ]
    },
    {
     "data": {
      "image/png": "[encoded data removed]",
      "text/plain": [
       "<Figure size 576x396 with 2 Axes>"
      ]
     },
     "metadata": {
      "needs_background": "light"
     },
     "output_type": "display_data"
    }
   ],
   "source": [
    "## Putting it all Together\n",
    "logit = sm.Logit(y_train,X_train_sms).fit()\n",
    "display(logit.summary())\n",
    "\n",
    "y_hat_train = logit.predict(X_train_sms).round()\n",
    "y_hat_test = logit.predict(X_test_sms).round()\n",
    "evaluate_model(y_test,y_hat_test)"
   ]
  },
  {
   "cell_type": "code",
   "execution_count": 158,
   "metadata": {
    "ExecuteTime": {
     "end_time": "2020-09-01T23:12:31.326145Z",
     "start_time": "2020-09-01T23:12:31.324070Z"
    }
   },
   "outputs": [],
   "source": [
    "# logit.params"
   ]
  },
  {
   "cell_type": "code",
   "execution_count": 159,
   "metadata": {
    "ExecuteTime": {
     "end_time": "2020-09-01T23:12:32.229561Z",
     "start_time": "2020-09-01T23:12:32.221804Z"
    }
   },
   "outputs": [
    {
     "data": {
      "text/html": [
       "<div>\n",
       "<style scoped>\n",
       "    .dataframe tbody tr th:only-of-type {\n",
       "        vertical-align: middle;\n",
       "    }\n",
       "\n",
       "    .dataframe tbody tr th {\n",
       "        vertical-align: top;\n",
       "    }\n",
       "\n",
       "    .dataframe thead th {\n",
       "        text-align: right;\n",
       "    }\n",
       "</style>\n",
       "<table border=\"1\" class=\"dataframe\">\n",
       "  <thead>\n",
       "    <tr style=\"text-align: right;\">\n",
       "      <th></th>\n",
       "      <th>Coefficents</th>\n",
       "      <th>p-values</th>\n",
       "    </tr>\n",
       "  </thead>\n",
       "  <tbody>\n",
       "    <tr>\n",
       "      <th>const</th>\n",
       "      <td>1.344306</td>\n",
       "      <td>0.0000</td>\n",
       "    </tr>\n",
       "    <tr>\n",
       "      <th>Pclass</th>\n",
       "      <td>-0.903256</td>\n",
       "      <td>0.0000</td>\n",
       "    </tr>\n",
       "    <tr>\n",
       "      <th>Age</th>\n",
       "      <td>-0.599559</td>\n",
       "      <td>0.0000</td>\n",
       "    </tr>\n",
       "    <tr>\n",
       "      <th>SibSp</th>\n",
       "      <td>-0.248162</td>\n",
       "      <td>0.0567</td>\n",
       "    </tr>\n",
       "    <tr>\n",
       "      <th>Fare</th>\n",
       "      <td>0.090846</td>\n",
       "      <td>0.5309</td>\n",
       "    </tr>\n",
       "    <tr>\n",
       "      <th>Sex_male</th>\n",
       "      <td>-2.506688</td>\n",
       "      <td>0.0000</td>\n",
       "    </tr>\n",
       "    <tr>\n",
       "      <th>Embarked_Q</th>\n",
       "      <td>-0.478747</td>\n",
       "      <td>0.5218</td>\n",
       "    </tr>\n",
       "    <tr>\n",
       "      <th>Embarked_S</th>\n",
       "      <td>-0.254972</td>\n",
       "      <td>0.4068</td>\n",
       "    </tr>\n",
       "  </tbody>\n",
       "</table>\n",
       "</div>"
      ],
      "text/plain": [
       "            Coefficents  p-values\n",
       "const          1.344306    0.0000\n",
       "Pclass        -0.903256    0.0000\n",
       "Age           -0.599559    0.0000\n",
       "SibSp         -0.248162    0.0567\n",
       "Fare           0.090846    0.5309\n",
       "Sex_male      -2.506688    0.0000\n",
       "Embarked_Q    -0.478747    0.5218\n",
       "Embarked_S    -0.254972    0.4068"
      ]
     },
     "execution_count": 159,
     "metadata": {},
     "output_type": "execute_result"
    }
   ],
   "source": [
    "get_model_coeffs(X_train_sms,logit)"
   ]
  },
  {
   "cell_type": "markdown",
   "metadata": {},
   "source": [
    "# New 09/02"
   ]
  },
  {
   "cell_type": "markdown",
   "metadata": {},
   "source": [
    "\n",
    "## Fitting a Logistic Regression with `sklearn`"
   ]
  },
  {
   "cell_type": "code",
   "execution_count": 160,
   "metadata": {
    "ExecuteTime": {
     "end_time": "2020-09-01T23:12:34.568799Z",
     "start_time": "2020-09-01T23:12:34.566143Z"
    }
   },
   "outputs": [],
   "source": [
    "from sklearn.linear_model import LogisticRegression#LinearRegression"
   ]
  },
  {
   "cell_type": "code",
   "execution_count": 166,
   "metadata": {
    "ExecuteTime": {
     "end_time": "2020-09-01T23:13:27.454235Z",
     "start_time": "2020-09-01T23:13:27.251383Z"
    }
   },
   "outputs": [
    {
     "name": "stdout",
     "output_type": "stream",
     "text": [
      "------------------------------------------------------------\n",
      "[i] CLASSIFICATION REPORT\n",
      "------------------------------------------------------------\n",
      "              precision    recall  f1-score   support\n",
      "\n",
      "        Died       0.87      0.85      0.86       112\n",
      "    Survived       0.74      0.77      0.76        62\n",
      "\n",
      "    accuracy                           0.82       174\n",
      "   macro avg       0.81      0.81      0.81       174\n",
      "weighted avg       0.82      0.82      0.82       174\n",
      "\n",
      "------------------------------------------------------------\n"
     ]
    },
    {
     "data": {
      "image/png": "[encoded data removed]",
      "text/plain": [
       "<Figure size 576x396 with 2 Axes>"
      ]
     },
     "metadata": {
      "needs_background": "light"
     },
     "output_type": "display_data"
    }
   ],
   "source": [
    "## Fit a logistic regression model with defaults\n",
    "log_reg = LogisticRegression()#C=1e5, solver='liblinear')\n",
    "log_reg.fit(X_train_sca, y_train)\n",
    "\n",
    "\n",
    "y_hat_train = log_reg.predict(X_train_sca)\n",
    "y_hat_test = log_reg.predict(X_test_sca)\n",
    "\n",
    "\n",
    "evaluate_model(y_test,y_hat_test)"
   ]
  },
  {
   "cell_type": "code",
   "execution_count": 167,
   "metadata": {
    "ExecuteTime": {
     "end_time": "2020-09-01T23:13:27.696926Z",
     "start_time": "2020-09-01T23:13:27.688962Z"
    }
   },
   "outputs": [
    {
     "data": {
      "text/html": [
       "<div>\n",
       "<style scoped>\n",
       "    .dataframe tbody tr th:only-of-type {\n",
       "        vertical-align: middle;\n",
       "    }\n",
       "\n",
       "    .dataframe tbody tr th {\n",
       "        vertical-align: top;\n",
       "    }\n",
       "\n",
       "    .dataframe thead th {\n",
       "        text-align: right;\n",
       "    }\n",
       "</style>\n",
       "<table border=\"1\" class=\"dataframe\">\n",
       "  <thead>\n",
       "    <tr style=\"text-align: right;\">\n",
       "      <th></th>\n",
       "      <th>Coefficents</th>\n",
       "      <th>p-values</th>\n",
       "    </tr>\n",
       "  </thead>\n",
       "  <tbody>\n",
       "    <tr>\n",
       "      <th>const</th>\n",
       "      <td>1.344306</td>\n",
       "      <td>0.0000</td>\n",
       "    </tr>\n",
       "    <tr>\n",
       "      <th>Pclass</th>\n",
       "      <td>-0.903256</td>\n",
       "      <td>0.0000</td>\n",
       "    </tr>\n",
       "    <tr>\n",
       "      <th>Age</th>\n",
       "      <td>-0.599559</td>\n",
       "      <td>0.0000</td>\n",
       "    </tr>\n",
       "    <tr>\n",
       "      <th>SibSp</th>\n",
       "      <td>-0.248162</td>\n",
       "      <td>0.0567</td>\n",
       "    </tr>\n",
       "    <tr>\n",
       "      <th>Fare</th>\n",
       "      <td>0.090846</td>\n",
       "      <td>0.5309</td>\n",
       "    </tr>\n",
       "    <tr>\n",
       "      <th>Sex_male</th>\n",
       "      <td>-2.506688</td>\n",
       "      <td>0.0000</td>\n",
       "    </tr>\n",
       "    <tr>\n",
       "      <th>Embarked_Q</th>\n",
       "      <td>-0.478747</td>\n",
       "      <td>0.5218</td>\n",
       "    </tr>\n",
       "    <tr>\n",
       "      <th>Embarked_S</th>\n",
       "      <td>-0.254972</td>\n",
       "      <td>0.4068</td>\n",
       "    </tr>\n",
       "  </tbody>\n",
       "</table>\n",
       "</div>"
      ],
      "text/plain": [
       "            Coefficents  p-values\n",
       "const          1.344306    0.0000\n",
       "Pclass        -0.903256    0.0000\n",
       "Age           -0.599559    0.0000\n",
       "SibSp         -0.248162    0.0567\n",
       "Fare           0.090846    0.5309\n",
       "Sex_male      -2.506688    0.0000\n",
       "Embarked_Q    -0.478747    0.5218\n",
       "Embarked_S    -0.254972    0.4068"
      ]
     },
     "execution_count": 167,
     "metadata": {},
     "output_type": "execute_result"
    }
   ],
   "source": [
    "get_model_coeffs(X_train_sms,logit)"
   ]
  },
  {
   "cell_type": "code",
   "execution_count": 168,
   "metadata": {
    "ExecuteTime": {
     "end_time": "2020-09-01T23:13:30.400782Z",
     "start_time": "2020-09-01T23:13:30.191880Z"
    }
   },
   "outputs": [
    {
     "name": "stdout",
     "output_type": "stream",
     "text": [
      "------------------------------------------------------------\n",
      "[i] CLASSIFICATION REPORT\n",
      "------------------------------------------------------------\n",
      "              precision    recall  f1-score   support\n",
      "\n",
      "        Died       0.87      0.84      0.85       112\n",
      "    Survived       0.73      0.77      0.75        62\n",
      "\n",
      "    accuracy                           0.82       174\n",
      "   macro avg       0.80      0.81      0.80       174\n",
      "weighted avg       0.82      0.82      0.82       174\n",
      "\n",
      "------------------------------------------------------------\n"
     ]
    },
    {
     "data": {
      "image/png": "[encoded data removed]",
      "text/plain": [
       "<Figure size 576x396 with 2 Axes>"
      ]
     },
     "metadata": {
      "needs_background": "light"
     },
     "output_type": "display_data"
    }
   ],
   "source": [
    "## Fit a logistic regression model with defaults\n",
    "log_reg = LogisticRegression(C=1e5, solver='liblinear')\n",
    "log_reg.fit(X_train_sca, y_train)\n",
    "\n",
    "\n",
    "y_hat_train = log_reg.predict(X_train_sca)\n",
    "y_hat_test = log_reg.predict(X_test_sca)\n",
    "\n",
    "\n",
    "evaluate_model(y_test,y_hat_test)"
   ]
  },
  {
   "cell_type": "code",
   "execution_count": 169,
   "metadata": {
    "ExecuteTime": {
     "end_time": "2020-09-01T23:13:31.193945Z",
     "start_time": "2020-09-01T23:13:31.185600Z"
    }
   },
   "outputs": [
    {
     "data": {
      "text/html": [
       "<div>\n",
       "<style scoped>\n",
       "    .dataframe tbody tr th:only-of-type {\n",
       "        vertical-align: middle;\n",
       "    }\n",
       "\n",
       "    .dataframe tbody tr th {\n",
       "        vertical-align: top;\n",
       "    }\n",
       "\n",
       "    .dataframe thead th {\n",
       "        text-align: right;\n",
       "    }\n",
       "</style>\n",
       "<table border=\"1\" class=\"dataframe\">\n",
       "  <thead>\n",
       "    <tr style=\"text-align: right;\">\n",
       "      <th></th>\n",
       "      <th>Coefficients</th>\n",
       "    </tr>\n",
       "  </thead>\n",
       "  <tbody>\n",
       "    <tr>\n",
       "      <th>Pclass</th>\n",
       "      <td>-0.903283</td>\n",
       "    </tr>\n",
       "    <tr>\n",
       "      <th>Age</th>\n",
       "      <td>-0.599573</td>\n",
       "    </tr>\n",
       "    <tr>\n",
       "      <th>SibSp</th>\n",
       "      <td>-0.248164</td>\n",
       "    </tr>\n",
       "    <tr>\n",
       "      <th>Fare</th>\n",
       "      <td>0.090844</td>\n",
       "    </tr>\n",
       "    <tr>\n",
       "      <th>Sex_male</th>\n",
       "      <td>-2.506672</td>\n",
       "    </tr>\n",
       "    <tr>\n",
       "      <th>Embarked_Q</th>\n",
       "      <td>-0.478398</td>\n",
       "    </tr>\n",
       "    <tr>\n",
       "      <th>Embarked_S</th>\n",
       "      <td>-0.254891</td>\n",
       "    </tr>\n",
       "    <tr>\n",
       "      <th>const</th>\n",
       "      <td>1.344218</td>\n",
       "    </tr>\n",
       "  </tbody>\n",
       "</table>\n",
       "</div>"
      ],
      "text/plain": [
       "            Coefficients\n",
       "Pclass         -0.903283\n",
       "Age            -0.599573\n",
       "SibSp          -0.248164\n",
       "Fare            0.090844\n",
       "Sex_male       -2.506672\n",
       "Embarked_Q     -0.478398\n",
       "Embarked_S     -0.254891\n",
       "const           1.344218"
      ]
     },
     "execution_count": 169,
     "metadata": {},
     "output_type": "execute_result"
    }
   ],
   "source": [
    "get_model_coeffs(X_train_sca, log_reg,statsmodels=False)"
   ]
  },
  {
   "cell_type": "code",
   "execution_count": null,
   "metadata": {
    "ExecuteTime": {
     "end_time": "2020-03-26T23:20:09.060663Z",
     "start_time": "2020-03-26T23:20:09.058405Z"
    }
   },
   "outputs": [],
   "source": [
    "# logreg = LogisticRegression(fit_intercept=False, C=1e12, solver='liblinear',\n",
    "#                            max_iter=1000)"
   ]
  },
  {
   "cell_type": "markdown",
   "metadata": {},
   "source": [
    "# ROC Curve - Receiver Operating Characteristic Curve"
   ]
  },
  {
   "cell_type": "markdown",
   "metadata": {},
   "source": [
    "## Evaluating Our Model"
   ]
  },
  {
   "cell_type": "markdown",
   "metadata": {},
   "source": [
    "### Graph Interpretation"
   ]
  },
  {
   "cell_type": "markdown",
   "metadata": {},
   "source": [
    "False Positive Rate vs True Positive Rate → for each threshold\n",
    "\n",
    "<img src=\"https://raw.githubusercontent.com/jirvingphd/fsds_100719_cohort_notes/master/images/roc_comparison.png\" width=70%>"
   ]
  },
  {
   "cell_type": "markdown",
   "metadata": {},
   "source": [
    "### Looking at Just the Logistic Regression"
   ]
  },
  {
   "cell_type": "markdown",
   "metadata": {},
   "source": [
    "Imagine we have a logistic regression (classifier):\n",
    " - Turn a continuous feature to binary prediction"
   ]
  },
  {
   "cell_type": "markdown",
   "metadata": {},
   "source": [
    "[**What's the threshold?**](http://app.ziteboard.com)"
   ]
  },
  {
   "cell_type": "markdown",
   "metadata": {},
   "source": [
    "### What Distributions Would Work Well in Classifying?"
   ]
  },
  {
   "cell_type": "markdown",
   "metadata": {},
   "source": [
    "<img src=\"https://raw.githubusercontent.com/jirvingphd/fsds_100719_cohort_notes/master/images/roc_crossover.png\">"
   ]
  },
  {
   "cell_type": "markdown",
   "metadata": {},
   "source": [
    "### Defining the Threshold"
   ]
  },
  {
   "cell_type": "markdown",
   "metadata": {},
   "source": [
    "![](https://raw.githubusercontent.com/jirvingphd/fsds_100719_cohort_notes/master/images/auc_rates.png)"
   ]
  },
  {
   "cell_type": "code",
   "execution_count": 170,
   "metadata": {
    "ExecuteTime": {
     "end_time": "2020-09-01T23:14:28.263293Z",
     "start_time": "2020-09-01T23:14:28.261215Z"
    },
    "scrolled": false
   },
   "outputs": [],
   "source": [
    "# # Interactive ROC curve\n",
    "# from IPython.display import IFrame\n",
    "# IFrame('http://www.navan.name/roc/', width=900, height=600)"
   ]
  },
  {
   "cell_type": "code",
   "execution_count": 171,
   "metadata": {
    "ExecuteTime": {
     "end_time": "2020-09-01T23:14:47.002012Z",
     "start_time": "2020-09-01T23:14:46.998319Z"
    }
   },
   "outputs": [
    {
     "data": {
      "text/plain": [
       "LogisticRegression(C=100000.0, solver='liblinear')"
      ]
     },
     "execution_count": 171,
     "metadata": {},
     "output_type": "execute_result"
    }
   ],
   "source": [
    "log_reg.decision_function"
   ]
  },
  {
   "cell_type": "code",
   "execution_count": 172,
   "metadata": {
    "ExecuteTime": {
     "end_time": "2020-09-01T23:15:09.641169Z",
     "start_time": "2020-09-01T23:15:09.633379Z"
    }
   },
   "outputs": [
    {
     "data": {
      "text/plain": [
       "((174,), (174, 2))"
      ]
     },
     "execution_count": 172,
     "metadata": {},
     "output_type": "execute_result"
    }
   ],
   "source": [
    "from sklearn.metrics import roc_curve, auc,plot_precision_recall_curve,plot_roc_curve\n",
    "\n",
    "# Scikit-learn's built in roc_curve method returns the fpr, tpr, and thresholds\n",
    "# for various decision boundaries given the case member probabilites\n",
    "y_score = log_reg.decision_function(X_test_sca)\n",
    "y_score_prob = log_reg.predict_proba(X_test_sca)\n",
    "\n",
    "y_score.shape, y_score_prob.shape"
   ]
  },
  {
   "cell_type": "code",
   "execution_count": 173,
   "metadata": {
    "ExecuteTime": {
     "end_time": "2020-09-01T23:15:11.113216Z",
     "start_time": "2020-09-01T23:15:11.105635Z"
    }
   },
   "outputs": [
    {
     "data": {
      "text/plain": [
       "array([[0.69268088, 0.30731912],\n",
       "       [0.87448761, 0.12551239],\n",
       "       [0.78200729, 0.21799271],\n",
       "       [0.26685824, 0.73314176],\n",
       "       [0.22771018, 0.77228982],\n",
       "       [0.94634171, 0.05365829],\n",
       "       [0.85009153, 0.14990847],\n",
       "       [0.62569688, 0.37430312],\n",
       "       [0.79217518, 0.20782482],\n",
       "       [0.86533434, 0.13466566],\n",
       "       [0.68668222, 0.31331778],\n",
       "       [0.23393029, 0.76606971],\n",
       "       [0.90593242, 0.09406758],\n",
       "       [0.90834837, 0.09165163],\n",
       "       [0.19610875, 0.80389125],\n",
       "       [0.20913128, 0.79086872],\n",
       "       [0.85897041, 0.14102959],\n",
       "       [0.87931066, 0.12068934],\n",
       "       [0.05927229, 0.94072771],\n",
       "       [0.54191899, 0.45808101],\n",
       "       [0.85563195, 0.14436805],\n",
       "       [0.92567849, 0.07432151],\n",
       "       [0.9245892 , 0.0754108 ],\n",
       "       [0.9663736 , 0.0336264 ],\n",
       "       [0.94125221, 0.05874779],\n",
       "       [0.89095155, 0.10904845],\n",
       "       [0.06305006, 0.93694994],\n",
       "       [0.47835974, 0.52164026],\n",
       "       [0.9148656 , 0.0851344 ],\n",
       "       [0.52341874, 0.47658126],\n",
       "       [0.90592279, 0.09407721],\n",
       "       [0.93918991, 0.06081009],\n",
       "       [0.65810231, 0.34189769],\n",
       "       [0.8329241 , 0.1670759 ],\n",
       "       [0.35487585, 0.64512415],\n",
       "       [0.94844887, 0.05155113],\n",
       "       [0.88310277, 0.11689723],\n",
       "       [0.87463576, 0.12536424],\n",
       "       [0.07623696, 0.92376304],\n",
       "       [0.55793495, 0.44206505],\n",
       "       [0.34385573, 0.65614427],\n",
       "       [0.95097936, 0.04902064],\n",
       "       [0.04940816, 0.95059184],\n",
       "       [0.38529412, 0.61470588],\n",
       "       [0.73889499, 0.26110501],\n",
       "       [0.88310277, 0.11689723],\n",
       "       [0.18808652, 0.81191348],\n",
       "       [0.97861996, 0.02138004],\n",
       "       [0.89503815, 0.10496185],\n",
       "       [0.8552387 , 0.1447613 ],\n",
       "       [0.94225767, 0.05774233],\n",
       "       [0.05241111, 0.94758889],\n",
       "       [0.05872495, 0.94127505],\n",
       "       [0.9375942 , 0.0624058 ],\n",
       "       [0.35904851, 0.64095149],\n",
       "       [0.79599823, 0.20400177],\n",
       "       [0.90594587, 0.09405413],\n",
       "       [0.66467672, 0.33532328],\n",
       "       [0.62607448, 0.37392552],\n",
       "       [0.60855784, 0.39144216],\n",
       "       [0.22023705, 0.77976295],\n",
       "       [0.83410731, 0.16589269],\n",
       "       [0.87450513, 0.12549487],\n",
       "       [0.46088413, 0.53911587],\n",
       "       [0.86639589, 0.13360411],\n",
       "       [0.09021912, 0.90978088],\n",
       "       [0.05307811, 0.94692189],\n",
       "       [0.3431131 , 0.6568869 ],\n",
       "       [0.87900491, 0.12099509],\n",
       "       [0.84119933, 0.15880067],\n",
       "       [0.46237361, 0.53762639],\n",
       "       [0.82211128, 0.17788872],\n",
       "       [0.48944995, 0.51055005],\n",
       "       [0.87922591, 0.12077409],\n",
       "       [0.90766235, 0.09233765],\n",
       "       [0.18290544, 0.81709456],\n",
       "       [0.08762131, 0.91237869],\n",
       "       [0.8950794 , 0.1049206 ],\n",
       "       [0.75700591, 0.24299409],\n",
       "       [0.82135891, 0.17864109],\n",
       "       [0.90921853, 0.09078147],\n",
       "       [0.86873131, 0.13126869],\n",
       "       [0.90243883, 0.09756117],\n",
       "       [0.86054426, 0.13945574],\n",
       "       [0.42202161, 0.57797839],\n",
       "       [0.58480981, 0.41519019],\n",
       "       [0.84013992, 0.15986008],\n",
       "       [0.3018567 , 0.6981433 ],\n",
       "       [0.22282879, 0.77717121],\n",
       "       [0.43090664, 0.56909336],\n",
       "       [0.86067355, 0.13932645],\n",
       "       [0.92739444, 0.07260556],\n",
       "       [0.95412613, 0.04587387],\n",
       "       [0.81759739, 0.18240261],\n",
       "       [0.44277492, 0.55722508],\n",
       "       [0.6480322 , 0.3519678 ],\n",
       "       [0.3582792 , 0.6417208 ],\n",
       "       [0.65168255, 0.34831745],\n",
       "       [0.14114824, 0.85885176],\n",
       "       [0.909107  , 0.090893  ],\n",
       "       [0.72012554, 0.27987446],\n",
       "       [0.77510224, 0.22489776],\n",
       "       [0.13997382, 0.86002618],\n",
       "       [0.19827244, 0.80172756],\n",
       "       [0.70122523, 0.29877477],\n",
       "       [0.04401285, 0.95598715],\n",
       "       [0.89120016, 0.10879984],\n",
       "       [0.8788612 , 0.1211388 ],\n",
       "       [0.86083088, 0.13916912],\n",
       "       [0.77793952, 0.22206048],\n",
       "       [0.91429602, 0.08570398],\n",
       "       [0.90592676, 0.09407324],\n",
       "       [0.24300054, 0.75699946],\n",
       "       [0.06790824, 0.93209176],\n",
       "       [0.36310858, 0.63689142],\n",
       "       [0.67321878, 0.32678122],\n",
       "       [0.92744126, 0.07255874],\n",
       "       [0.84913979, 0.15086021],\n",
       "       [0.90933434, 0.09066566],\n",
       "       [0.94215645, 0.05784355],\n",
       "       [0.20727633, 0.79272367],\n",
       "       [0.83442743, 0.16557257],\n",
       "       [0.39462134, 0.60537866],\n",
       "       [0.77017478, 0.22982522],\n",
       "       [0.11014338, 0.88985662],\n",
       "       [0.89877853, 0.10122147],\n",
       "       [0.09525817, 0.90474183],\n",
       "       [0.84844065, 0.15155935],\n",
       "       [0.08608139, 0.91391861],\n",
       "       [0.78619683, 0.21380317],\n",
       "       [0.22287866, 0.77712134],\n",
       "       [0.12644804, 0.87355196],\n",
       "       [0.14532339, 0.85467661],\n",
       "       [0.49912992, 0.50087008],\n",
       "       [0.89391435, 0.10608565],\n",
       "       [0.93012013, 0.06987987],\n",
       "       [0.18754749, 0.81245251],\n",
       "       [0.75023562, 0.24976438],\n",
       "       [0.8605388 , 0.1394612 ],\n",
       "       [0.47479497, 0.52520503],\n",
       "       [0.55749887, 0.44250113],\n",
       "       [0.5374487 , 0.4625513 ],\n",
       "       [0.35389666, 0.64610334],\n",
       "       [0.47017858, 0.52982142],\n",
       "       [0.05920187, 0.94079813],\n",
       "       [0.39074982, 0.60925018],\n",
       "       [0.7160262 , 0.2839738 ],\n",
       "       [0.06592512, 0.93407488],\n",
       "       [0.8492085 , 0.1507915 ],\n",
       "       [0.44166244, 0.55833756],\n",
       "       [0.3633662 , 0.6366338 ],\n",
       "       [0.70963161, 0.29036839],\n",
       "       [0.78396138, 0.21603862],\n",
       "       [0.0328044 , 0.9671956 ],\n",
       "       [0.38903247, 0.61096753],\n",
       "       [0.87699624, 0.12300376],\n",
       "       [0.55904707, 0.44095293],\n",
       "       [0.46670471, 0.53329529],\n",
       "       [0.20148915, 0.79851085],\n",
       "       [0.90060402, 0.09939598],\n",
       "       [0.64982233, 0.35017767],\n",
       "       [0.83416989, 0.16583011],\n",
       "       [0.74257834, 0.25742166],\n",
       "       [0.95407748, 0.04592252],\n",
       "       [0.20292292, 0.79707708],\n",
       "       [0.84536331, 0.15463669],\n",
       "       [0.85055385, 0.14944615],\n",
       "       [0.66153179, 0.33846821],\n",
       "       [0.26771818, 0.73228182],\n",
       "       [0.83980994, 0.16019006],\n",
       "       [0.36193809, 0.63806191],\n",
       "       [0.85052255, 0.14947745],\n",
       "       [0.17826129, 0.82173871],\n",
       "       [0.20917891, 0.79082109]])"
      ]
     },
     "execution_count": 173,
     "metadata": {},
     "output_type": "execute_result"
    }
   ],
   "source": [
    "y_score_prob"
   ]
  },
  {
   "cell_type": "code",
   "execution_count": 174,
   "metadata": {
    "ExecuteTime": {
     "end_time": "2020-09-01T23:15:38.186188Z",
     "start_time": "2020-09-01T23:15:38.022119Z"
    }
   },
   "outputs": [
    {
     "data": {
      "text/plain": [
       "<sklearn.metrics._plot.roc_curve.RocCurveDisplay at 0x7f8885eb5898>"
      ]
     },
     "execution_count": 174,
     "metadata": {},
     "output_type": "execute_result"
    },
    {
     "data": {
      "image/png": "[encoded data removed]",
      "text/plain": [
       "<Figure size 432x288 with 1 Axes>"
      ]
     },
     "metadata": {
      "needs_background": "light"
     },
     "output_type": "display_data"
    }
   ],
   "source": [
    "plot_roc_curve(log_reg,X_test_sca,y_test)"
   ]
  },
  {
   "cell_type": "code",
   "execution_count": 177,
   "metadata": {
    "ExecuteTime": {
     "end_time": "2020-09-01T23:18:15.751534Z",
     "start_time": "2020-09-01T23:18:15.747272Z"
    },
    "scrolled": false
   },
   "outputs": [
    {
     "name": "stdout",
     "output_type": "stream",
     "text": [
      "ROC-area-under-the-curve= 0.877\n"
     ]
    }
   ],
   "source": [
    "# y_score = regr.decision_function(X_test)\n",
    "fpr,tpr,thresh = roc_curve(y_test,y_score)#[:,1])\n",
    "\n",
    "print(f\"ROC-area-under-the-curve= {round(auc(fpr,tpr),3)}\")"
   ]
  },
  {
   "cell_type": "code",
   "execution_count": 178,
   "metadata": {
    "ExecuteTime": {
     "end_time": "2020-09-01T23:18:20.373791Z",
     "start_time": "2020-09-01T23:18:20.195107Z"
    }
   },
   "outputs": [
    {
     "data": {
      "text/plain": [
       "[Text(0, 0.5, 'True Positive Rate'),\n",
       " Text(0.5, 0, 'False Positive Rate'),\n",
       " Text(0.5, 1.0, 'Receiver operating characteristic (ROC) Curve')]"
      ]
     },
     "execution_count": 178,
     "metadata": {},
     "output_type": "execute_result"
    },
    {
     "data": {
      "image/png": "[encoded data removed]",
      "text/plain": [
       "<Figure size 432x288 with 1 Axes>"
      ]
     },
     "metadata": {
      "needs_background": "light"
     },
     "output_type": "display_data"
    }
   ],
   "source": [
    "fig,ax=plt.subplots()\n",
    "ax.plot(fpr,tpr,color='darkorange',label='ROC Curve')\n",
    "ax.plot([0,1],[0,1],ls=':')\n",
    "ax.legend()\n",
    "ax.grid()\n",
    "ax.set(ylabel='True Positive Rate',xlabel='False Positive Rate',\n",
    "      title='Receiver operating characteristic (ROC) Curve')\n"
   ]
  },
  {
   "cell_type": "code",
   "execution_count": 183,
   "metadata": {
    "ExecuteTime": {
     "end_time": "2020-09-01T23:19:44.519699Z",
     "start_time": "2020-09-01T23:19:44.347007Z"
    }
   },
   "outputs": [
    {
     "name": "stdout",
     "output_type": "stream",
     "text": [
      "ROC-area-under-the-curve= 0.877\n"
     ]
    },
    {
     "data": {
      "image/png": "[encoded data removed]",
      "text/plain": [
       "<Figure size 432x288 with 1 Axes>"
      ]
     },
     "metadata": {
      "needs_background": "light"
     },
     "output_type": "display_data"
    }
   ],
   "source": [
    "def my_plot_roc_curve(y_test,y_score_prob):\n",
    "    # y_score = regr.decision_function(X_test)\n",
    "    fpr,tpr,thresh = roc_curve(y_test,y_score_prob[:,1])\n",
    "    print(f\"ROC-area-under-the-curve= {round(auc(fpr,tpr),3)}\")\n",
    "\n",
    "    fig,ax=plt.subplots()\n",
    "    ax.plot(fpr,tpr,color='darkorange',label=f'ROC Curve AUC: {round(auc(fpr,tpr),3)}')\n",
    "    ax.plot([0,1],[0,1],ls=':')\n",
    "    ax.legend()\n",
    "    ax.grid()\n",
    "    ax.set(ylabel='True Positive Rate',xlabel='False Positive Rate',\n",
    "          title='Receiver operating characteristic (ROC) Curve')\n",
    "\n",
    "    \n",
    "my_plot_roc_curve(y_test,y_score_prob)"
   ]
  },
  {
   "cell_type": "code",
   "execution_count": null,
   "metadata": {},
   "outputs": [],
   "source": [
    "my_plot_roc_curve(y_test,y_score_prob)"
   ]
  },
  {
   "cell_type": "markdown",
   "metadata": {
    "ExecuteTime": {
     "end_time": "2020-03-25T01:45:43.484160Z",
     "start_time": "2020-03-25T01:45:43.482058Z"
    }
   },
   "source": [
    "# Class Imbalance Problems"
   ]
  },
  {
   "cell_type": "markdown",
   "metadata": {
    "ExecuteTime": {
     "end_time": "2020-03-25T01:49:34.535713Z",
     "start_time": "2020-03-25T01:49:34.533627Z"
    }
   },
   "source": [
    "## The Problem"
   ]
  },
  {
   "cell_type": "markdown",
   "metadata": {
    "ExecuteTime": {
     "end_time": "2020-03-25T01:23:40.070054Z",
     "start_time": "2020-03-25T01:23:39.265821Z"
    }
   },
   "source": [
    "## When metrics can be misleading...\n",
    "- i.e. accuracy\n"
   ]
  },
  {
   "cell_type": "code",
   "execution_count": 185,
   "metadata": {
    "ExecuteTime": {
     "end_time": "2020-09-01T23:20:27.890849Z",
     "start_time": "2020-09-01T23:20:27.695380Z"
    }
   },
   "outputs": [
    {
     "name": "stdout",
     "output_type": "stream",
     "text": [
      "              precision    recall  f1-score   support\n",
      "\n",
      "           0       0.87      0.85      0.86       112\n",
      "           1       0.74      0.77      0.76        62\n",
      "\n",
      "    accuracy                           0.82       174\n",
      "   macro avg       0.81      0.81      0.81       174\n",
      "weighted avg       0.82      0.82      0.82       174\n",
      "\n"
     ]
    },
    {
     "data": {
      "text/plain": [
       "<sklearn.metrics._plot.confusion_matrix.ConfusionMatrixDisplay at 0x7f8885c70898>"
      ]
     },
     "execution_count": 185,
     "metadata": {},
     "output_type": "execute_result"
    },
    {
     "data": {
      "image/png": "[encoded data removed]",
      "text/plain": [
       "<Figure size 432x288 with 2 Axes>"
      ]
     },
     "metadata": {
      "needs_background": "light"
     },
     "output_type": "display_data"
    }
   ],
   "source": [
    "# from sklearn\n",
    "regr = LogisticRegression()#C=1e5, solver='liblinear')\n",
    "regr.fit(X_train_sca, y_train)\n",
    "\n",
    "y_hat_test = regr.predict(X_test_sca)\n",
    "\n",
    "# cm = confusion_matrix(y_test,y_hat_test)\n",
    "# cm_norm = cm / cm.sum(axis=1)[:,np.newaxis]\n",
    "print(metrics.classification_report(y_test,y_hat_test))\n",
    "# plot_cm(cm_norm.round(3))\n",
    "metrics.plot_confusion_matrix(regr,X_test_sca,y_test,\n",
    "                     cmap='Blues',normalize='true')"
   ]
  },
  {
   "cell_type": "code",
   "execution_count": 186,
   "metadata": {
    "ExecuteTime": {
     "end_time": "2020-09-01T23:20:32.742361Z",
     "start_time": "2020-09-01T23:20:32.737292Z"
    }
   },
   "outputs": [
    {
     "data": {
      "text/plain": [
       "0    0.591633\n",
       "1    0.408367\n",
       "Name: Survived, dtype: float64"
      ]
     },
     "execution_count": 186,
     "metadata": {},
     "output_type": "execute_result"
    }
   ],
   "source": [
    "y_train.value_counts(normalize=True)"
   ]
  },
  {
   "cell_type": "code",
   "execution_count": 187,
   "metadata": {
    "ExecuteTime": {
     "end_time": "2020-09-01T23:20:33.139082Z",
     "start_time": "2020-09-01T23:20:33.133820Z"
    }
   },
   "outputs": [
    {
     "data": {
      "text/plain": [
       "0    0.643678\n",
       "1    0.356322\n",
       "Name: Survived, dtype: float64"
      ]
     },
     "execution_count": 187,
     "metadata": {},
     "output_type": "execute_result"
    }
   ],
   "source": [
    "y_test.value_counts(normalize=True)"
   ]
  },
  {
   "cell_type": "code",
   "execution_count": 190,
   "metadata": {
    "ExecuteTime": {
     "end_time": "2020-09-01T23:20:55.128393Z",
     "start_time": "2020-09-01T23:20:54.925672Z"
    }
   },
   "outputs": [
    {
     "name": "stdout",
     "output_type": "stream",
     "text": [
      "              precision    recall  f1-score   support\n",
      "\n",
      "           0       0.64      1.00      0.78       112\n",
      "           1       0.00      0.00      0.00        62\n",
      "\n",
      "    accuracy                           0.64       174\n",
      "   macro avg       0.32      0.50      0.39       174\n",
      "weighted avg       0.41      0.64      0.50       174\n",
      "\n"
     ]
    },
    {
     "name": "stderr",
     "output_type": "stream",
     "text": [
      "/opt/anaconda3/envs/learn-env/lib/python3.6/site-packages/sklearn/metrics/_classification.py:1221: UndefinedMetricWarning:\n",
      "\n",
      "Precision and F-score are ill-defined and being set to 0.0 in labels with no predicted samples. Use `zero_division` parameter to control this behavior.\n",
      "\n"
     ]
    },
    {
     "data": {
      "text/plain": [
       "(<Figure size 576x396 with 2 Axes>,\n",
       " <AxesSubplot:title={'center':'Normalized Confusion Matrix\\n(by true classes)'}, xlabel='Predicted Classes', ylabel='True Classes'>)"
      ]
     },
     "execution_count": 190,
     "metadata": {},
     "output_type": "execute_result"
    },
    {
     "data": {
      "image/png": "[encoded data removed]",
      "text/plain": [
       "<Figure size 576x396 with 2 Axes>"
      ]
     },
     "metadata": {
      "needs_background": "light"
     },
     "output_type": "display_data"
    }
   ],
   "source": [
    "## Let's guess  for every observation\n",
    "preds = np.zeros_like(y_test)\n",
    "print(metrics.classification_report(y_test,preds))\n",
    "plot_confusion_matrix(y_test,preds)"
   ]
  },
  {
   "cell_type": "code",
   "execution_count": null,
   "metadata": {
    "ExecuteTime": {
     "end_time": "2020-03-26T19:26:52.087657Z",
     "start_time": "2020-03-26T19:26:51.936433Z"
    },
    "scrolled": true
   },
   "outputs": [],
   "source": []
  },
  {
   "cell_type": "markdown",
   "metadata": {},
   "source": [
    "## The Possible Solutions"
   ]
  },
  {
   "cell_type": "markdown",
   "metadata": {},
   "source": [
    "- Using class_weights \n",
    "- Oversampling the minority class\n",
    "- Undersampling the majority class"
   ]
  },
  {
   "cell_type": "code",
   "execution_count": null,
   "metadata": {
    "ExecuteTime": {
     "end_time": "2020-03-27T00:00:41.542245Z",
     "start_time": "2020-03-27T00:00:41.269941Z"
    }
   },
   "outputs": [],
   "source": [
    "regr = LogisticRegression(C=1e5, solver='liblinear')\n",
    "regr.fit(X_train_sca, y_train)\n",
    "\n",
    "y_hat_test = regr.predict(X_test_sca)\n",
    "\n",
    "cm = confusion_matrix(y_test,y_hat_test)\n",
    "cm_norm = cm / cm.sum(axis=1)[:,np.newaxis]\n",
    "print(classification_report(y_test,y_hat_test))\n",
    "plot_cm(cm_norm.round(3))"
   ]
  },
  {
   "cell_type": "markdown",
   "metadata": {},
   "source": [
    "### Solution 1: `class_weight=\"balanced\"`\n"
   ]
  },
  {
   "cell_type": "code",
   "execution_count": null,
   "metadata": {
    "ExecuteTime": {
     "end_time": "2020-03-27T00:00:25.988159Z",
     "start_time": "2020-03-27T00:00:25.798354Z"
    }
   },
   "outputs": [],
   "source": [
    "regr = LogisticRegression(class_weight='balanced',C=1e5, solver='liblinear')\n",
    "regr.fit(X_train_sca, y_train)\n",
    "\n",
    "y_hat_test = regr.predict(X_test_sca)\n",
    "\n",
    "cm = confusion_matrix(y_test,y_hat_test)\n",
    "cm_norm = cm / cm.sum(axis=1)[:,np.newaxis]\n",
    "print(classification_report(y_test,y_hat_test))\n",
    "plot_cm(cm_norm.round(3))"
   ]
  },
  {
   "cell_type": "markdown",
   "metadata": {},
   "source": [
    "### Solution 2: Oversampling minority class with SMOTE"
   ]
  },
  {
   "cell_type": "code",
   "execution_count": null,
   "metadata": {
    "ExecuteTime": {
     "end_time": "2020-03-27T00:04:27.816241Z",
     "start_time": "2020-03-27T00:04:27.810369Z"
    }
   },
   "outputs": [],
   "source": [
    "y_train.value_counts()"
   ]
  },
  {
   "cell_type": "code",
   "execution_count": null,
   "metadata": {
    "ExecuteTime": {
     "end_time": "2020-03-27T00:05:04.480132Z",
     "start_time": "2020-03-27T00:05:02.956969Z"
    }
   },
   "outputs": [],
   "source": [
    "from imblearn.over_sampling import SMOTE\n",
    "smote = SMOTE()\n",
    "\n",
    "X_train_smote, y_train_smote = smote.fit_sample(X_train_sca,y_train)\n",
    "pd.Series(y_train_smote).value_counts()"
   ]
  },
  {
   "cell_type": "code",
   "execution_count": null,
   "metadata": {
    "ExecuteTime": {
     "end_time": "2020-03-27T00:05:04.714464Z",
     "start_time": "2020-03-27T00:05:04.483289Z"
    }
   },
   "outputs": [],
   "source": [
    "regr = LogisticRegression(class_weight='balanced',C=1e5, solver='liblinear')\n",
    "regr.fit(X_train_smote, y_train_smote)\n",
    "\n",
    "y_hat_test = regr.predict(X_test_sca)\n",
    "\n",
    "cm = confusion_matrix(y_test,y_hat_test)\n",
    "cm_norm = cm / cm.sum(axis=1)[:,np.newaxis]\n",
    "print(classification_report(y_test,y_hat_test))\n",
    "plot_cm(cm_norm.round(3))"
   ]
  },
  {
   "cell_type": "markdown",
   "metadata": {},
   "source": [
    "### Solution 3: Undersampling majority class"
   ]
  },
  {
   "cell_type": "code",
   "execution_count": null,
   "metadata": {
    "ExecuteTime": {
     "end_time": "2020-03-27T00:06:44.319666Z",
     "start_time": "2020-03-27T00:06:44.280157Z"
    }
   },
   "outputs": [],
   "source": [
    "display(X_train,y_train)\n",
    "df_balance = pd.concat([X_train, y_train],axis=1)\n",
    "df_balance"
   ]
  },
  {
   "cell_type": "code",
   "execution_count": null,
   "metadata": {
    "ExecuteTime": {
     "end_time": "2020-03-27T00:07:00.167085Z",
     "start_time": "2020-03-27T00:07:00.158986Z"
    }
   },
   "outputs": [],
   "source": [
    "n_samples = df_balance['Survived'].value_counts().min()\n",
    "n_samples"
   ]
  },
  {
   "cell_type": "code",
   "execution_count": null,
   "metadata": {
    "ExecuteTime": {
     "end_time": "2020-03-27T00:09:13.997828Z",
     "start_time": "2020-03-27T00:09:13.991255Z"
    }
   },
   "outputs": [],
   "source": [
    "df_balance.groupby('Survived').groups"
   ]
  },
  {
   "cell_type": "code",
   "execution_count": null,
   "metadata": {
    "ExecuteTime": {
     "end_time": "2020-03-27T00:13:37.926026Z",
     "start_time": "2020-03-27T00:13:37.900822Z"
    }
   },
   "outputs": [],
   "source": [
    "df_resample = pd.DataFrame()\n",
    "for grp,idx in df_balance.groupby('Survived').groups.items():\n",
    "    \n",
    "    resample = df_balance.loc[idx].sample(n=n_samples,random_state=123)\n",
    "    df_resample = pd.concat([df_resample,resample],axis=0)\n",
    "    \n",
    "display(df_resample.head(), df_resample[\"Survived\"].value_counts())\n",
    "\n"
   ]
  },
  {
   "cell_type": "code",
   "execution_count": null,
   "metadata": {
    "ExecuteTime": {
     "end_time": "2020-03-27T00:13:38.414211Z",
     "start_time": "2020-03-27T00:13:38.222823Z"
    }
   },
   "outputs": [],
   "source": [
    "X_train_under = df_resample.drop('Survived',axis=1).copy()\n",
    "y_train_under = df_resample['Survived'].copy()\n",
    "\n",
    "regr = LogisticRegression(C=1e5, solver='liblinear')\n",
    "regr.fit(X_train_under, y_train_under)\n",
    "\n",
    "y_hat_test = regr.predict(X_test_sca)\n",
    "\n",
    "cm = confusion_matrix(y_test,y_hat_test)\n",
    "cm_norm = cm / cm.sum(axis=1)[:,np.newaxis]\n",
    "print(classification_report(y_test,y_hat_test))\n",
    "plot_cm(cm_norm.round(3))"
   ]
  },
  {
   "cell_type": "markdown",
   "metadata": {},
   "source": [
    "# Sect 26: Topics to Discuss"
   ]
  },
  {
   "cell_type": "markdown",
   "metadata": {},
   "source": [
    "- Recommendation: do not get too stressed out about that this module. Its a lot of revisiting concepts that we've discussed before. \n",
    "    - Don't stress about the labs, look at the solutions and digest what they are doing.\n",
    "    \n",
    "- [Terms to remember](https://learn.co/tracks/module-3-data-science-career-2-1/machine-learning/section-26-in-depth-logistic-regression/mle-review)\n",
    "    - \"log-likelihood\"\n",
    "    - \"Maximum Likelihood Estimation\""
   ]
  },
  {
   "cell_type": "markdown",
   "metadata": {},
   "source": [
    "# Activity: Make an `evaluate_classification` function"
   ]
  },
  {
   "cell_type": "markdown",
   "metadata": {},
   "source": [
    "- Write a function called evaluate_classification\n",
    "- It should accept: \n",
    "    - y_true,\n",
    "    - y_pred\n",
    "    - \n",
    "- It should produce:\n",
    "    - Classification metrics printed\n",
    "    - Confusion Matrix displayed\n",
    "    - roc_auc curve displayed\n",
    "    \n",
    "    \n",
    "- Then revisit some of the questions we had from last class re: scaling, LogisticRegression parameters"
   ]
  },
  {
   "cell_type": "code",
   "execution_count": null,
   "metadata": {},
   "outputs": [],
   "source": [
    "\n",
    "def evaluate_classification(y_true, y_pred): \n",
    "    import sklearn.metrics as metrics\n",
    "     \n",
    "    ## Classification Report / Scores \n",
    "    \n",
    "    \n",
    "    ## Confusion Matrix \n",
    "    \n",
    "    \n",
    "    ## Roc Curve\n",
    "    \n",
    "    \n",
    "    ## LEVEL UP: Subplots\n",
    "    \n",
    "    \n",
    "\n",
    "    \n",
    "    "
   ]
  }
 ],
 "metadata": {
  "kernelspec": {
   "display_name": "learn-env",
   "language": "python",
   "name": "learn-env"
  },
  "language_info": {
   "codemirror_mode": {
    "name": "ipython",
    "version": 3
   },
   "file_extension": ".py",
   "mimetype": "text/x-python",
   "name": "python",
   "nbconvert_exporter": "python",
   "pygments_lexer": "ipython3",
   "version": "3.6.11"
  },
  "toc": {
   "base_numbering": 1,
   "nav_menu": {},
   "number_sections": true,
   "sideBar": true,
   "skip_h1_title": false,
   "title_cell": "Table of Contents",
   "title_sidebar": "Contents",
   "toc_cell": false,
   "toc_position": {
    "height": "calc(100% - 180px)",
    "left": "10px",
    "top": "150px",
    "width": "256px"
   },
   "toc_section_display": true,
   "toc_window_display": false
  },
  "varInspector": {
   "cols": {
    "lenName": 16,
    "lenType": 16,
    "lenVar": 40
   },
   "kernels_config": {
    "python": {
     "delete_cmd_postfix": "",
     "delete_cmd_prefix": "del ",
     "library": "var_list.py",
     "varRefreshCmd": "print(var_dic_list())"
    },
    "r": {
     "delete_cmd_postfix": ") ",
     "delete_cmd_prefix": "rm(",
     "library": "var_list.r",
     "varRefreshCmd": "cat(var_dic_list()) "
    }
   },
   "types_to_exclude": [
    "module",
    "function",
    "builtin_function_or_method",
    "instance",
    "_Feature"
   ],
   "window_display": false
  }
 },
 "nbformat": 4,
 "nbformat_minor": 2
}
