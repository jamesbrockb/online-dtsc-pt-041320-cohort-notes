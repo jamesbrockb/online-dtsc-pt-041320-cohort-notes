{
 "cells": [
  {
   "cell_type": "markdown",
   "metadata": {},
   "source": [
    "# Sect 24: Regularization"
   ]
  },
  {
   "cell_type": "markdown",
   "metadata": {},
   "source": [
    "- online-ds-pt-041320\n",
    "- 08/27/2020"
   ]
  },
  {
   "cell_type": "markdown",
   "metadata": {},
   "source": [
    "## Questions"
   ]
  },
  {
   "cell_type": "markdown",
   "metadata": {},
   "source": [
    "- What is the difference between fit_transform and transform in StandardScaler()?\n",
    "\n",
    "- What is happening exactly with “train_test_split”??\n",
    "\n",
    "- [Can we go over this lab? - Ridge and Lasso Regression](https://learn.co/tracks/module-3-data-science-career-2-1/machine-learning/section-24-feature-selection-ridge-and-lasso/ridge-and-lasso-regression-lab)\n",
    "\n",
    "\n",
    "- [Can we go over the feature selection methodology towards the end?](https://learn.co/tracks/module-3-data-science-career-2-1/machine-learning/section-24-feature-selection-ridge-and-lasso/feature-selection-methods)\n",
    "\n"
   ]
  },
  {
   "cell_type": "markdown",
   "metadata": {},
   "source": [
    "## Objectives"
   ]
  },
  {
   "cell_type": "markdown",
   "metadata": {},
   "source": [
    "**DISCUSSION:**\n",
    "- Discuss Regularization Techniques\n",
    "    - Ridge Regression (L2 normalization)\n",
    "    - Lasso Regression (L1 normalization)\n",
    "- AIC/BIC\n",
    "- Compare Feature Selection methods\n",
    "\n",
    "**APPLICATION:**\n",
    "- Practice turning repetitive code into flexible functions/loops\n"
   ]
  },
  {
   "cell_type": "markdown",
   "metadata": {},
   "source": [
    "# Regularization techniques"
   ]
  },
  {
   "cell_type": "markdown",
   "metadata": {},
   "source": [
    "We can \"shrink down\" prediction variables effects instead of deleting/zeroing them"
   ]
  },
  {
   "cell_type": "markdown",
   "metadata": {},
   "source": [
    "## Linear Regression Cost Function Previously Used (RSS)"
   ]
  },
  {
   "cell_type": "markdown",
   "metadata": {},
   "source": [
    "### Previously, we've used Residual Sum of Squares (RSS) as our cost function."
   ]
  },
  {
   "cell_type": "markdown",
   "metadata": {},
   "source": [
    "$$ \\large \\text{RSS}= \\sum_{i=1}^n(y_i - \\hat{y})^2  $$"
   ]
  },
  {
   "cell_type": "markdown",
   "metadata": {},
   "source": [
    "### When we substituted $mx+b$ for $\\hat{y}$ "
   ]
  },
  {
   "cell_type": "markdown",
   "metadata": {},
   "source": [
    "##### For a single predictor (X)\n",
    "$$ \\large \\text{cost_function}= \\sum_{i=1}^n(y_i - \\hat{y})^2 = \\sum_{i=1}^n(y_i - (mx_i + b))^2$$\n"
   ]
  },
  {
   "cell_type": "markdown",
   "metadata": {},
   "source": [
    "- #####  For multiple predictors, the equation becomes:\n",
    "$$ \\large \\text{cost_function}= \\sum_{i=1}^n(y_i - \\hat{y})^2 = \\sum_{i=1}^n(y_i - \\sum_{j=1}^k(m_jx_{ij} ) -b )^2$$\n",
    "- where $k$ is the number of predictors\n",
    "- and $j$ is each individual predictor."
   ]
  },
  {
   "cell_type": "markdown",
   "metadata": {},
   "source": [
    "# Penalized Estimation"
   ]
  },
  {
   "cell_type": "markdown",
   "metadata": {},
   "source": [
    "> ***The number of predictors in our models, the higher the chance of overfitting.***  \n",
    "\n",
    "> Now, **instead of completely \"deleting\"** certain predictors from a model ***(which is equal to setting coefficients equal to zero)*** we can **reduce the values of the coefficients** to make them less sensitive to noise in the data. \n",
    "\n",
    "> This is called **penalized estimation**."
   ]
  },
  {
   "cell_type": "markdown",
   "metadata": {},
   "source": [
    "## Ridge and Lasso regression"
   ]
  },
  {
   "cell_type": "markdown",
   "metadata": {},
   "source": [
    "> Lasso and Ridge are two commonly used so-called **regularization techniques**. (Regularization = when one tries to battle overfitting.)\n",
    "\n",
    "> Achieved by modifying the RSS cost/loss function that our regression model uses to determine the coefficients.\n",
    "\n",
    "\n",
    "- Advantages of Ridge/Lasso\n",
    "    - They reduce model complexity\n",
    "    - The may prevent from overfitting\n",
    "    - Some of them may perform variable selection at the same time (when coefficients are set to 0)\n",
    "    - They can be used to counter multicollinearity\n"
   ]
  },
  {
   "cell_type": "markdown",
   "metadata": {},
   "source": []
  },
  {
   "cell_type": "markdown",
   "metadata": {},
   "source": [
    "## Ridge Regression - L2 Norm Regularization"
   ]
  },
  {
   "cell_type": "markdown",
   "metadata": {},
   "source": [
    "- **Error term added to cost function** \n",
    "    - $\\large ...  +   \\lambda \\sum_{i=1}^n m_i^2$\n",
    "    - Notice that  $m_i^2$ is squared, hence \"L***2*** norm regularization\""
   ]
  },
  {
   "cell_type": "markdown",
   "metadata": {},
   "source": [
    "Define a penalty ***hyperparameter*** $\\lambda$ for extra terms (large $m$)"
   ]
  },
  {
   "cell_type": "markdown",
   "metadata": {},
   "source": [
    "<!-- $$ =\\sum_{i=1}^n(y_i - \\hat{y})^2= \\sum_{i=1}^n(y_i - \\sum_{j=1}^k(m_jx_{ij} + b))^2 + \\lambda \\sum_{i=1}^n m_i^2$$/-->\n",
    "\n",
    "$$\\large J_{\\text{ridge}}=\\sum_{i=1}^n(y_i - \\hat{y})^2 = \\sum_{i=1}^n(y_i - \\sum_{j=1}^k(m_jx_{ij})-b)^2 + \\lambda \\sum_{j=1}^p m_j^2$$\n",
    "\n",
    "- **By adding the penalty term $\\lambda$, ridge regression puts a constraint on the coefficients $m$.**\n",
    "- Therefore, large coefficients will penalize the optimization function. \n",
    "    - This shrinks the coefficients and helps to reduce model complexity and multicollinearity."
   ]
  },
  {
   "cell_type": "markdown",
   "metadata": {},
   "source": [
    "- With two predictors there is a penalty term m for each predictor.\n",
    "$$\\large J_\\text{ridge}= \\sum_{i=1}^n(y_i - \\hat{y})^2 = $$\n",
    "\n",
    "$$\\large  \\sum_{i=1}^n(y_i - ((m_1x_{1i})-b)^2 + \\lambda m_1^2 + (m_2x_{2i})-b)^2 + \\lambda m_2^2)$$"
   ]
  },
  {
   "cell_type": "markdown",
   "metadata": {},
   "source": [
    "### Uses"
   ]
  },
  {
   "cell_type": "markdown",
   "metadata": {},
   "source": [
    "> - Used mostly to prevent overfitting (but since includes all features it can be computationally expensive (for many variables))"
   ]
  },
  {
   "cell_type": "markdown",
   "metadata": {},
   "source": [
    "## Lasso Regression - L1 Norm Regularization\n",
    "\n",
    "\"Least Absolute Shrinkage and Selection Operator\""
   ]
  },
  {
   "cell_type": "markdown",
   "metadata": {},
   "source": [
    "- **Error term added to cost function** \n",
    "    - $ \\large ... + \\lambda \\sum_{j=1}^p \\mid m_j \\mid$\n",
    "    - Notice that  $m$ has no exponent (meaning its actually $m^1$, hence \"L***1*** norm regularization\"\n",
    "\n"
   ]
  },
  {
   "cell_type": "markdown",
   "metadata": {},
   "source": [
    "$$\\large J_\\text{lasso}= \\sum_{i=1}^n(y_i - \\hat{y})^2 = \\sum_{i=1}^n(y_i - \\sum_{j=1}^k(m_jx_{ij})-b)^2 + \\lambda \\sum_{j=1}^p \\mid m_j \\mid$$"
   ]
  },
  {
   "cell_type": "markdown",
   "metadata": {},
   "source": [
    "If you have two predictors the full equation would look like this (notice that there is a penalty term `m` for each predictor in the model - in this case, two): \n",
    "$$ \\text{cost_function_lasso}= \\sum_{i=1}^n(y_i - \\hat{y})^2 = $$\n",
    "\n",
    "$$\\sum_{i=1}^n(y_i - ((m_1x_{1i})-b)^2 + \\lambda \\mid m_1 \\mid) + ((m_2x_{2i})-b)^2 + \\lambda \\mid m_2 \\mid) $$"
   ]
  },
  {
   "cell_type": "markdown",
   "metadata": {},
   "source": [
    "### Uses"
   ]
  },
  {
   "cell_type": "markdown",
   "metadata": {},
   "source": [
    "> - Lasso also helps with over fitting \n",
    "- **Lasso shrinks the less important features' coefficients to zero**, removing them altogether. \n",
    "    - Therefore, Lasso regression can be used for **feature selection**"
   ]
  },
  {
   "cell_type": "markdown",
   "metadata": {},
   "source": [
    "### Using Regularization"
   ]
  },
  {
   "cell_type": "markdown",
   "metadata": {},
   "source": [
    "- ***Make sure to standardize the data before performing ridge or lasso regression***, otherwise features with large values/units will be unfairly penalized.\n",
    "- **Fit-transform the training data, only transform the test data**\n",
    "\n",
    "```python\n",
    "from sklearn.preprocessing import MinMaxScaler\n",
    "from sklearn.linear_model import Lasso, Ridge, LinearRegression\n",
    "```"
   ]
  },
  {
   "cell_type": "markdown",
   "metadata": {},
   "source": [
    "## Ridge & Lasson Regression Summary:"
   ]
  },
  {
   "cell_type": "markdown",
   "metadata": {},
   "source": [
    "In Ridge regression, the cost function is changed by adding a penalty term to the square of the magnitude of the coefficients.\n",
    "\n",
    "$$ \\text{cost_function_ridge}= \\sum_{i=1}^n(y_i - \\hat{y})^2 = \\sum_{i=1}^n(y_i - \\sum_{j=1}^k(m_jx_{ij})-b)^2 + \\lambda \\sum_{j=1}^p m_j^2$$\n",
    "\n",
    "Lasso regression is very similar to Ridge regression, except that the magnitude of the coefficients are not squared in the penalty term.\n",
    "\n",
    "$$ \\text{cost_function_lasso}= \\sum_{i=1}^n(y_i - \\hat{y})^2 = \\sum_{i=1}^n(y_i - \\sum_{j=1}^k(m_jx_{ij})-b)^2 + \\lambda \\sum_{j=1}^p \\mid m_j \\mid$$\n"
   ]
  },
  {
   "cell_type": "markdown",
   "metadata": {},
   "source": [
    "## Applying Ridge and Lasso Regression with Scikit-Learn"
   ]
  },
  {
   "cell_type": "code",
   "execution_count": 45,
   "metadata": {
    "ExecuteTime": {
     "end_time": "2020-08-27T23:07:06.454808Z",
     "start_time": "2020-08-27T23:07:06.452382Z"
    }
   },
   "outputs": [],
   "source": [
    "# !pip install -U fsds\n",
    "from fsds.imports import *\n",
    "import warnings\n",
    "# warnings.filterwarnings('ignore')\n",
    "\n",
    "# plt.style.use('seaborn-poster')"
   ]
  },
  {
   "cell_type": "code",
   "execution_count": 46,
   "metadata": {
    "ExecuteTime": {
     "end_time": "2020-08-27T23:07:06.962161Z",
     "start_time": "2020-08-27T23:07:06.480872Z"
    }
   },
   "outputs": [
    {
     "name": "stdout",
     "output_type": "stream",
     "text": [
      "<class 'pandas.core.frame.DataFrame'>\n",
      "Int64Index: 21597 entries, 7129300520 to 1523300157\n",
      "Data columns (total 19 columns):\n",
      " #   Column         Non-Null Count  Dtype  \n",
      "---  ------         --------------  -----  \n",
      " 0   price          21597 non-null  float64\n",
      " 1   bedrooms       21597 non-null  int64  \n",
      " 2   bathrooms      21597 non-null  float64\n",
      " 3   sqft_living    21597 non-null  int64  \n",
      " 4   sqft_lot       21597 non-null  int64  \n",
      " 5   floors         21597 non-null  float64\n",
      " 6   waterfront     19221 non-null  float64\n",
      " 7   view           21534 non-null  float64\n",
      " 8   condition      21597 non-null  int64  \n",
      " 9   grade          21597 non-null  int64  \n",
      " 10  sqft_above     21597 non-null  int64  \n",
      " 11  sqft_basement  21143 non-null  float64\n",
      " 12  yr_built       21597 non-null  int64  \n",
      " 13  yr_renovated   17755 non-null  float64\n",
      " 14  zipcode        21597 non-null  int64  \n",
      " 15  lat            21597 non-null  float64\n",
      " 16  long           21597 non-null  float64\n",
      " 17  sqft_living15  21597 non-null  int64  \n",
      " 18  sqft_lot15     21597 non-null  int64  \n",
      "dtypes: float64(9), int64(10)\n",
      "memory usage: 3.3 MB\n"
     ]
    },
    {
     "data": {
      "text/plain": [
       "None"
      ]
     },
     "metadata": {},
     "output_type": "display_data"
    },
    {
     "data": {
      "text/html": [
       "<div>\n",
       "<style scoped>\n",
       "    .dataframe tbody tr th:only-of-type {\n",
       "        vertical-align: middle;\n",
       "    }\n",
       "\n",
       "    .dataframe tbody tr th {\n",
       "        vertical-align: top;\n",
       "    }\n",
       "\n",
       "    .dataframe thead th {\n",
       "        text-align: right;\n",
       "    }\n",
       "</style>\n",
       "<table border=\"1\" class=\"dataframe\">\n",
       "  <thead>\n",
       "    <tr style=\"text-align: right;\">\n",
       "      <th></th>\n",
       "      <th>price</th>\n",
       "      <th>bedrooms</th>\n",
       "      <th>bathrooms</th>\n",
       "      <th>sqft_living</th>\n",
       "      <th>sqft_lot</th>\n",
       "      <th>floors</th>\n",
       "      <th>waterfront</th>\n",
       "      <th>view</th>\n",
       "      <th>condition</th>\n",
       "      <th>grade</th>\n",
       "      <th>sqft_above</th>\n",
       "      <th>sqft_basement</th>\n",
       "      <th>yr_built</th>\n",
       "      <th>yr_renovated</th>\n",
       "      <th>zipcode</th>\n",
       "      <th>lat</th>\n",
       "      <th>long</th>\n",
       "      <th>sqft_living15</th>\n",
       "      <th>sqft_lot15</th>\n",
       "    </tr>\n",
       "    <tr>\n",
       "      <th>id</th>\n",
       "      <th></th>\n",
       "      <th></th>\n",
       "      <th></th>\n",
       "      <th></th>\n",
       "      <th></th>\n",
       "      <th></th>\n",
       "      <th></th>\n",
       "      <th></th>\n",
       "      <th></th>\n",
       "      <th></th>\n",
       "      <th></th>\n",
       "      <th></th>\n",
       "      <th></th>\n",
       "      <th></th>\n",
       "      <th></th>\n",
       "      <th></th>\n",
       "      <th></th>\n",
       "      <th></th>\n",
       "      <th></th>\n",
       "    </tr>\n",
       "  </thead>\n",
       "  <tbody>\n",
       "    <tr>\n",
       "      <th>7129300520</th>\n",
       "      <td>221900.0</td>\n",
       "      <td>3</td>\n",
       "      <td>1.00</td>\n",
       "      <td>1180</td>\n",
       "      <td>5650</td>\n",
       "      <td>1.0</td>\n",
       "      <td>NaN</td>\n",
       "      <td>0.0</td>\n",
       "      <td>3</td>\n",
       "      <td>7</td>\n",
       "      <td>1180</td>\n",
       "      <td>0.0</td>\n",
       "      <td>1955</td>\n",
       "      <td>0.0</td>\n",
       "      <td>98178</td>\n",
       "      <td>47.5112</td>\n",
       "      <td>-122.257</td>\n",
       "      <td>1340</td>\n",
       "      <td>5650</td>\n",
       "    </tr>\n",
       "    <tr>\n",
       "      <th>6414100192</th>\n",
       "      <td>538000.0</td>\n",
       "      <td>3</td>\n",
       "      <td>2.25</td>\n",
       "      <td>2570</td>\n",
       "      <td>7242</td>\n",
       "      <td>2.0</td>\n",
       "      <td>0.0</td>\n",
       "      <td>0.0</td>\n",
       "      <td>3</td>\n",
       "      <td>7</td>\n",
       "      <td>2170</td>\n",
       "      <td>400.0</td>\n",
       "      <td>1951</td>\n",
       "      <td>1991.0</td>\n",
       "      <td>98125</td>\n",
       "      <td>47.7210</td>\n",
       "      <td>-122.319</td>\n",
       "      <td>1690</td>\n",
       "      <td>7639</td>\n",
       "    </tr>\n",
       "    <tr>\n",
       "      <th>5631500400</th>\n",
       "      <td>180000.0</td>\n",
       "      <td>2</td>\n",
       "      <td>1.00</td>\n",
       "      <td>770</td>\n",
       "      <td>10000</td>\n",
       "      <td>1.0</td>\n",
       "      <td>0.0</td>\n",
       "      <td>0.0</td>\n",
       "      <td>3</td>\n",
       "      <td>6</td>\n",
       "      <td>770</td>\n",
       "      <td>0.0</td>\n",
       "      <td>1933</td>\n",
       "      <td>NaN</td>\n",
       "      <td>98028</td>\n",
       "      <td>47.7379</td>\n",
       "      <td>-122.233</td>\n",
       "      <td>2720</td>\n",
       "      <td>8062</td>\n",
       "    </tr>\n",
       "    <tr>\n",
       "      <th>2487200875</th>\n",
       "      <td>604000.0</td>\n",
       "      <td>4</td>\n",
       "      <td>3.00</td>\n",
       "      <td>1960</td>\n",
       "      <td>5000</td>\n",
       "      <td>1.0</td>\n",
       "      <td>0.0</td>\n",
       "      <td>0.0</td>\n",
       "      <td>5</td>\n",
       "      <td>7</td>\n",
       "      <td>1050</td>\n",
       "      <td>910.0</td>\n",
       "      <td>1965</td>\n",
       "      <td>0.0</td>\n",
       "      <td>98136</td>\n",
       "      <td>47.5208</td>\n",
       "      <td>-122.393</td>\n",
       "      <td>1360</td>\n",
       "      <td>5000</td>\n",
       "    </tr>\n",
       "    <tr>\n",
       "      <th>1954400510</th>\n",
       "      <td>510000.0</td>\n",
       "      <td>3</td>\n",
       "      <td>2.00</td>\n",
       "      <td>1680</td>\n",
       "      <td>8080</td>\n",
       "      <td>1.0</td>\n",
       "      <td>0.0</td>\n",
       "      <td>0.0</td>\n",
       "      <td>3</td>\n",
       "      <td>8</td>\n",
       "      <td>1680</td>\n",
       "      <td>0.0</td>\n",
       "      <td>1987</td>\n",
       "      <td>0.0</td>\n",
       "      <td>98074</td>\n",
       "      <td>47.6168</td>\n",
       "      <td>-122.045</td>\n",
       "      <td>1800</td>\n",
       "      <td>7503</td>\n",
       "    </tr>\n",
       "  </tbody>\n",
       "</table>\n",
       "</div>"
      ],
      "text/plain": [
       "               price  bedrooms  bathrooms  sqft_living  sqft_lot  floors  \\\n",
       "id                                                                         \n",
       "7129300520  221900.0         3       1.00         1180      5650     1.0   \n",
       "6414100192  538000.0         3       2.25         2570      7242     2.0   \n",
       "5631500400  180000.0         2       1.00          770     10000     1.0   \n",
       "2487200875  604000.0         4       3.00         1960      5000     1.0   \n",
       "1954400510  510000.0         3       2.00         1680      8080     1.0   \n",
       "\n",
       "            waterfront  view  condition  grade  sqft_above  sqft_basement  \\\n",
       "id                                                                          \n",
       "7129300520         NaN   0.0          3      7        1180            0.0   \n",
       "6414100192         0.0   0.0          3      7        2170          400.0   \n",
       "5631500400         0.0   0.0          3      6         770            0.0   \n",
       "2487200875         0.0   0.0          5      7        1050          910.0   \n",
       "1954400510         0.0   0.0          3      8        1680            0.0   \n",
       "\n",
       "            yr_built  yr_renovated  zipcode      lat     long  sqft_living15  \\\n",
       "id                                                                             \n",
       "7129300520      1955           0.0    98178  47.5112 -122.257           1340   \n",
       "6414100192      1951        1991.0    98125  47.7210 -122.319           1690   \n",
       "5631500400      1933           NaN    98028  47.7379 -122.233           2720   \n",
       "2487200875      1965           0.0    98136  47.5208 -122.393           1360   \n",
       "1954400510      1987           0.0    98074  47.6168 -122.045           1800   \n",
       "\n",
       "            sqft_lot15  \n",
       "id                      \n",
       "7129300520        5650  \n",
       "6414100192        7639  \n",
       "5631500400        8062  \n",
       "2487200875        5000  \n",
       "1954400510        7503  "
      ]
     },
     "execution_count": 46,
     "metadata": {},
     "output_type": "execute_result"
    }
   ],
   "source": [
    "df = fs.datasets.load_mod1_proj(read_csv_kwds=dict(verbose=False,\n",
    "                                                  na_values='?',\n",
    "                                                  index_col='id'))\n",
    "df.drop(columns=['date'],inplace=True)\n",
    "display(df.info())\n",
    "df.head()"
   ]
  },
  {
   "cell_type": "code",
   "execution_count": 47,
   "metadata": {
    "ExecuteTime": {
     "end_time": "2020-08-27T23:07:06.973237Z",
     "start_time": "2020-08-27T23:07:06.963631Z"
    }
   },
   "outputs": [
    {
     "data": {
      "text/plain": [
       "bedrooms            0\n",
       "bathrooms           0\n",
       "sqft_living         0\n",
       "sqft_lot            0\n",
       "floors              0\n",
       "waterfront       2376\n",
       "view               63\n",
       "condition           0\n",
       "grade               0\n",
       "sqft_above          0\n",
       "sqft_basement     454\n",
       "yr_built            0\n",
       "yr_renovated     3842\n",
       "zipcode             0\n",
       "lat                 0\n",
       "long                0\n",
       "sqft_living15       0\n",
       "sqft_lot15          0\n",
       "dtype: int64"
      ]
     },
     "execution_count": 47,
     "metadata": {},
     "output_type": "execute_result"
    }
   ],
   "source": [
    "y = df['price'].copy()\n",
    "X = df.drop('price',axis=1).copy()\n",
    "X.isna().sum()"
   ]
  },
  {
   "cell_type": "markdown",
   "metadata": {},
   "source": [
    "### Train Test Split"
   ]
  },
  {
   "cell_type": "code",
   "execution_count": 48,
   "metadata": {
    "ExecuteTime": {
     "end_time": "2020-08-27T23:07:06.983166Z",
     "start_time": "2020-08-27T23:07:06.975012Z"
    }
   },
   "outputs": [
    {
     "data": {
      "text/plain": [
       "((16197, 18), (5400, 18))"
      ]
     },
     "execution_count": 48,
     "metadata": {},
     "output_type": "execute_result"
    }
   ],
   "source": [
    "from sklearn.model_selection import train_test_split\n",
    "X_train,X_test,y_train,y_test = train_test_split(X,y)\n",
    "X_train.shape, X_test.shape"
   ]
  },
  {
   "cell_type": "markdown",
   "metadata": {},
   "source": [
    "#### `def remake_df`"
   ]
  },
  {
   "cell_type": "code",
   "execution_count": 49,
   "metadata": {
    "ExecuteTime": {
     "end_time": "2020-08-27T23:07:06.987584Z",
     "start_time": "2020-08-27T23:07:06.984795Z"
    }
   },
   "outputs": [],
   "source": [
    "def remake_df(array,df):\n",
    "    return pd.DataFrame(array, columns=df.columns, index=df.index)"
   ]
  },
  {
   "cell_type": "markdown",
   "metadata": {},
   "source": [
    "### Preprocessing"
   ]
  },
  {
   "cell_type": "markdown",
   "metadata": {},
   "source": [
    "#### FIlling Null Values"
   ]
  },
  {
   "cell_type": "code",
   "execution_count": 50,
   "metadata": {
    "ExecuteTime": {
     "end_time": "2020-08-27T23:07:07.046278Z",
     "start_time": "2020-08-27T23:07:06.989033Z"
    }
   },
   "outputs": [
    {
     "data": {
      "text/html": [
       "<div>\n",
       "<style scoped>\n",
       "    .dataframe tbody tr th:only-of-type {\n",
       "        vertical-align: middle;\n",
       "    }\n",
       "\n",
       "    .dataframe tbody tr th {\n",
       "        vertical-align: top;\n",
       "    }\n",
       "\n",
       "    .dataframe thead th {\n",
       "        text-align: right;\n",
       "    }\n",
       "</style>\n",
       "<table border=\"1\" class=\"dataframe\">\n",
       "  <thead>\n",
       "    <tr style=\"text-align: right;\">\n",
       "      <th></th>\n",
       "      <th>bedrooms</th>\n",
       "      <th>bathrooms</th>\n",
       "      <th>sqft_living</th>\n",
       "      <th>sqft_lot</th>\n",
       "      <th>floors</th>\n",
       "      <th>waterfront</th>\n",
       "      <th>view</th>\n",
       "      <th>condition</th>\n",
       "      <th>grade</th>\n",
       "      <th>sqft_above</th>\n",
       "      <th>sqft_basement</th>\n",
       "      <th>yr_built</th>\n",
       "      <th>yr_renovated</th>\n",
       "      <th>zipcode</th>\n",
       "      <th>lat</th>\n",
       "      <th>long</th>\n",
       "      <th>sqft_living15</th>\n",
       "      <th>sqft_lot15</th>\n",
       "    </tr>\n",
       "    <tr>\n",
       "      <th>id</th>\n",
       "      <th></th>\n",
       "      <th></th>\n",
       "      <th></th>\n",
       "      <th></th>\n",
       "      <th></th>\n",
       "      <th></th>\n",
       "      <th></th>\n",
       "      <th></th>\n",
       "      <th></th>\n",
       "      <th></th>\n",
       "      <th></th>\n",
       "      <th></th>\n",
       "      <th></th>\n",
       "      <th></th>\n",
       "      <th></th>\n",
       "      <th></th>\n",
       "      <th></th>\n",
       "      <th></th>\n",
       "    </tr>\n",
       "  </thead>\n",
       "  <tbody>\n",
       "    <tr>\n",
       "      <th>1972200847</th>\n",
       "      <td>3.0</td>\n",
       "      <td>2.50</td>\n",
       "      <td>1730.0</td>\n",
       "      <td>1301.0</td>\n",
       "      <td>3.0</td>\n",
       "      <td>0.0</td>\n",
       "      <td>0.0</td>\n",
       "      <td>3.0</td>\n",
       "      <td>9.0</td>\n",
       "      <td>1730.0</td>\n",
       "      <td>0.0</td>\n",
       "      <td>2011.0</td>\n",
       "      <td>0.0</td>\n",
       "      <td>98103.0</td>\n",
       "      <td>47.6530</td>\n",
       "      <td>-122.352</td>\n",
       "      <td>1330.0</td>\n",
       "      <td>1240.0</td>\n",
       "    </tr>\n",
       "    <tr>\n",
       "      <th>8731980040</th>\n",
       "      <td>3.0</td>\n",
       "      <td>2.25</td>\n",
       "      <td>1980.0</td>\n",
       "      <td>8000.0</td>\n",
       "      <td>1.0</td>\n",
       "      <td>0.0</td>\n",
       "      <td>0.0</td>\n",
       "      <td>4.0</td>\n",
       "      <td>9.0</td>\n",
       "      <td>1560.0</td>\n",
       "      <td>420.0</td>\n",
       "      <td>1974.0</td>\n",
       "      <td>0.0</td>\n",
       "      <td>98023.0</td>\n",
       "      <td>47.3149</td>\n",
       "      <td>-122.378</td>\n",
       "      <td>2360.0</td>\n",
       "      <td>8000.0</td>\n",
       "    </tr>\n",
       "    <tr>\n",
       "      <th>2767603165</th>\n",
       "      <td>4.0</td>\n",
       "      <td>2.00</td>\n",
       "      <td>1980.0</td>\n",
       "      <td>4500.0</td>\n",
       "      <td>2.0</td>\n",
       "      <td>0.0</td>\n",
       "      <td>0.0</td>\n",
       "      <td>4.0</td>\n",
       "      <td>7.0</td>\n",
       "      <td>1980.0</td>\n",
       "      <td>0.0</td>\n",
       "      <td>1910.0</td>\n",
       "      <td>0.0</td>\n",
       "      <td>98107.0</td>\n",
       "      <td>47.6728</td>\n",
       "      <td>-122.379</td>\n",
       "      <td>1550.0</td>\n",
       "      <td>2541.0</td>\n",
       "    </tr>\n",
       "    <tr>\n",
       "      <th>8029770410</th>\n",
       "      <td>4.0</td>\n",
       "      <td>2.50</td>\n",
       "      <td>3160.0</td>\n",
       "      <td>8530.0</td>\n",
       "      <td>2.0</td>\n",
       "      <td>0.0</td>\n",
       "      <td>0.0</td>\n",
       "      <td>3.0</td>\n",
       "      <td>9.0</td>\n",
       "      <td>3160.0</td>\n",
       "      <td>0.0</td>\n",
       "      <td>2006.0</td>\n",
       "      <td>0.0</td>\n",
       "      <td>98059.0</td>\n",
       "      <td>47.5075</td>\n",
       "      <td>-122.148</td>\n",
       "      <td>3160.0</td>\n",
       "      <td>6460.0</td>\n",
       "    </tr>\n",
       "    <tr>\n",
       "      <th>4435000705</th>\n",
       "      <td>3.0</td>\n",
       "      <td>1.00</td>\n",
       "      <td>1350.0</td>\n",
       "      <td>8700.0</td>\n",
       "      <td>1.5</td>\n",
       "      <td>0.0</td>\n",
       "      <td>0.0</td>\n",
       "      <td>3.0</td>\n",
       "      <td>6.0</td>\n",
       "      <td>1350.0</td>\n",
       "      <td>0.0</td>\n",
       "      <td>1942.0</td>\n",
       "      <td>0.0</td>\n",
       "      <td>98188.0</td>\n",
       "      <td>47.4497</td>\n",
       "      <td>-122.289</td>\n",
       "      <td>1300.0</td>\n",
       "      <td>8700.0</td>\n",
       "    </tr>\n",
       "  </tbody>\n",
       "</table>\n",
       "</div>"
      ],
      "text/plain": [
       "            bedrooms  bathrooms  sqft_living  sqft_lot  floors  waterfront  \\\n",
       "id                                                                           \n",
       "1972200847       3.0       2.50       1730.0    1301.0     3.0         0.0   \n",
       "8731980040       3.0       2.25       1980.0    8000.0     1.0         0.0   \n",
       "2767603165       4.0       2.00       1980.0    4500.0     2.0         0.0   \n",
       "8029770410       4.0       2.50       3160.0    8530.0     2.0         0.0   \n",
       "4435000705       3.0       1.00       1350.0    8700.0     1.5         0.0   \n",
       "\n",
       "            view  condition  grade  sqft_above  sqft_basement  yr_built  \\\n",
       "id                                                                        \n",
       "1972200847   0.0        3.0    9.0      1730.0            0.0    2011.0   \n",
       "8731980040   0.0        4.0    9.0      1560.0          420.0    1974.0   \n",
       "2767603165   0.0        4.0    7.0      1980.0            0.0    1910.0   \n",
       "8029770410   0.0        3.0    9.0      3160.0            0.0    2006.0   \n",
       "4435000705   0.0        3.0    6.0      1350.0            0.0    1942.0   \n",
       "\n",
       "            yr_renovated  zipcode      lat     long  sqft_living15  sqft_lot15  \n",
       "id                                                                              \n",
       "1972200847           0.0  98103.0  47.6530 -122.352         1330.0      1240.0  \n",
       "8731980040           0.0  98023.0  47.3149 -122.378         2360.0      8000.0  \n",
       "2767603165           0.0  98107.0  47.6728 -122.379         1550.0      2541.0  \n",
       "8029770410           0.0  98059.0  47.5075 -122.148         3160.0      6460.0  \n",
       "4435000705           0.0  98188.0  47.4497 -122.289         1300.0      8700.0  "
      ]
     },
     "execution_count": 50,
     "metadata": {},
     "output_type": "execute_result"
    }
   ],
   "source": [
    "from sklearn.impute import SimpleImputer\n",
    "from sklearn.preprocessing import RobustScaler,StandardScaler,MinMaxScaler\n",
    "\n",
    "imputer = SimpleImputer(strategy='median')\n",
    "X_train_cln = remake_df(imputer.fit_transform(X_train), X_train)\n",
    "X_test_cln = remake_df(imputer.transform(X_test),X_test)\n",
    "X_train_cln.head()"
   ]
  },
  {
   "cell_type": "code",
   "execution_count": 51,
   "metadata": {
    "ExecuteTime": {
     "end_time": "2020-08-27T23:07:07.053438Z",
     "start_time": "2020-08-27T23:07:07.047571Z"
    }
   },
   "outputs": [
    {
     "name": "stdout",
     "output_type": "stream",
     "text": [
      "Total X_train Nulls:\n",
      "0\n",
      "Total X_test Nulls:\n",
      "0\n"
     ]
    }
   ],
   "source": [
    "print('Total X_train Nulls:')\n",
    "print(X_train_cln.isna().sum().sum())\n",
    "print('Total X_test Nulls:')\n",
    "print(X_test_cln.isna().sum().sum())"
   ]
  },
  {
   "cell_type": "markdown",
   "metadata": {},
   "source": [
    "#### Scaling"
   ]
  },
  {
   "cell_type": "code",
   "execution_count": 52,
   "metadata": {
    "ExecuteTime": {
     "end_time": "2020-08-27T23:07:07.057245Z",
     "start_time": "2020-08-27T23:07:07.054926Z"
    }
   },
   "outputs": [],
   "source": [
    "from sklearn.preprocessing import MinMaxScaler,StandardScaler,RobustScaler"
   ]
  },
  {
   "cell_type": "code",
   "execution_count": 53,
   "metadata": {
    "ExecuteTime": {
     "end_time": "2020-08-27T23:07:07.230520Z",
     "start_time": "2020-08-27T23:07:07.059617Z"
    }
   },
   "outputs": [
    {
     "data": {
      "text/html": [
       "<div>\n",
       "<style scoped>\n",
       "    .dataframe tbody tr th:only-of-type {\n",
       "        vertical-align: middle;\n",
       "    }\n",
       "\n",
       "    .dataframe tbody tr th {\n",
       "        vertical-align: top;\n",
       "    }\n",
       "\n",
       "    .dataframe thead th {\n",
       "        text-align: right;\n",
       "    }\n",
       "</style>\n",
       "<table border=\"1\" class=\"dataframe\">\n",
       "  <thead>\n",
       "    <tr style=\"text-align: right;\">\n",
       "      <th></th>\n",
       "      <th>bedrooms</th>\n",
       "      <th>bathrooms</th>\n",
       "      <th>sqft_living</th>\n",
       "      <th>sqft_lot</th>\n",
       "      <th>floors</th>\n",
       "      <th>waterfront</th>\n",
       "      <th>view</th>\n",
       "      <th>condition</th>\n",
       "      <th>grade</th>\n",
       "      <th>sqft_above</th>\n",
       "      <th>sqft_basement</th>\n",
       "      <th>yr_built</th>\n",
       "      <th>yr_renovated</th>\n",
       "      <th>zipcode</th>\n",
       "      <th>lat</th>\n",
       "      <th>long</th>\n",
       "      <th>sqft_living15</th>\n",
       "      <th>sqft_lot15</th>\n",
       "    </tr>\n",
       "  </thead>\n",
       "  <tbody>\n",
       "    <tr>\n",
       "      <th>count</th>\n",
       "      <td>16197.00</td>\n",
       "      <td>16197.00</td>\n",
       "      <td>16197.00</td>\n",
       "      <td>16197.00</td>\n",
       "      <td>16197.00</td>\n",
       "      <td>16197.00</td>\n",
       "      <td>16197.00</td>\n",
       "      <td>16197.00</td>\n",
       "      <td>16197.00</td>\n",
       "      <td>16197.00</td>\n",
       "      <td>16197.00</td>\n",
       "      <td>16197.00</td>\n",
       "      <td>16197.00</td>\n",
       "      <td>16197.00</td>\n",
       "      <td>16197.00</td>\n",
       "      <td>16197.00</td>\n",
       "      <td>16197.00</td>\n",
       "      <td>16197.00</td>\n",
       "    </tr>\n",
       "    <tr>\n",
       "      <th>mean</th>\n",
       "      <td>3.37</td>\n",
       "      <td>2.12</td>\n",
       "      <td>2082.99</td>\n",
       "      <td>15052.36</td>\n",
       "      <td>1.50</td>\n",
       "      <td>0.01</td>\n",
       "      <td>0.23</td>\n",
       "      <td>3.41</td>\n",
       "      <td>7.66</td>\n",
       "      <td>1789.63</td>\n",
       "      <td>286.88</td>\n",
       "      <td>1971.15</td>\n",
       "      <td>69.26</td>\n",
       "      <td>98077.70</td>\n",
       "      <td>47.56</td>\n",
       "      <td>-122.21</td>\n",
       "      <td>1988.43</td>\n",
       "      <td>12662.11</td>\n",
       "    </tr>\n",
       "    <tr>\n",
       "      <th>std</th>\n",
       "      <td>0.94</td>\n",
       "      <td>0.77</td>\n",
       "      <td>919.59</td>\n",
       "      <td>40216.52</td>\n",
       "      <td>0.54</td>\n",
       "      <td>0.08</td>\n",
       "      <td>0.77</td>\n",
       "      <td>0.65</td>\n",
       "      <td>1.17</td>\n",
       "      <td>829.79</td>\n",
       "      <td>440.39</td>\n",
       "      <td>29.35</td>\n",
       "      <td>365.31</td>\n",
       "      <td>53.58</td>\n",
       "      <td>0.14</td>\n",
       "      <td>0.14</td>\n",
       "      <td>688.35</td>\n",
       "      <td>26478.91</td>\n",
       "    </tr>\n",
       "    <tr>\n",
       "      <th>min</th>\n",
       "      <td>1.00</td>\n",
       "      <td>0.50</td>\n",
       "      <td>370.00</td>\n",
       "      <td>520.00</td>\n",
       "      <td>1.00</td>\n",
       "      <td>0.00</td>\n",
       "      <td>0.00</td>\n",
       "      <td>1.00</td>\n",
       "      <td>3.00</td>\n",
       "      <td>370.00</td>\n",
       "      <td>0.00</td>\n",
       "      <td>1900.00</td>\n",
       "      <td>0.00</td>\n",
       "      <td>98001.00</td>\n",
       "      <td>47.16</td>\n",
       "      <td>-122.52</td>\n",
       "      <td>399.00</td>\n",
       "      <td>660.00</td>\n",
       "    </tr>\n",
       "    <tr>\n",
       "      <th>25%</th>\n",
       "      <td>3.00</td>\n",
       "      <td>1.75</td>\n",
       "      <td>1430.00</td>\n",
       "      <td>5034.00</td>\n",
       "      <td>1.00</td>\n",
       "      <td>0.00</td>\n",
       "      <td>0.00</td>\n",
       "      <td>3.00</td>\n",
       "      <td>7.00</td>\n",
       "      <td>1200.00</td>\n",
       "      <td>0.00</td>\n",
       "      <td>1952.00</td>\n",
       "      <td>0.00</td>\n",
       "      <td>98033.00</td>\n",
       "      <td>47.47</td>\n",
       "      <td>-122.33</td>\n",
       "      <td>1480.00</td>\n",
       "      <td>5100.00</td>\n",
       "    </tr>\n",
       "    <tr>\n",
       "      <th>50%</th>\n",
       "      <td>3.00</td>\n",
       "      <td>2.25</td>\n",
       "      <td>1920.00</td>\n",
       "      <td>7639.00</td>\n",
       "      <td>1.50</td>\n",
       "      <td>0.00</td>\n",
       "      <td>0.00</td>\n",
       "      <td>3.00</td>\n",
       "      <td>7.00</td>\n",
       "      <td>1560.00</td>\n",
       "      <td>0.00</td>\n",
       "      <td>1975.00</td>\n",
       "      <td>0.00</td>\n",
       "      <td>98065.00</td>\n",
       "      <td>47.57</td>\n",
       "      <td>-122.23</td>\n",
       "      <td>1840.00</td>\n",
       "      <td>7620.00</td>\n",
       "    </tr>\n",
       "    <tr>\n",
       "      <th>75%</th>\n",
       "      <td>4.00</td>\n",
       "      <td>2.50</td>\n",
       "      <td>2550.00</td>\n",
       "      <td>10626.00</td>\n",
       "      <td>2.00</td>\n",
       "      <td>0.00</td>\n",
       "      <td>0.00</td>\n",
       "      <td>4.00</td>\n",
       "      <td>8.00</td>\n",
       "      <td>2210.00</td>\n",
       "      <td>550.00</td>\n",
       "      <td>1997.00</td>\n",
       "      <td>0.00</td>\n",
       "      <td>98117.00</td>\n",
       "      <td>47.68</td>\n",
       "      <td>-122.12</td>\n",
       "      <td>2370.00</td>\n",
       "      <td>10058.00</td>\n",
       "    </tr>\n",
       "    <tr>\n",
       "      <th>max</th>\n",
       "      <td>33.00</td>\n",
       "      <td>8.00</td>\n",
       "      <td>12050.00</td>\n",
       "      <td>1164794.00</td>\n",
       "      <td>3.50</td>\n",
       "      <td>1.00</td>\n",
       "      <td>4.00</td>\n",
       "      <td>5.00</td>\n",
       "      <td>13.00</td>\n",
       "      <td>8860.00</td>\n",
       "      <td>4820.00</td>\n",
       "      <td>2015.00</td>\n",
       "      <td>2015.00</td>\n",
       "      <td>98199.00</td>\n",
       "      <td>47.78</td>\n",
       "      <td>-121.32</td>\n",
       "      <td>6110.00</td>\n",
       "      <td>858132.00</td>\n",
       "    </tr>\n",
       "  </tbody>\n",
       "</table>\n",
       "</div>"
      ],
      "text/plain": [
       "       bedrooms  bathrooms  sqft_living    sqft_lot    floors  waterfront  \\\n",
       "count  16197.00   16197.00     16197.00    16197.00  16197.00    16197.00   \n",
       "mean       3.37       2.12      2082.99    15052.36      1.50        0.01   \n",
       "std        0.94       0.77       919.59    40216.52      0.54        0.08   \n",
       "min        1.00       0.50       370.00      520.00      1.00        0.00   \n",
       "25%        3.00       1.75      1430.00     5034.00      1.00        0.00   \n",
       "50%        3.00       2.25      1920.00     7639.00      1.50        0.00   \n",
       "75%        4.00       2.50      2550.00    10626.00      2.00        0.00   \n",
       "max       33.00       8.00     12050.00  1164794.00      3.50        1.00   \n",
       "\n",
       "           view  condition     grade  sqft_above  sqft_basement  yr_built  \\\n",
       "count  16197.00   16197.00  16197.00    16197.00       16197.00  16197.00   \n",
       "mean       0.23       3.41      7.66     1789.63         286.88   1971.15   \n",
       "std        0.77       0.65      1.17      829.79         440.39     29.35   \n",
       "min        0.00       1.00      3.00      370.00           0.00   1900.00   \n",
       "25%        0.00       3.00      7.00     1200.00           0.00   1952.00   \n",
       "50%        0.00       3.00      7.00     1560.00           0.00   1975.00   \n",
       "75%        0.00       4.00      8.00     2210.00         550.00   1997.00   \n",
       "max        4.00       5.00     13.00     8860.00        4820.00   2015.00   \n",
       "\n",
       "       yr_renovated   zipcode       lat      long  sqft_living15  sqft_lot15  \n",
       "count      16197.00  16197.00  16197.00  16197.00       16197.00    16197.00  \n",
       "mean          69.26  98077.70     47.56   -122.21        1988.43    12662.11  \n",
       "std          365.31     53.58      0.14      0.14         688.35    26478.91  \n",
       "min            0.00  98001.00     47.16   -122.52         399.00      660.00  \n",
       "25%            0.00  98033.00     47.47   -122.33        1480.00     5100.00  \n",
       "50%            0.00  98065.00     47.57   -122.23        1840.00     7620.00  \n",
       "75%            0.00  98117.00     47.68   -122.12        2370.00    10058.00  \n",
       "max         2015.00  98199.00     47.78   -121.32        6110.00   858132.00  "
      ]
     },
     "metadata": {},
     "output_type": "display_data"
    },
    {
     "data": {
      "text/html": [
       "<div>\n",
       "<style scoped>\n",
       "    .dataframe tbody tr th:only-of-type {\n",
       "        vertical-align: middle;\n",
       "    }\n",
       "\n",
       "    .dataframe tbody tr th {\n",
       "        vertical-align: top;\n",
       "    }\n",
       "\n",
       "    .dataframe thead th {\n",
       "        text-align: right;\n",
       "    }\n",
       "</style>\n",
       "<table border=\"1\" class=\"dataframe\">\n",
       "  <thead>\n",
       "    <tr style=\"text-align: right;\">\n",
       "      <th></th>\n",
       "      <th>bedrooms</th>\n",
       "      <th>bathrooms</th>\n",
       "      <th>sqft_living</th>\n",
       "      <th>sqft_lot</th>\n",
       "      <th>floors</th>\n",
       "      <th>waterfront</th>\n",
       "      <th>view</th>\n",
       "      <th>condition</th>\n",
       "      <th>grade</th>\n",
       "      <th>sqft_above</th>\n",
       "      <th>sqft_basement</th>\n",
       "      <th>yr_built</th>\n",
       "      <th>yr_renovated</th>\n",
       "      <th>zipcode</th>\n",
       "      <th>lat</th>\n",
       "      <th>long</th>\n",
       "      <th>sqft_living15</th>\n",
       "      <th>sqft_lot15</th>\n",
       "    </tr>\n",
       "  </thead>\n",
       "  <tbody>\n",
       "    <tr>\n",
       "      <th>count</th>\n",
       "      <td>16197.00</td>\n",
       "      <td>16197.00</td>\n",
       "      <td>16197.00</td>\n",
       "      <td>16197.00</td>\n",
       "      <td>16197.00</td>\n",
       "      <td>16197.00</td>\n",
       "      <td>16197.00</td>\n",
       "      <td>16197.00</td>\n",
       "      <td>16197.00</td>\n",
       "      <td>16197.00</td>\n",
       "      <td>16197.00</td>\n",
       "      <td>16197.00</td>\n",
       "      <td>16197.00</td>\n",
       "      <td>16197.00</td>\n",
       "      <td>16197.00</td>\n",
       "      <td>16197.00</td>\n",
       "      <td>16197.00</td>\n",
       "      <td>16197.00</td>\n",
       "    </tr>\n",
       "    <tr>\n",
       "      <th>mean</th>\n",
       "      <td>0.37</td>\n",
       "      <td>-0.17</td>\n",
       "      <td>0.15</td>\n",
       "      <td>1.33</td>\n",
       "      <td>-0.00</td>\n",
       "      <td>0.01</td>\n",
       "      <td>0.23</td>\n",
       "      <td>0.41</td>\n",
       "      <td>0.66</td>\n",
       "      <td>0.23</td>\n",
       "      <td>0.52</td>\n",
       "      <td>-0.09</td>\n",
       "      <td>69.26</td>\n",
       "      <td>0.15</td>\n",
       "      <td>-0.06</td>\n",
       "      <td>0.07</td>\n",
       "      <td>0.17</td>\n",
       "      <td>1.02</td>\n",
       "    </tr>\n",
       "    <tr>\n",
       "      <th>std</th>\n",
       "      <td>0.94</td>\n",
       "      <td>1.03</td>\n",
       "      <td>0.82</td>\n",
       "      <td>7.19</td>\n",
       "      <td>0.54</td>\n",
       "      <td>0.08</td>\n",
       "      <td>0.77</td>\n",
       "      <td>0.65</td>\n",
       "      <td>1.17</td>\n",
       "      <td>0.82</td>\n",
       "      <td>0.80</td>\n",
       "      <td>0.65</td>\n",
       "      <td>365.31</td>\n",
       "      <td>0.64</td>\n",
       "      <td>0.67</td>\n",
       "      <td>0.69</td>\n",
       "      <td>0.77</td>\n",
       "      <td>5.34</td>\n",
       "    </tr>\n",
       "    <tr>\n",
       "      <th>min</th>\n",
       "      <td>-2.00</td>\n",
       "      <td>-2.33</td>\n",
       "      <td>-1.38</td>\n",
       "      <td>-1.27</td>\n",
       "      <td>-0.50</td>\n",
       "      <td>0.00</td>\n",
       "      <td>0.00</td>\n",
       "      <td>-2.00</td>\n",
       "      <td>-4.00</td>\n",
       "      <td>-1.18</td>\n",
       "      <td>0.00</td>\n",
       "      <td>-1.67</td>\n",
       "      <td>0.00</td>\n",
       "      <td>-0.76</td>\n",
       "      <td>-2.02</td>\n",
       "      <td>-1.42</td>\n",
       "      <td>-1.62</td>\n",
       "      <td>-1.40</td>\n",
       "    </tr>\n",
       "    <tr>\n",
       "      <th>25%</th>\n",
       "      <td>0.00</td>\n",
       "      <td>-0.67</td>\n",
       "      <td>-0.44</td>\n",
       "      <td>-0.47</td>\n",
       "      <td>-0.50</td>\n",
       "      <td>0.00</td>\n",
       "      <td>0.00</td>\n",
       "      <td>0.00</td>\n",
       "      <td>0.00</td>\n",
       "      <td>-0.36</td>\n",
       "      <td>0.00</td>\n",
       "      <td>-0.51</td>\n",
       "      <td>0.00</td>\n",
       "      <td>-0.38</td>\n",
       "      <td>-0.49</td>\n",
       "      <td>-0.49</td>\n",
       "      <td>-0.40</td>\n",
       "      <td>-0.51</td>\n",
       "    </tr>\n",
       "    <tr>\n",
       "      <th>50%</th>\n",
       "      <td>0.00</td>\n",
       "      <td>0.00</td>\n",
       "      <td>0.00</td>\n",
       "      <td>0.00</td>\n",
       "      <td>0.00</td>\n",
       "      <td>0.00</td>\n",
       "      <td>0.00</td>\n",
       "      <td>0.00</td>\n",
       "      <td>0.00</td>\n",
       "      <td>0.00</td>\n",
       "      <td>0.00</td>\n",
       "      <td>0.00</td>\n",
       "      <td>0.00</td>\n",
       "      <td>0.00</td>\n",
       "      <td>0.00</td>\n",
       "      <td>0.00</td>\n",
       "      <td>0.00</td>\n",
       "      <td>0.00</td>\n",
       "    </tr>\n",
       "    <tr>\n",
       "      <th>75%</th>\n",
       "      <td>1.00</td>\n",
       "      <td>0.33</td>\n",
       "      <td>0.56</td>\n",
       "      <td>0.53</td>\n",
       "      <td>0.50</td>\n",
       "      <td>0.00</td>\n",
       "      <td>0.00</td>\n",
       "      <td>1.00</td>\n",
       "      <td>1.00</td>\n",
       "      <td>0.64</td>\n",
       "      <td>1.00</td>\n",
       "      <td>0.49</td>\n",
       "      <td>0.00</td>\n",
       "      <td>0.62</td>\n",
       "      <td>0.51</td>\n",
       "      <td>0.51</td>\n",
       "      <td>0.60</td>\n",
       "      <td>0.49</td>\n",
       "    </tr>\n",
       "    <tr>\n",
       "      <th>max</th>\n",
       "      <td>30.00</td>\n",
       "      <td>7.67</td>\n",
       "      <td>9.04</td>\n",
       "      <td>206.93</td>\n",
       "      <td>2.00</td>\n",
       "      <td>1.00</td>\n",
       "      <td>4.00</td>\n",
       "      <td>2.00</td>\n",
       "      <td>6.00</td>\n",
       "      <td>7.23</td>\n",
       "      <td>8.76</td>\n",
       "      <td>0.89</td>\n",
       "      <td>2015.00</td>\n",
       "      <td>1.60</td>\n",
       "      <td>1.00</td>\n",
       "      <td>4.48</td>\n",
       "      <td>4.80</td>\n",
       "      <td>171.54</td>\n",
       "    </tr>\n",
       "  </tbody>\n",
       "</table>\n",
       "</div>"
      ],
      "text/plain": [
       "       bedrooms  bathrooms  sqft_living  sqft_lot    floors  waterfront  \\\n",
       "count  16197.00   16197.00     16197.00  16197.00  16197.00    16197.00   \n",
       "mean       0.37      -0.17         0.15      1.33     -0.00        0.01   \n",
       "std        0.94       1.03         0.82      7.19      0.54        0.08   \n",
       "min       -2.00      -2.33        -1.38     -1.27     -0.50        0.00   \n",
       "25%        0.00      -0.67        -0.44     -0.47     -0.50        0.00   \n",
       "50%        0.00       0.00         0.00      0.00      0.00        0.00   \n",
       "75%        1.00       0.33         0.56      0.53      0.50        0.00   \n",
       "max       30.00       7.67         9.04    206.93      2.00        1.00   \n",
       "\n",
       "           view  condition     grade  sqft_above  sqft_basement  yr_built  \\\n",
       "count  16197.00   16197.00  16197.00    16197.00       16197.00  16197.00   \n",
       "mean       0.23       0.41      0.66        0.23           0.52     -0.09   \n",
       "std        0.77       0.65      1.17        0.82           0.80      0.65   \n",
       "min        0.00      -2.00     -4.00       -1.18           0.00     -1.67   \n",
       "25%        0.00       0.00      0.00       -0.36           0.00     -0.51   \n",
       "50%        0.00       0.00      0.00        0.00           0.00      0.00   \n",
       "75%        0.00       1.00      1.00        0.64           1.00      0.49   \n",
       "max        4.00       2.00      6.00        7.23           8.76      0.89   \n",
       "\n",
       "       yr_renovated   zipcode       lat      long  sqft_living15  sqft_lot15  \n",
       "count      16197.00  16197.00  16197.00  16197.00       16197.00    16197.00  \n",
       "mean          69.26      0.15     -0.06      0.07           0.17        1.02  \n",
       "std          365.31      0.64      0.67      0.69           0.77        5.34  \n",
       "min            0.00     -0.76     -2.02     -1.42          -1.62       -1.40  \n",
       "25%            0.00     -0.38     -0.49     -0.49          -0.40       -0.51  \n",
       "50%            0.00      0.00      0.00      0.00           0.00        0.00  \n",
       "75%            0.00      0.62      0.51      0.51           0.60        0.49  \n",
       "max         2015.00      1.60      1.00      4.48           4.80      171.54  "
      ]
     },
     "metadata": {},
     "output_type": "display_data"
    }
   ],
   "source": [
    "scaler = RobustScaler()\n",
    "X_train_sca = remake_df(scaler.fit_transform(X_train_cln), X_train_cln)\n",
    "X_test_sca = remake_df(scaler.transform(X_test_cln), X_test_cln)\n",
    "\n",
    "\n",
    "display(X_train_cln.describe().round(2),X_train_sca.describe().round(2))"
   ]
  },
  {
   "cell_type": "markdown",
   "metadata": {},
   "source": [
    "### Linear Regression with sklearn"
   ]
  },
  {
   "cell_type": "code",
   "execution_count": 54,
   "metadata": {
    "ExecuteTime": {
     "end_time": "2020-08-27T23:07:07.254838Z",
     "start_time": "2020-08-27T23:07:07.232305Z"
    }
   },
   "outputs": [
    {
     "data": {
      "text/plain": [
       "train-R2           0.697611\n",
       "test-R2            0.707013\n",
       "train-RMSE    205523.475305\n",
       "test-RMSE     188084.982077\n",
       "dtype: float64"
      ]
     },
     "execution_count": 54,
     "metadata": {},
     "output_type": "execute_result"
    }
   ],
   "source": [
    "from sklearn.linear_model import Lasso, Ridge, LassoCV, LinearRegression\n",
    "\n",
    "from sklearn import metrics\n",
    "linreg = LinearRegression()\n",
    "linreg.fit(X_train_sca,y_train)\n",
    "\n",
    "y_hat_train = linreg.predict(X_train_sca)\n",
    "y_hat_test = linreg.predict(X_test_sca)\n",
    "\n",
    "results = {'train-R2':metrics.r2_score(y_train, y_hat_train),\n",
    "            'test-R2':metrics.r2_score(y_test, y_hat_test),\n",
    "          'train-RMSE':np.sqrt(metrics.mean_squared_error(y_train,\n",
    "                                                          y_hat_train)),\n",
    "          'test-RMSE':np.sqrt(metrics.mean_squared_error(y_test,\n",
    "                                                          y_hat_test))}\n",
    "pd.Series(results)"
   ]
  },
  {
   "cell_type": "code",
   "execution_count": 55,
   "metadata": {
    "ExecuteTime": {
     "end_time": "2020-08-27T23:07:07.284244Z",
     "start_time": "2020-08-27T23:07:07.256929Z"
    }
   },
   "outputs": [
    {
     "data": {
      "text/plain": [
       "train-R2           0.697611\n",
       "test-R2            0.707013\n",
       "train-RMSE    205523.475305\n",
       "test-RMSE     188084.982077\n",
       "dtype: float64"
      ]
     },
     "metadata": {},
     "output_type": "display_data"
    },
    {
     "data": {
      "text/plain": [
       "LinearRegression()"
      ]
     },
     "execution_count": 55,
     "metadata": {},
     "output_type": "execute_result"
    }
   ],
   "source": [
    "def fit_evaluate_model(model, X_train_sca,X_test_sca,y_train,y_test):\n",
    "    model.fit(X_train_sca,y_train)\n",
    "\n",
    "    y_hat_train = model.predict(X_train_sca)\n",
    "    y_hat_test = model.predict(X_test_sca)\n",
    "\n",
    "    results = {'train-R2':metrics.r2_score(y_train, y_hat_train),\n",
    "                'test-R2':metrics.r2_score(y_test, y_hat_test),\n",
    "              'train-RMSE':np.sqrt(metrics.mean_squared_error(y_train,\n",
    "                                                              y_hat_train)),\n",
    "              'test-RMSE':np.sqrt(metrics.mean_squared_error(y_test,\n",
    "                                                              y_hat_test))}\n",
    "    display(pd.Series(results))\n",
    "    return model\n",
    "\n",
    "linreg = fit_evaluate_model(LinearRegression(),X_train_sca,X_test_sca,y_train,y_test)\n",
    "linreg"
   ]
  },
  {
   "cell_type": "code",
   "execution_count": 56,
   "metadata": {
    "ExecuteTime": {
     "end_time": "2020-08-27T23:07:07.299369Z",
     "start_time": "2020-08-27T23:07:07.286238Z"
    }
   },
   "outputs": [
    {
     "data": {
      "text/html": [
       "<div>\n",
       "<style scoped>\n",
       "    .dataframe tbody tr th:only-of-type {\n",
       "        vertical-align: middle;\n",
       "    }\n",
       "\n",
       "    .dataframe tbody tr th {\n",
       "        vertical-align: top;\n",
       "    }\n",
       "\n",
       "    .dataframe thead th {\n",
       "        text-align: right;\n",
       "    }\n",
       "</style>\n",
       "<table border=\"1\" class=\"dataframe\">\n",
       "  <thead>\n",
       "    <tr style=\"text-align: right;\">\n",
       "      <th></th>\n",
       "      <th>Coeffs</th>\n",
       "    </tr>\n",
       "  </thead>\n",
       "  <tbody>\n",
       "    <tr>\n",
       "      <th>bedrooms</th>\n",
       "      <td>-36467.259301</td>\n",
       "    </tr>\n",
       "    <tr>\n",
       "      <th>bathrooms</th>\n",
       "      <td>32976.555246</td>\n",
       "    </tr>\n",
       "    <tr>\n",
       "      <th>sqft_living</th>\n",
       "      <td>109253.570774</td>\n",
       "    </tr>\n",
       "    <tr>\n",
       "      <th>sqft_lot</th>\n",
       "      <td>65.855474</td>\n",
       "    </tr>\n",
       "    <tr>\n",
       "      <th>floors</th>\n",
       "      <td>3368.163384</td>\n",
       "    </tr>\n",
       "    <tr>\n",
       "      <th>waterfront</th>\n",
       "      <td>607377.630551</td>\n",
       "    </tr>\n",
       "    <tr>\n",
       "      <th>view</th>\n",
       "      <td>51990.601828</td>\n",
       "    </tr>\n",
       "    <tr>\n",
       "      <th>condition</th>\n",
       "      <td>27183.750236</td>\n",
       "    </tr>\n",
       "    <tr>\n",
       "      <th>grade</th>\n",
       "      <td>95663.288130</td>\n",
       "    </tr>\n",
       "    <tr>\n",
       "      <th>sqft_above</th>\n",
       "      <td>93996.665698</td>\n",
       "    </tr>\n",
       "    <tr>\n",
       "      <th>sqft_basement</th>\n",
       "      <td>33575.743834</td>\n",
       "    </tr>\n",
       "    <tr>\n",
       "      <th>yr_built</th>\n",
       "      <td>-119660.367156</td>\n",
       "    </tr>\n",
       "    <tr>\n",
       "      <th>yr_renovated</th>\n",
       "      <td>23.040955</td>\n",
       "    </tr>\n",
       "    <tr>\n",
       "      <th>zipcode</th>\n",
       "      <td>-51072.970083</td>\n",
       "    </tr>\n",
       "    <tr>\n",
       "      <th>lat</th>\n",
       "      <td>123129.695515</td>\n",
       "    </tr>\n",
       "    <tr>\n",
       "      <th>long</th>\n",
       "      <td>-47061.069907</td>\n",
       "    </tr>\n",
       "    <tr>\n",
       "      <th>sqft_living15</th>\n",
       "      <td>15830.458745</td>\n",
       "    </tr>\n",
       "    <tr>\n",
       "      <th>sqft_lot15</th>\n",
       "      <td>-1662.868712</td>\n",
       "    </tr>\n",
       "    <tr>\n",
       "      <th>Intercept</th>\n",
       "      <td>420324.324402</td>\n",
       "    </tr>\n",
       "  </tbody>\n",
       "</table>\n",
       "</div>"
      ],
      "text/plain": [
       "                      Coeffs\n",
       "bedrooms       -36467.259301\n",
       "bathrooms       32976.555246\n",
       "sqft_living    109253.570774\n",
       "sqft_lot           65.855474\n",
       "floors           3368.163384\n",
       "waterfront     607377.630551\n",
       "view            51990.601828\n",
       "condition       27183.750236\n",
       "grade           95663.288130\n",
       "sqft_above      93996.665698\n",
       "sqft_basement   33575.743834\n",
       "yr_built      -119660.367156\n",
       "yr_renovated       23.040955\n",
       "zipcode        -51072.970083\n",
       "lat            123129.695515\n",
       "long           -47061.069907\n",
       "sqft_living15   15830.458745\n",
       "sqft_lot15      -1662.868712\n",
       "Intercept      420324.324402"
      ]
     },
     "execution_count": 56,
     "metadata": {},
     "output_type": "execute_result"
    }
   ],
   "source": [
    "## Pull out coeffs\n",
    "res_df = pd.DataFrame(linreg.coef_,index=X_train_sca.columns,columns=['Coeffs'])\n",
    "res_df.loc['Intercept'] = linreg.intercept_\n",
    "res_df"
   ]
  },
  {
   "cell_type": "markdown",
   "metadata": {},
   "source": [
    "#### Compare to Statsmodels OLS"
   ]
  },
  {
   "cell_type": "code",
   "execution_count": 57,
   "metadata": {
    "ExecuteTime": {
     "end_time": "2020-08-27T23:07:07.364240Z",
     "start_time": "2020-08-27T23:07:07.301478Z"
    }
   },
   "outputs": [
    {
     "data": {
      "text/html": [
       "<table class=\"simpletable\">\n",
       "<caption>OLS Regression Results</caption>\n",
       "<tr>\n",
       "  <th>Dep. Variable:</th>          <td>price</td>      <th>  R-squared:         </th>  <td>   0.698</td>  \n",
       "</tr>\n",
       "<tr>\n",
       "  <th>Model:</th>                   <td>OLS</td>       <th>  Adj. R-squared:    </th>  <td>   0.697</td>  \n",
       "</tr>\n",
       "<tr>\n",
       "  <th>Method:</th>             <td>Least Squares</td>  <th>  F-statistic:       </th>  <td>   2073.</td>  \n",
       "</tr>\n",
       "<tr>\n",
       "  <th>Date:</th>             <td>Thu, 27 Aug 2020</td> <th>  Prob (F-statistic):</th>   <td>  0.00</td>   \n",
       "</tr>\n",
       "<tr>\n",
       "  <th>Time:</th>                 <td>19:07:07</td>     <th>  Log-Likelihood:    </th> <td>-2.2113e+05</td>\n",
       "</tr>\n",
       "<tr>\n",
       "  <th>No. Observations:</th>      <td> 16197</td>      <th>  AIC:               </th>  <td>4.423e+05</td> \n",
       "</tr>\n",
       "<tr>\n",
       "  <th>Df Residuals:</th>          <td> 16178</td>      <th>  BIC:               </th>  <td>4.424e+05</td> \n",
       "</tr>\n",
       "<tr>\n",
       "  <th>Df Model:</th>              <td>    18</td>      <th>                     </th>      <td> </td>     \n",
       "</tr>\n",
       "<tr>\n",
       "  <th>Covariance Type:</th>      <td>nonrobust</td>    <th>                     </th>      <td> </td>     \n",
       "</tr>\n",
       "</table>\n",
       "<table class=\"simpletable\">\n",
       "<tr>\n",
       "        <td></td>           <th>coef</th>     <th>std err</th>      <th>t</th>      <th>P>|t|</th>  <th>[0.025</th>    <th>0.975]</th>  \n",
       "</tr>\n",
       "<tr>\n",
       "  <th>const</th>         <td> 4.203e+05</td> <td> 7650.858</td> <td>   54.938</td> <td> 0.000</td> <td> 4.05e+05</td> <td> 4.35e+05</td>\n",
       "</tr>\n",
       "<tr>\n",
       "  <th>bedrooms</th>      <td>-3.647e+04</td> <td> 2215.493</td> <td>  -16.460</td> <td> 0.000</td> <td>-4.08e+04</td> <td>-3.21e+04</td>\n",
       "</tr>\n",
       "<tr>\n",
       "  <th>bathrooms</th>     <td> 3.298e+04</td> <td> 2874.888</td> <td>   11.471</td> <td> 0.000</td> <td> 2.73e+04</td> <td> 3.86e+04</td>\n",
       "</tr>\n",
       "<tr>\n",
       "  <th>sqft_living</th>   <td> 1.093e+05</td> <td> 2.27e+04</td> <td>    4.806</td> <td> 0.000</td> <td> 6.47e+04</td> <td> 1.54e+05</td>\n",
       "</tr>\n",
       "<tr>\n",
       "  <th>sqft_lot</th>      <td>   65.8555</td> <td>  314.586</td> <td>    0.209</td> <td> 0.834</td> <td> -550.767</td> <td>  682.478</td>\n",
       "</tr>\n",
       "<tr>\n",
       "  <th>floors</th>        <td> 3368.1634</td> <td> 4248.662</td> <td>    0.793</td> <td> 0.428</td> <td>-4959.683</td> <td> 1.17e+04</td>\n",
       "</tr>\n",
       "<tr>\n",
       "  <th>waterfront</th>    <td> 6.074e+05</td> <td> 2.08e+04</td> <td>   29.155</td> <td> 0.000</td> <td> 5.67e+05</td> <td> 6.48e+05</td>\n",
       "</tr>\n",
       "<tr>\n",
       "  <th>view</th>          <td> 5.199e+04</td> <td> 2502.891</td> <td>   20.772</td> <td> 0.000</td> <td> 4.71e+04</td> <td> 5.69e+04</td>\n",
       "</tr>\n",
       "<tr>\n",
       "  <th>condition</th>     <td> 2.718e+04</td> <td> 2775.328</td> <td>    9.795</td> <td> 0.000</td> <td> 2.17e+04</td> <td> 3.26e+04</td>\n",
       "</tr>\n",
       "<tr>\n",
       "  <th>grade</th>         <td> 9.566e+04</td> <td> 2556.619</td> <td>   37.418</td> <td> 0.000</td> <td> 9.07e+04</td> <td> 1.01e+05</td>\n",
       "</tr>\n",
       "<tr>\n",
       "  <th>sqft_above</th>    <td>   9.4e+04</td> <td> 2.05e+04</td> <td>    4.581</td> <td> 0.000</td> <td> 5.38e+04</td> <td> 1.34e+05</td>\n",
       "</tr>\n",
       "<tr>\n",
       "  <th>sqft_basement</th> <td> 3.358e+04</td> <td> 1.11e+04</td> <td>    3.035</td> <td> 0.002</td> <td> 1.19e+04</td> <td> 5.53e+04</td>\n",
       "</tr>\n",
       "<tr>\n",
       "  <th>yr_built</th>      <td>-1.197e+05</td> <td> 3832.187</td> <td>  -31.225</td> <td> 0.000</td> <td>-1.27e+05</td> <td>-1.12e+05</td>\n",
       "</tr>\n",
       "<tr>\n",
       "  <th>yr_renovated</th>  <td>   23.0410</td> <td>    4.685</td> <td>    4.918</td> <td> 0.000</td> <td>   13.859</td> <td>   32.223</td>\n",
       "</tr>\n",
       "<tr>\n",
       "  <th>zipcode</th>       <td>-5.107e+04</td> <td> 3257.804</td> <td>  -15.677</td> <td> 0.000</td> <td>-5.75e+04</td> <td>-4.47e+04</td>\n",
       "</tr>\n",
       "<tr>\n",
       "  <th>lat</th>           <td> 1.231e+05</td> <td> 2615.820</td> <td>   47.071</td> <td> 0.000</td> <td> 1.18e+05</td> <td> 1.28e+05</td>\n",
       "</tr>\n",
       "<tr>\n",
       "  <th>long</th>          <td>-4.706e+04</td> <td> 3170.728</td> <td>  -14.842</td> <td> 0.000</td> <td>-5.33e+04</td> <td>-4.08e+04</td>\n",
       "</tr>\n",
       "<tr>\n",
       "  <th>sqft_living15</th> <td> 1.583e+04</td> <td> 3623.021</td> <td>    4.369</td> <td> 0.000</td> <td> 8728.936</td> <td> 2.29e+04</td>\n",
       "</tr>\n",
       "<tr>\n",
       "  <th>sqft_lot15</th>    <td>-1662.8687</td> <td>  426.972</td> <td>   -3.895</td> <td> 0.000</td> <td>-2499.781</td> <td> -825.956</td>\n",
       "</tr>\n",
       "</table>\n",
       "<table class=\"simpletable\">\n",
       "<tr>\n",
       "  <th>Omnibus:</th>       <td>14394.411</td> <th>  Durbin-Watson:     </th>  <td>   1.993</td>  \n",
       "</tr>\n",
       "<tr>\n",
       "  <th>Prob(Omnibus):</th>  <td> 0.000</td>   <th>  Jarque-Bera (JB):  </th> <td>1623766.776</td>\n",
       "</tr>\n",
       "<tr>\n",
       "  <th>Skew:</th>           <td> 3.801</td>   <th>  Prob(JB):          </th>  <td>    0.00</td>  \n",
       "</tr>\n",
       "<tr>\n",
       "  <th>Kurtosis:</th>       <td>51.459</td>   <th>  Cond. No.          </th>  <td>7.61e+03</td>  \n",
       "</tr>\n",
       "</table><br/><br/>Warnings:<br/>[1] Standard Errors assume that the covariance matrix of the errors is correctly specified.<br/>[2] The condition number is large, 7.61e+03. This might indicate that there are<br/>strong multicollinearity or other numerical problems."
      ],
      "text/plain": [
       "<class 'statsmodels.iolib.summary.Summary'>\n",
       "\"\"\"\n",
       "                            OLS Regression Results                            \n",
       "==============================================================================\n",
       "Dep. Variable:                  price   R-squared:                       0.698\n",
       "Model:                            OLS   Adj. R-squared:                  0.697\n",
       "Method:                 Least Squares   F-statistic:                     2073.\n",
       "Date:                Thu, 27 Aug 2020   Prob (F-statistic):               0.00\n",
       "Time:                        19:07:07   Log-Likelihood:            -2.2113e+05\n",
       "No. Observations:               16197   AIC:                         4.423e+05\n",
       "Df Residuals:                   16178   BIC:                         4.424e+05\n",
       "Df Model:                          18                                         \n",
       "Covariance Type:            nonrobust                                         \n",
       "=================================================================================\n",
       "                    coef    std err          t      P>|t|      [0.025      0.975]\n",
       "---------------------------------------------------------------------------------\n",
       "const          4.203e+05   7650.858     54.938      0.000    4.05e+05    4.35e+05\n",
       "bedrooms      -3.647e+04   2215.493    -16.460      0.000   -4.08e+04   -3.21e+04\n",
       "bathrooms      3.298e+04   2874.888     11.471      0.000    2.73e+04    3.86e+04\n",
       "sqft_living    1.093e+05   2.27e+04      4.806      0.000    6.47e+04    1.54e+05\n",
       "sqft_lot         65.8555    314.586      0.209      0.834    -550.767     682.478\n",
       "floors         3368.1634   4248.662      0.793      0.428   -4959.683    1.17e+04\n",
       "waterfront     6.074e+05   2.08e+04     29.155      0.000    5.67e+05    6.48e+05\n",
       "view           5.199e+04   2502.891     20.772      0.000    4.71e+04    5.69e+04\n",
       "condition      2.718e+04   2775.328      9.795      0.000    2.17e+04    3.26e+04\n",
       "grade          9.566e+04   2556.619     37.418      0.000    9.07e+04    1.01e+05\n",
       "sqft_above       9.4e+04   2.05e+04      4.581      0.000    5.38e+04    1.34e+05\n",
       "sqft_basement  3.358e+04   1.11e+04      3.035      0.002    1.19e+04    5.53e+04\n",
       "yr_built      -1.197e+05   3832.187    -31.225      0.000   -1.27e+05   -1.12e+05\n",
       "yr_renovated     23.0410      4.685      4.918      0.000      13.859      32.223\n",
       "zipcode       -5.107e+04   3257.804    -15.677      0.000   -5.75e+04   -4.47e+04\n",
       "lat            1.231e+05   2615.820     47.071      0.000    1.18e+05    1.28e+05\n",
       "long          -4.706e+04   3170.728    -14.842      0.000   -5.33e+04   -4.08e+04\n",
       "sqft_living15  1.583e+04   3623.021      4.369      0.000    8728.936    2.29e+04\n",
       "sqft_lot15    -1662.8687    426.972     -3.895      0.000   -2499.781    -825.956\n",
       "==============================================================================\n",
       "Omnibus:                    14394.411   Durbin-Watson:                   1.993\n",
       "Prob(Omnibus):                  0.000   Jarque-Bera (JB):          1623766.776\n",
       "Skew:                           3.801   Prob(JB):                         0.00\n",
       "Kurtosis:                      51.459   Cond. No.                     7.61e+03\n",
       "==============================================================================\n",
       "\n",
       "Warnings:\n",
       "[1] Standard Errors assume that the covariance matrix of the errors is correctly specified.\n",
       "[2] The condition number is large, 7.61e+03. This might indicate that there are\n",
       "strong multicollinearity or other numerical problems.\n",
       "\"\"\""
      ]
     },
     "metadata": {},
     "output_type": "display_data"
    },
    {
     "data": {
      "text/plain": [
       "const            420324.324402\n",
       "bedrooms         -36467.259301\n",
       "bathrooms         32976.555246\n",
       "sqft_living      109253.570774\n",
       "sqft_lot             65.855474\n",
       "floors             3368.163384\n",
       "waterfront       607377.630551\n",
       "view              51990.601828\n",
       "condition         27183.750236\n",
       "grade             95663.288130\n",
       "sqft_above        93996.665698\n",
       "sqft_basement     33575.743834\n",
       "yr_built        -119660.367156\n",
       "yr_renovated         23.040955\n",
       "zipcode          -51072.970083\n",
       "lat              123129.695515\n",
       "long             -47061.069907\n",
       "sqft_living15     15830.458745\n",
       "sqft_lot15        -1662.868712\n",
       "dtype: float64"
      ]
     },
     "execution_count": 57,
     "metadata": {},
     "output_type": "execute_result"
    }
   ],
   "source": [
    "import statsmodels.api as sm\n",
    "\n",
    "X_train_ols = sm.add_constant(X_train_sca)\n",
    "X_test_ols = sm.add_constant(X_test_sca)\n",
    "ols = sm.OLS(y_train,X_train_ols).fit()\n",
    "display(ols.summary())\n",
    "ols.params\n",
    "# fig = sm.graphics.qqplot(model.resid,fit=True,line='45')"
   ]
  },
  {
   "cell_type": "code",
   "execution_count": 58,
   "metadata": {
    "ExecuteTime": {
     "end_time": "2020-08-27T23:07:07.372139Z",
     "start_time": "2020-08-27T23:07:07.366189Z"
    }
   },
   "outputs": [],
   "source": [
    "def get_model_coeffs(X_df, sklearn_model=None, ols_model = None):\n",
    "    \n",
    "    coeffs_df = pd.DataFrame()\n",
    "    \n",
    "    if sklearn_model is not None:\n",
    "\n",
    "        coeffs = dict(zip(X_df.columns,sklearn_model.coef_))\n",
    "        coeffs['const'] = sklearn_model.intercept_\n",
    "\n",
    "        coeffs_df = pd.DataFrame(coeffs,index=['sklearn']).T\n",
    "\n",
    "    if ols_model is not None:\n",
    "        coeffs_df = coeffs_df.join(ols_model.params.rename('statsmodels'))\n",
    "        coeffs_df = coeffs_df.join(ols_model.pvalues.rename('p-values').round(4))\n",
    "        \n",
    "    return coeffs_df"
   ]
  },
  {
   "cell_type": "code",
   "execution_count": 59,
   "metadata": {
    "ExecuteTime": {
     "end_time": "2020-08-27T23:07:07.395102Z",
     "start_time": "2020-08-27T23:07:07.374152Z"
    }
   },
   "outputs": [
    {
     "data": {
      "text/html": [
       "<style  type=\"text/css\" >\n",
       "#T_0765822c_e8ba_11ea_8290_4865ee12e626row0_col2,#T_0765822c_e8ba_11ea_8290_4865ee12e626row1_col2,#T_0765822c_e8ba_11ea_8290_4865ee12e626row2_col2,#T_0765822c_e8ba_11ea_8290_4865ee12e626row5_col2,#T_0765822c_e8ba_11ea_8290_4865ee12e626row6_col2,#T_0765822c_e8ba_11ea_8290_4865ee12e626row7_col2,#T_0765822c_e8ba_11ea_8290_4865ee12e626row8_col2,#T_0765822c_e8ba_11ea_8290_4865ee12e626row9_col2,#T_0765822c_e8ba_11ea_8290_4865ee12e626row10_col2,#T_0765822c_e8ba_11ea_8290_4865ee12e626row11_col2,#T_0765822c_e8ba_11ea_8290_4865ee12e626row12_col2,#T_0765822c_e8ba_11ea_8290_4865ee12e626row13_col2,#T_0765822c_e8ba_11ea_8290_4865ee12e626row14_col2,#T_0765822c_e8ba_11ea_8290_4865ee12e626row15_col2,#T_0765822c_e8ba_11ea_8290_4865ee12e626row16_col2,#T_0765822c_e8ba_11ea_8290_4865ee12e626row17_col2,#T_0765822c_e8ba_11ea_8290_4865ee12e626row18_col2{\n",
       "            background-color:  #fff7fb;\n",
       "            color:  #000000;\n",
       "        }#T_0765822c_e8ba_11ea_8290_4865ee12e626row3_col2{\n",
       "            background-color:  #023858;\n",
       "            color:  #f1f1f1;\n",
       "        }#T_0765822c_e8ba_11ea_8290_4865ee12e626row4_col2{\n",
       "            background-color:  #6da6cd;\n",
       "            color:  #000000;\n",
       "        }</style><table id=\"T_0765822c_e8ba_11ea_8290_4865ee12e626\" ><thead>    <tr>        <th class=\"blank level0\" ></th>        <th class=\"col_heading level0 col0\" >sklearn</th>        <th class=\"col_heading level0 col1\" >statsmodels</th>        <th class=\"col_heading level0 col2\" >p-values</th>    </tr></thead><tbody>\n",
       "                <tr>\n",
       "                        <th id=\"T_0765822c_e8ba_11ea_8290_4865ee12e626level0_row0\" class=\"row_heading level0 row0\" >bedrooms</th>\n",
       "                        <td id=\"T_0765822c_e8ba_11ea_8290_4865ee12e626row0_col0\" class=\"data row0 col0\" >-36467.259301</td>\n",
       "                        <td id=\"T_0765822c_e8ba_11ea_8290_4865ee12e626row0_col1\" class=\"data row0 col1\" >-36467.259301</td>\n",
       "                        <td id=\"T_0765822c_e8ba_11ea_8290_4865ee12e626row0_col2\" class=\"data row0 col2\" >0.000000</td>\n",
       "            </tr>\n",
       "            <tr>\n",
       "                        <th id=\"T_0765822c_e8ba_11ea_8290_4865ee12e626level0_row1\" class=\"row_heading level0 row1\" >bathrooms</th>\n",
       "                        <td id=\"T_0765822c_e8ba_11ea_8290_4865ee12e626row1_col0\" class=\"data row1 col0\" >32976.555246</td>\n",
       "                        <td id=\"T_0765822c_e8ba_11ea_8290_4865ee12e626row1_col1\" class=\"data row1 col1\" >32976.555246</td>\n",
       "                        <td id=\"T_0765822c_e8ba_11ea_8290_4865ee12e626row1_col2\" class=\"data row1 col2\" >0.000000</td>\n",
       "            </tr>\n",
       "            <tr>\n",
       "                        <th id=\"T_0765822c_e8ba_11ea_8290_4865ee12e626level0_row2\" class=\"row_heading level0 row2\" >sqft_living</th>\n",
       "                        <td id=\"T_0765822c_e8ba_11ea_8290_4865ee12e626row2_col0\" class=\"data row2 col0\" >109253.570774</td>\n",
       "                        <td id=\"T_0765822c_e8ba_11ea_8290_4865ee12e626row2_col1\" class=\"data row2 col1\" >109253.570774</td>\n",
       "                        <td id=\"T_0765822c_e8ba_11ea_8290_4865ee12e626row2_col2\" class=\"data row2 col2\" >0.000000</td>\n",
       "            </tr>\n",
       "            <tr>\n",
       "                        <th id=\"T_0765822c_e8ba_11ea_8290_4865ee12e626level0_row3\" class=\"row_heading level0 row3\" >sqft_lot</th>\n",
       "                        <td id=\"T_0765822c_e8ba_11ea_8290_4865ee12e626row3_col0\" class=\"data row3 col0\" >65.855474</td>\n",
       "                        <td id=\"T_0765822c_e8ba_11ea_8290_4865ee12e626row3_col1\" class=\"data row3 col1\" >65.855474</td>\n",
       "                        <td id=\"T_0765822c_e8ba_11ea_8290_4865ee12e626row3_col2\" class=\"data row3 col2\" >0.834200</td>\n",
       "            </tr>\n",
       "            <tr>\n",
       "                        <th id=\"T_0765822c_e8ba_11ea_8290_4865ee12e626level0_row4\" class=\"row_heading level0 row4\" >floors</th>\n",
       "                        <td id=\"T_0765822c_e8ba_11ea_8290_4865ee12e626row4_col0\" class=\"data row4 col0\" >3368.163384</td>\n",
       "                        <td id=\"T_0765822c_e8ba_11ea_8290_4865ee12e626row4_col1\" class=\"data row4 col1\" >3368.163384</td>\n",
       "                        <td id=\"T_0765822c_e8ba_11ea_8290_4865ee12e626row4_col2\" class=\"data row4 col2\" >0.427900</td>\n",
       "            </tr>\n",
       "            <tr>\n",
       "                        <th id=\"T_0765822c_e8ba_11ea_8290_4865ee12e626level0_row5\" class=\"row_heading level0 row5\" >waterfront</th>\n",
       "                        <td id=\"T_0765822c_e8ba_11ea_8290_4865ee12e626row5_col0\" class=\"data row5 col0\" >607377.630551</td>\n",
       "                        <td id=\"T_0765822c_e8ba_11ea_8290_4865ee12e626row5_col1\" class=\"data row5 col1\" >607377.630551</td>\n",
       "                        <td id=\"T_0765822c_e8ba_11ea_8290_4865ee12e626row5_col2\" class=\"data row5 col2\" >0.000000</td>\n",
       "            </tr>\n",
       "            <tr>\n",
       "                        <th id=\"T_0765822c_e8ba_11ea_8290_4865ee12e626level0_row6\" class=\"row_heading level0 row6\" >view</th>\n",
       "                        <td id=\"T_0765822c_e8ba_11ea_8290_4865ee12e626row6_col0\" class=\"data row6 col0\" >51990.601828</td>\n",
       "                        <td id=\"T_0765822c_e8ba_11ea_8290_4865ee12e626row6_col1\" class=\"data row6 col1\" >51990.601828</td>\n",
       "                        <td id=\"T_0765822c_e8ba_11ea_8290_4865ee12e626row6_col2\" class=\"data row6 col2\" >0.000000</td>\n",
       "            </tr>\n",
       "            <tr>\n",
       "                        <th id=\"T_0765822c_e8ba_11ea_8290_4865ee12e626level0_row7\" class=\"row_heading level0 row7\" >condition</th>\n",
       "                        <td id=\"T_0765822c_e8ba_11ea_8290_4865ee12e626row7_col0\" class=\"data row7 col0\" >27183.750236</td>\n",
       "                        <td id=\"T_0765822c_e8ba_11ea_8290_4865ee12e626row7_col1\" class=\"data row7 col1\" >27183.750236</td>\n",
       "                        <td id=\"T_0765822c_e8ba_11ea_8290_4865ee12e626row7_col2\" class=\"data row7 col2\" >0.000000</td>\n",
       "            </tr>\n",
       "            <tr>\n",
       "                        <th id=\"T_0765822c_e8ba_11ea_8290_4865ee12e626level0_row8\" class=\"row_heading level0 row8\" >grade</th>\n",
       "                        <td id=\"T_0765822c_e8ba_11ea_8290_4865ee12e626row8_col0\" class=\"data row8 col0\" >95663.288130</td>\n",
       "                        <td id=\"T_0765822c_e8ba_11ea_8290_4865ee12e626row8_col1\" class=\"data row8 col1\" >95663.288130</td>\n",
       "                        <td id=\"T_0765822c_e8ba_11ea_8290_4865ee12e626row8_col2\" class=\"data row8 col2\" >0.000000</td>\n",
       "            </tr>\n",
       "            <tr>\n",
       "                        <th id=\"T_0765822c_e8ba_11ea_8290_4865ee12e626level0_row9\" class=\"row_heading level0 row9\" >sqft_above</th>\n",
       "                        <td id=\"T_0765822c_e8ba_11ea_8290_4865ee12e626row9_col0\" class=\"data row9 col0\" >93996.665698</td>\n",
       "                        <td id=\"T_0765822c_e8ba_11ea_8290_4865ee12e626row9_col1\" class=\"data row9 col1\" >93996.665698</td>\n",
       "                        <td id=\"T_0765822c_e8ba_11ea_8290_4865ee12e626row9_col2\" class=\"data row9 col2\" >0.000000</td>\n",
       "            </tr>\n",
       "            <tr>\n",
       "                        <th id=\"T_0765822c_e8ba_11ea_8290_4865ee12e626level0_row10\" class=\"row_heading level0 row10\" >sqft_basement</th>\n",
       "                        <td id=\"T_0765822c_e8ba_11ea_8290_4865ee12e626row10_col0\" class=\"data row10 col0\" >33575.743834</td>\n",
       "                        <td id=\"T_0765822c_e8ba_11ea_8290_4865ee12e626row10_col1\" class=\"data row10 col1\" >33575.743834</td>\n",
       "                        <td id=\"T_0765822c_e8ba_11ea_8290_4865ee12e626row10_col2\" class=\"data row10 col2\" >0.002400</td>\n",
       "            </tr>\n",
       "            <tr>\n",
       "                        <th id=\"T_0765822c_e8ba_11ea_8290_4865ee12e626level0_row11\" class=\"row_heading level0 row11\" >yr_built</th>\n",
       "                        <td id=\"T_0765822c_e8ba_11ea_8290_4865ee12e626row11_col0\" class=\"data row11 col0\" >-119660.367156</td>\n",
       "                        <td id=\"T_0765822c_e8ba_11ea_8290_4865ee12e626row11_col1\" class=\"data row11 col1\" >-119660.367156</td>\n",
       "                        <td id=\"T_0765822c_e8ba_11ea_8290_4865ee12e626row11_col2\" class=\"data row11 col2\" >0.000000</td>\n",
       "            </tr>\n",
       "            <tr>\n",
       "                        <th id=\"T_0765822c_e8ba_11ea_8290_4865ee12e626level0_row12\" class=\"row_heading level0 row12\" >yr_renovated</th>\n",
       "                        <td id=\"T_0765822c_e8ba_11ea_8290_4865ee12e626row12_col0\" class=\"data row12 col0\" >23.040955</td>\n",
       "                        <td id=\"T_0765822c_e8ba_11ea_8290_4865ee12e626row12_col1\" class=\"data row12 col1\" >23.040955</td>\n",
       "                        <td id=\"T_0765822c_e8ba_11ea_8290_4865ee12e626row12_col2\" class=\"data row12 col2\" >0.000000</td>\n",
       "            </tr>\n",
       "            <tr>\n",
       "                        <th id=\"T_0765822c_e8ba_11ea_8290_4865ee12e626level0_row13\" class=\"row_heading level0 row13\" >zipcode</th>\n",
       "                        <td id=\"T_0765822c_e8ba_11ea_8290_4865ee12e626row13_col0\" class=\"data row13 col0\" >-51072.970083</td>\n",
       "                        <td id=\"T_0765822c_e8ba_11ea_8290_4865ee12e626row13_col1\" class=\"data row13 col1\" >-51072.970083</td>\n",
       "                        <td id=\"T_0765822c_e8ba_11ea_8290_4865ee12e626row13_col2\" class=\"data row13 col2\" >0.000000</td>\n",
       "            </tr>\n",
       "            <tr>\n",
       "                        <th id=\"T_0765822c_e8ba_11ea_8290_4865ee12e626level0_row14\" class=\"row_heading level0 row14\" >lat</th>\n",
       "                        <td id=\"T_0765822c_e8ba_11ea_8290_4865ee12e626row14_col0\" class=\"data row14 col0\" >123129.695515</td>\n",
       "                        <td id=\"T_0765822c_e8ba_11ea_8290_4865ee12e626row14_col1\" class=\"data row14 col1\" >123129.695515</td>\n",
       "                        <td id=\"T_0765822c_e8ba_11ea_8290_4865ee12e626row14_col2\" class=\"data row14 col2\" >0.000000</td>\n",
       "            </tr>\n",
       "            <tr>\n",
       "                        <th id=\"T_0765822c_e8ba_11ea_8290_4865ee12e626level0_row15\" class=\"row_heading level0 row15\" >long</th>\n",
       "                        <td id=\"T_0765822c_e8ba_11ea_8290_4865ee12e626row15_col0\" class=\"data row15 col0\" >-47061.069907</td>\n",
       "                        <td id=\"T_0765822c_e8ba_11ea_8290_4865ee12e626row15_col1\" class=\"data row15 col1\" >-47061.069907</td>\n",
       "                        <td id=\"T_0765822c_e8ba_11ea_8290_4865ee12e626row15_col2\" class=\"data row15 col2\" >0.000000</td>\n",
       "            </tr>\n",
       "            <tr>\n",
       "                        <th id=\"T_0765822c_e8ba_11ea_8290_4865ee12e626level0_row16\" class=\"row_heading level0 row16\" >sqft_living15</th>\n",
       "                        <td id=\"T_0765822c_e8ba_11ea_8290_4865ee12e626row16_col0\" class=\"data row16 col0\" >15830.458745</td>\n",
       "                        <td id=\"T_0765822c_e8ba_11ea_8290_4865ee12e626row16_col1\" class=\"data row16 col1\" >15830.458745</td>\n",
       "                        <td id=\"T_0765822c_e8ba_11ea_8290_4865ee12e626row16_col2\" class=\"data row16 col2\" >0.000000</td>\n",
       "            </tr>\n",
       "            <tr>\n",
       "                        <th id=\"T_0765822c_e8ba_11ea_8290_4865ee12e626level0_row17\" class=\"row_heading level0 row17\" >sqft_lot15</th>\n",
       "                        <td id=\"T_0765822c_e8ba_11ea_8290_4865ee12e626row17_col0\" class=\"data row17 col0\" >-1662.868712</td>\n",
       "                        <td id=\"T_0765822c_e8ba_11ea_8290_4865ee12e626row17_col1\" class=\"data row17 col1\" >-1662.868712</td>\n",
       "                        <td id=\"T_0765822c_e8ba_11ea_8290_4865ee12e626row17_col2\" class=\"data row17 col2\" >0.000100</td>\n",
       "            </tr>\n",
       "            <tr>\n",
       "                        <th id=\"T_0765822c_e8ba_11ea_8290_4865ee12e626level0_row18\" class=\"row_heading level0 row18\" >const</th>\n",
       "                        <td id=\"T_0765822c_e8ba_11ea_8290_4865ee12e626row18_col0\" class=\"data row18 col0\" >420324.324402</td>\n",
       "                        <td id=\"T_0765822c_e8ba_11ea_8290_4865ee12e626row18_col1\" class=\"data row18 col1\" >420324.324402</td>\n",
       "                        <td id=\"T_0765822c_e8ba_11ea_8290_4865ee12e626row18_col2\" class=\"data row18 col2\" >0.000000</td>\n",
       "            </tr>\n",
       "    </tbody></table>"
      ],
      "text/plain": [
       "<pandas.io.formats.style.Styler at 0x13c9814a8>"
      ]
     },
     "execution_count": 59,
     "metadata": {},
     "output_type": "execute_result"
    }
   ],
   "source": [
    "coeffs_df = get_model_coeffs(X_train_cln,linreg,ols)\n",
    "coeffs_df.style.background_gradient(subset=['p-values'])"
   ]
  },
  {
   "cell_type": "markdown",
   "metadata": {},
   "source": [
    "### Using Lasso Regression for Feature Selection"
   ]
  },
  {
   "cell_type": "code",
   "execution_count": 60,
   "metadata": {
    "ExecuteTime": {
     "end_time": "2020-08-27T23:07:07.608602Z",
     "start_time": "2020-08-27T23:07:07.397092Z"
    }
   },
   "outputs": [
    {
     "data": {
      "text/plain": [
       "train-R2           0.648688\n",
       "test-R2            0.668293\n",
       "train-RMSE    221526.206840\n",
       "test-RMSE     200127.824527\n",
       "dtype: float64"
      ]
     },
     "metadata": {},
     "output_type": "display_data"
    },
    {
     "data": {
      "text/html": [
       "<div>\n",
       "<style scoped>\n",
       "    .dataframe tbody tr th:only-of-type {\n",
       "        vertical-align: middle;\n",
       "    }\n",
       "\n",
       "    .dataframe tbody tr th {\n",
       "        vertical-align: top;\n",
       "    }\n",
       "\n",
       "    .dataframe thead th {\n",
       "        text-align: right;\n",
       "    }\n",
       "</style>\n",
       "<table border=\"1\" class=\"dataframe\">\n",
       "  <thead>\n",
       "    <tr style=\"text-align: right;\">\n",
       "      <th></th>\n",
       "      <th>sklearn</th>\n",
       "    </tr>\n",
       "  </thead>\n",
       "  <tbody>\n",
       "    <tr>\n",
       "      <th>bedrooms</th>\n",
       "      <td>-0.00</td>\n",
       "    </tr>\n",
       "    <tr>\n",
       "      <th>bathrooms</th>\n",
       "      <td>0.00</td>\n",
       "    </tr>\n",
       "    <tr>\n",
       "      <th>sqft_living</th>\n",
       "      <td>175947.06</td>\n",
       "    </tr>\n",
       "    <tr>\n",
       "      <th>sqft_lot</th>\n",
       "      <td>-0.00</td>\n",
       "    </tr>\n",
       "    <tr>\n",
       "      <th>floors</th>\n",
       "      <td>0.00</td>\n",
       "    </tr>\n",
       "    <tr>\n",
       "      <th>waterfront</th>\n",
       "      <td>0.00</td>\n",
       "    </tr>\n",
       "    <tr>\n",
       "      <th>view</th>\n",
       "      <td>63492.23</td>\n",
       "    </tr>\n",
       "    <tr>\n",
       "      <th>condition</th>\n",
       "      <td>1097.08</td>\n",
       "    </tr>\n",
       "    <tr>\n",
       "      <th>grade</th>\n",
       "      <td>104372.83</td>\n",
       "    </tr>\n",
       "    <tr>\n",
       "      <th>sqft_above</th>\n",
       "      <td>0.00</td>\n",
       "    </tr>\n",
       "    <tr>\n",
       "      <th>sqft_basement</th>\n",
       "      <td>0.00</td>\n",
       "    </tr>\n",
       "    <tr>\n",
       "      <th>yr_built</th>\n",
       "      <td>-59649.01</td>\n",
       "    </tr>\n",
       "    <tr>\n",
       "      <th>yr_renovated</th>\n",
       "      <td>58.39</td>\n",
       "    </tr>\n",
       "    <tr>\n",
       "      <th>zipcode</th>\n",
       "      <td>-0.00</td>\n",
       "    </tr>\n",
       "    <tr>\n",
       "      <th>lat</th>\n",
       "      <td>87816.31</td>\n",
       "    </tr>\n",
       "    <tr>\n",
       "      <th>long</th>\n",
       "      <td>-0.00</td>\n",
       "    </tr>\n",
       "    <tr>\n",
       "      <th>sqft_living15</th>\n",
       "      <td>0.00</td>\n",
       "    </tr>\n",
       "    <tr>\n",
       "      <th>sqft_lot15</th>\n",
       "      <td>-788.39</td>\n",
       "    </tr>\n",
       "    <tr>\n",
       "      <th>const</th>\n",
       "      <td>428182.51</td>\n",
       "    </tr>\n",
       "  </tbody>\n",
       "</table>\n",
       "</div>"
      ],
      "text/plain": [
       "                 sklearn\n",
       "bedrooms           -0.00\n",
       "bathrooms           0.00\n",
       "sqft_living    175947.06\n",
       "sqft_lot           -0.00\n",
       "floors              0.00\n",
       "waterfront          0.00\n",
       "view            63492.23\n",
       "condition        1097.08\n",
       "grade          104372.83\n",
       "sqft_above          0.00\n",
       "sqft_basement       0.00\n",
       "yr_built       -59649.01\n",
       "yr_renovated       58.39\n",
       "zipcode            -0.00\n",
       "lat             87816.31\n",
       "long               -0.00\n",
       "sqft_living15       0.00\n",
       "sqft_lot15       -788.39\n",
       "const          428182.51"
      ]
     },
     "execution_count": 60,
     "metadata": {},
     "output_type": "execute_result"
    }
   ],
   "source": [
    "from sklearn.feature_selection import SelectFromModel\n",
    "from sklearn.linear_model import LassoCV,Lasso\n",
    "# lassocv =LassoCV()\n",
    "\n",
    "lasso_cv = fit_evaluate_model(LassoCV(),X_train_sca,X_test_sca,y_train,y_test)\n",
    "res_df = get_model_coeffs(X_train_sca,lasso_cv)\n",
    "res_df = res_df.round(2)\n",
    "res_df"
   ]
  },
  {
   "cell_type": "code",
   "execution_count": 61,
   "metadata": {
    "ExecuteTime": {
     "end_time": "2020-08-27T23:07:07.616362Z",
     "start_time": "2020-08-27T23:07:07.610566Z"
    }
   },
   "outputs": [
    {
     "data": {
      "text/plain": [
       "['bedrooms',\n",
       " 'bathrooms',\n",
       " 'sqft_lot',\n",
       " 'floors',\n",
       " 'waterfront',\n",
       " 'sqft_above',\n",
       " 'sqft_basement',\n",
       " 'zipcode',\n",
       " 'long',\n",
       " 'sqft_living15']"
      ]
     },
     "execution_count": 61,
     "metadata": {},
     "output_type": "execute_result"
    }
   ],
   "source": [
    "removed_coeffs = list(res_df[res_df['sklearn']==0].index)\n",
    "removed_coeffs"
   ]
  },
  {
   "cell_type": "code",
   "execution_count": 62,
   "metadata": {
    "ExecuteTime": {
     "end_time": "2020-08-27T23:07:07.626669Z",
     "start_time": "2020-08-27T23:07:07.618337Z"
    }
   },
   "outputs": [],
   "source": [
    "X_train_ols.drop(columns=removed_coeffs,inplace=True)\n",
    "X_test_ols.drop(columns=removed_coeffs,inplace=True)"
   ]
  },
  {
   "cell_type": "code",
   "execution_count": 63,
   "metadata": {
    "ExecuteTime": {
     "end_time": "2020-08-27T23:07:07.851503Z",
     "start_time": "2020-08-27T23:07:07.628486Z"
    }
   },
   "outputs": [
    {
     "data": {
      "text/html": [
       "<table class=\"simpletable\">\n",
       "<caption>OLS Regression Results</caption>\n",
       "<tr>\n",
       "  <th>Dep. Variable:</th>          <td>price</td>      <th>  R-squared:         </th>  <td>   0.666</td>  \n",
       "</tr>\n",
       "<tr>\n",
       "  <th>Model:</th>                   <td>OLS</td>       <th>  Adj. R-squared:    </th>  <td>   0.666</td>  \n",
       "</tr>\n",
       "<tr>\n",
       "  <th>Method:</th>             <td>Least Squares</td>  <th>  F-statistic:       </th>  <td>   4044.</td>  \n",
       "</tr>\n",
       "<tr>\n",
       "  <th>Date:</th>             <td>Thu, 27 Aug 2020</td> <th>  Prob (F-statistic):</th>   <td>  0.00</td>   \n",
       "</tr>\n",
       "<tr>\n",
       "  <th>Time:</th>                 <td>19:07:07</td>     <th>  Log-Likelihood:    </th> <td>-2.2192e+05</td>\n",
       "</tr>\n",
       "<tr>\n",
       "  <th>No. Observations:</th>      <td> 16197</td>      <th>  AIC:               </th>  <td>4.439e+05</td> \n",
       "</tr>\n",
       "<tr>\n",
       "  <th>Df Residuals:</th>          <td> 16188</td>      <th>  BIC:               </th>  <td>4.439e+05</td> \n",
       "</tr>\n",
       "<tr>\n",
       "  <th>Df Model:</th>              <td>     8</td>      <th>                     </th>      <td> </td>     \n",
       "</tr>\n",
       "<tr>\n",
       "  <th>Covariance Type:</th>      <td>nonrobust</td>    <th>                     </th>      <td> </td>     \n",
       "</tr>\n",
       "</table>\n",
       "<table class=\"simpletable\">\n",
       "<tr>\n",
       "        <td></td>          <th>coef</th>     <th>std err</th>      <th>t</th>      <th>P>|t|</th>  <th>[0.025</th>    <th>0.975]</th>  \n",
       "</tr>\n",
       "<tr>\n",
       "  <th>const</th>        <td> 4.044e+05</td> <td> 2515.901</td> <td>  160.740</td> <td> 0.000</td> <td> 3.99e+05</td> <td> 4.09e+05</td>\n",
       "</tr>\n",
       "<tr>\n",
       "  <th>sqft_living</th>  <td> 1.998e+05</td> <td> 3275.957</td> <td>   60.976</td> <td> 0.000</td> <td> 1.93e+05</td> <td> 2.06e+05</td>\n",
       "</tr>\n",
       "<tr>\n",
       "  <th>view</th>         <td>     8e+04</td> <td> 2357.074</td> <td>   33.942</td> <td> 0.000</td> <td> 7.54e+04</td> <td> 8.46e+04</td>\n",
       "</tr>\n",
       "<tr>\n",
       "  <th>condition</th>    <td>  2.87e+04</td> <td> 2848.506</td> <td>   10.076</td> <td> 0.000</td> <td> 2.31e+04</td> <td> 3.43e+04</td>\n",
       "</tr>\n",
       "<tr>\n",
       "  <th>grade</th>        <td> 1.129e+05</td> <td> 2438.927</td> <td>   46.298</td> <td> 0.000</td> <td> 1.08e+05</td> <td> 1.18e+05</td>\n",
       "</tr>\n",
       "<tr>\n",
       "  <th>yr_built</th>     <td>-1.021e+05</td> <td> 3348.432</td> <td>  -30.482</td> <td> 0.000</td> <td>-1.09e+05</td> <td>-9.55e+04</td>\n",
       "</tr>\n",
       "<tr>\n",
       "  <th>yr_renovated</th> <td>   37.6067</td> <td>    4.850</td> <td>    7.753</td> <td> 0.000</td> <td>   28.099</td> <td>   47.114</td>\n",
       "</tr>\n",
       "<tr>\n",
       "  <th>lat</th>          <td> 1.154e+05</td> <td> 2643.336</td> <td>   43.651</td> <td> 0.000</td> <td>  1.1e+05</td> <td> 1.21e+05</td>\n",
       "</tr>\n",
       "<tr>\n",
       "  <th>sqft_lot15</th>   <td>-1784.3341</td> <td>  325.025</td> <td>   -5.490</td> <td> 0.000</td> <td>-2421.419</td> <td>-1147.249</td>\n",
       "</tr>\n",
       "</table>\n",
       "<table class=\"simpletable\">\n",
       "<tr>\n",
       "  <th>Omnibus:</th>       <td>15463.876</td> <th>  Durbin-Watson:     </th>  <td>   2.000</td>  \n",
       "</tr>\n",
       "<tr>\n",
       "  <th>Prob(Omnibus):</th>  <td> 0.000</td>   <th>  Jarque-Bera (JB):  </th> <td>1975485.632</td>\n",
       "</tr>\n",
       "<tr>\n",
       "  <th>Skew:</th>           <td> 4.260</td>   <th>  Prob(JB):          </th>  <td>    0.00</td>  \n",
       "</tr>\n",
       "<tr>\n",
       "  <th>Kurtosis:</th>       <td>56.428</td>   <th>  Cond. No.          </th>  <td>    908.</td>  \n",
       "</tr>\n",
       "</table><br/><br/>Warnings:<br/>[1] Standard Errors assume that the covariance matrix of the errors is correctly specified."
      ],
      "text/plain": [
       "<class 'statsmodels.iolib.summary.Summary'>\n",
       "\"\"\"\n",
       "                            OLS Regression Results                            \n",
       "==============================================================================\n",
       "Dep. Variable:                  price   R-squared:                       0.666\n",
       "Model:                            OLS   Adj. R-squared:                  0.666\n",
       "Method:                 Least Squares   F-statistic:                     4044.\n",
       "Date:                Thu, 27 Aug 2020   Prob (F-statistic):               0.00\n",
       "Time:                        19:07:07   Log-Likelihood:            -2.2192e+05\n",
       "No. Observations:               16197   AIC:                         4.439e+05\n",
       "Df Residuals:                   16188   BIC:                         4.439e+05\n",
       "Df Model:                           8                                         \n",
       "Covariance Type:            nonrobust                                         \n",
       "================================================================================\n",
       "                   coef    std err          t      P>|t|      [0.025      0.975]\n",
       "--------------------------------------------------------------------------------\n",
       "const         4.044e+05   2515.901    160.740      0.000    3.99e+05    4.09e+05\n",
       "sqft_living   1.998e+05   3275.957     60.976      0.000    1.93e+05    2.06e+05\n",
       "view              8e+04   2357.074     33.942      0.000    7.54e+04    8.46e+04\n",
       "condition      2.87e+04   2848.506     10.076      0.000    2.31e+04    3.43e+04\n",
       "grade         1.129e+05   2438.927     46.298      0.000    1.08e+05    1.18e+05\n",
       "yr_built     -1.021e+05   3348.432    -30.482      0.000   -1.09e+05   -9.55e+04\n",
       "yr_renovated    37.6067      4.850      7.753      0.000      28.099      47.114\n",
       "lat           1.154e+05   2643.336     43.651      0.000     1.1e+05    1.21e+05\n",
       "sqft_lot15   -1784.3341    325.025     -5.490      0.000   -2421.419   -1147.249\n",
       "==============================================================================\n",
       "Omnibus:                    15463.876   Durbin-Watson:                   2.000\n",
       "Prob(Omnibus):                  0.000   Jarque-Bera (JB):          1975485.632\n",
       "Skew:                           4.260   Prob(JB):                         0.00\n",
       "Kurtosis:                      56.428   Cond. No.                         908.\n",
       "==============================================================================\n",
       "\n",
       "Warnings:\n",
       "[1] Standard Errors assume that the covariance matrix of the errors is correctly specified.\n",
       "\"\"\""
      ]
     },
     "metadata": {},
     "output_type": "display_data"
    },
    {
     "data": {
      "image/png": "[encoded data removed]",
      "text/plain": [
       "<Figure size 432x288 with 1 Axes>"
      ]
     },
     "metadata": {
      "needs_background": "light"
     },
     "output_type": "display_data"
    }
   ],
   "source": [
    "model = sm.OLS(y_train, X_train_ols).fit()\n",
    "display(model.summary())\n",
    "fig = sm.graphics.qqplot(model.resid,fit=True,line='45')"
   ]
  },
  {
   "cell_type": "code",
   "execution_count": 64,
   "metadata": {
    "ExecuteTime": {
     "end_time": "2020-08-27T23:07:07.855329Z",
     "start_time": "2020-08-27T23:07:07.853151Z"
    }
   },
   "outputs": [],
   "source": [
    "# lassocv.fit(X_train_sca,y_train)\n",
    "# y_hat_train = lassocv.predict(X_train_sca)\n",
    "# y_hat_test = lassocv.predict(X_test_sca)"
   ]
  },
  {
   "cell_type": "markdown",
   "metadata": {},
   "source": [
    "### Exhibit A: The case for functions and dictionaries"
   ]
  },
  {
   "cell_type": "markdown",
   "metadata": {},
   "source": [
    "- Code From [Ridge And Lasso Regression Lesson](https://learn.co/tracks/module-3-data-science-career-2-1/machine-learning/section-24-feature-selection-ridge-and-lasso/ridge-and-lasso-regression)\n",
    "\n",
    "- The following code is from the Learn.co lesson and its goal is to create,fit and evaluate 3 different models to compare the results."
   ]
  },
  {
   "cell_type": "code",
   "execution_count": 65,
   "metadata": {
    "ExecuteTime": {
     "end_time": "2020-08-27T23:07:07.860013Z",
     "start_time": "2020-08-27T23:07:07.856733Z"
    }
   },
   "outputs": [
    {
     "data": {
      "text/plain": [
       "((16197,), (5400,))"
      ]
     },
     "execution_count": 65,
     "metadata": {},
     "output_type": "execute_result"
    }
   ],
   "source": [
    "y_train.shape, y_test.shape"
   ]
  },
  {
   "cell_type": "code",
   "execution_count": 66,
   "metadata": {
    "ExecuteTime": {
     "end_time": "2020-08-27T23:07:08.476312Z",
     "start_time": "2020-08-27T23:07:07.861567Z"
    }
   },
   "outputs": [
    {
     "name": "stdout",
     "output_type": "stream",
     "text": [
      "Train Error Ridge Model 684160572397506.6\n",
      "Test Error Ridge Model 191037421634241.0\n",
      "\n",
      "\n",
      "Train Error Lasso Model 684159645158872.0\n",
      "Test Error Lasso Model 191029874247614.2\n",
      "\n",
      "\n",
      "Train Error Unpenalized Linear Model 684159642508145.6\n",
      "Test Error Unpenalized Linear Model 191030186606736.75\n",
      "\n",
      "\n",
      "\n",
      "\n",
      "Ridge parameter coefficients:\n",
      " [-3.64786523e+04  3.29736409e+04  1.09192194e+05  6.54357495e+01\n",
      "  3.36674111e+03  6.04293643e+05  5.21225315e+04  2.71933056e+04\n",
      "  9.56532283e+04  9.40758267e+04  3.36076203e+04 -1.19638660e+05\n",
      "  2.30863725e+01 -5.10667097e+04  1.23116744e+05 -4.70664305e+04\n",
      "  1.58184685e+04 -1.66218377e+03]\n",
      "Lasso parameter coefficients:\n",
      " [-3.64664652e+04  3.29736976e+04  1.09405059e+05  6.58428424e+01\n",
      "  3.36753174e+03  6.07300107e+05  5.19933451e+04  2.71824993e+04\n",
      "  9.56646853e+04  9.38608478e+04  3.35028131e+04 -1.19657592e+05\n",
      "  2.30425758e+01 -5.10698600e+04  1.23128012e+05 -4.70583690e+04\n",
      "  1.58279346e+04 -1.66287700e+03]\n",
      "Linear model parameter coefficients:\n",
      " [-3.64672593e+04  3.29765552e+04  1.09253571e+05  6.58554735e+01\n",
      "  3.36816338e+03  6.07377631e+05  5.19906018e+04  2.71837502e+04\n",
      "  9.56632881e+04  9.39966657e+04  3.35757438e+04 -1.19660367e+05\n",
      "  2.30409553e+01 -5.10729701e+04  1.23129696e+05 -4.70610699e+04\n",
      "  1.58304587e+04 -1.66286871e+03]\n"
     ]
    },
    {
     "name": "stderr",
     "output_type": "stream",
     "text": [
      "/opt/anaconda3/envs/learn-env/lib/python3.6/site-packages/sklearn/linear_model/_coordinate_descent.py:531: ConvergenceWarning:\n",
      "\n",
      "Objective did not converge. You might want to increase the number of iterations. Duality gap: 1015634814617.375, tolerance: 226251545093.74475\n",
      "\n"
     ]
    }
   ],
   "source": [
    "# Build a Ridge, Lasso and regular linear regression model  \n",
    "# Note that in scikit-learn, the regularization parameter is denoted by alpha (and not lambda)\n",
    "ridge = Ridge(alpha=0.5)\n",
    "ridge.fit(X_train_sca, y_train)\n",
    "\n",
    "lasso = Lasso(alpha=0.5)\n",
    "lasso.fit(X_train_sca, y_train)\n",
    "\n",
    "lin = LinearRegression()\n",
    "lin.fit(X_train_sca, y_train)\n",
    "\n",
    "\n",
    "# Generate preditions for training and test sets\n",
    "y_h_ridge_train = ridge.predict(X_train_sca)\n",
    "y_h_ridge_test = ridge.predict(X_test_sca)\n",
    "\n",
    "y_h_lasso_train = np.reshape(lasso.predict(X_train_sca), y_train.shape)\n",
    "y_h_lasso_test = np.reshape(lasso.predict(X_test_sca),  y_test.shape)\n",
    "\n",
    "y_h_lin_train = lin.predict(X_train_sca)\n",
    "y_h_lin_test = lin.predict(X_test_sca)\n",
    "\n",
    "\n",
    "print('Train Error Ridge Model', np.sum((y_train - y_h_ridge_train)**2))\n",
    "print('Test Error Ridge Model', np.sum((y_test - y_h_ridge_test)**2))\n",
    "print('\\n')\n",
    "\n",
    "print('Train Error Lasso Model', np.sum((y_train - y_h_lasso_train)**2))\n",
    "print('Test Error Lasso Model', np.sum((y_test - y_h_lasso_test)**2))\n",
    "print('\\n')\n",
    "\n",
    "print('Train Error Unpenalized Linear Model', \n",
    "      np.sum((y_train - lin.predict(X_train_sca))**2))\n",
    "print('Test Error Unpenalized Linear Model', \n",
    "      np.sum((y_test - lin.predict(X_test_sca))**2))\n",
    "print('\\n'*3)\n",
    "print('Ridge parameter coefficients:\\n', ridge.coef_)\n",
    "print('Lasso parameter coefficients:\\n', lasso.coef_)\n",
    "print('Linear model parameter coefficients:\\n', lin.coef_)"
   ]
  },
  {
   "cell_type": "markdown",
   "metadata": {},
   "source": [
    "### Q1: What are the issues/limitations of the way we tested/compared the 3 different types of models? \n",
    "-  A: If we wanted to add another model type, we'd have to copy a lot and edit a lot."
   ]
  },
  {
   "cell_type": "markdown",
   "metadata": {},
   "source": [
    "### Q2: What other limitation does the above code have? (what is inflexible?)\n",
    "\n",
    "- A: hard coded values for data shapes"
   ]
  },
  {
   "cell_type": "markdown",
   "metadata": {},
   "source": [
    "### Whats the solution? \n",
    "- Functions and dictionaries!"
   ]
  },
  {
   "cell_type": "code",
   "execution_count": 67,
   "metadata": {
    "ExecuteTime": {
     "end_time": "2020-08-27T23:07:08.485753Z",
     "start_time": "2020-08-27T23:07:08.478123Z"
    }
   },
   "outputs": [],
   "source": [
    "from sklearn.metrics import r2_score, mean_squared_error\n",
    "def make_model(model, X_train , X_test, y_train, y_test ):\n",
    "    \"\"\"Takes a sklearn model and train/test data to fit model, \n",
    "    get R2 and RMSE for both the training and test data.\n",
    "    \n",
    "    Returns:\n",
    "        DataFrame: results as a df\n",
    "        model: fit scikit-learn model itself\"\"\"\n",
    "    \n",
    "    res= [['Data','R2','RMSE']]\n",
    "    model.fit(X_train, y_train)\n",
    "    # Generate preditions for training and test sets\n",
    "    y_hat_train = model.predict(X_train)\n",
    "    y_hat_test = model.predict(X_test)\n",
    "    \n",
    "    r2_train = r2_score(y_train,y_hat_train)\n",
    "    r2_test = r2_score(y_test,y_hat_test)\n",
    "    \n",
    "    rmse_train = np.sqrt(mean_squared_error(y_train,y_hat_train))\n",
    "    rmse_test = np.sqrt(mean_squared_error(y_test,y_hat_test))\n",
    "    res.append(['Train', r2_train, rmse_train] )\n",
    "    res.append(['Test', r2_test, rmse_test] )\n",
    "    \n",
    "    res_df = pd.DataFrame(res[1:], columns=res[0]).round(4)\n",
    "    \n",
    "    return res_df, model\n",
    "    "
   ]
  },
  {
   "cell_type": "code",
   "execution_count": 68,
   "metadata": {
    "ExecuteTime": {
     "end_time": "2020-08-27T23:07:08.522247Z",
     "start_time": "2020-08-27T23:07:08.490491Z"
    }
   },
   "outputs": [
    {
     "data": {
      "text/html": [
       "<div>\n",
       "<style scoped>\n",
       "    .dataframe tbody tr th:only-of-type {\n",
       "        vertical-align: middle;\n",
       "    }\n",
       "\n",
       "    .dataframe tbody tr th {\n",
       "        vertical-align: top;\n",
       "    }\n",
       "\n",
       "    .dataframe thead th {\n",
       "        text-align: right;\n",
       "    }\n",
       "</style>\n",
       "<table border=\"1\" class=\"dataframe\">\n",
       "  <thead>\n",
       "    <tr style=\"text-align: right;\">\n",
       "      <th></th>\n",
       "      <th>Data</th>\n",
       "      <th>R2</th>\n",
       "      <th>RMSE</th>\n",
       "    </tr>\n",
       "  </thead>\n",
       "  <tbody>\n",
       "    <tr>\n",
       "      <th>0</th>\n",
       "      <td>Train</td>\n",
       "      <td>0.698</td>\n",
       "      <td>205523.475</td>\n",
       "    </tr>\n",
       "    <tr>\n",
       "      <th>1</th>\n",
       "      <td>Test</td>\n",
       "      <td>0.707</td>\n",
       "      <td>188084.982</td>\n",
       "    </tr>\n",
       "  </tbody>\n",
       "</table>\n",
       "</div>"
      ],
      "text/plain": [
       "    Data     R2        RMSE\n",
       "0  Train  0.698  205523.475\n",
       "1   Test  0.707  188084.982"
      ]
     },
     "metadata": {},
     "output_type": "display_data"
    }
   ],
   "source": [
    "## Test our function\n",
    "df_res, model = make_model(LinearRegression(),\n",
    "                           X_train_sca , X_test_sca, y_train, y_test  )\n",
    "display(df_res.round(3))"
   ]
  },
  {
   "cell_type": "code",
   "execution_count": 69,
   "metadata": {
    "ExecuteTime": {
     "end_time": "2020-08-27T23:07:08.528749Z",
     "start_time": "2020-08-27T23:07:08.525028Z"
    }
   },
   "outputs": [],
   "source": [
    "## Use a dictionary to store our models\n",
    "models_to_make = dict( linear=LinearRegression(),\n",
    "                     ridge=Ridge(alpha=0.5),\n",
    "                     lasso = Lasso(alpha=0.5))"
   ]
  },
  {
   "cell_type": "code",
   "execution_count": 70,
   "metadata": {
    "ExecuteTime": {
     "end_time": "2020-08-27T23:07:08.536626Z",
     "start_time": "2020-08-27T23:07:08.530911Z"
    }
   },
   "outputs": [
    {
     "data": {
      "text/plain": [
       "LinearRegression()"
      ]
     },
     "execution_count": 70,
     "metadata": {},
     "output_type": "execute_result"
    }
   ],
   "source": [
    "## Test our dictionary and function together to make a linear regression.\n",
    "models_to_make['linear']"
   ]
  },
  {
   "cell_type": "code",
   "execution_count": 71,
   "metadata": {
    "ExecuteTime": {
     "end_time": "2020-08-27T23:07:08.544458Z",
     "start_time": "2020-08-27T23:07:08.538940Z"
    }
   },
   "outputs": [
    {
     "data": {
      "text/plain": [
       "{'linear': LinearRegression(),\n",
       " 'ridge': Ridge(alpha=0.5),\n",
       " 'lasso': Lasso(alpha=0.5)}"
      ]
     },
     "execution_count": 71,
     "metadata": {},
     "output_type": "execute_result"
    }
   ],
   "source": [
    "models_to_make"
   ]
  },
  {
   "cell_type": "code",
   "execution_count": 72,
   "metadata": {
    "ExecuteTime": {
     "end_time": "2020-08-27T23:07:09.179047Z",
     "start_time": "2020-08-27T23:07:08.546644Z"
    }
   },
   "outputs": [
    {
     "data": {
      "text/html": [
       "<div>\n",
       "<style scoped>\n",
       "    .dataframe tbody tr th:only-of-type {\n",
       "        vertical-align: middle;\n",
       "    }\n",
       "\n",
       "    .dataframe tbody tr th {\n",
       "        vertical-align: top;\n",
       "    }\n",
       "\n",
       "    .dataframe thead th {\n",
       "        text-align: right;\n",
       "    }\n",
       "</style>\n",
       "<table border=\"1\" class=\"dataframe\">\n",
       "  <thead>\n",
       "    <tr style=\"text-align: right;\">\n",
       "      <th></th>\n",
       "      <th>Data</th>\n",
       "      <th>R2</th>\n",
       "      <th>RMSE</th>\n",
       "      <th>Type</th>\n",
       "    </tr>\n",
       "  </thead>\n",
       "  <tbody>\n",
       "    <tr>\n",
       "      <th>0</th>\n",
       "      <td>Train</td>\n",
       "      <td>0.6976</td>\n",
       "      <td>205523.4753</td>\n",
       "      <td>linear</td>\n",
       "    </tr>\n",
       "    <tr>\n",
       "      <th>1</th>\n",
       "      <td>Test</td>\n",
       "      <td>0.7070</td>\n",
       "      <td>188084.9821</td>\n",
       "      <td>linear</td>\n",
       "    </tr>\n",
       "  </tbody>\n",
       "</table>\n",
       "</div>"
      ],
      "text/plain": [
       "    Data      R2         RMSE    Type\n",
       "0  Train  0.6976  205523.4753  linear\n",
       "1   Test  0.7070  188084.9821  linear"
      ]
     },
     "metadata": {},
     "output_type": "display_data"
    },
    {
     "data": {
      "text/html": [
       "<div>\n",
       "<style scoped>\n",
       "    .dataframe tbody tr th:only-of-type {\n",
       "        vertical-align: middle;\n",
       "    }\n",
       "\n",
       "    .dataframe tbody tr th {\n",
       "        vertical-align: top;\n",
       "    }\n",
       "\n",
       "    .dataframe thead th {\n",
       "        text-align: right;\n",
       "    }\n",
       "</style>\n",
       "<table border=\"1\" class=\"dataframe\">\n",
       "  <thead>\n",
       "    <tr style=\"text-align: right;\">\n",
       "      <th></th>\n",
       "      <th>Data</th>\n",
       "      <th>R2</th>\n",
       "      <th>RMSE</th>\n",
       "      <th>Type</th>\n",
       "    </tr>\n",
       "  </thead>\n",
       "  <tbody>\n",
       "    <tr>\n",
       "      <th>0</th>\n",
       "      <td>Train</td>\n",
       "      <td>0.6976</td>\n",
       "      <td>205523.6150</td>\n",
       "      <td>ridge</td>\n",
       "    </tr>\n",
       "    <tr>\n",
       "      <th>1</th>\n",
       "      <td>Test</td>\n",
       "      <td>0.7070</td>\n",
       "      <td>188088.5438</td>\n",
       "      <td>ridge</td>\n",
       "    </tr>\n",
       "  </tbody>\n",
       "</table>\n",
       "</div>"
      ],
      "text/plain": [
       "    Data      R2         RMSE   Type\n",
       "0  Train  0.6976  205523.6150  ridge\n",
       "1   Test  0.7070  188088.5438  ridge"
      ]
     },
     "metadata": {},
     "output_type": "display_data"
    },
    {
     "name": "stderr",
     "output_type": "stream",
     "text": [
      "/opt/anaconda3/envs/learn-env/lib/python3.6/site-packages/sklearn/linear_model/_coordinate_descent.py:531: ConvergenceWarning:\n",
      "\n",
      "Objective did not converge. You might want to increase the number of iterations. Duality gap: 1015634814617.375, tolerance: 226251545093.74475\n",
      "\n"
     ]
    },
    {
     "data": {
      "text/html": [
       "<div>\n",
       "<style scoped>\n",
       "    .dataframe tbody tr th:only-of-type {\n",
       "        vertical-align: middle;\n",
       "    }\n",
       "\n",
       "    .dataframe tbody tr th {\n",
       "        vertical-align: top;\n",
       "    }\n",
       "\n",
       "    .dataframe thead th {\n",
       "        text-align: right;\n",
       "    }\n",
       "</style>\n",
       "<table border=\"1\" class=\"dataframe\">\n",
       "  <thead>\n",
       "    <tr style=\"text-align: right;\">\n",
       "      <th></th>\n",
       "      <th>Data</th>\n",
       "      <th>R2</th>\n",
       "      <th>RMSE</th>\n",
       "      <th>Type</th>\n",
       "    </tr>\n",
       "  </thead>\n",
       "  <tbody>\n",
       "    <tr>\n",
       "      <th>0</th>\n",
       "      <td>Train</td>\n",
       "      <td>0.6976</td>\n",
       "      <td>205523.4757</td>\n",
       "      <td>lasso</td>\n",
       "    </tr>\n",
       "    <tr>\n",
       "      <th>1</th>\n",
       "      <td>Test</td>\n",
       "      <td>0.7070</td>\n",
       "      <td>188084.8283</td>\n",
       "      <td>lasso</td>\n",
       "    </tr>\n",
       "  </tbody>\n",
       "</table>\n",
       "</div>"
      ],
      "text/plain": [
       "    Data      R2         RMSE   Type\n",
       "0  Train  0.6976  205523.4757  lasso\n",
       "1   Test  0.7070  188084.8283  lasso"
      ]
     },
     "metadata": {},
     "output_type": "display_data"
    },
    {
     "data": {
      "text/html": [
       "<div>\n",
       "<style scoped>\n",
       "    .dataframe tbody tr th:only-of-type {\n",
       "        vertical-align: middle;\n",
       "    }\n",
       "\n",
       "    .dataframe tbody tr th {\n",
       "        vertical-align: top;\n",
       "    }\n",
       "\n",
       "    .dataframe thead th {\n",
       "        text-align: right;\n",
       "    }\n",
       "</style>\n",
       "<table border=\"1\" class=\"dataframe\">\n",
       "  <thead>\n",
       "    <tr style=\"text-align: right;\">\n",
       "      <th></th>\n",
       "      <th></th>\n",
       "      <th>R2</th>\n",
       "      <th>RMSE</th>\n",
       "    </tr>\n",
       "    <tr>\n",
       "      <th>Type</th>\n",
       "      <th>Data</th>\n",
       "      <th></th>\n",
       "      <th></th>\n",
       "    </tr>\n",
       "  </thead>\n",
       "  <tbody>\n",
       "    <tr>\n",
       "      <th rowspan=\"2\" valign=\"top\">linear</th>\n",
       "      <th>Train</th>\n",
       "      <td>0.6976</td>\n",
       "      <td>205523.4753</td>\n",
       "    </tr>\n",
       "    <tr>\n",
       "      <th>Test</th>\n",
       "      <td>0.7070</td>\n",
       "      <td>188084.9821</td>\n",
       "    </tr>\n",
       "    <tr>\n",
       "      <th rowspan=\"2\" valign=\"top\">ridge</th>\n",
       "      <th>Train</th>\n",
       "      <td>0.6976</td>\n",
       "      <td>205523.6150</td>\n",
       "    </tr>\n",
       "    <tr>\n",
       "      <th>Test</th>\n",
       "      <td>0.7070</td>\n",
       "      <td>188088.5438</td>\n",
       "    </tr>\n",
       "    <tr>\n",
       "      <th rowspan=\"2\" valign=\"top\">lasso</th>\n",
       "      <th>Train</th>\n",
       "      <td>0.6976</td>\n",
       "      <td>205523.4757</td>\n",
       "    </tr>\n",
       "    <tr>\n",
       "      <th>Test</th>\n",
       "      <td>0.7070</td>\n",
       "      <td>188084.8283</td>\n",
       "    </tr>\n",
       "  </tbody>\n",
       "</table>\n",
       "</div>"
      ],
      "text/plain": [
       "                  R2         RMSE\n",
       "Type   Data                      \n",
       "linear Train  0.6976  205523.4753\n",
       "       Test   0.7070  188084.9821\n",
       "ridge  Train  0.6976  205523.6150\n",
       "       Test   0.7070  188088.5438\n",
       "lasso  Train  0.6976  205523.4757\n",
       "       Test   0.7070  188084.8283"
      ]
     },
     "execution_count": 72,
     "metadata": {},
     "output_type": "execute_result"
    }
   ],
   "source": [
    "## Loop through models_to_make and save all results\n",
    "\n",
    "## Create an empty list to store result dfs\n",
    "results = []\n",
    "## Create an empty dict to store fit models\n",
    "fit_models={}\n",
    "\n",
    "for model_type,mod in models_to_make.items():\n",
    "\n",
    "    ## get model results and fit model using make_model\n",
    "    res, mod = make_model(mod, X_train_sca , X_test_sca, y_train, y_test)\n",
    "    ## Add model type as column to res\n",
    "    res['Type'] = model_type\n",
    "    \n",
    "    # Display results\n",
    "    display(res)\n",
    "    \n",
    "    ## Save fit model to models dict \n",
    "    fit_models[model_type] = mod\n",
    "    ## Save df to list \n",
    "    results.append(res)\n",
    "    \n",
    "## Concatenate results \n",
    "df_res = pd.concat(results)\n",
    "df_res.set_index(['Type',\"Data\"],inplace=True)\n",
    "df_res"
   ]
  },
  {
   "cell_type": "code",
   "execution_count": 73,
   "metadata": {
    "ExecuteTime": {
     "end_time": "2020-08-27T23:07:09.191987Z",
     "start_time": "2020-08-27T23:07:09.180822Z"
    }
   },
   "outputs": [
    {
     "data": {
      "text/html": [
       "<style  type=\"text/css\" >\n",
       "#T_08781e0c_e8ba_11ea_90b7_4865ee12e626row0_col0,#T_08781e0c_e8ba_11ea_90b7_4865ee12e626row2_col0,#T_08781e0c_e8ba_11ea_90b7_4865ee12e626row4_col0{\n",
       "            background-color:  #fff7fb;\n",
       "            color:  #000000;\n",
       "        }#T_08781e0c_e8ba_11ea_90b7_4865ee12e626row1_col0,#T_08781e0c_e8ba_11ea_90b7_4865ee12e626row3_col0,#T_08781e0c_e8ba_11ea_90b7_4865ee12e626row5_col0{\n",
       "            background-color:  #023858;\n",
       "            color:  #f1f1f1;\n",
       "        }</style><table id=\"T_08781e0c_e8ba_11ea_90b7_4865ee12e626\" ><thead>    <tr>        <th class=\"blank\" ></th>        <th class=\"blank level0\" ></th>        <th class=\"col_heading level0 col0\" >R2</th>        <th class=\"col_heading level0 col1\" >RMSE</th>    </tr>    <tr>        <th class=\"index_name level0\" >Type</th>        <th class=\"index_name level1\" >Data</th>        <th class=\"blank\" ></th>        <th class=\"blank\" ></th>    </tr></thead><tbody>\n",
       "                <tr>\n",
       "                        <th id=\"T_08781e0c_e8ba_11ea_90b7_4865ee12e626level0_row0\" class=\"row_heading level0 row0\" rowspan=2>linear</th>\n",
       "                        <th id=\"T_08781e0c_e8ba_11ea_90b7_4865ee12e626level1_row0\" class=\"row_heading level1 row0\" >Train</th>\n",
       "                        <td id=\"T_08781e0c_e8ba_11ea_90b7_4865ee12e626row0_col0\" class=\"data row0 col0\" >0.697600</td>\n",
       "                        <td id=\"T_08781e0c_e8ba_11ea_90b7_4865ee12e626row0_col1\" class=\"data row0 col1\" >205523.475300</td>\n",
       "            </tr>\n",
       "            <tr>\n",
       "                                <th id=\"T_08781e0c_e8ba_11ea_90b7_4865ee12e626level1_row1\" class=\"row_heading level1 row1\" >Test</th>\n",
       "                        <td id=\"T_08781e0c_e8ba_11ea_90b7_4865ee12e626row1_col0\" class=\"data row1 col0\" >0.707000</td>\n",
       "                        <td id=\"T_08781e0c_e8ba_11ea_90b7_4865ee12e626row1_col1\" class=\"data row1 col1\" >188084.982100</td>\n",
       "            </tr>\n",
       "            <tr>\n",
       "                        <th id=\"T_08781e0c_e8ba_11ea_90b7_4865ee12e626level0_row2\" class=\"row_heading level0 row2\" rowspan=2>ridge</th>\n",
       "                        <th id=\"T_08781e0c_e8ba_11ea_90b7_4865ee12e626level1_row2\" class=\"row_heading level1 row2\" >Train</th>\n",
       "                        <td id=\"T_08781e0c_e8ba_11ea_90b7_4865ee12e626row2_col0\" class=\"data row2 col0\" >0.697600</td>\n",
       "                        <td id=\"T_08781e0c_e8ba_11ea_90b7_4865ee12e626row2_col1\" class=\"data row2 col1\" >205523.615000</td>\n",
       "            </tr>\n",
       "            <tr>\n",
       "                                <th id=\"T_08781e0c_e8ba_11ea_90b7_4865ee12e626level1_row3\" class=\"row_heading level1 row3\" >Test</th>\n",
       "                        <td id=\"T_08781e0c_e8ba_11ea_90b7_4865ee12e626row3_col0\" class=\"data row3 col0\" >0.707000</td>\n",
       "                        <td id=\"T_08781e0c_e8ba_11ea_90b7_4865ee12e626row3_col1\" class=\"data row3 col1\" >188088.543800</td>\n",
       "            </tr>\n",
       "            <tr>\n",
       "                        <th id=\"T_08781e0c_e8ba_11ea_90b7_4865ee12e626level0_row4\" class=\"row_heading level0 row4\" rowspan=2>lasso</th>\n",
       "                        <th id=\"T_08781e0c_e8ba_11ea_90b7_4865ee12e626level1_row4\" class=\"row_heading level1 row4\" >Train</th>\n",
       "                        <td id=\"T_08781e0c_e8ba_11ea_90b7_4865ee12e626row4_col0\" class=\"data row4 col0\" >0.697600</td>\n",
       "                        <td id=\"T_08781e0c_e8ba_11ea_90b7_4865ee12e626row4_col1\" class=\"data row4 col1\" >205523.475700</td>\n",
       "            </tr>\n",
       "            <tr>\n",
       "                                <th id=\"T_08781e0c_e8ba_11ea_90b7_4865ee12e626level1_row5\" class=\"row_heading level1 row5\" >Test</th>\n",
       "                        <td id=\"T_08781e0c_e8ba_11ea_90b7_4865ee12e626row5_col0\" class=\"data row5 col0\" >0.707000</td>\n",
       "                        <td id=\"T_08781e0c_e8ba_11ea_90b7_4865ee12e626row5_col1\" class=\"data row5 col1\" >188084.828300</td>\n",
       "            </tr>\n",
       "    </tbody></table>"
      ],
      "text/plain": [
       "<pandas.io.formats.style.Styler at 0x137b1af28>"
      ]
     },
     "execution_count": 73,
     "metadata": {},
     "output_type": "execute_result"
    }
   ],
   "source": [
    "## Use styling to make it easier to find the best scores.\n",
    "df_res.style.background_gradient(subset=['R2'])#.highlight_max('R2')"
   ]
  },
  {
   "cell_type": "code",
   "execution_count": 74,
   "metadata": {
    "ExecuteTime": {
     "end_time": "2020-08-27T23:07:09.197271Z",
     "start_time": "2020-08-27T23:07:09.193653Z"
    }
   },
   "outputs": [
    {
     "data": {
      "text/plain": [
       "(18,)"
      ]
     },
     "execution_count": 74,
     "metadata": {},
     "output_type": "execute_result"
    }
   ],
   "source": [
    "## Now examine the coefficients of one of the fit models\n",
    "fit_models['lasso'].coef_.shape"
   ]
  },
  {
   "cell_type": "markdown",
   "metadata": {},
   "source": [
    "> #### Sidebar: You've heard of List Comprehensions but did you that there are Dictionary Comprehensions too?!"
   ]
  },
  {
   "cell_type": "code",
   "execution_count": 75,
   "metadata": {
    "ExecuteTime": {
     "end_time": "2020-08-27T23:07:09.205029Z",
     "start_time": "2020-08-27T23:07:09.198973Z"
    }
   },
   "outputs": [
    {
     "data": {
      "text/plain": [
       "{'linear': array([-3.64672593e+04,  3.29765552e+04,  1.09253571e+05,  6.58554735e+01,\n",
       "         3.36816338e+03,  6.07377631e+05,  5.19906018e+04,  2.71837502e+04,\n",
       "         9.56632881e+04,  9.39966657e+04,  3.35757438e+04, -1.19660367e+05,\n",
       "         2.30409553e+01, -5.10729701e+04,  1.23129696e+05, -4.70610699e+04,\n",
       "         1.58304587e+04, -1.66286871e+03]),\n",
       " 'ridge': array([-3.64786523e+04,  3.29736409e+04,  1.09192194e+05,  6.54357495e+01,\n",
       "         3.36674111e+03,  6.04293643e+05,  5.21225315e+04,  2.71933056e+04,\n",
       "         9.56532283e+04,  9.40758267e+04,  3.36076203e+04, -1.19638660e+05,\n",
       "         2.30863725e+01, -5.10667097e+04,  1.23116744e+05, -4.70664305e+04,\n",
       "         1.58184685e+04, -1.66218377e+03]),\n",
       " 'lasso': array([-3.64664652e+04,  3.29736976e+04,  1.09405059e+05,  6.58428424e+01,\n",
       "         3.36753174e+03,  6.07300107e+05,  5.19933451e+04,  2.71824993e+04,\n",
       "         9.56646853e+04,  9.38608478e+04,  3.35028131e+04, -1.19657592e+05,\n",
       "         2.30425758e+01, -5.10698600e+04,  1.23128012e+05, -4.70583690e+04,\n",
       "         1.58279346e+04, -1.66287700e+03])}"
      ]
     },
     "execution_count": 75,
     "metadata": {},
     "output_type": "execute_result"
    }
   ],
   "source": [
    "## Get the coefficients of every model in a dictionary using a dict comprehension\n",
    "dict_comp= {k:mod.coef_ for k,mod in fit_models.items() }\n",
    "dict_comp"
   ]
  },
  {
   "cell_type": "code",
   "execution_count": 76,
   "metadata": {
    "ExecuteTime": {
     "end_time": "2020-08-27T23:07:09.218944Z",
     "start_time": "2020-08-27T23:07:09.206682Z"
    }
   },
   "outputs": [
    {
     "name": "stdout",
     "output_type": "stream",
     "text": [
      "linear shape = (18,)\n",
      "ridge shape = (18,)\n",
      "lasso shape = (18,)\n"
     ]
    },
    {
     "data": {
      "text/html": [
       "<div>\n",
       "<style scoped>\n",
       "    .dataframe tbody tr th:only-of-type {\n",
       "        vertical-align: middle;\n",
       "    }\n",
       "\n",
       "    .dataframe tbody tr th {\n",
       "        vertical-align: top;\n",
       "    }\n",
       "\n",
       "    .dataframe thead th {\n",
       "        text-align: right;\n",
       "    }\n",
       "</style>\n",
       "<table border=\"1\" class=\"dataframe\">\n",
       "  <thead>\n",
       "    <tr style=\"text-align: right;\">\n",
       "      <th></th>\n",
       "      <th>linear</th>\n",
       "      <th>ridge</th>\n",
       "      <th>lasso</th>\n",
       "    </tr>\n",
       "  </thead>\n",
       "  <tbody>\n",
       "    <tr>\n",
       "      <th>0</th>\n",
       "      <td>-36467.259301</td>\n",
       "      <td>-36478.652307</td>\n",
       "      <td>-36466.465211</td>\n",
       "    </tr>\n",
       "    <tr>\n",
       "      <th>1</th>\n",
       "      <td>32976.555246</td>\n",
       "      <td>32973.640948</td>\n",
       "      <td>32973.697553</td>\n",
       "    </tr>\n",
       "    <tr>\n",
       "      <th>2</th>\n",
       "      <td>109253.570774</td>\n",
       "      <td>109192.193805</td>\n",
       "      <td>109405.059148</td>\n",
       "    </tr>\n",
       "    <tr>\n",
       "      <th>3</th>\n",
       "      <td>65.855474</td>\n",
       "      <td>65.435749</td>\n",
       "      <td>65.842842</td>\n",
       "    </tr>\n",
       "    <tr>\n",
       "      <th>4</th>\n",
       "      <td>3368.163384</td>\n",
       "      <td>3366.741113</td>\n",
       "      <td>3367.531741</td>\n",
       "    </tr>\n",
       "    <tr>\n",
       "      <th>5</th>\n",
       "      <td>607377.630551</td>\n",
       "      <td>604293.642582</td>\n",
       "      <td>607300.107285</td>\n",
       "    </tr>\n",
       "    <tr>\n",
       "      <th>6</th>\n",
       "      <td>51990.601828</td>\n",
       "      <td>52122.531490</td>\n",
       "      <td>51993.345066</td>\n",
       "    </tr>\n",
       "    <tr>\n",
       "      <th>7</th>\n",
       "      <td>27183.750236</td>\n",
       "      <td>27193.305646</td>\n",
       "      <td>27182.499304</td>\n",
       "    </tr>\n",
       "    <tr>\n",
       "      <th>8</th>\n",
       "      <td>95663.288130</td>\n",
       "      <td>95653.228291</td>\n",
       "      <td>95664.685336</td>\n",
       "    </tr>\n",
       "    <tr>\n",
       "      <th>9</th>\n",
       "      <td>93996.665698</td>\n",
       "      <td>94075.826653</td>\n",
       "      <td>93860.847753</td>\n",
       "    </tr>\n",
       "    <tr>\n",
       "      <th>10</th>\n",
       "      <td>33575.743834</td>\n",
       "      <td>33607.620302</td>\n",
       "      <td>33502.813135</td>\n",
       "    </tr>\n",
       "    <tr>\n",
       "      <th>11</th>\n",
       "      <td>-119660.367156</td>\n",
       "      <td>-119638.660050</td>\n",
       "      <td>-119657.591817</td>\n",
       "    </tr>\n",
       "    <tr>\n",
       "      <th>12</th>\n",
       "      <td>23.040955</td>\n",
       "      <td>23.086372</td>\n",
       "      <td>23.042576</td>\n",
       "    </tr>\n",
       "    <tr>\n",
       "      <th>13</th>\n",
       "      <td>-51072.970083</td>\n",
       "      <td>-51066.709671</td>\n",
       "      <td>-51069.859954</td>\n",
       "    </tr>\n",
       "    <tr>\n",
       "      <th>14</th>\n",
       "      <td>123129.695515</td>\n",
       "      <td>123116.744275</td>\n",
       "      <td>123128.012150</td>\n",
       "    </tr>\n",
       "    <tr>\n",
       "      <th>15</th>\n",
       "      <td>-47061.069907</td>\n",
       "      <td>-47066.430504</td>\n",
       "      <td>-47058.368967</td>\n",
       "    </tr>\n",
       "    <tr>\n",
       "      <th>16</th>\n",
       "      <td>15830.458745</td>\n",
       "      <td>15818.468532</td>\n",
       "      <td>15827.934632</td>\n",
       "    </tr>\n",
       "    <tr>\n",
       "      <th>17</th>\n",
       "      <td>-1662.868712</td>\n",
       "      <td>-1662.183767</td>\n",
       "      <td>-1662.876996</td>\n",
       "    </tr>\n",
       "  </tbody>\n",
       "</table>\n",
       "</div>"
      ],
      "text/plain": [
       "           linear          ridge          lasso\n",
       "0   -36467.259301  -36478.652307  -36466.465211\n",
       "1    32976.555246   32973.640948   32973.697553\n",
       "2   109253.570774  109192.193805  109405.059148\n",
       "3       65.855474      65.435749      65.842842\n",
       "4     3368.163384    3366.741113    3367.531741\n",
       "5   607377.630551  604293.642582  607300.107285\n",
       "6    51990.601828   52122.531490   51993.345066\n",
       "7    27183.750236   27193.305646   27182.499304\n",
       "8    95663.288130   95653.228291   95664.685336\n",
       "9    93996.665698   94075.826653   93860.847753\n",
       "10   33575.743834   33607.620302   33502.813135\n",
       "11 -119660.367156 -119638.660050 -119657.591817\n",
       "12      23.040955      23.086372      23.042576\n",
       "13  -51072.970083  -51066.709671  -51069.859954\n",
       "14  123129.695515  123116.744275  123128.012150\n",
       "15  -47061.069907  -47066.430504  -47058.368967\n",
       "16   15830.458745   15818.468532   15827.934632\n",
       "17   -1662.868712   -1662.183767   -1662.876996"
      ]
     },
     "execution_count": 76,
     "metadata": {},
     "output_type": "execute_result"
    }
   ],
   "source": [
    "## Notice the shapes of the arrays are not the same\n",
    "# Print out the shapes of each dict value\n",
    "for k,v in dict_comp.items():\n",
    "    print(f\"{k} shape = {v.shape}\")\n",
    "## Try making it a dataframe (error)\n",
    "pd.DataFrame(dict_comp)"
   ]
  },
  {
   "cell_type": "markdown",
   "metadata": {},
   "source": [
    "#### The solution: `.flatten()`"
   ]
  },
  {
   "cell_type": "code",
   "execution_count": 77,
   "metadata": {
    "ExecuteTime": {
     "end_time": "2020-08-27T23:07:09.234039Z",
     "start_time": "2020-08-27T23:07:09.220704Z"
    }
   },
   "outputs": [
    {
     "name": "stdout",
     "output_type": "stream",
     "text": [
      "linear shape = (18,)\n",
      "ridge shape = (18,)\n",
      "lasso shape = (18,)\n"
     ]
    },
    {
     "data": {
      "text/html": [
       "<div>\n",
       "<style scoped>\n",
       "    .dataframe tbody tr th:only-of-type {\n",
       "        vertical-align: middle;\n",
       "    }\n",
       "\n",
       "    .dataframe tbody tr th {\n",
       "        vertical-align: top;\n",
       "    }\n",
       "\n",
       "    .dataframe thead th {\n",
       "        text-align: right;\n",
       "    }\n",
       "</style>\n",
       "<table border=\"1\" class=\"dataframe\">\n",
       "  <thead>\n",
       "    <tr style=\"text-align: right;\">\n",
       "      <th></th>\n",
       "      <th>linear</th>\n",
       "      <th>ridge</th>\n",
       "      <th>lasso</th>\n",
       "    </tr>\n",
       "  </thead>\n",
       "  <tbody>\n",
       "    <tr>\n",
       "      <th>0</th>\n",
       "      <td>-36467.259301</td>\n",
       "      <td>-36478.652307</td>\n",
       "      <td>-36466.465211</td>\n",
       "    </tr>\n",
       "    <tr>\n",
       "      <th>1</th>\n",
       "      <td>32976.555246</td>\n",
       "      <td>32973.640948</td>\n",
       "      <td>32973.697553</td>\n",
       "    </tr>\n",
       "    <tr>\n",
       "      <th>2</th>\n",
       "      <td>109253.570774</td>\n",
       "      <td>109192.193805</td>\n",
       "      <td>109405.059148</td>\n",
       "    </tr>\n",
       "    <tr>\n",
       "      <th>3</th>\n",
       "      <td>65.855474</td>\n",
       "      <td>65.435749</td>\n",
       "      <td>65.842842</td>\n",
       "    </tr>\n",
       "    <tr>\n",
       "      <th>4</th>\n",
       "      <td>3368.163384</td>\n",
       "      <td>3366.741113</td>\n",
       "      <td>3367.531741</td>\n",
       "    </tr>\n",
       "    <tr>\n",
       "      <th>5</th>\n",
       "      <td>607377.630551</td>\n",
       "      <td>604293.642582</td>\n",
       "      <td>607300.107285</td>\n",
       "    </tr>\n",
       "    <tr>\n",
       "      <th>6</th>\n",
       "      <td>51990.601828</td>\n",
       "      <td>52122.531490</td>\n",
       "      <td>51993.345066</td>\n",
       "    </tr>\n",
       "    <tr>\n",
       "      <th>7</th>\n",
       "      <td>27183.750236</td>\n",
       "      <td>27193.305646</td>\n",
       "      <td>27182.499304</td>\n",
       "    </tr>\n",
       "    <tr>\n",
       "      <th>8</th>\n",
       "      <td>95663.288130</td>\n",
       "      <td>95653.228291</td>\n",
       "      <td>95664.685336</td>\n",
       "    </tr>\n",
       "    <tr>\n",
       "      <th>9</th>\n",
       "      <td>93996.665698</td>\n",
       "      <td>94075.826653</td>\n",
       "      <td>93860.847753</td>\n",
       "    </tr>\n",
       "    <tr>\n",
       "      <th>10</th>\n",
       "      <td>33575.743834</td>\n",
       "      <td>33607.620302</td>\n",
       "      <td>33502.813135</td>\n",
       "    </tr>\n",
       "    <tr>\n",
       "      <th>11</th>\n",
       "      <td>-119660.367156</td>\n",
       "      <td>-119638.660050</td>\n",
       "      <td>-119657.591817</td>\n",
       "    </tr>\n",
       "    <tr>\n",
       "      <th>12</th>\n",
       "      <td>23.040955</td>\n",
       "      <td>23.086372</td>\n",
       "      <td>23.042576</td>\n",
       "    </tr>\n",
       "    <tr>\n",
       "      <th>13</th>\n",
       "      <td>-51072.970083</td>\n",
       "      <td>-51066.709671</td>\n",
       "      <td>-51069.859954</td>\n",
       "    </tr>\n",
       "    <tr>\n",
       "      <th>14</th>\n",
       "      <td>123129.695515</td>\n",
       "      <td>123116.744275</td>\n",
       "      <td>123128.012150</td>\n",
       "    </tr>\n",
       "    <tr>\n",
       "      <th>15</th>\n",
       "      <td>-47061.069907</td>\n",
       "      <td>-47066.430504</td>\n",
       "      <td>-47058.368967</td>\n",
       "    </tr>\n",
       "    <tr>\n",
       "      <th>16</th>\n",
       "      <td>15830.458745</td>\n",
       "      <td>15818.468532</td>\n",
       "      <td>15827.934632</td>\n",
       "    </tr>\n",
       "    <tr>\n",
       "      <th>17</th>\n",
       "      <td>-1662.868712</td>\n",
       "      <td>-1662.183767</td>\n",
       "      <td>-1662.876996</td>\n",
       "    </tr>\n",
       "  </tbody>\n",
       "</table>\n",
       "</div>"
      ],
      "text/plain": [
       "           linear          ridge          lasso\n",
       "0   -36467.259301  -36478.652307  -36466.465211\n",
       "1    32976.555246   32973.640948   32973.697553\n",
       "2   109253.570774  109192.193805  109405.059148\n",
       "3       65.855474      65.435749      65.842842\n",
       "4     3368.163384    3366.741113    3367.531741\n",
       "5   607377.630551  604293.642582  607300.107285\n",
       "6    51990.601828   52122.531490   51993.345066\n",
       "7    27183.750236   27193.305646   27182.499304\n",
       "8    95663.288130   95653.228291   95664.685336\n",
       "9    93996.665698   94075.826653   93860.847753\n",
       "10   33575.743834   33607.620302   33502.813135\n",
       "11 -119660.367156 -119638.660050 -119657.591817\n",
       "12      23.040955      23.086372      23.042576\n",
       "13  -51072.970083  -51066.709671  -51069.859954\n",
       "14  123129.695515  123116.744275  123128.012150\n",
       "15  -47061.069907  -47066.430504  -47058.368967\n",
       "16   15830.458745   15818.468532   15827.934632\n",
       "17   -1662.868712   -1662.183767   -1662.876996"
      ]
     },
     "execution_count": 77,
     "metadata": {},
     "output_type": "execute_result"
    }
   ],
   "source": [
    "## Use .flatten() to make coefs 1D\n",
    "dict_comp= {k:mod.coef_.flatten() for k,mod in fit_models.items() }\n",
    "\n",
    "## Notice the shapes of the arrays are not the same\n",
    "\n",
    "for k,v in dict_comp.items():\n",
    "    print(f\"{k} shape = {v.shape}\")\n",
    "## Try making it a dataframe (error)\n",
    "pd.DataFrame(dict_comp)\n",
    "## make it into a df"
   ]
  },
  {
   "cell_type": "code",
   "execution_count": 78,
   "metadata": {
    "ExecuteTime": {
     "end_time": "2020-08-27T23:07:09.268378Z",
     "start_time": "2020-08-27T23:07:09.235853Z"
    }
   },
   "outputs": [
    {
     "data": {
      "text/html": [
       "<div>\n",
       "<style scoped>\n",
       "    .dataframe tbody tr th:only-of-type {\n",
       "        vertical-align: middle;\n",
       "    }\n",
       "\n",
       "    .dataframe tbody tr th {\n",
       "        vertical-align: top;\n",
       "    }\n",
       "\n",
       "    .dataframe thead th {\n",
       "        text-align: right;\n",
       "    }\n",
       "</style>\n",
       "<table border=\"1\" class=\"dataframe\">\n",
       "  <thead>\n",
       "    <tr style=\"text-align: right;\">\n",
       "      <th></th>\n",
       "      <th>bedrooms</th>\n",
       "      <th>bathrooms</th>\n",
       "      <th>sqft_living</th>\n",
       "      <th>sqft_lot</th>\n",
       "      <th>floors</th>\n",
       "      <th>waterfront</th>\n",
       "      <th>view</th>\n",
       "      <th>condition</th>\n",
       "      <th>grade</th>\n",
       "      <th>sqft_above</th>\n",
       "      <th>sqft_basement</th>\n",
       "      <th>yr_built</th>\n",
       "      <th>yr_renovated</th>\n",
       "      <th>zipcode</th>\n",
       "      <th>lat</th>\n",
       "      <th>long</th>\n",
       "      <th>sqft_living15</th>\n",
       "      <th>sqft_lot15</th>\n",
       "    </tr>\n",
       "    <tr>\n",
       "      <th>id</th>\n",
       "      <th></th>\n",
       "      <th></th>\n",
       "      <th></th>\n",
       "      <th></th>\n",
       "      <th></th>\n",
       "      <th></th>\n",
       "      <th></th>\n",
       "      <th></th>\n",
       "      <th></th>\n",
       "      <th></th>\n",
       "      <th></th>\n",
       "      <th></th>\n",
       "      <th></th>\n",
       "      <th></th>\n",
       "      <th></th>\n",
       "      <th></th>\n",
       "      <th></th>\n",
       "      <th></th>\n",
       "    </tr>\n",
       "  </thead>\n",
       "  <tbody>\n",
       "    <tr>\n",
       "      <th>1972200847</th>\n",
       "      <td>3</td>\n",
       "      <td>2.50</td>\n",
       "      <td>1730</td>\n",
       "      <td>1301</td>\n",
       "      <td>3.0</td>\n",
       "      <td>0.0</td>\n",
       "      <td>0.0</td>\n",
       "      <td>3</td>\n",
       "      <td>9</td>\n",
       "      <td>1730</td>\n",
       "      <td>0.0</td>\n",
       "      <td>2011</td>\n",
       "      <td>NaN</td>\n",
       "      <td>98103</td>\n",
       "      <td>47.6530</td>\n",
       "      <td>-122.352</td>\n",
       "      <td>1330</td>\n",
       "      <td>1240</td>\n",
       "    </tr>\n",
       "    <tr>\n",
       "      <th>8731980040</th>\n",
       "      <td>3</td>\n",
       "      <td>2.25</td>\n",
       "      <td>1980</td>\n",
       "      <td>8000</td>\n",
       "      <td>1.0</td>\n",
       "      <td>0.0</td>\n",
       "      <td>0.0</td>\n",
       "      <td>4</td>\n",
       "      <td>9</td>\n",
       "      <td>1560</td>\n",
       "      <td>420.0</td>\n",
       "      <td>1974</td>\n",
       "      <td>0.0</td>\n",
       "      <td>98023</td>\n",
       "      <td>47.3149</td>\n",
       "      <td>-122.378</td>\n",
       "      <td>2360</td>\n",
       "      <td>8000</td>\n",
       "    </tr>\n",
       "    <tr>\n",
       "      <th>2767603165</th>\n",
       "      <td>4</td>\n",
       "      <td>2.00</td>\n",
       "      <td>1980</td>\n",
       "      <td>4500</td>\n",
       "      <td>2.0</td>\n",
       "      <td>0.0</td>\n",
       "      <td>0.0</td>\n",
       "      <td>4</td>\n",
       "      <td>7</td>\n",
       "      <td>1980</td>\n",
       "      <td>0.0</td>\n",
       "      <td>1910</td>\n",
       "      <td>0.0</td>\n",
       "      <td>98107</td>\n",
       "      <td>47.6728</td>\n",
       "      <td>-122.379</td>\n",
       "      <td>1550</td>\n",
       "      <td>2541</td>\n",
       "    </tr>\n",
       "    <tr>\n",
       "      <th>8029770410</th>\n",
       "      <td>4</td>\n",
       "      <td>2.50</td>\n",
       "      <td>3160</td>\n",
       "      <td>8530</td>\n",
       "      <td>2.0</td>\n",
       "      <td>0.0</td>\n",
       "      <td>0.0</td>\n",
       "      <td>3</td>\n",
       "      <td>9</td>\n",
       "      <td>3160</td>\n",
       "      <td>0.0</td>\n",
       "      <td>2006</td>\n",
       "      <td>0.0</td>\n",
       "      <td>98059</td>\n",
       "      <td>47.5075</td>\n",
       "      <td>-122.148</td>\n",
       "      <td>3160</td>\n",
       "      <td>6460</td>\n",
       "    </tr>\n",
       "    <tr>\n",
       "      <th>4435000705</th>\n",
       "      <td>3</td>\n",
       "      <td>1.00</td>\n",
       "      <td>1350</td>\n",
       "      <td>8700</td>\n",
       "      <td>1.5</td>\n",
       "      <td>0.0</td>\n",
       "      <td>0.0</td>\n",
       "      <td>3</td>\n",
       "      <td>6</td>\n",
       "      <td>1350</td>\n",
       "      <td>0.0</td>\n",
       "      <td>1942</td>\n",
       "      <td>NaN</td>\n",
       "      <td>98188</td>\n",
       "      <td>47.4497</td>\n",
       "      <td>-122.289</td>\n",
       "      <td>1300</td>\n",
       "      <td>8700</td>\n",
       "    </tr>\n",
       "    <tr>\n",
       "      <th>...</th>\n",
       "      <td>...</td>\n",
       "      <td>...</td>\n",
       "      <td>...</td>\n",
       "      <td>...</td>\n",
       "      <td>...</td>\n",
       "      <td>...</td>\n",
       "      <td>...</td>\n",
       "      <td>...</td>\n",
       "      <td>...</td>\n",
       "      <td>...</td>\n",
       "      <td>...</td>\n",
       "      <td>...</td>\n",
       "      <td>...</td>\n",
       "      <td>...</td>\n",
       "      <td>...</td>\n",
       "      <td>...</td>\n",
       "      <td>...</td>\n",
       "      <td>...</td>\n",
       "    </tr>\n",
       "    <tr>\n",
       "      <th>5561000600</th>\n",
       "      <td>3</td>\n",
       "      <td>2.50</td>\n",
       "      <td>2190</td>\n",
       "      <td>34528</td>\n",
       "      <td>2.0</td>\n",
       "      <td>0.0</td>\n",
       "      <td>0.0</td>\n",
       "      <td>3</td>\n",
       "      <td>8</td>\n",
       "      <td>2190</td>\n",
       "      <td>0.0</td>\n",
       "      <td>1994</td>\n",
       "      <td>0.0</td>\n",
       "      <td>98027</td>\n",
       "      <td>47.4594</td>\n",
       "      <td>-121.986</td>\n",
       "      <td>2460</td>\n",
       "      <td>37901</td>\n",
       "    </tr>\n",
       "    <tr>\n",
       "      <th>424049059</th>\n",
       "      <td>3</td>\n",
       "      <td>2.00</td>\n",
       "      <td>1400</td>\n",
       "      <td>2445</td>\n",
       "      <td>1.0</td>\n",
       "      <td>0.0</td>\n",
       "      <td>0.0</td>\n",
       "      <td>3</td>\n",
       "      <td>7</td>\n",
       "      <td>840</td>\n",
       "      <td>560.0</td>\n",
       "      <td>2002</td>\n",
       "      <td>0.0</td>\n",
       "      <td>98144</td>\n",
       "      <td>47.5926</td>\n",
       "      <td>-122.299</td>\n",
       "      <td>1400</td>\n",
       "      <td>3200</td>\n",
       "    </tr>\n",
       "    <tr>\n",
       "      <th>1862400215</th>\n",
       "      <td>3</td>\n",
       "      <td>2.50</td>\n",
       "      <td>2480</td>\n",
       "      <td>5007</td>\n",
       "      <td>2.0</td>\n",
       "      <td>0.0</td>\n",
       "      <td>0.0</td>\n",
       "      <td>3</td>\n",
       "      <td>8</td>\n",
       "      <td>1960</td>\n",
       "      <td>520.0</td>\n",
       "      <td>2014</td>\n",
       "      <td>0.0</td>\n",
       "      <td>98117</td>\n",
       "      <td>47.6974</td>\n",
       "      <td>-122.369</td>\n",
       "      <td>1650</td>\n",
       "      <td>7806</td>\n",
       "    </tr>\n",
       "    <tr>\n",
       "      <th>3317500030</th>\n",
       "      <td>3</td>\n",
       "      <td>2.50</td>\n",
       "      <td>3630</td>\n",
       "      <td>11019</td>\n",
       "      <td>1.0</td>\n",
       "      <td>NaN</td>\n",
       "      <td>0.0</td>\n",
       "      <td>4</td>\n",
       "      <td>9</td>\n",
       "      <td>2150</td>\n",
       "      <td>1480.0</td>\n",
       "      <td>1972</td>\n",
       "      <td>0.0</td>\n",
       "      <td>98040</td>\n",
       "      <td>47.5610</td>\n",
       "      <td>-122.226</td>\n",
       "      <td>3150</td>\n",
       "      <td>13555</td>\n",
       "    </tr>\n",
       "    <tr>\n",
       "      <th>4136880460</th>\n",
       "      <td>4</td>\n",
       "      <td>2.50</td>\n",
       "      <td>2010</td>\n",
       "      <td>7226</td>\n",
       "      <td>2.0</td>\n",
       "      <td>0.0</td>\n",
       "      <td>0.0</td>\n",
       "      <td>3</td>\n",
       "      <td>8</td>\n",
       "      <td>2010</td>\n",
       "      <td>0.0</td>\n",
       "      <td>1995</td>\n",
       "      <td>0.0</td>\n",
       "      <td>98092</td>\n",
       "      <td>47.2588</td>\n",
       "      <td>-122.210</td>\n",
       "      <td>2160</td>\n",
       "      <td>7696</td>\n",
       "    </tr>\n",
       "  </tbody>\n",
       "</table>\n",
       "<p>16197 rows × 18 columns</p>\n",
       "</div>"
      ],
      "text/plain": [
       "            bedrooms  bathrooms  sqft_living  sqft_lot  floors  waterfront  \\\n",
       "id                                                                           \n",
       "1972200847         3       2.50         1730      1301     3.0         0.0   \n",
       "8731980040         3       2.25         1980      8000     1.0         0.0   \n",
       "2767603165         4       2.00         1980      4500     2.0         0.0   \n",
       "8029770410         4       2.50         3160      8530     2.0         0.0   \n",
       "4435000705         3       1.00         1350      8700     1.5         0.0   \n",
       "...              ...        ...          ...       ...     ...         ...   \n",
       "5561000600         3       2.50         2190     34528     2.0         0.0   \n",
       "424049059          3       2.00         1400      2445     1.0         0.0   \n",
       "1862400215         3       2.50         2480      5007     2.0         0.0   \n",
       "3317500030         3       2.50         3630     11019     1.0         NaN   \n",
       "4136880460         4       2.50         2010      7226     2.0         0.0   \n",
       "\n",
       "            view  condition  grade  sqft_above  sqft_basement  yr_built  \\\n",
       "id                                                                        \n",
       "1972200847   0.0          3      9        1730            0.0      2011   \n",
       "8731980040   0.0          4      9        1560          420.0      1974   \n",
       "2767603165   0.0          4      7        1980            0.0      1910   \n",
       "8029770410   0.0          3      9        3160            0.0      2006   \n",
       "4435000705   0.0          3      6        1350            0.0      1942   \n",
       "...          ...        ...    ...         ...            ...       ...   \n",
       "5561000600   0.0          3      8        2190            0.0      1994   \n",
       "424049059    0.0          3      7         840          560.0      2002   \n",
       "1862400215   0.0          3      8        1960          520.0      2014   \n",
       "3317500030   0.0          4      9        2150         1480.0      1972   \n",
       "4136880460   0.0          3      8        2010            0.0      1995   \n",
       "\n",
       "            yr_renovated  zipcode      lat     long  sqft_living15  sqft_lot15  \n",
       "id                                                                              \n",
       "1972200847           NaN    98103  47.6530 -122.352           1330        1240  \n",
       "8731980040           0.0    98023  47.3149 -122.378           2360        8000  \n",
       "2767603165           0.0    98107  47.6728 -122.379           1550        2541  \n",
       "8029770410           0.0    98059  47.5075 -122.148           3160        6460  \n",
       "4435000705           NaN    98188  47.4497 -122.289           1300        8700  \n",
       "...                  ...      ...      ...      ...            ...         ...  \n",
       "5561000600           0.0    98027  47.4594 -121.986           2460       37901  \n",
       "424049059            0.0    98144  47.5926 -122.299           1400        3200  \n",
       "1862400215           0.0    98117  47.6974 -122.369           1650        7806  \n",
       "3317500030           0.0    98040  47.5610 -122.226           3150       13555  \n",
       "4136880460           0.0    98092  47.2588 -122.210           2160        7696  \n",
       "\n",
       "[16197 rows x 18 columns]"
      ]
     },
     "execution_count": 78,
     "metadata": {},
     "output_type": "execute_result"
    }
   ],
   "source": [
    "X_train"
   ]
  },
  {
   "cell_type": "code",
   "execution_count": 79,
   "metadata": {
    "ExecuteTime": {
     "end_time": "2020-08-27T23:07:09.280891Z",
     "start_time": "2020-08-27T23:07:09.270021Z"
    }
   },
   "outputs": [
    {
     "data": {
      "text/html": [
       "<div>\n",
       "<style scoped>\n",
       "    .dataframe tbody tr th:only-of-type {\n",
       "        vertical-align: middle;\n",
       "    }\n",
       "\n",
       "    .dataframe tbody tr th {\n",
       "        vertical-align: top;\n",
       "    }\n",
       "\n",
       "    .dataframe thead th {\n",
       "        text-align: right;\n",
       "    }\n",
       "</style>\n",
       "<table border=\"1\" class=\"dataframe\">\n",
       "  <thead>\n",
       "    <tr style=\"text-align: right;\">\n",
       "      <th></th>\n",
       "      <th>linear</th>\n",
       "      <th>ridge</th>\n",
       "      <th>lasso</th>\n",
       "    </tr>\n",
       "  </thead>\n",
       "  <tbody>\n",
       "    <tr>\n",
       "      <th>bedrooms</th>\n",
       "      <td>-36467.259301</td>\n",
       "      <td>-36478.652307</td>\n",
       "      <td>-36466.465211</td>\n",
       "    </tr>\n",
       "    <tr>\n",
       "      <th>bathrooms</th>\n",
       "      <td>32976.555246</td>\n",
       "      <td>32973.640948</td>\n",
       "      <td>32973.697553</td>\n",
       "    </tr>\n",
       "    <tr>\n",
       "      <th>sqft_living</th>\n",
       "      <td>109253.570774</td>\n",
       "      <td>109192.193805</td>\n",
       "      <td>109405.059148</td>\n",
       "    </tr>\n",
       "    <tr>\n",
       "      <th>sqft_lot</th>\n",
       "      <td>65.855474</td>\n",
       "      <td>65.435749</td>\n",
       "      <td>65.842842</td>\n",
       "    </tr>\n",
       "    <tr>\n",
       "      <th>floors</th>\n",
       "      <td>3368.163384</td>\n",
       "      <td>3366.741113</td>\n",
       "      <td>3367.531741</td>\n",
       "    </tr>\n",
       "    <tr>\n",
       "      <th>waterfront</th>\n",
       "      <td>607377.630551</td>\n",
       "      <td>604293.642582</td>\n",
       "      <td>607300.107285</td>\n",
       "    </tr>\n",
       "    <tr>\n",
       "      <th>view</th>\n",
       "      <td>51990.601828</td>\n",
       "      <td>52122.531490</td>\n",
       "      <td>51993.345066</td>\n",
       "    </tr>\n",
       "    <tr>\n",
       "      <th>condition</th>\n",
       "      <td>27183.750236</td>\n",
       "      <td>27193.305646</td>\n",
       "      <td>27182.499304</td>\n",
       "    </tr>\n",
       "    <tr>\n",
       "      <th>grade</th>\n",
       "      <td>95663.288130</td>\n",
       "      <td>95653.228291</td>\n",
       "      <td>95664.685336</td>\n",
       "    </tr>\n",
       "    <tr>\n",
       "      <th>sqft_above</th>\n",
       "      <td>93996.665698</td>\n",
       "      <td>94075.826653</td>\n",
       "      <td>93860.847753</td>\n",
       "    </tr>\n",
       "    <tr>\n",
       "      <th>sqft_basement</th>\n",
       "      <td>33575.743834</td>\n",
       "      <td>33607.620302</td>\n",
       "      <td>33502.813135</td>\n",
       "    </tr>\n",
       "    <tr>\n",
       "      <th>yr_built</th>\n",
       "      <td>-119660.367156</td>\n",
       "      <td>-119638.660050</td>\n",
       "      <td>-119657.591817</td>\n",
       "    </tr>\n",
       "    <tr>\n",
       "      <th>yr_renovated</th>\n",
       "      <td>23.040955</td>\n",
       "      <td>23.086372</td>\n",
       "      <td>23.042576</td>\n",
       "    </tr>\n",
       "    <tr>\n",
       "      <th>zipcode</th>\n",
       "      <td>-51072.970083</td>\n",
       "      <td>-51066.709671</td>\n",
       "      <td>-51069.859954</td>\n",
       "    </tr>\n",
       "    <tr>\n",
       "      <th>lat</th>\n",
       "      <td>123129.695515</td>\n",
       "      <td>123116.744275</td>\n",
       "      <td>123128.012150</td>\n",
       "    </tr>\n",
       "    <tr>\n",
       "      <th>long</th>\n",
       "      <td>-47061.069907</td>\n",
       "      <td>-47066.430504</td>\n",
       "      <td>-47058.368967</td>\n",
       "    </tr>\n",
       "    <tr>\n",
       "      <th>sqft_living15</th>\n",
       "      <td>15830.458745</td>\n",
       "      <td>15818.468532</td>\n",
       "      <td>15827.934632</td>\n",
       "    </tr>\n",
       "    <tr>\n",
       "      <th>sqft_lot15</th>\n",
       "      <td>-1662.868712</td>\n",
       "      <td>-1662.183767</td>\n",
       "      <td>-1662.876996</td>\n",
       "    </tr>\n",
       "  </tbody>\n",
       "</table>\n",
       "</div>"
      ],
      "text/plain": [
       "                      linear          ridge          lasso\n",
       "bedrooms       -36467.259301  -36478.652307  -36466.465211\n",
       "bathrooms       32976.555246   32973.640948   32973.697553\n",
       "sqft_living    109253.570774  109192.193805  109405.059148\n",
       "sqft_lot           65.855474      65.435749      65.842842\n",
       "floors           3368.163384    3366.741113    3367.531741\n",
       "waterfront     607377.630551  604293.642582  607300.107285\n",
       "view            51990.601828   52122.531490   51993.345066\n",
       "condition       27183.750236   27193.305646   27182.499304\n",
       "grade           95663.288130   95653.228291   95664.685336\n",
       "sqft_above      93996.665698   94075.826653   93860.847753\n",
       "sqft_basement   33575.743834   33607.620302   33502.813135\n",
       "yr_built      -119660.367156 -119638.660050 -119657.591817\n",
       "yr_renovated       23.040955      23.086372      23.042576\n",
       "zipcode        -51072.970083  -51066.709671  -51069.859954\n",
       "lat            123129.695515  123116.744275  123128.012150\n",
       "long           -47061.069907  -47066.430504  -47058.368967\n",
       "sqft_living15   15830.458745   15818.468532   15827.934632\n",
       "sqft_lot15      -1662.868712   -1662.183767   -1662.876996"
      ]
     },
     "execution_count": 79,
     "metadata": {},
     "output_type": "execute_result"
    }
   ],
   "source": [
    "### Put it all together  into 1 line of code\n",
    "df_coeffs = pd.DataFrame({k:mod.coef_.flatten() for k,mod in fit_models.items()},\n",
    "                        index=X_train.columns)\n",
    "df_coeffs"
   ]
  },
  {
   "cell_type": "code",
   "execution_count": 80,
   "metadata": {
    "ExecuteTime": {
     "end_time": "2020-08-27T23:07:09.310864Z",
     "start_time": "2020-08-27T23:07:09.282606Z"
    }
   },
   "outputs": [
    {
     "data": {
      "text/html": [
       "<div>\n",
       "<style scoped>\n",
       "    .dataframe tbody tr th:only-of-type {\n",
       "        vertical-align: middle;\n",
       "    }\n",
       "\n",
       "    .dataframe tbody tr th {\n",
       "        vertical-align: top;\n",
       "    }\n",
       "\n",
       "    .dataframe thead th {\n",
       "        text-align: right;\n",
       "    }\n",
       "</style>\n",
       "<table border=\"1\" class=\"dataframe\">\n",
       "  <thead>\n",
       "    <tr style=\"text-align: right;\">\n",
       "      <th></th>\n",
       "      <th>bedrooms</th>\n",
       "      <th>bathrooms</th>\n",
       "      <th>sqft_living</th>\n",
       "      <th>sqft_lot</th>\n",
       "      <th>floors</th>\n",
       "      <th>waterfront</th>\n",
       "      <th>view</th>\n",
       "      <th>condition</th>\n",
       "      <th>grade</th>\n",
       "      <th>sqft_above</th>\n",
       "      <th>sqft_basement</th>\n",
       "      <th>yr_built</th>\n",
       "      <th>yr_renovated</th>\n",
       "      <th>zipcode</th>\n",
       "      <th>lat</th>\n",
       "      <th>long</th>\n",
       "      <th>sqft_living15</th>\n",
       "      <th>sqft_lot15</th>\n",
       "    </tr>\n",
       "  </thead>\n",
       "  <tbody>\n",
       "    <tr>\n",
       "      <th>linear</th>\n",
       "      <td>-36467.259</td>\n",
       "      <td>32976.555</td>\n",
       "      <td>109253.571</td>\n",
       "      <td>65.855</td>\n",
       "      <td>3368.163</td>\n",
       "      <td>607377.631</td>\n",
       "      <td>51990.602</td>\n",
       "      <td>27183.750</td>\n",
       "      <td>95663.288</td>\n",
       "      <td>93996.666</td>\n",
       "      <td>33575.744</td>\n",
       "      <td>-119660.367</td>\n",
       "      <td>23.041</td>\n",
       "      <td>-51072.97</td>\n",
       "      <td>123129.696</td>\n",
       "      <td>-47061.070</td>\n",
       "      <td>15830.459</td>\n",
       "      <td>-1662.869</td>\n",
       "    </tr>\n",
       "    <tr>\n",
       "      <th>ridge</th>\n",
       "      <td>-36478.652</td>\n",
       "      <td>32973.641</td>\n",
       "      <td>109192.194</td>\n",
       "      <td>65.436</td>\n",
       "      <td>3366.741</td>\n",
       "      <td>604293.643</td>\n",
       "      <td>52122.531</td>\n",
       "      <td>27193.306</td>\n",
       "      <td>95653.228</td>\n",
       "      <td>94075.827</td>\n",
       "      <td>33607.620</td>\n",
       "      <td>-119638.660</td>\n",
       "      <td>23.086</td>\n",
       "      <td>-51066.71</td>\n",
       "      <td>123116.744</td>\n",
       "      <td>-47066.431</td>\n",
       "      <td>15818.469</td>\n",
       "      <td>-1662.184</td>\n",
       "    </tr>\n",
       "    <tr>\n",
       "      <th>lasso</th>\n",
       "      <td>-36466.465</td>\n",
       "      <td>32973.698</td>\n",
       "      <td>109405.059</td>\n",
       "      <td>65.843</td>\n",
       "      <td>3367.532</td>\n",
       "      <td>607300.107</td>\n",
       "      <td>51993.345</td>\n",
       "      <td>27182.499</td>\n",
       "      <td>95664.685</td>\n",
       "      <td>93860.848</td>\n",
       "      <td>33502.813</td>\n",
       "      <td>-119657.592</td>\n",
       "      <td>23.043</td>\n",
       "      <td>-51069.86</td>\n",
       "      <td>123128.012</td>\n",
       "      <td>-47058.369</td>\n",
       "      <td>15827.935</td>\n",
       "      <td>-1662.877</td>\n",
       "    </tr>\n",
       "  </tbody>\n",
       "</table>\n",
       "</div>"
      ],
      "text/plain": [
       "         bedrooms  bathrooms  sqft_living  sqft_lot    floors  waterfront  \\\n",
       "linear -36467.259  32976.555   109253.571    65.855  3368.163  607377.631   \n",
       "ridge  -36478.652  32973.641   109192.194    65.436  3366.741  604293.643   \n",
       "lasso  -36466.465  32973.698   109405.059    65.843  3367.532  607300.107   \n",
       "\n",
       "             view  condition      grade  sqft_above  sqft_basement  \\\n",
       "linear  51990.602  27183.750  95663.288   93996.666      33575.744   \n",
       "ridge   52122.531  27193.306  95653.228   94075.827      33607.620   \n",
       "lasso   51993.345  27182.499  95664.685   93860.848      33502.813   \n",
       "\n",
       "          yr_built  yr_renovated   zipcode         lat       long  \\\n",
       "linear -119660.367        23.041 -51072.97  123129.696 -47061.070   \n",
       "ridge  -119638.660        23.086 -51066.71  123116.744 -47066.431   \n",
       "lasso  -119657.592        23.043 -51069.86  123128.012 -47058.369   \n",
       "\n",
       "        sqft_living15  sqft_lot15  \n",
       "linear      15830.459   -1662.869  \n",
       "ridge       15818.469   -1662.184  \n",
       "lasso       15827.935   -1662.877  "
      ]
     },
     "execution_count": 80,
     "metadata": {},
     "output_type": "execute_result"
    }
   ],
   "source": [
    "## Tanspose df and round\n",
    "df_coeffs.T.round(3)"
   ]
  },
  {
   "cell_type": "markdown",
   "metadata": {},
   "source": [
    "## Discussion: what was the result of the different regressions on the coefficients?"
   ]
  },
  {
   "cell_type": "markdown",
   "metadata": {},
   "source": [
    "-  lasso regression shrunk some of the coefficients down to 0"
   ]
  },
  {
   "cell_type": "markdown",
   "metadata": {},
   "source": [
    "# Feature Selection\n",
    "[Lesson](https://learn.co/tracks/module-3-data-science-career-2-1/machine-learning/section-24-feature-selection-ridge-and-lasso/feature-selection-methods)"
   ]
  },
  {
   "cell_type": "markdown",
   "metadata": {},
   "source": [
    "## Types of Feature Selection "
   ]
  },
  {
   "cell_type": "markdown",
   "metadata": {},
   "source": [
    "* Domain knowledge\n",
    "* Wrapper methods\n",
    "* Filter methods\n",
    "* Embedded methods\n",
    "\n",
    "> ### Wrapper Methods\n",
    "<img src=\"https://raw.githubusercontent.com/jirvingphd/dsc-feature-selection-methods-online-ds-pt-100719/master/images/new_wrapper.png\">\n",
    "\n",
    "\n",
    "> ### Filter Methods\n",
    "<img src=\"https://raw.githubusercontent.com/jirvingphd/dsc-feature-selection-methods-online-ds-pt-100719/master/images/new_filter.png\">\n",
    "\n",
    "\n",
    "> ### Embed Methods\n",
    "<img src=\"https://raw.githubusercontent.com/jirvingphd/dsc-feature-selection-methods-online-ds-pt-100719/master/images/new_embedded.png\">"
   ]
  },
  {
   "cell_type": "markdown",
   "metadata": {},
   "source": [
    "# ACTIVITY"
   ]
  },
  {
   "cell_type": "markdown",
   "metadata": {},
   "source": [
    "[**Rewrite Feature Selection Methods Lesson to easily capture and compare results across methods.**](https://learn.co/tracks/module-3-data-science-career-2-1/machine-learning/section-24-feature-selection-ridge-and-lasso/feature-selection-methods)\n"
   ]
  },
  {
   "cell_type": "code",
   "execution_count": 81,
   "metadata": {
    "ExecuteTime": {
     "end_time": "2020-08-27T23:07:09.543691Z",
     "start_time": "2020-08-27T23:07:09.312722Z"
    }
   },
   "outputs": [],
   "source": [
    "## Feature Selection Dataset\n",
    "data= \"https://raw.githubusercontent.com/learn-co-students/dsc-feature-selection-methods-online-ds-pt-100719/master/diabetes.tab.txt\"\n",
    "df = pd.read_csv(data,sep='\\t')"
   ]
  },
  {
   "cell_type": "code",
   "execution_count": 82,
   "metadata": {
    "ExecuteTime": {
     "end_time": "2020-08-27T23:07:09.551893Z",
     "start_time": "2020-08-27T23:07:09.545788Z"
    }
   },
   "outputs": [],
   "source": [
    "## Make a new version of make_model that also adds a note column to results\n",
    "def run_model(model,X_train,X_test,y_train,y_test,note=''):\n",
    "    \"\"\"Takes a sklearn model and train/test data to fit model, \n",
    "    get R2 and RMSE for both the training and test data.\n",
    "    \n",
    "    Returns:\n",
    "        DataFrame: results as a df\n",
    "        model: fit scikit-learn model itself\"\"\"\n",
    "    \n",
    "    res= [['Data','R2','RMSE']]\n",
    "    model.fit(X_train, y_train)\n",
    "    # Generate preditions for training and test sets\n",
    "    y_hat_train = model.predict(X_train)\n",
    "    y_hat_test = model.predict(X_test)\n",
    "    \n",
    "    r2_train = r2_score(y_train,y_hat_train)\n",
    "    r2_test = r2_score(y_test,y_hat_test)\n",
    "    \n",
    "    rmse_train = np.sqrt(mean_squared_error(y_train,y_hat_train))\n",
    "    rmse_test = np.sqrt(mean_squared_error(y_test,y_hat_test))\n",
    "    res.append(['Train', r2_train, rmse_train] )\n",
    "    res.append(['Test', r2_test, rmse_test] )\n",
    "    \n",
    "    res_df = pd.DataFrame(res[1:], columns=res[0]).round(4)\n",
    "    res_df['Note'] = note\n",
    "    return res_df#, model\n",
    "    "
   ]
  },
  {
   "cell_type": "code",
   "execution_count": 83,
   "metadata": {
    "ExecuteTime": {
     "end_time": "2020-08-27T23:07:09.573172Z",
     "start_time": "2020-08-27T23:07:09.553746Z"
    }
   },
   "outputs": [
    {
     "data": {
      "text/html": [
       "<div>\n",
       "<style scoped>\n",
       "    .dataframe tbody tr th:only-of-type {\n",
       "        vertical-align: middle;\n",
       "    }\n",
       "\n",
       "    .dataframe tbody tr th {\n",
       "        vertical-align: top;\n",
       "    }\n",
       "\n",
       "    .dataframe thead th {\n",
       "        text-align: right;\n",
       "    }\n",
       "</style>\n",
       "<table border=\"1\" class=\"dataframe\">\n",
       "  <thead>\n",
       "    <tr style=\"text-align: right;\">\n",
       "      <th></th>\n",
       "      <th>AGE</th>\n",
       "      <th>BMI</th>\n",
       "      <th>BP</th>\n",
       "      <th>S1</th>\n",
       "      <th>S2</th>\n",
       "      <th>S3</th>\n",
       "      <th>S4</th>\n",
       "      <th>S5</th>\n",
       "      <th>S6</th>\n",
       "      <th>female</th>\n",
       "    </tr>\n",
       "  </thead>\n",
       "  <tbody>\n",
       "    <tr>\n",
       "      <th>0</th>\n",
       "      <td>59</td>\n",
       "      <td>32.1</td>\n",
       "      <td>101.0</td>\n",
       "      <td>157</td>\n",
       "      <td>93.2</td>\n",
       "      <td>38.0</td>\n",
       "      <td>4.0</td>\n",
       "      <td>4.8598</td>\n",
       "      <td>87</td>\n",
       "      <td>1</td>\n",
       "    </tr>\n",
       "    <tr>\n",
       "      <th>1</th>\n",
       "      <td>48</td>\n",
       "      <td>21.6</td>\n",
       "      <td>87.0</td>\n",
       "      <td>183</td>\n",
       "      <td>103.2</td>\n",
       "      <td>70.0</td>\n",
       "      <td>3.0</td>\n",
       "      <td>3.8918</td>\n",
       "      <td>69</td>\n",
       "      <td>0</td>\n",
       "    </tr>\n",
       "    <tr>\n",
       "      <th>2</th>\n",
       "      <td>72</td>\n",
       "      <td>30.5</td>\n",
       "      <td>93.0</td>\n",
       "      <td>156</td>\n",
       "      <td>93.6</td>\n",
       "      <td>41.0</td>\n",
       "      <td>4.0</td>\n",
       "      <td>4.6728</td>\n",
       "      <td>85</td>\n",
       "      <td>1</td>\n",
       "    </tr>\n",
       "    <tr>\n",
       "      <th>3</th>\n",
       "      <td>24</td>\n",
       "      <td>25.3</td>\n",
       "      <td>84.0</td>\n",
       "      <td>198</td>\n",
       "      <td>131.4</td>\n",
       "      <td>40.0</td>\n",
       "      <td>5.0</td>\n",
       "      <td>4.8903</td>\n",
       "      <td>89</td>\n",
       "      <td>0</td>\n",
       "    </tr>\n",
       "    <tr>\n",
       "      <th>4</th>\n",
       "      <td>50</td>\n",
       "      <td>23.0</td>\n",
       "      <td>101.0</td>\n",
       "      <td>192</td>\n",
       "      <td>125.4</td>\n",
       "      <td>52.0</td>\n",
       "      <td>4.0</td>\n",
       "      <td>4.2905</td>\n",
       "      <td>80</td>\n",
       "      <td>0</td>\n",
       "    </tr>\n",
       "  </tbody>\n",
       "</table>\n",
       "</div>"
      ],
      "text/plain": [
       "   AGE   BMI     BP   S1     S2    S3   S4      S5  S6  female\n",
       "0   59  32.1  101.0  157   93.2  38.0  4.0  4.8598  87       1\n",
       "1   48  21.6   87.0  183  103.2  70.0  3.0  3.8918  69       0\n",
       "2   72  30.5   93.0  156   93.6  41.0  4.0  4.6728  85       1\n",
       "3   24  25.3   84.0  198  131.4  40.0  5.0  4.8903  89       0\n",
       "4   50  23.0  101.0  192  125.4  52.0  4.0  4.2905  80       0"
      ]
     },
     "execution_count": 83,
     "metadata": {},
     "output_type": "execute_result"
    }
   ],
   "source": [
    "from sklearn.model_selection import train_test_split\n",
    "from sklearn import metrics\n",
    "from sklearn.linear_model import LinearRegression\n",
    "\n",
    "# Obtain the target and features from the DataFrame\n",
    "target = df['Y']\n",
    "features = df.drop(columns='Y')\n",
    "\n",
    "# Create dummy variable for sex\n",
    "features['female'] = pd.get_dummies(features['SEX'], drop_first=True)\n",
    "features.drop(columns=['SEX'], inplace=True)\n",
    "features.head()"
   ]
  },
  {
   "cell_type": "code",
   "execution_count": 84,
   "metadata": {
    "ExecuteTime": {
     "end_time": "2020-08-27T23:07:09.598657Z",
     "start_time": "2020-08-27T23:07:09.575012Z"
    }
   },
   "outputs": [
    {
     "data": {
      "text/html": [
       "<div>\n",
       "<style scoped>\n",
       "    .dataframe tbody tr th:only-of-type {\n",
       "        vertical-align: middle;\n",
       "    }\n",
       "\n",
       "    .dataframe tbody tr th {\n",
       "        vertical-align: top;\n",
       "    }\n",
       "\n",
       "    .dataframe thead th {\n",
       "        text-align: right;\n",
       "    }\n",
       "</style>\n",
       "<table border=\"1\" class=\"dataframe\">\n",
       "  <thead>\n",
       "    <tr style=\"text-align: right;\">\n",
       "      <th></th>\n",
       "      <th>AGE</th>\n",
       "      <th>BMI</th>\n",
       "      <th>BP</th>\n",
       "      <th>S1</th>\n",
       "      <th>S2</th>\n",
       "      <th>S3</th>\n",
       "      <th>S4</th>\n",
       "      <th>S5</th>\n",
       "      <th>S6</th>\n",
       "      <th>female</th>\n",
       "    </tr>\n",
       "  </thead>\n",
       "  <tbody>\n",
       "    <tr>\n",
       "      <th>171</th>\n",
       "      <td>43</td>\n",
       "      <td>22.1</td>\n",
       "      <td>66.0</td>\n",
       "      <td>134</td>\n",
       "      <td>77.2</td>\n",
       "      <td>45.0</td>\n",
       "      <td>3.0</td>\n",
       "      <td>4.0775</td>\n",
       "      <td>80</td>\n",
       "      <td>0</td>\n",
       "    </tr>\n",
       "    <tr>\n",
       "      <th>388</th>\n",
       "      <td>63</td>\n",
       "      <td>24.1</td>\n",
       "      <td>111.0</td>\n",
       "      <td>184</td>\n",
       "      <td>112.2</td>\n",
       "      <td>44.0</td>\n",
       "      <td>4.0</td>\n",
       "      <td>4.9345</td>\n",
       "      <td>82</td>\n",
       "      <td>1</td>\n",
       "    </tr>\n",
       "    <tr>\n",
       "      <th>268</th>\n",
       "      <td>66</td>\n",
       "      <td>34.6</td>\n",
       "      <td>115.0</td>\n",
       "      <td>204</td>\n",
       "      <td>139.4</td>\n",
       "      <td>36.0</td>\n",
       "      <td>6.0</td>\n",
       "      <td>4.9628</td>\n",
       "      <td>109</td>\n",
       "      <td>1</td>\n",
       "    </tr>\n",
       "    <tr>\n",
       "      <th>31</th>\n",
       "      <td>42</td>\n",
       "      <td>20.3</td>\n",
       "      <td>71.0</td>\n",
       "      <td>161</td>\n",
       "      <td>81.2</td>\n",
       "      <td>66.0</td>\n",
       "      <td>2.0</td>\n",
       "      <td>4.2341</td>\n",
       "      <td>81</td>\n",
       "      <td>0</td>\n",
       "    </tr>\n",
       "    <tr>\n",
       "      <th>427</th>\n",
       "      <td>39</td>\n",
       "      <td>26.9</td>\n",
       "      <td>93.0</td>\n",
       "      <td>136</td>\n",
       "      <td>75.4</td>\n",
       "      <td>48.0</td>\n",
       "      <td>3.0</td>\n",
       "      <td>4.1431</td>\n",
       "      <td>99</td>\n",
       "      <td>1</td>\n",
       "    </tr>\n",
       "    <tr>\n",
       "      <th>...</th>\n",
       "      <td>...</td>\n",
       "      <td>...</td>\n",
       "      <td>...</td>\n",
       "      <td>...</td>\n",
       "      <td>...</td>\n",
       "      <td>...</td>\n",
       "      <td>...</td>\n",
       "      <td>...</td>\n",
       "      <td>...</td>\n",
       "      <td>...</td>\n",
       "    </tr>\n",
       "    <tr>\n",
       "      <th>218</th>\n",
       "      <td>37</td>\n",
       "      <td>20.3</td>\n",
       "      <td>83.0</td>\n",
       "      <td>185</td>\n",
       "      <td>124.6</td>\n",
       "      <td>38.0</td>\n",
       "      <td>5.0</td>\n",
       "      <td>4.7185</td>\n",
       "      <td>88</td>\n",
       "      <td>0</td>\n",
       "    </tr>\n",
       "    <tr>\n",
       "      <th>412</th>\n",
       "      <td>69</td>\n",
       "      <td>34.3</td>\n",
       "      <td>113.0</td>\n",
       "      <td>200</td>\n",
       "      <td>123.8</td>\n",
       "      <td>54.0</td>\n",
       "      <td>4.0</td>\n",
       "      <td>4.7095</td>\n",
       "      <td>112</td>\n",
       "      <td>0</td>\n",
       "    </tr>\n",
       "    <tr>\n",
       "      <th>223</th>\n",
       "      <td>21</td>\n",
       "      <td>24.2</td>\n",
       "      <td>76.0</td>\n",
       "      <td>147</td>\n",
       "      <td>77.0</td>\n",
       "      <td>53.0</td>\n",
       "      <td>3.0</td>\n",
       "      <td>4.4427</td>\n",
       "      <td>79</td>\n",
       "      <td>0</td>\n",
       "    </tr>\n",
       "    <tr>\n",
       "      <th>271</th>\n",
       "      <td>59</td>\n",
       "      <td>27.2</td>\n",
       "      <td>107.0</td>\n",
       "      <td>158</td>\n",
       "      <td>102.0</td>\n",
       "      <td>39.0</td>\n",
       "      <td>4.0</td>\n",
       "      <td>4.4427</td>\n",
       "      <td>93</td>\n",
       "      <td>1</td>\n",
       "    </tr>\n",
       "    <tr>\n",
       "      <th>355</th>\n",
       "      <td>28</td>\n",
       "      <td>25.5</td>\n",
       "      <td>99.0</td>\n",
       "      <td>162</td>\n",
       "      <td>101.6</td>\n",
       "      <td>46.0</td>\n",
       "      <td>4.0</td>\n",
       "      <td>4.2767</td>\n",
       "      <td>94</td>\n",
       "      <td>1</td>\n",
       "    </tr>\n",
       "  </tbody>\n",
       "</table>\n",
       "<p>353 rows × 10 columns</p>\n",
       "</div>"
      ],
      "text/plain": [
       "     AGE   BMI     BP   S1     S2    S3   S4      S5   S6  female\n",
       "171   43  22.1   66.0  134   77.2  45.0  3.0  4.0775   80       0\n",
       "388   63  24.1  111.0  184  112.2  44.0  4.0  4.9345   82       1\n",
       "268   66  34.6  115.0  204  139.4  36.0  6.0  4.9628  109       1\n",
       "31    42  20.3   71.0  161   81.2  66.0  2.0  4.2341   81       0\n",
       "427   39  26.9   93.0  136   75.4  48.0  3.0  4.1431   99       1\n",
       "..   ...   ...    ...  ...    ...   ...  ...     ...  ...     ...\n",
       "218   37  20.3   83.0  185  124.6  38.0  5.0  4.7185   88       0\n",
       "412   69  34.3  113.0  200  123.8  54.0  4.0  4.7095  112       0\n",
       "223   21  24.2   76.0  147   77.0  53.0  3.0  4.4427   79       0\n",
       "271   59  27.2  107.0  158  102.0  39.0  4.0  4.4427   93       1\n",
       "355   28  25.5   99.0  162  101.6  46.0  4.0  4.2767   94       1\n",
       "\n",
       "[353 rows x 10 columns]"
      ]
     },
     "execution_count": 84,
     "metadata": {},
     "output_type": "execute_result"
    }
   ],
   "source": [
    "from sklearn.preprocessing import StandardScaler\n",
    "\n",
    "# Split the data\n",
    "X_train, X_test, y_train, y_test = train_test_split(features, target, random_state=20, test_size=0.2)\n",
    "X_train"
   ]
  },
  {
   "cell_type": "code",
   "execution_count": 85,
   "metadata": {
    "ExecuteTime": {
     "end_time": "2020-08-27T23:07:09.606110Z",
     "start_time": "2020-08-27T23:07:09.600127Z"
    }
   },
   "outputs": [
    {
     "data": {
      "text/plain": [
       "Index(['AGE', 'BMI', 'BP', 'S1', 'S2', 'S3', 'S4', 'S5', 'S6'], dtype='object')"
      ]
     },
     "execution_count": 85,
     "metadata": {},
     "output_type": "execute_result"
    }
   ],
   "source": [
    "# Initialize the scaler\n",
    "scaler = StandardScaler()\n",
    "# Scale every feature except the binary column - female\n",
    "scale_cols = X_train.drop('female',axis=1).columns\n",
    "scale_cols"
   ]
  },
  {
   "cell_type": "code",
   "execution_count": 86,
   "metadata": {
    "ExecuteTime": {
     "end_time": "2020-08-27T23:07:09.623748Z",
     "start_time": "2020-08-27T23:07:09.607523Z"
    }
   },
   "outputs": [],
   "source": [
    "X_train[scale_cols] = scaler.fit_transform(X_train[scale_cols])\n",
    "X_test[scale_cols] = scaler.transform(X_test[scale_cols])"
   ]
  },
  {
   "cell_type": "code",
   "execution_count": 87,
   "metadata": {
    "ExecuteTime": {
     "end_time": "2020-08-27T23:07:09.640016Z",
     "start_time": "2020-08-27T23:07:09.625279Z"
    }
   },
   "outputs": [],
   "source": [
    "## Make an empty RESULTS list\n",
    "RESULTS = []\n",
    "## Run our baseline regression and append to RESULTS\n",
    "RESULTS.append(run_model(LinearRegression(),\n",
    "                         X_train,X_test,y_train,y_test,'Baseline'))"
   ]
  },
  {
   "cell_type": "code",
   "execution_count": 88,
   "metadata": {
    "ExecuteTime": {
     "end_time": "2020-08-27T23:07:09.654980Z",
     "start_time": "2020-08-27T23:07:09.641615Z"
    }
   },
   "outputs": [
    {
     "data": {
      "text/html": [
       "<style  type=\"text/css\" >\n",
       "#T_08bee974_e8ba_11ea_93a5_4865ee12e626row0_col1{\n",
       "            background-color:  #fff7fb;\n",
       "            color:  #000000;\n",
       "        }</style><table id=\"T_08bee974_e8ba_11ea_93a5_4865ee12e626\" ><thead>    <tr>        <th class=\"blank level0\" ></th>        <th class=\"col_heading level0 col0\" >Data</th>        <th class=\"col_heading level0 col1\" >R2</th>        <th class=\"col_heading level0 col2\" >RMSE</th>    </tr>    <tr>        <th class=\"index_name level0\" >Note</th>        <th class=\"blank\" ></th>        <th class=\"blank\" ></th>        <th class=\"blank\" ></th>    </tr></thead><tbody>\n",
       "                <tr>\n",
       "                        <th id=\"T_08bee974_e8ba_11ea_93a5_4865ee12e626level0_row0\" class=\"row_heading level0 row0\" >Baseline</th>\n",
       "                        <td id=\"T_08bee974_e8ba_11ea_93a5_4865ee12e626row0_col0\" class=\"data row0 col0\" >Test</td>\n",
       "                        <td id=\"T_08bee974_e8ba_11ea_93a5_4865ee12e626row0_col1\" class=\"data row0 col1\" >0.418000</td>\n",
       "                        <td id=\"T_08bee974_e8ba_11ea_93a5_4865ee12e626row0_col2\" class=\"data row0 col2\" >58.835900</td>\n",
       "            </tr>\n",
       "    </tbody></table>"
      ],
      "text/plain": [
       "<pandas.io.formats.style.Styler at 0x137ef8c18>"
      ]
     },
     "metadata": {},
     "output_type": "display_data"
    }
   ],
   "source": [
    "def show_results(RESULTS,style_kws={'subset':['R2']}):\n",
    "    res = pd.concat(RESULTS).set_index('Note').groupby(\"Data\").get_group('Test')   \n",
    "    try:\n",
    "        display(res.style.background_gradient(**style_kws))\n",
    "    except:\n",
    "        display(res)\n",
    "show_results(RESULTS)"
   ]
  },
  {
   "cell_type": "code",
   "execution_count": 89,
   "metadata": {
    "ExecuteTime": {
     "end_time": "2020-08-27T23:07:09.688821Z",
     "start_time": "2020-08-27T23:07:09.656401Z"
    }
   },
   "outputs": [
    {
     "data": {
      "text/html": [
       "<div>\n",
       "<style scoped>\n",
       "    .dataframe tbody tr th:only-of-type {\n",
       "        vertical-align: middle;\n",
       "    }\n",
       "\n",
       "    .dataframe tbody tr th {\n",
       "        vertical-align: top;\n",
       "    }\n",
       "\n",
       "    .dataframe thead th {\n",
       "        text-align: right;\n",
       "    }\n",
       "</style>\n",
       "<table border=\"1\" class=\"dataframe\">\n",
       "  <thead>\n",
       "    <tr style=\"text-align: right;\">\n",
       "      <th></th>\n",
       "      <th>AGE</th>\n",
       "      <th>BMI</th>\n",
       "      <th>BP</th>\n",
       "      <th>S1</th>\n",
       "      <th>S2</th>\n",
       "      <th>S3</th>\n",
       "      <th>S4</th>\n",
       "      <th>S5</th>\n",
       "      <th>S6</th>\n",
       "      <th>female</th>\n",
       "      <th>...</th>\n",
       "      <th>S4^2</th>\n",
       "      <th>S4 S5</th>\n",
       "      <th>S4 S6</th>\n",
       "      <th>S4 female</th>\n",
       "      <th>S5^2</th>\n",
       "      <th>S5 S6</th>\n",
       "      <th>S5 female</th>\n",
       "      <th>S6^2</th>\n",
       "      <th>S6 female</th>\n",
       "      <th>female^2</th>\n",
       "    </tr>\n",
       "  </thead>\n",
       "  <tbody>\n",
       "    <tr>\n",
       "      <th>0</th>\n",
       "      <td>-0.433522</td>\n",
       "      <td>-0.967597</td>\n",
       "      <td>-2.067847</td>\n",
       "      <td>-1.623215</td>\n",
       "      <td>-1.280312</td>\n",
       "      <td>-0.347527</td>\n",
       "      <td>-0.852832</td>\n",
       "      <td>-1.095555</td>\n",
       "      <td>-1.006077</td>\n",
       "      <td>0.0</td>\n",
       "      <td>...</td>\n",
       "      <td>0.727322</td>\n",
       "      <td>0.934324</td>\n",
       "      <td>0.858015</td>\n",
       "      <td>-0.000000</td>\n",
       "      <td>1.200240</td>\n",
       "      <td>1.102213</td>\n",
       "      <td>-0.000000</td>\n",
       "      <td>1.012192</td>\n",
       "      <td>-0.000000</td>\n",
       "      <td>0.0</td>\n",
       "    </tr>\n",
       "    <tr>\n",
       "      <th>1</th>\n",
       "      <td>1.117754</td>\n",
       "      <td>-0.516691</td>\n",
       "      <td>1.142458</td>\n",
       "      <td>-0.168101</td>\n",
       "      <td>-0.129601</td>\n",
       "      <td>-0.424950</td>\n",
       "      <td>-0.083651</td>\n",
       "      <td>0.543382</td>\n",
       "      <td>-0.831901</td>\n",
       "      <td>1.0</td>\n",
       "      <td>...</td>\n",
       "      <td>0.006998</td>\n",
       "      <td>-0.045455</td>\n",
       "      <td>0.069589</td>\n",
       "      <td>-0.083651</td>\n",
       "      <td>0.295264</td>\n",
       "      <td>-0.452040</td>\n",
       "      <td>0.543382</td>\n",
       "      <td>0.692060</td>\n",
       "      <td>-0.831901</td>\n",
       "      <td>1.0</td>\n",
       "    </tr>\n",
       "    <tr>\n",
       "      <th>2</th>\n",
       "      <td>1.350445</td>\n",
       "      <td>1.850570</td>\n",
       "      <td>1.427819</td>\n",
       "      <td>0.413945</td>\n",
       "      <td>0.764667</td>\n",
       "      <td>-1.044334</td>\n",
       "      <td>1.454710</td>\n",
       "      <td>0.597504</td>\n",
       "      <td>1.519478</td>\n",
       "      <td>1.0</td>\n",
       "      <td>...</td>\n",
       "      <td>2.116182</td>\n",
       "      <td>0.869195</td>\n",
       "      <td>2.210400</td>\n",
       "      <td>1.454710</td>\n",
       "      <td>0.357011</td>\n",
       "      <td>0.907894</td>\n",
       "      <td>0.597504</td>\n",
       "      <td>2.308813</td>\n",
       "      <td>1.519478</td>\n",
       "      <td>1.0</td>\n",
       "    </tr>\n",
       "    <tr>\n",
       "      <th>3</th>\n",
       "      <td>-0.511086</td>\n",
       "      <td>-1.373413</td>\n",
       "      <td>-1.711146</td>\n",
       "      <td>-0.837453</td>\n",
       "      <td>-1.148802</td>\n",
       "      <td>1.278358</td>\n",
       "      <td>-1.622013</td>\n",
       "      <td>-0.796071</td>\n",
       "      <td>-0.918989</td>\n",
       "      <td>0.0</td>\n",
       "      <td>...</td>\n",
       "      <td>2.630925</td>\n",
       "      <td>1.291237</td>\n",
       "      <td>1.490612</td>\n",
       "      <td>-0.000000</td>\n",
       "      <td>0.633729</td>\n",
       "      <td>0.731581</td>\n",
       "      <td>-0.000000</td>\n",
       "      <td>0.844541</td>\n",
       "      <td>-0.000000</td>\n",
       "      <td>0.0</td>\n",
       "    </tr>\n",
       "    <tr>\n",
       "      <th>4</th>\n",
       "      <td>-0.743778</td>\n",
       "      <td>0.114579</td>\n",
       "      <td>-0.141664</td>\n",
       "      <td>-1.565010</td>\n",
       "      <td>-1.339491</td>\n",
       "      <td>-0.115257</td>\n",
       "      <td>-0.852832</td>\n",
       "      <td>-0.970101</td>\n",
       "      <td>0.648597</td>\n",
       "      <td>1.0</td>\n",
       "      <td>...</td>\n",
       "      <td>0.727322</td>\n",
       "      <td>0.827333</td>\n",
       "      <td>-0.553144</td>\n",
       "      <td>-0.852832</td>\n",
       "      <td>0.941095</td>\n",
       "      <td>-0.629204</td>\n",
       "      <td>-0.970101</td>\n",
       "      <td>0.420678</td>\n",
       "      <td>0.648597</td>\n",
       "      <td>1.0</td>\n",
       "    </tr>\n",
       "  </tbody>\n",
       "</table>\n",
       "<p>5 rows × 65 columns</p>\n",
       "</div>"
      ],
      "text/plain": [
       "        AGE       BMI        BP        S1        S2        S3        S4  \\\n",
       "0 -0.433522 -0.967597 -2.067847 -1.623215 -1.280312 -0.347527 -0.852832   \n",
       "1  1.117754 -0.516691  1.142458 -0.168101 -0.129601 -0.424950 -0.083651   \n",
       "2  1.350445  1.850570  1.427819  0.413945  0.764667 -1.044334  1.454710   \n",
       "3 -0.511086 -1.373413 -1.711146 -0.837453 -1.148802  1.278358 -1.622013   \n",
       "4 -0.743778  0.114579 -0.141664 -1.565010 -1.339491 -0.115257 -0.852832   \n",
       "\n",
       "         S5        S6  female  ...      S4^2     S4 S5     S4 S6  S4 female  \\\n",
       "0 -1.095555 -1.006077     0.0  ...  0.727322  0.934324  0.858015  -0.000000   \n",
       "1  0.543382 -0.831901     1.0  ...  0.006998 -0.045455  0.069589  -0.083651   \n",
       "2  0.597504  1.519478     1.0  ...  2.116182  0.869195  2.210400   1.454710   \n",
       "3 -0.796071 -0.918989     0.0  ...  2.630925  1.291237  1.490612  -0.000000   \n",
       "4 -0.970101  0.648597     1.0  ...  0.727322  0.827333 -0.553144  -0.852832   \n",
       "\n",
       "       S5^2     S5 S6  S5 female      S6^2  S6 female  female^2  \n",
       "0  1.200240  1.102213  -0.000000  1.012192  -0.000000       0.0  \n",
       "1  0.295264 -0.452040   0.543382  0.692060  -0.831901       1.0  \n",
       "2  0.357011  0.907894   0.597504  2.308813   1.519478       1.0  \n",
       "3  0.633729  0.731581  -0.000000  0.844541  -0.000000       0.0  \n",
       "4  0.941095 -0.629204  -0.970101  0.420678   0.648597       1.0  \n",
       "\n",
       "[5 rows x 65 columns]"
      ]
     },
     "execution_count": 89,
     "metadata": {},
     "output_type": "execute_result"
    }
   ],
   "source": [
    "from sklearn.preprocessing import PolynomialFeatures\n",
    "poly = PolynomialFeatures(degree=2, interaction_only=False, include_bias=False)\n",
    "\n",
    "X_poly_train = pd.DataFrame(poly.fit_transform(X_train),\n",
    "                            columns=poly.get_feature_names(features.columns))\n",
    "\n",
    "X_poly_test = pd.DataFrame(poly.transform(X_test),\n",
    "                           columns=poly.get_feature_names(features.columns))\n",
    "\n",
    "X_poly_train.head()"
   ]
  },
  {
   "cell_type": "code",
   "execution_count": 90,
   "metadata": {
    "ExecuteTime": {
     "end_time": "2020-08-27T23:07:09.724728Z",
     "start_time": "2020-08-27T23:07:09.690379Z"
    }
   },
   "outputs": [
    {
     "data": {
      "text/html": [
       "<style  type=\"text/css\" >\n",
       "#T_08c96f7a_e8ba_11ea_b5c0_4865ee12e626row0_col1{\n",
       "            background-color:  #023858;\n",
       "            color:  #f1f1f1;\n",
       "        }#T_08c96f7a_e8ba_11ea_b5c0_4865ee12e626row1_col1{\n",
       "            background-color:  #fff7fb;\n",
       "            color:  #000000;\n",
       "        }</style><table id=\"T_08c96f7a_e8ba_11ea_b5c0_4865ee12e626\" ><thead>    <tr>        <th class=\"blank level0\" ></th>        <th class=\"col_heading level0 col0\" >Data</th>        <th class=\"col_heading level0 col1\" >R2</th>        <th class=\"col_heading level0 col2\" >RMSE</th>    </tr>    <tr>        <th class=\"index_name level0\" >Note</th>        <th class=\"blank\" ></th>        <th class=\"blank\" ></th>        <th class=\"blank\" ></th>    </tr></thead><tbody>\n",
       "                <tr>\n",
       "                        <th id=\"T_08c96f7a_e8ba_11ea_b5c0_4865ee12e626level0_row0\" class=\"row_heading level0 row0\" >Baseline</th>\n",
       "                        <td id=\"T_08c96f7a_e8ba_11ea_b5c0_4865ee12e626row0_col0\" class=\"data row0 col0\" >Test</td>\n",
       "                        <td id=\"T_08c96f7a_e8ba_11ea_b5c0_4865ee12e626row0_col1\" class=\"data row0 col1\" >0.418000</td>\n",
       "                        <td id=\"T_08c96f7a_e8ba_11ea_b5c0_4865ee12e626row0_col2\" class=\"data row0 col2\" >58.835900</td>\n",
       "            </tr>\n",
       "            <tr>\n",
       "                        <th id=\"T_08c96f7a_e8ba_11ea_b5c0_4865ee12e626level0_row1\" class=\"row_heading level0 row1\" >Poly</th>\n",
       "                        <td id=\"T_08c96f7a_e8ba_11ea_b5c0_4865ee12e626row1_col0\" class=\"data row1 col0\" >Test</td>\n",
       "                        <td id=\"T_08c96f7a_e8ba_11ea_b5c0_4865ee12e626row1_col1\" class=\"data row1 col1\" >0.368900</td>\n",
       "                        <td id=\"T_08c96f7a_e8ba_11ea_b5c0_4865ee12e626row1_col2\" class=\"data row1 col2\" >61.267800</td>\n",
       "            </tr>\n",
       "    </tbody></table>"
      ],
      "text/plain": [
       "<pandas.io.formats.style.Styler at 0x13445f908>"
      ]
     },
     "metadata": {},
     "output_type": "display_data"
    }
   ],
   "source": [
    "## Make a linear regression with our X_poly data and append to RESULTS\n",
    "RESULTS.append(run_model(LinearRegression(),\n",
    "                         X_poly_train,X_poly_test,y_train,y_test,'Poly'))\n",
    "\n",
    "## Show resuls\n",
    "show_results(RESULTS)"
   ]
  },
  {
   "cell_type": "markdown",
   "metadata": {},
   "source": [
    "### Filter Methods"
   ]
  },
  {
   "cell_type": "markdown",
   "metadata": {},
   "source": [
    ">\"The benefit of filter methods is that they can provide us with some useful visualizations for helping us gain an understanding about the characteristics of our data. To begin with, let's use a simple variance threshold to eliminate the features with low variance.\""
   ]
  },
  {
   "cell_type": "code",
   "execution_count": 91,
   "metadata": {
    "ExecuteTime": {
     "end_time": "2020-08-27T23:07:09.858638Z",
     "start_time": "2020-08-27T23:07:09.726894Z"
    }
   },
   "outputs": [
    {
     "data": {
      "text/html": [
       "<style  type=\"text/css\" >\n",
       "#T_08ddbb2e_e8ba_11ea_9bad_4865ee12e626row0_col1{\n",
       "            background-color:  #023858;\n",
       "            color:  #f1f1f1;\n",
       "        }#T_08ddbb2e_e8ba_11ea_9bad_4865ee12e626row1_col1,#T_08ddbb2e_e8ba_11ea_9bad_4865ee12e626row2_col1{\n",
       "            background-color:  #045a8d;\n",
       "            color:  #f1f1f1;\n",
       "        }#T_08ddbb2e_e8ba_11ea_9bad_4865ee12e626row3_col1{\n",
       "            background-color:  #046096;\n",
       "            color:  #f1f1f1;\n",
       "        }#T_08ddbb2e_e8ba_11ea_9bad_4865ee12e626row4_col1{\n",
       "            background-color:  #045d92;\n",
       "            color:  #f1f1f1;\n",
       "        }#T_08ddbb2e_e8ba_11ea_9bad_4865ee12e626row5_col1{\n",
       "            background-color:  #fff7fb;\n",
       "            color:  #000000;\n",
       "        }#T_08ddbb2e_e8ba_11ea_9bad_4865ee12e626row6_col1{\n",
       "            background-color:  #e7e3f0;\n",
       "            color:  #000000;\n",
       "        }#T_08ddbb2e_e8ba_11ea_9bad_4865ee12e626row7_col1{\n",
       "            background-color:  #fdf5fa;\n",
       "            color:  #000000;\n",
       "        }</style><table id=\"T_08ddbb2e_e8ba_11ea_9bad_4865ee12e626\" ><thead>    <tr>        <th class=\"blank level0\" ></th>        <th class=\"col_heading level0 col0\" >Data</th>        <th class=\"col_heading level0 col1\" >R2</th>        <th class=\"col_heading level0 col2\" >RMSE</th>    </tr>    <tr>        <th class=\"index_name level0\" >Note</th>        <th class=\"blank\" ></th>        <th class=\"blank\" ></th>        <th class=\"blank\" ></th>    </tr></thead><tbody>\n",
       "                <tr>\n",
       "                        <th id=\"T_08ddbb2e_e8ba_11ea_9bad_4865ee12e626level0_row0\" class=\"row_heading level0 row0\" >Baseline</th>\n",
       "                        <td id=\"T_08ddbb2e_e8ba_11ea_9bad_4865ee12e626row0_col0\" class=\"data row0 col0\" >Test</td>\n",
       "                        <td id=\"T_08ddbb2e_e8ba_11ea_9bad_4865ee12e626row0_col1\" class=\"data row0 col1\" >0.418000</td>\n",
       "                        <td id=\"T_08ddbb2e_e8ba_11ea_9bad_4865ee12e626row0_col2\" class=\"data row0 col2\" >58.835900</td>\n",
       "            </tr>\n",
       "            <tr>\n",
       "                        <th id=\"T_08ddbb2e_e8ba_11ea_9bad_4865ee12e626level0_row1\" class=\"row_heading level0 row1\" >Poly</th>\n",
       "                        <td id=\"T_08ddbb2e_e8ba_11ea_9bad_4865ee12e626row1_col0\" class=\"data row1 col0\" >Test</td>\n",
       "                        <td id=\"T_08ddbb2e_e8ba_11ea_9bad_4865ee12e626row1_col1\" class=\"data row1 col1\" >0.368900</td>\n",
       "                        <td id=\"T_08ddbb2e_e8ba_11ea_9bad_4865ee12e626row1_col2\" class=\"data row1 col2\" >61.267800</td>\n",
       "            </tr>\n",
       "            <tr>\n",
       "                        <th id=\"T_08ddbb2e_e8ba_11ea_9bad_4865ee12e626level0_row2\" class=\"row_heading level0 row2\" >VarThresh=0.0</th>\n",
       "                        <td id=\"T_08ddbb2e_e8ba_11ea_9bad_4865ee12e626row2_col0\" class=\"data row2 col0\" >Test</td>\n",
       "                        <td id=\"T_08ddbb2e_e8ba_11ea_9bad_4865ee12e626row2_col1\" class=\"data row2 col1\" >0.368900</td>\n",
       "                        <td id=\"T_08ddbb2e_e8ba_11ea_9bad_4865ee12e626row2_col2\" class=\"data row2 col2\" >61.267800</td>\n",
       "            </tr>\n",
       "            <tr>\n",
       "                        <th id=\"T_08ddbb2e_e8ba_11ea_9bad_4865ee12e626level0_row3\" class=\"row_heading level0 row3\" >VarThresh=0.4</th>\n",
       "                        <td id=\"T_08ddbb2e_e8ba_11ea_9bad_4865ee12e626row3_col0\" class=\"data row3 col0\" >Test</td>\n",
       "                        <td id=\"T_08ddbb2e_e8ba_11ea_9bad_4865ee12e626row3_col1\" class=\"data row3 col1\" >0.358100</td>\n",
       "                        <td id=\"T_08ddbb2e_e8ba_11ea_9bad_4865ee12e626row3_col2\" class=\"data row3 col2\" >61.789200</td>\n",
       "            </tr>\n",
       "            <tr>\n",
       "                        <th id=\"T_08ddbb2e_e8ba_11ea_9bad_4865ee12e626level0_row4\" class=\"row_heading level0 row4\" >VarThresh=0.8</th>\n",
       "                        <td id=\"T_08ddbb2e_e8ba_11ea_9bad_4865ee12e626row4_col0\" class=\"data row4 col0\" >Test</td>\n",
       "                        <td id=\"T_08ddbb2e_e8ba_11ea_9bad_4865ee12e626row4_col1\" class=\"data row4 col1\" >0.364000</td>\n",
       "                        <td id=\"T_08ddbb2e_e8ba_11ea_9bad_4865ee12e626row4_col2\" class=\"data row4 col2\" >61.502900</td>\n",
       "            </tr>\n",
       "            <tr>\n",
       "                        <th id=\"T_08ddbb2e_e8ba_11ea_9bad_4865ee12e626level0_row5\" class=\"row_heading level0 row5\" >VarThresh=1.2</th>\n",
       "                        <td id=\"T_08ddbb2e_e8ba_11ea_9bad_4865ee12e626row5_col0\" class=\"data row5 col0\" >Test</td>\n",
       "                        <td id=\"T_08ddbb2e_e8ba_11ea_9bad_4865ee12e626row5_col1\" class=\"data row5 col1\" >0.036300</td>\n",
       "                        <td id=\"T_08ddbb2e_e8ba_11ea_9bad_4865ee12e626row5_col2\" class=\"data row5 col2\" >75.710100</td>\n",
       "            </tr>\n",
       "            <tr>\n",
       "                        <th id=\"T_08ddbb2e_e8ba_11ea_9bad_4865ee12e626level0_row6\" class=\"row_heading level0 row6\" >VarThresh=1.6</th>\n",
       "                        <td id=\"T_08ddbb2e_e8ba_11ea_9bad_4865ee12e626row6_col0\" class=\"data row6 col0\" >Test</td>\n",
       "                        <td id=\"T_08ddbb2e_e8ba_11ea_9bad_4865ee12e626row6_col1\" class=\"data row6 col1\" >0.092700</td>\n",
       "                        <td id=\"T_08ddbb2e_e8ba_11ea_9bad_4865ee12e626row6_col2\" class=\"data row6 col2\" >73.459300</td>\n",
       "            </tr>\n",
       "            <tr>\n",
       "                        <th id=\"T_08ddbb2e_e8ba_11ea_9bad_4865ee12e626level0_row7\" class=\"row_heading level0 row7\" >VarThresh=2.0</th>\n",
       "                        <td id=\"T_08ddbb2e_e8ba_11ea_9bad_4865ee12e626row7_col0\" class=\"data row7 col0\" >Test</td>\n",
       "                        <td id=\"T_08ddbb2e_e8ba_11ea_9bad_4865ee12e626row7_col1\" class=\"data row7 col1\" >0.042000</td>\n",
       "                        <td id=\"T_08ddbb2e_e8ba_11ea_9bad_4865ee12e626row7_col2\" class=\"data row7 col2\" >75.483900</td>\n",
       "            </tr>\n",
       "    </tbody></table>"
      ],
      "text/plain": [
       "<pandas.io.formats.style.Styler at 0x137b1a9e8>"
      ]
     },
     "metadata": {},
     "output_type": "display_data"
    }
   ],
   "source": [
    "## Filter Methods\n",
    "from sklearn.feature_selection import VarianceThreshold\n",
    "\n",
    "threshold_ranges = np.linspace(0, 2, num=6)\n",
    "\n",
    "results = []\n",
    "for thresh in threshold_ranges:\n",
    "#     print(thresh)\n",
    "    selector = VarianceThreshold(thresh)\n",
    "    reduced_feature_train = selector.fit_transform(X_poly_train)\n",
    "    reduced_feature_test = selector.transform(X_poly_test)\n",
    "    lr = LinearRegression()\n",
    "    lr.fit(reduced_feature_train, y_train)\n",
    "    res = run_model(lr, reduced_feature_train, reduced_feature_test,\n",
    "                    y_train, y_test,f\"VarThresh={round(thresh,3)}\")\n",
    "    \n",
    "    results.append(res)\n",
    "\n",
    "res_df = pd.concat(results)\n",
    "RESULTS.append(res_df)\n",
    "show_results(RESULTS)"
   ]
  },
  {
   "cell_type": "markdown",
   "metadata": {},
   "source": [
    "> Well, that did not seem to eliminate the features very well. It only does a little better than the base polynomial. "
   ]
  },
  {
   "cell_type": "code",
   "execution_count": 92,
   "metadata": {
    "ExecuteTime": {
     "end_time": "2020-08-27T23:07:09.883849Z",
     "start_time": "2020-08-27T23:07:09.860560Z"
    }
   },
   "outputs": [],
   "source": [
    "from sklearn.feature_selection import f_regression, mutual_info_regression, SelectKBest\n",
    "selector = SelectKBest(score_func=f_regression)\n",
    "X_k_best_train = selector.fit_transform(X_poly_train, y_train)\n",
    "X_k_best_test= selector.transform(X_poly_test)\n",
    "lr = LinearRegression()\n",
    "lr.fit(X_k_best_train ,y_train)\n",
    "RESULTS.append(run_model(lr,X_k_best_train,X_k_best_test,y_train,y_test,'KBest-f_regr'))"
   ]
  },
  {
   "cell_type": "code",
   "execution_count": 93,
   "metadata": {
    "ExecuteTime": {
     "end_time": "2020-08-27T23:07:10.300588Z",
     "start_time": "2020-08-27T23:07:09.885707Z"
    }
   },
   "outputs": [],
   "source": [
    "selector = SelectKBest(score_func=mutual_info_regression)\n",
    "X_k_best_train = selector.fit_transform(X_poly_train, y_train)\n",
    "X_k_best_test= selector.transform(X_poly_test)\n",
    "lr = LinearRegression()\n",
    "lr.fit(X_k_best_train ,y_train)\n",
    "RESULTS.append(run_model(lr,X_k_best_train,X_k_best_test,y_train,y_test,'KBest-mutual_info'))"
   ]
  },
  {
   "cell_type": "code",
   "execution_count": 94,
   "metadata": {
    "ExecuteTime": {
     "end_time": "2020-08-27T23:07:10.318311Z",
     "start_time": "2020-08-27T23:07:10.301996Z"
    }
   },
   "outputs": [
    {
     "data": {
      "text/html": [
       "<style  type=\"text/css\" >\n",
       "#T_0923f698_e8ba_11ea_9d0b_4865ee12e626row0_col1{\n",
       "            background-color:  #023c5f;\n",
       "            color:  #f1f1f1;\n",
       "        }#T_0923f698_e8ba_11ea_9d0b_4865ee12e626row1_col1,#T_0923f698_e8ba_11ea_9d0b_4865ee12e626row2_col1{\n",
       "            background-color:  #045d92;\n",
       "            color:  #f1f1f1;\n",
       "        }#T_0923f698_e8ba_11ea_9d0b_4865ee12e626row3_col1{\n",
       "            background-color:  #04629a;\n",
       "            color:  #f1f1f1;\n",
       "        }#T_0923f698_e8ba_11ea_9d0b_4865ee12e626row4_col1{\n",
       "            background-color:  #046096;\n",
       "            color:  #f1f1f1;\n",
       "        }#T_0923f698_e8ba_11ea_9d0b_4865ee12e626row5_col1{\n",
       "            background-color:  #fff7fb;\n",
       "            color:  #000000;\n",
       "        }#T_0923f698_e8ba_11ea_9d0b_4865ee12e626row6_col1{\n",
       "            background-color:  #e7e3f0;\n",
       "            color:  #000000;\n",
       "        }#T_0923f698_e8ba_11ea_9d0b_4865ee12e626row7_col1{\n",
       "            background-color:  #fdf5fa;\n",
       "            color:  #000000;\n",
       "        }#T_0923f698_e8ba_11ea_9d0b_4865ee12e626row8_col1{\n",
       "            background-color:  #023858;\n",
       "            color:  #f1f1f1;\n",
       "        }#T_0923f698_e8ba_11ea_9d0b_4865ee12e626row9_col1{\n",
       "            background-color:  #023d60;\n",
       "            color:  #f1f1f1;\n",
       "        }</style><table id=\"T_0923f698_e8ba_11ea_9d0b_4865ee12e626\" ><thead>    <tr>        <th class=\"blank level0\" ></th>        <th class=\"col_heading level0 col0\" >Data</th>        <th class=\"col_heading level0 col1\" >R2</th>        <th class=\"col_heading level0 col2\" >RMSE</th>    </tr>    <tr>        <th class=\"index_name level0\" >Note</th>        <th class=\"blank\" ></th>        <th class=\"blank\" ></th>        <th class=\"blank\" ></th>    </tr></thead><tbody>\n",
       "                <tr>\n",
       "                        <th id=\"T_0923f698_e8ba_11ea_9d0b_4865ee12e626level0_row0\" class=\"row_heading level0 row0\" >Baseline</th>\n",
       "                        <td id=\"T_0923f698_e8ba_11ea_9d0b_4865ee12e626row0_col0\" class=\"data row0 col0\" >Test</td>\n",
       "                        <td id=\"T_0923f698_e8ba_11ea_9d0b_4865ee12e626row0_col1\" class=\"data row0 col1\" >0.418000</td>\n",
       "                        <td id=\"T_0923f698_e8ba_11ea_9d0b_4865ee12e626row0_col2\" class=\"data row0 col2\" >58.835900</td>\n",
       "            </tr>\n",
       "            <tr>\n",
       "                        <th id=\"T_0923f698_e8ba_11ea_9d0b_4865ee12e626level0_row1\" class=\"row_heading level0 row1\" >Poly</th>\n",
       "                        <td id=\"T_0923f698_e8ba_11ea_9d0b_4865ee12e626row1_col0\" class=\"data row1 col0\" >Test</td>\n",
       "                        <td id=\"T_0923f698_e8ba_11ea_9d0b_4865ee12e626row1_col1\" class=\"data row1 col1\" >0.368900</td>\n",
       "                        <td id=\"T_0923f698_e8ba_11ea_9d0b_4865ee12e626row1_col2\" class=\"data row1 col2\" >61.267800</td>\n",
       "            </tr>\n",
       "            <tr>\n",
       "                        <th id=\"T_0923f698_e8ba_11ea_9d0b_4865ee12e626level0_row2\" class=\"row_heading level0 row2\" >VarThresh=0.0</th>\n",
       "                        <td id=\"T_0923f698_e8ba_11ea_9d0b_4865ee12e626row2_col0\" class=\"data row2 col0\" >Test</td>\n",
       "                        <td id=\"T_0923f698_e8ba_11ea_9d0b_4865ee12e626row2_col1\" class=\"data row2 col1\" >0.368900</td>\n",
       "                        <td id=\"T_0923f698_e8ba_11ea_9d0b_4865ee12e626row2_col2\" class=\"data row2 col2\" >61.267800</td>\n",
       "            </tr>\n",
       "            <tr>\n",
       "                        <th id=\"T_0923f698_e8ba_11ea_9d0b_4865ee12e626level0_row3\" class=\"row_heading level0 row3\" >VarThresh=0.4</th>\n",
       "                        <td id=\"T_0923f698_e8ba_11ea_9d0b_4865ee12e626row3_col0\" class=\"data row3 col0\" >Test</td>\n",
       "                        <td id=\"T_0923f698_e8ba_11ea_9d0b_4865ee12e626row3_col1\" class=\"data row3 col1\" >0.358100</td>\n",
       "                        <td id=\"T_0923f698_e8ba_11ea_9d0b_4865ee12e626row3_col2\" class=\"data row3 col2\" >61.789200</td>\n",
       "            </tr>\n",
       "            <tr>\n",
       "                        <th id=\"T_0923f698_e8ba_11ea_9d0b_4865ee12e626level0_row4\" class=\"row_heading level0 row4\" >VarThresh=0.8</th>\n",
       "                        <td id=\"T_0923f698_e8ba_11ea_9d0b_4865ee12e626row4_col0\" class=\"data row4 col0\" >Test</td>\n",
       "                        <td id=\"T_0923f698_e8ba_11ea_9d0b_4865ee12e626row4_col1\" class=\"data row4 col1\" >0.364000</td>\n",
       "                        <td id=\"T_0923f698_e8ba_11ea_9d0b_4865ee12e626row4_col2\" class=\"data row4 col2\" >61.502900</td>\n",
       "            </tr>\n",
       "            <tr>\n",
       "                        <th id=\"T_0923f698_e8ba_11ea_9d0b_4865ee12e626level0_row5\" class=\"row_heading level0 row5\" >VarThresh=1.2</th>\n",
       "                        <td id=\"T_0923f698_e8ba_11ea_9d0b_4865ee12e626row5_col0\" class=\"data row5 col0\" >Test</td>\n",
       "                        <td id=\"T_0923f698_e8ba_11ea_9d0b_4865ee12e626row5_col1\" class=\"data row5 col1\" >0.036300</td>\n",
       "                        <td id=\"T_0923f698_e8ba_11ea_9d0b_4865ee12e626row5_col2\" class=\"data row5 col2\" >75.710100</td>\n",
       "            </tr>\n",
       "            <tr>\n",
       "                        <th id=\"T_0923f698_e8ba_11ea_9d0b_4865ee12e626level0_row6\" class=\"row_heading level0 row6\" >VarThresh=1.6</th>\n",
       "                        <td id=\"T_0923f698_e8ba_11ea_9d0b_4865ee12e626row6_col0\" class=\"data row6 col0\" >Test</td>\n",
       "                        <td id=\"T_0923f698_e8ba_11ea_9d0b_4865ee12e626row6_col1\" class=\"data row6 col1\" >0.092700</td>\n",
       "                        <td id=\"T_0923f698_e8ba_11ea_9d0b_4865ee12e626row6_col2\" class=\"data row6 col2\" >73.459300</td>\n",
       "            </tr>\n",
       "            <tr>\n",
       "                        <th id=\"T_0923f698_e8ba_11ea_9d0b_4865ee12e626level0_row7\" class=\"row_heading level0 row7\" >VarThresh=2.0</th>\n",
       "                        <td id=\"T_0923f698_e8ba_11ea_9d0b_4865ee12e626row7_col0\" class=\"data row7 col0\" >Test</td>\n",
       "                        <td id=\"T_0923f698_e8ba_11ea_9d0b_4865ee12e626row7_col1\" class=\"data row7 col1\" >0.042000</td>\n",
       "                        <td id=\"T_0923f698_e8ba_11ea_9d0b_4865ee12e626row7_col2\" class=\"data row7 col2\" >75.483900</td>\n",
       "            </tr>\n",
       "            <tr>\n",
       "                        <th id=\"T_0923f698_e8ba_11ea_9d0b_4865ee12e626level0_row8\" class=\"row_heading level0 row8\" >KBest-f_regr</th>\n",
       "                        <td id=\"T_0923f698_e8ba_11ea_9d0b_4865ee12e626row8_col0\" class=\"data row8 col0\" >Test</td>\n",
       "                        <td id=\"T_0923f698_e8ba_11ea_9d0b_4865ee12e626row8_col1\" class=\"data row8 col1\" >0.425000</td>\n",
       "                        <td id=\"T_0923f698_e8ba_11ea_9d0b_4865ee12e626row8_col2\" class=\"data row8 col2\" >58.479900</td>\n",
       "            </tr>\n",
       "            <tr>\n",
       "                        <th id=\"T_0923f698_e8ba_11ea_9d0b_4865ee12e626level0_row9\" class=\"row_heading level0 row9\" >KBest-mutual_info</th>\n",
       "                        <td id=\"T_0923f698_e8ba_11ea_9d0b_4865ee12e626row9_col0\" class=\"data row9 col0\" >Test</td>\n",
       "                        <td id=\"T_0923f698_e8ba_11ea_9d0b_4865ee12e626row9_col1\" class=\"data row9 col1\" >0.416500</td>\n",
       "                        <td id=\"T_0923f698_e8ba_11ea_9d0b_4865ee12e626row9_col2\" class=\"data row9 col2\" >58.912800</td>\n",
       "            </tr>\n",
       "    </tbody></table>"
      ],
      "text/plain": [
       "<pandas.io.formats.style.Styler at 0x137f828d0>"
      ]
     },
     "metadata": {},
     "output_type": "display_data"
    }
   ],
   "source": [
    "show_results(RESULTS)"
   ]
  },
  {
   "cell_type": "markdown",
   "metadata": {},
   "source": [
    "> Well, that did not seem to eliminate the features very well. It only does a little better than the base polynomial. "
   ]
  },
  {
   "cell_type": "markdown",
   "metadata": {},
   "source": [
    "### Wrapper methods\n",
    "\n",
    "> Now let's use Recursive Feature elimination (RFE) to try out a wrapper method. You'll notice that scikit-learn has a built in `RFECV()` function, which automatically determines the optimal number of features to keep when it is run based off the estimator that is passed into it. Here it is in action: "
   ]
  },
  {
   "cell_type": "code",
   "execution_count": 95,
   "metadata": {
    "ExecuteTime": {
     "end_time": "2020-08-27T23:07:11.131259Z",
     "start_time": "2020-08-27T23:07:10.320169Z"
    }
   },
   "outputs": [],
   "source": [
    "from sklearn.feature_selection import RFE, RFECV\n",
    "from sklearn.linear_model import LinearRegression\n",
    "\n",
    "rfe = RFECV(LinearRegression(),cv=5)\n",
    "X_rfe_train = rfe.fit_transform(X_poly_train, y_train)\n",
    "X_rfe_test = rfe.transform(X_poly_test)\n",
    "lm = LinearRegression().fit(X_rfe_train, y_train)\n",
    "RESULTS.append(run_model(lm, X_rfe_train, X_rfe_test, y_train, y_test,f'RFE w. {rfe.n_features_} feats'))\n",
    "# print ('The optimal number of features is: ', rfe.n_features_)"
   ]
  },
  {
   "cell_type": "markdown",
   "metadata": {},
   "source": [
    "## Embedded methods  \n",
    "> To compare to our other methods, we will use Lasso as the embedded method of feature selection. Luckily for us, sklearn has a built-in method to help us find the optimal features! It performs cross validation to determine the correct regularization parameter (how much to penalize our function)."
   ]
  },
  {
   "cell_type": "code",
   "execution_count": 96,
   "metadata": {
    "ExecuteTime": {
     "end_time": "2020-08-27T23:07:11.325330Z",
     "start_time": "2020-08-27T23:07:11.133293Z"
    }
   },
   "outputs": [],
   "source": [
    "from sklearn.linear_model import LassoCV\n",
    "lasso = LassoCV(max_iter=100000, cv=5)\n",
    "lasso.fit(X_train, y_train)\n",
    "RESULTS.append(run_model(lasso,X_train, X_test, y_train, y_test,f'Lasso - X data'))\n",
    "# print('The optimal alpha for the Lasso Regression is: ', lasso.alpha_)"
   ]
  },
  {
   "cell_type": "markdown",
   "metadata": {},
   "source": [
    "> Let's compare this to a model with all of the polynomial features included."
   ]
  },
  {
   "cell_type": "code",
   "execution_count": 97,
   "metadata": {
    "ExecuteTime": {
     "end_time": "2020-08-27T23:07:12.261670Z",
     "start_time": "2020-08-27T23:07:11.327479Z"
    }
   },
   "outputs": [],
   "source": [
    "lasso2 = LassoCV(max_iter=100000, cv=5)\n",
    "lasso2.fit(X_poly_train, y_train)\n",
    "\n",
    "RESULTS.append(run_model(lasso2, X_poly_train, X_poly_test, y_train, y_test,f'Lasso Poly '))\n",
    "# print('The optimal alpha for the Lasso Regression is: ', lasso2.alpha_)"
   ]
  },
  {
   "cell_type": "code",
   "execution_count": 98,
   "metadata": {
    "ExecuteTime": {
     "end_time": "2020-08-27T23:07:12.290017Z",
     "start_time": "2020-08-27T23:07:12.264099Z"
    }
   },
   "outputs": [
    {
     "data": {
      "text/html": [
       "<style  type=\"text/css\" >\n",
       "#T_0a506240_e8ba_11ea_b3eb_4865ee12e626row12_col1{\n",
       "            background-color:  yellow;\n",
       "        }</style><table id=\"T_0a506240_e8ba_11ea_b3eb_4865ee12e626\" ><thead>    <tr>        <th class=\"blank level0\" ></th>        <th class=\"col_heading level0 col0\" >Data</th>        <th class=\"col_heading level0 col1\" >R2</th>        <th class=\"col_heading level0 col2\" >RMSE</th>    </tr>    <tr>        <th class=\"index_name level0\" >Note</th>        <th class=\"blank\" ></th>        <th class=\"blank\" ></th>        <th class=\"blank\" ></th>    </tr></thead><tbody>\n",
       "                <tr>\n",
       "                        <th id=\"T_0a506240_e8ba_11ea_b3eb_4865ee12e626level0_row0\" class=\"row_heading level0 row0\" >Baseline</th>\n",
       "                        <td id=\"T_0a506240_e8ba_11ea_b3eb_4865ee12e626row0_col0\" class=\"data row0 col0\" >Test</td>\n",
       "                        <td id=\"T_0a506240_e8ba_11ea_b3eb_4865ee12e626row0_col1\" class=\"data row0 col1\" >0.418000</td>\n",
       "                        <td id=\"T_0a506240_e8ba_11ea_b3eb_4865ee12e626row0_col2\" class=\"data row0 col2\" >58.835900</td>\n",
       "            </tr>\n",
       "            <tr>\n",
       "                        <th id=\"T_0a506240_e8ba_11ea_b3eb_4865ee12e626level0_row1\" class=\"row_heading level0 row1\" >Poly</th>\n",
       "                        <td id=\"T_0a506240_e8ba_11ea_b3eb_4865ee12e626row1_col0\" class=\"data row1 col0\" >Test</td>\n",
       "                        <td id=\"T_0a506240_e8ba_11ea_b3eb_4865ee12e626row1_col1\" class=\"data row1 col1\" >0.368900</td>\n",
       "                        <td id=\"T_0a506240_e8ba_11ea_b3eb_4865ee12e626row1_col2\" class=\"data row1 col2\" >61.267800</td>\n",
       "            </tr>\n",
       "            <tr>\n",
       "                        <th id=\"T_0a506240_e8ba_11ea_b3eb_4865ee12e626level0_row2\" class=\"row_heading level0 row2\" >VarThresh=0.0</th>\n",
       "                        <td id=\"T_0a506240_e8ba_11ea_b3eb_4865ee12e626row2_col0\" class=\"data row2 col0\" >Test</td>\n",
       "                        <td id=\"T_0a506240_e8ba_11ea_b3eb_4865ee12e626row2_col1\" class=\"data row2 col1\" >0.368900</td>\n",
       "                        <td id=\"T_0a506240_e8ba_11ea_b3eb_4865ee12e626row2_col2\" class=\"data row2 col2\" >61.267800</td>\n",
       "            </tr>\n",
       "            <tr>\n",
       "                        <th id=\"T_0a506240_e8ba_11ea_b3eb_4865ee12e626level0_row3\" class=\"row_heading level0 row3\" >VarThresh=0.4</th>\n",
       "                        <td id=\"T_0a506240_e8ba_11ea_b3eb_4865ee12e626row3_col0\" class=\"data row3 col0\" >Test</td>\n",
       "                        <td id=\"T_0a506240_e8ba_11ea_b3eb_4865ee12e626row3_col1\" class=\"data row3 col1\" >0.358100</td>\n",
       "                        <td id=\"T_0a506240_e8ba_11ea_b3eb_4865ee12e626row3_col2\" class=\"data row3 col2\" >61.789200</td>\n",
       "            </tr>\n",
       "            <tr>\n",
       "                        <th id=\"T_0a506240_e8ba_11ea_b3eb_4865ee12e626level0_row4\" class=\"row_heading level0 row4\" >VarThresh=0.8</th>\n",
       "                        <td id=\"T_0a506240_e8ba_11ea_b3eb_4865ee12e626row4_col0\" class=\"data row4 col0\" >Test</td>\n",
       "                        <td id=\"T_0a506240_e8ba_11ea_b3eb_4865ee12e626row4_col1\" class=\"data row4 col1\" >0.364000</td>\n",
       "                        <td id=\"T_0a506240_e8ba_11ea_b3eb_4865ee12e626row4_col2\" class=\"data row4 col2\" >61.502900</td>\n",
       "            </tr>\n",
       "            <tr>\n",
       "                        <th id=\"T_0a506240_e8ba_11ea_b3eb_4865ee12e626level0_row5\" class=\"row_heading level0 row5\" >VarThresh=1.2</th>\n",
       "                        <td id=\"T_0a506240_e8ba_11ea_b3eb_4865ee12e626row5_col0\" class=\"data row5 col0\" >Test</td>\n",
       "                        <td id=\"T_0a506240_e8ba_11ea_b3eb_4865ee12e626row5_col1\" class=\"data row5 col1\" >0.036300</td>\n",
       "                        <td id=\"T_0a506240_e8ba_11ea_b3eb_4865ee12e626row5_col2\" class=\"data row5 col2\" >75.710100</td>\n",
       "            </tr>\n",
       "            <tr>\n",
       "                        <th id=\"T_0a506240_e8ba_11ea_b3eb_4865ee12e626level0_row6\" class=\"row_heading level0 row6\" >VarThresh=1.6</th>\n",
       "                        <td id=\"T_0a506240_e8ba_11ea_b3eb_4865ee12e626row6_col0\" class=\"data row6 col0\" >Test</td>\n",
       "                        <td id=\"T_0a506240_e8ba_11ea_b3eb_4865ee12e626row6_col1\" class=\"data row6 col1\" >0.092700</td>\n",
       "                        <td id=\"T_0a506240_e8ba_11ea_b3eb_4865ee12e626row6_col2\" class=\"data row6 col2\" >73.459300</td>\n",
       "            </tr>\n",
       "            <tr>\n",
       "                        <th id=\"T_0a506240_e8ba_11ea_b3eb_4865ee12e626level0_row7\" class=\"row_heading level0 row7\" >VarThresh=2.0</th>\n",
       "                        <td id=\"T_0a506240_e8ba_11ea_b3eb_4865ee12e626row7_col0\" class=\"data row7 col0\" >Test</td>\n",
       "                        <td id=\"T_0a506240_e8ba_11ea_b3eb_4865ee12e626row7_col1\" class=\"data row7 col1\" >0.042000</td>\n",
       "                        <td id=\"T_0a506240_e8ba_11ea_b3eb_4865ee12e626row7_col2\" class=\"data row7 col2\" >75.483900</td>\n",
       "            </tr>\n",
       "            <tr>\n",
       "                        <th id=\"T_0a506240_e8ba_11ea_b3eb_4865ee12e626level0_row8\" class=\"row_heading level0 row8\" >KBest-f_regr</th>\n",
       "                        <td id=\"T_0a506240_e8ba_11ea_b3eb_4865ee12e626row8_col0\" class=\"data row8 col0\" >Test</td>\n",
       "                        <td id=\"T_0a506240_e8ba_11ea_b3eb_4865ee12e626row8_col1\" class=\"data row8 col1\" >0.425000</td>\n",
       "                        <td id=\"T_0a506240_e8ba_11ea_b3eb_4865ee12e626row8_col2\" class=\"data row8 col2\" >58.479900</td>\n",
       "            </tr>\n",
       "            <tr>\n",
       "                        <th id=\"T_0a506240_e8ba_11ea_b3eb_4865ee12e626level0_row9\" class=\"row_heading level0 row9\" >KBest-mutual_info</th>\n",
       "                        <td id=\"T_0a506240_e8ba_11ea_b3eb_4865ee12e626row9_col0\" class=\"data row9 col0\" >Test</td>\n",
       "                        <td id=\"T_0a506240_e8ba_11ea_b3eb_4865ee12e626row9_col1\" class=\"data row9 col1\" >0.416500</td>\n",
       "                        <td id=\"T_0a506240_e8ba_11ea_b3eb_4865ee12e626row9_col2\" class=\"data row9 col2\" >58.912800</td>\n",
       "            </tr>\n",
       "            <tr>\n",
       "                        <th id=\"T_0a506240_e8ba_11ea_b3eb_4865ee12e626level0_row10\" class=\"row_heading level0 row10\" >RFE w. 10 feats</th>\n",
       "                        <td id=\"T_0a506240_e8ba_11ea_b3eb_4865ee12e626row10_col0\" class=\"data row10 col0\" >Test</td>\n",
       "                        <td id=\"T_0a506240_e8ba_11ea_b3eb_4865ee12e626row10_col1\" class=\"data row10 col1\" >0.374200</td>\n",
       "                        <td id=\"T_0a506240_e8ba_11ea_b3eb_4865ee12e626row10_col2\" class=\"data row10 col2\" >61.009600</td>\n",
       "            </tr>\n",
       "            <tr>\n",
       "                        <th id=\"T_0a506240_e8ba_11ea_b3eb_4865ee12e626level0_row11\" class=\"row_heading level0 row11\" >Lasso - X data</th>\n",
       "                        <td id=\"T_0a506240_e8ba_11ea_b3eb_4865ee12e626row11_col0\" class=\"data row11 col0\" >Test</td>\n",
       "                        <td id=\"T_0a506240_e8ba_11ea_b3eb_4865ee12e626row11_col1\" class=\"data row11 col1\" >0.426700</td>\n",
       "                        <td id=\"T_0a506240_e8ba_11ea_b3eb_4865ee12e626row11_col2\" class=\"data row11 col2\" >58.393100</td>\n",
       "            </tr>\n",
       "            <tr>\n",
       "                        <th id=\"T_0a506240_e8ba_11ea_b3eb_4865ee12e626level0_row12\" class=\"row_heading level0 row12\" >Lasso Poly </th>\n",
       "                        <td id=\"T_0a506240_e8ba_11ea_b3eb_4865ee12e626row12_col0\" class=\"data row12 col0\" >Test</td>\n",
       "                        <td id=\"T_0a506240_e8ba_11ea_b3eb_4865ee12e626row12_col1\" class=\"data row12 col1\" >0.430700</td>\n",
       "                        <td id=\"T_0a506240_e8ba_11ea_b3eb_4865ee12e626row12_col2\" class=\"data row12 col2\" >58.191400</td>\n",
       "            </tr>\n",
       "    </tbody></table>"
      ],
      "text/plain": [
       "<pandas.io.formats.style.Styler at 0x12d8d4d68>"
      ]
     },
     "execution_count": 98,
     "metadata": {},
     "output_type": "execute_result"
    }
   ],
   "source": [
    "res_df = pd.concat(RESULTS)\n",
    "test_res = res_df.groupby('Data').get_group('Test')\n",
    "test_res.set_index(['Note']).style.highlight_max('R2')#.sort_values('MSE',ascending=True)#.groupby('Data').get_group('Test')\n"
   ]
  },
  {
   "cell_type": "code",
   "execution_count": 99,
   "metadata": {
    "ExecuteTime": {
     "end_time": "2020-08-27T23:07:12.316763Z",
     "start_time": "2020-08-27T23:07:12.292056Z"
    }
   },
   "outputs": [
    {
     "data": {
      "text/html": [
       "<style  type=\"text/css\" >\n",
       "#T_0a5472c2_e8ba_11ea_a923_4865ee12e626row0_col2{\n",
       "            background-color:  #005020;\n",
       "            color:  #f1f1f1;\n",
       "        }#T_0a5472c2_e8ba_11ea_a923_4865ee12e626row1_col2,#T_0a5472c2_e8ba_11ea_a923_4865ee12e626row2_col2{\n",
       "            background-color:  #0d7836;\n",
       "            color:  #f1f1f1;\n",
       "        }#T_0a5472c2_e8ba_11ea_a923_4865ee12e626row3_col2{\n",
       "            background-color:  #16803c;\n",
       "            color:  #f1f1f1;\n",
       "        }#T_0a5472c2_e8ba_11ea_a923_4865ee12e626row4_col2{\n",
       "            background-color:  #127c39;\n",
       "            color:  #f1f1f1;\n",
       "        }#T_0a5472c2_e8ba_11ea_a923_4865ee12e626row5_col2{\n",
       "            background-color:  #f7fcf5;\n",
       "            color:  #000000;\n",
       "        }#T_0a5472c2_e8ba_11ea_a923_4865ee12e626row6_col2{\n",
       "            background-color:  #e5f5e0;\n",
       "            color:  #000000;\n",
       "        }#T_0a5472c2_e8ba_11ea_a923_4865ee12e626row7_col2{\n",
       "            background-color:  #f5fbf3;\n",
       "            color:  #000000;\n",
       "        }#T_0a5472c2_e8ba_11ea_a923_4865ee12e626row8_col2{\n",
       "            background-color:  #00491d;\n",
       "            color:  #f1f1f1;\n",
       "        }#T_0a5472c2_e8ba_11ea_a923_4865ee12e626row9_col2{\n",
       "            background-color:  #005120;\n",
       "            color:  #f1f1f1;\n",
       "        }#T_0a5472c2_e8ba_11ea_a923_4865ee12e626row10_col2{\n",
       "            background-color:  #0a7633;\n",
       "            color:  #f1f1f1;\n",
       "        }#T_0a5472c2_e8ba_11ea_a923_4865ee12e626row11_col2{\n",
       "            background-color:  #00471c;\n",
       "            color:  #f1f1f1;\n",
       "        }#T_0a5472c2_e8ba_11ea_a923_4865ee12e626row12_col2{\n",
       "            background-color:  #00441b;\n",
       "            color:  #f1f1f1;\n",
       "        }</style><table id=\"T_0a5472c2_e8ba_11ea_a923_4865ee12e626\" ><thead>    <tr>        <th class=\"blank level0\" ></th>        <th class=\"col_heading level0 col0\" >Data</th>        <th class=\"col_heading level0 col1\" >R2</th>        <th class=\"col_heading level0 col2\" >RMSE</th>    </tr>    <tr>        <th class=\"index_name level0\" >Note</th>        <th class=\"blank\" ></th>        <th class=\"blank\" ></th>        <th class=\"blank\" ></th>    </tr></thead><tbody>\n",
       "                <tr>\n",
       "                        <th id=\"T_0a5472c2_e8ba_11ea_a923_4865ee12e626level0_row0\" class=\"row_heading level0 row0\" >Baseline</th>\n",
       "                        <td id=\"T_0a5472c2_e8ba_11ea_a923_4865ee12e626row0_col0\" class=\"data row0 col0\" >Test</td>\n",
       "                        <td id=\"T_0a5472c2_e8ba_11ea_a923_4865ee12e626row0_col1\" class=\"data row0 col1\" >0.418000</td>\n",
       "                        <td id=\"T_0a5472c2_e8ba_11ea_a923_4865ee12e626row0_col2\" class=\"data row0 col2\" >58.835900</td>\n",
       "            </tr>\n",
       "            <tr>\n",
       "                        <th id=\"T_0a5472c2_e8ba_11ea_a923_4865ee12e626level0_row1\" class=\"row_heading level0 row1\" >Poly</th>\n",
       "                        <td id=\"T_0a5472c2_e8ba_11ea_a923_4865ee12e626row1_col0\" class=\"data row1 col0\" >Test</td>\n",
       "                        <td id=\"T_0a5472c2_e8ba_11ea_a923_4865ee12e626row1_col1\" class=\"data row1 col1\" >0.368900</td>\n",
       "                        <td id=\"T_0a5472c2_e8ba_11ea_a923_4865ee12e626row1_col2\" class=\"data row1 col2\" >61.267800</td>\n",
       "            </tr>\n",
       "            <tr>\n",
       "                        <th id=\"T_0a5472c2_e8ba_11ea_a923_4865ee12e626level0_row2\" class=\"row_heading level0 row2\" >VarThresh=0.0</th>\n",
       "                        <td id=\"T_0a5472c2_e8ba_11ea_a923_4865ee12e626row2_col0\" class=\"data row2 col0\" >Test</td>\n",
       "                        <td id=\"T_0a5472c2_e8ba_11ea_a923_4865ee12e626row2_col1\" class=\"data row2 col1\" >0.368900</td>\n",
       "                        <td id=\"T_0a5472c2_e8ba_11ea_a923_4865ee12e626row2_col2\" class=\"data row2 col2\" >61.267800</td>\n",
       "            </tr>\n",
       "            <tr>\n",
       "                        <th id=\"T_0a5472c2_e8ba_11ea_a923_4865ee12e626level0_row3\" class=\"row_heading level0 row3\" >VarThresh=0.4</th>\n",
       "                        <td id=\"T_0a5472c2_e8ba_11ea_a923_4865ee12e626row3_col0\" class=\"data row3 col0\" >Test</td>\n",
       "                        <td id=\"T_0a5472c2_e8ba_11ea_a923_4865ee12e626row3_col1\" class=\"data row3 col1\" >0.358100</td>\n",
       "                        <td id=\"T_0a5472c2_e8ba_11ea_a923_4865ee12e626row3_col2\" class=\"data row3 col2\" >61.789200</td>\n",
       "            </tr>\n",
       "            <tr>\n",
       "                        <th id=\"T_0a5472c2_e8ba_11ea_a923_4865ee12e626level0_row4\" class=\"row_heading level0 row4\" >VarThresh=0.8</th>\n",
       "                        <td id=\"T_0a5472c2_e8ba_11ea_a923_4865ee12e626row4_col0\" class=\"data row4 col0\" >Test</td>\n",
       "                        <td id=\"T_0a5472c2_e8ba_11ea_a923_4865ee12e626row4_col1\" class=\"data row4 col1\" >0.364000</td>\n",
       "                        <td id=\"T_0a5472c2_e8ba_11ea_a923_4865ee12e626row4_col2\" class=\"data row4 col2\" >61.502900</td>\n",
       "            </tr>\n",
       "            <tr>\n",
       "                        <th id=\"T_0a5472c2_e8ba_11ea_a923_4865ee12e626level0_row5\" class=\"row_heading level0 row5\" >VarThresh=1.2</th>\n",
       "                        <td id=\"T_0a5472c2_e8ba_11ea_a923_4865ee12e626row5_col0\" class=\"data row5 col0\" >Test</td>\n",
       "                        <td id=\"T_0a5472c2_e8ba_11ea_a923_4865ee12e626row5_col1\" class=\"data row5 col1\" >0.036300</td>\n",
       "                        <td id=\"T_0a5472c2_e8ba_11ea_a923_4865ee12e626row5_col2\" class=\"data row5 col2\" >75.710100</td>\n",
       "            </tr>\n",
       "            <tr>\n",
       "                        <th id=\"T_0a5472c2_e8ba_11ea_a923_4865ee12e626level0_row6\" class=\"row_heading level0 row6\" >VarThresh=1.6</th>\n",
       "                        <td id=\"T_0a5472c2_e8ba_11ea_a923_4865ee12e626row6_col0\" class=\"data row6 col0\" >Test</td>\n",
       "                        <td id=\"T_0a5472c2_e8ba_11ea_a923_4865ee12e626row6_col1\" class=\"data row6 col1\" >0.092700</td>\n",
       "                        <td id=\"T_0a5472c2_e8ba_11ea_a923_4865ee12e626row6_col2\" class=\"data row6 col2\" >73.459300</td>\n",
       "            </tr>\n",
       "            <tr>\n",
       "                        <th id=\"T_0a5472c2_e8ba_11ea_a923_4865ee12e626level0_row7\" class=\"row_heading level0 row7\" >VarThresh=2.0</th>\n",
       "                        <td id=\"T_0a5472c2_e8ba_11ea_a923_4865ee12e626row7_col0\" class=\"data row7 col0\" >Test</td>\n",
       "                        <td id=\"T_0a5472c2_e8ba_11ea_a923_4865ee12e626row7_col1\" class=\"data row7 col1\" >0.042000</td>\n",
       "                        <td id=\"T_0a5472c2_e8ba_11ea_a923_4865ee12e626row7_col2\" class=\"data row7 col2\" >75.483900</td>\n",
       "            </tr>\n",
       "            <tr>\n",
       "                        <th id=\"T_0a5472c2_e8ba_11ea_a923_4865ee12e626level0_row8\" class=\"row_heading level0 row8\" >KBest-f_regr</th>\n",
       "                        <td id=\"T_0a5472c2_e8ba_11ea_a923_4865ee12e626row8_col0\" class=\"data row8 col0\" >Test</td>\n",
       "                        <td id=\"T_0a5472c2_e8ba_11ea_a923_4865ee12e626row8_col1\" class=\"data row8 col1\" >0.425000</td>\n",
       "                        <td id=\"T_0a5472c2_e8ba_11ea_a923_4865ee12e626row8_col2\" class=\"data row8 col2\" >58.479900</td>\n",
       "            </tr>\n",
       "            <tr>\n",
       "                        <th id=\"T_0a5472c2_e8ba_11ea_a923_4865ee12e626level0_row9\" class=\"row_heading level0 row9\" >KBest-mutual_info</th>\n",
       "                        <td id=\"T_0a5472c2_e8ba_11ea_a923_4865ee12e626row9_col0\" class=\"data row9 col0\" >Test</td>\n",
       "                        <td id=\"T_0a5472c2_e8ba_11ea_a923_4865ee12e626row9_col1\" class=\"data row9 col1\" >0.416500</td>\n",
       "                        <td id=\"T_0a5472c2_e8ba_11ea_a923_4865ee12e626row9_col2\" class=\"data row9 col2\" >58.912800</td>\n",
       "            </tr>\n",
       "            <tr>\n",
       "                        <th id=\"T_0a5472c2_e8ba_11ea_a923_4865ee12e626level0_row10\" class=\"row_heading level0 row10\" >RFE w. 10 feats</th>\n",
       "                        <td id=\"T_0a5472c2_e8ba_11ea_a923_4865ee12e626row10_col0\" class=\"data row10 col0\" >Test</td>\n",
       "                        <td id=\"T_0a5472c2_e8ba_11ea_a923_4865ee12e626row10_col1\" class=\"data row10 col1\" >0.374200</td>\n",
       "                        <td id=\"T_0a5472c2_e8ba_11ea_a923_4865ee12e626row10_col2\" class=\"data row10 col2\" >61.009600</td>\n",
       "            </tr>\n",
       "            <tr>\n",
       "                        <th id=\"T_0a5472c2_e8ba_11ea_a923_4865ee12e626level0_row11\" class=\"row_heading level0 row11\" >Lasso - X data</th>\n",
       "                        <td id=\"T_0a5472c2_e8ba_11ea_a923_4865ee12e626row11_col0\" class=\"data row11 col0\" >Test</td>\n",
       "                        <td id=\"T_0a5472c2_e8ba_11ea_a923_4865ee12e626row11_col1\" class=\"data row11 col1\" >0.426700</td>\n",
       "                        <td id=\"T_0a5472c2_e8ba_11ea_a923_4865ee12e626row11_col2\" class=\"data row11 col2\" >58.393100</td>\n",
       "            </tr>\n",
       "            <tr>\n",
       "                        <th id=\"T_0a5472c2_e8ba_11ea_a923_4865ee12e626level0_row12\" class=\"row_heading level0 row12\" >Lasso Poly </th>\n",
       "                        <td id=\"T_0a5472c2_e8ba_11ea_a923_4865ee12e626row12_col0\" class=\"data row12 col0\" >Test</td>\n",
       "                        <td id=\"T_0a5472c2_e8ba_11ea_a923_4865ee12e626row12_col1\" class=\"data row12 col1\" >0.430700</td>\n",
       "                        <td id=\"T_0a5472c2_e8ba_11ea_a923_4865ee12e626row12_col2\" class=\"data row12 col2\" >58.191400</td>\n",
       "            </tr>\n",
       "    </tbody></table>"
      ],
      "text/plain": [
       "<pandas.io.formats.style.Styler at 0x12d8d4b70>"
      ]
     },
     "metadata": {},
     "output_type": "display_data"
    }
   ],
   "source": [
    "show_results(RESULTS,style_kws=dict(subset=['RMSE'],\n",
    "                                   cmap = plt.cm.get_cmap('Greens').reversed()))"
   ]
  },
  {
   "cell_type": "markdown",
   "metadata": {},
   "source": [
    "> As we can see, the regularization had minimal effect on the performance of the model, but it did improve the RMSE for the test set ever so slightly! There are no set steps someone should take in order to determine the optimal feature set. In fact, now there are automated machine learning pipelines that will determine the optimal subset of features for a given problem. One of the most important and often overlooked methods of feature selection is using domain knowledge about a given area to either eliminate features or create new ones."
   ]
  },
  {
   "cell_type": "markdown",
   "metadata": {
    "heading_collapsed": true
   },
   "source": [
    "# APPENDIX"
   ]
  },
  {
   "cell_type": "code",
   "execution_count": null,
   "metadata": {
    "hidden": true
   },
   "outputs": [],
   "source": []
  },
  {
   "cell_type": "markdown",
   "metadata": {
    "heading_collapsed": true,
    "hidden": true
   },
   "source": [
    "## Akaike Information Criterion (AIC) and Bayesian Information Criterion (BIC)"
   ]
  },
  {
   "cell_type": "markdown",
   "metadata": {
    "hidden": true
   },
   "source": [
    "### Uses of AIC and BIC"
   ]
  },
  {
   "cell_type": "markdown",
   "metadata": {
    "hidden": true
   },
   "source": [
    "- Performing feature selection: comparing models with only a few variables and more variables, computing the AIC/BIC and select the features that generated the lowest AIC or BIC\n",
    "- Similarly, selecting or not selecting interactions/polynomial features depending on whether or not the AIC/BIC decreases when adding them in\n",
    "- Computing the AIC and BIC for several values of the regularization parameter in Ridge/Lasso models and selecting the best regularization parameter, and many more! "
   ]
  },
  {
   "cell_type": "markdown",
   "metadata": {
    "hidden": true
   },
   "source": [
    "#### Akaike's Information Criterion (AIC)\n"
   ]
  },
  {
   "cell_type": "markdown",
   "metadata": {
    "hidden": true
   },
   "source": [
    "The formula for the AIC, invented by Hirotugu Akaike in 1973 and short for \"Akaike's Information Criterion\" is given by:\n",
    "\n",
    "$$ \\large \\text{AIC} = -2\\ln(\\hat{L}) + 2k $$\n",
    "\n",
    "Where:\n",
    "* $k$ : length of the parameter space (i.e. the number of features)\n",
    "* $\\hat{L}$ : the maximum value of the likelihood function for the model\n",
    "\n",
    "Another way to phrase the equation is:\n",
    "\n",
    "$$ \n",
    "\\large \\text{AIC(model)} =  - 2 * \\text{log-likelihood(model)} + 2 * \\text{length of the parameter space} $$\n",
    "\n",
    "\n",
    "- AIC used to **compare** models with unbounded units not independently interpretable\n",
    "\n",
    "- If model uses Maximum Likelihood Estimation, log-likelihood is automatically computed, so AIC is easy to calculate.\n",
    "- AIC acts like penalized log-likelihood criterion, balancing good fit and complexity\n",
    "\n",
    "- In Python, the AIC is built into `statsmodels` and in `sklearn` (such as `LassoLarsIC`, which you'll use in the upcoming lab). "
   ]
  },
  {
   "cell_type": "markdown",
   "metadata": {
    "hidden": true
   },
   "source": [
    "#### Bayesian Information Criterion (BIC)"
   ]
  },
  {
   "cell_type": "markdown",
   "metadata": {
    "hidden": true
   },
   "source": [
    "- Bayesian alternative to AIC, used the same way.\n",
    "\n",
    " $$\\large \\text{BIC} = -2\\ln(\\hat L) + \\ln(n)*k $$\n",
    "\n",
    "\n",
    "where:\n",
    "\n",
    "* $\\hat{L}$ and $k$ are the same as in AIC\n",
    "* $n$ : the number of data points (the sample size)\n",
    "\n",
    "Another way to phrase the equation is:\n",
    "\n",
    "$$ \\text{BIC(model)} = -2 * \\text{log-likelihood(model)} + \\text{log(number of observations)} * \\text{(length of the parameter space)} $$"
   ]
  },
  {
   "cell_type": "code",
   "execution_count": null,
   "metadata": {
    "ExecuteTime": {
     "end_time": "2020-08-27T22:59:24.291948Z",
     "start_time": "2020-08-27T22:59:19.666Z"
    },
    "hidden": true
   },
   "outputs": [],
   "source": [
    "from sklearn.linear_model import LassoCV, LassoLarsCV, LassoLarsIC\n",
    "# alphas = np.arange(0.1,100,0.1)\n",
    "\n",
    "lasso_cvA = LassoLarsIC(criterion='aic')\n",
    "lasso_cvA.fit(X_train,y_train);\n",
    "lasso_cvA.alpha_\n",
    "\n",
    "\n",
    "lasso_cvB = LassoLarsIC(criterion='bic')\n",
    "lasso_cvB.fit(X_train,y_train);\n",
    "lasso_cvB.alpha_"
   ]
  },
  {
   "cell_type": "code",
   "execution_count": null,
   "metadata": {
    "ExecuteTime": {
     "end_time": "2020-08-27T22:59:24.292805Z",
     "start_time": "2020-08-27T22:59:19.700Z"
    },
    "hidden": true
   },
   "outputs": [],
   "source": [
    "def plot_ic_criterion(model, name, color):\n",
    "    \"\"\"Taken from:\n",
    "    https://scikit-learn.org/stable/auto_examples/linear_model/plot_lasso_model_selection.html\"\"\"\n",
    "    # This is to avoid division by zero while doing np.log10\n",
    "    EPSILON = 1e-4\n",
    "    alpha_ = model.alpha_ + EPSILON\n",
    "    alphas_ = model.alphas_ + EPSILON\n",
    "    criterion_ = model.criterion_\n",
    "    plt.plot(-np.log10(alphas_), criterion_, '--', color=color,\n",
    "             linewidth=3, label='%s criterion' % name)\n",
    "    \n",
    "    plt.axvline(-np.log10(alpha_), color=color, linewidth=3,\n",
    "                label=f'alpha: {name} estimate (alpha={round(alpha_,5)})')\n",
    "    plt.xlabel('-log(alpha)')\n",
    "    plt.ylabel('criterion')\n",
    "\n",
    "plot_ic_criterion(lasso_cvA,'AIC','blue')\n",
    "plot_ic_criterion(lasso_cvB,'BIC','green')#,'BIC' )\n",
    "plt.legend(bbox_to_anchor=[1,1],loc='upper left')"
   ]
  },
  {
   "cell_type": "markdown",
   "metadata": {
    "heading_collapsed": true,
    "hidden": true
   },
   "source": [
    "## Akaike Information Criterion (AIC) and Bayesian Information Criterion (BIC)"
   ]
  },
  {
   "cell_type": "markdown",
   "metadata": {
    "hidden": true
   },
   "source": [
    "### Uses of AIC and BIC"
   ]
  },
  {
   "cell_type": "markdown",
   "metadata": {
    "hidden": true
   },
   "source": [
    "- Performing feature selection: comparing models with only a few variables and more variables, computing the AIC/BIC and select the features that generated the lowest AIC or BIC\n",
    "- Similarly, selecting or not selecting interactions/polynomial features depending on whether or not the AIC/BIC decreases when adding them in\n",
    "- Computing the AIC and BIC for several values of the regularization parameter in Ridge/Lasso models and selecting the best regularization parameter, and many more! "
   ]
  },
  {
   "cell_type": "markdown",
   "metadata": {
    "hidden": true
   },
   "source": [
    "### Akaike's Information Criterion (AIC)\n"
   ]
  },
  {
   "cell_type": "markdown",
   "metadata": {
    "hidden": true
   },
   "source": [
    "The formula for the AIC, invented by Hirotugu Akaike in 1973 and short for \"Akaike's Information Criterion\" is given by:\n",
    "\n",
    "$$ \\large \\text{AIC} = -2\\ln(\\hat{L}) + 2k $$\n",
    "\n",
    "Where:\n",
    "* $k$ : length of the parameter space (i.e. the number of features)\n",
    "* $\\hat{L}$ : the maximum value of the likelihood function for the model\n",
    "\n",
    "Another way to phrase the equation is:\n",
    "\n",
    "$$ \n",
    "\\large \\text{AIC(model)} =  - 2 * \\text{log-likelihood(model)} + 2 * \\text{length of the parameter space} $$\n",
    "\n",
    "\n",
    "- AIC used to **compare** models with unbounded units not independently interpretable\n",
    "\n",
    "- If model uses Maximum Likelihood Estimation, log-likelihood is automatically computed, so AIC is easy to calculate.\n",
    "- AIC acts like penalized log-likelihood criterion, balancing good fit and complexity\n",
    "\n",
    "- In Python, the AIC is built into `statsmodels` and in `sklearn` (such as `LassoLarsIC`, which you'll use in the upcoming lab). "
   ]
  },
  {
   "cell_type": "markdown",
   "metadata": {
    "hidden": true
   },
   "source": [
    "### Bayesian Information Criterion (BIC)"
   ]
  },
  {
   "cell_type": "markdown",
   "metadata": {
    "hidden": true
   },
   "source": [
    "- Bayesian alternative to AIC, used the same way.\n",
    "\n",
    " $$\\large \\text{BIC} = -2\\ln(\\hat L) + \\ln(n)*k $$\n",
    "\n",
    "\n",
    "where:\n",
    "\n",
    "* $\\hat{L}$ and $k$ are the same as in AIC\n",
    "* $n$ : the number of data points (the sample size)\n",
    "\n",
    "Another way to phrase the equation is:\n",
    "\n",
    "$$ \\text{BIC(model)} = -2 * \\text{log-likelihood(model)} + \\text{log(number of observations)} * \\text{(length of the parameter space)} $$"
   ]
  },
  {
   "cell_type": "code",
   "execution_count": null,
   "metadata": {
    "ExecuteTime": {
     "end_time": "2020-08-27T22:59:24.291948Z",
     "start_time": "2020-08-27T22:59:19.666Z"
    },
    "hidden": true
   },
   "outputs": [],
   "source": [
    "from sklearn.linear_model import LassoCV, LassoLarsCV, LassoLarsIC\n",
    "# alphas = np.arange(0.1,100,0.1)\n",
    "\n",
    "lasso_cvA = LassoLarsIC(criterion='aic')\n",
    "lasso_cvA.fit(X_train,y_train);\n",
    "lasso_cvA.alpha_\n",
    "\n",
    "\n",
    "lasso_cvB = LassoLarsIC(criterion='bic')\n",
    "lasso_cvB.fit(X_train,y_train);\n",
    "lasso_cvB.alpha_"
   ]
  },
  {
   "cell_type": "code",
   "execution_count": null,
   "metadata": {
    "ExecuteTime": {
     "end_time": "2020-08-27T22:59:24.292805Z",
     "start_time": "2020-08-27T22:59:19.700Z"
    },
    "hidden": true
   },
   "outputs": [],
   "source": [
    "def plot_ic_criterion(model, name, color):\n",
    "    \"\"\"Taken from:\n",
    "    https://scikit-learn.org/stable/auto_examples/linear_model/plot_lasso_model_selection.html\"\"\"\n",
    "    # This is to avoid division by zero while doing np.log10\n",
    "    EPSILON = 1e-4\n",
    "    alpha_ = model.alpha_ + EPSILON\n",
    "    alphas_ = model.alphas_ + EPSILON\n",
    "    criterion_ = model.criterion_\n",
    "    plt.plot(-np.log10(alphas_), criterion_, '--', color=color,\n",
    "             linewidth=3, label='%s criterion' % name)\n",
    "    \n",
    "    plt.axvline(-np.log10(alpha_), color=color, linewidth=3,\n",
    "                label=f'alpha: {name} estimate (alpha={round(alpha_,5)})')\n",
    "    plt.xlabel('-log(alpha)')\n",
    "    plt.ylabel('criterion')\n",
    "\n",
    "plot_ic_criterion(lasso_cvA,'AIC','blue')\n",
    "plot_ic_criterion(lasso_cvB,'BIC','green')#,'BIC' )\n",
    "plt.legend(bbox_to_anchor=[1,1],loc='upper left')"
   ]
  }
 ],
 "metadata": {
  "kernelspec": {
   "display_name": "Python 3",
   "language": "python",
   "name": "python3"
  },
  "language_info": {
   "codemirror_mode": {
    "name": "ipython",
    "version": 3
   },
   "file_extension": ".py",
   "mimetype": "text/x-python",
   "name": "python",
   "nbconvert_exporter": "python",
   "pygments_lexer": "ipython3",
   "version": "3.6.11"
  },
  "toc": {
   "base_numbering": 1,
   "nav_menu": {},
   "number_sections": true,
   "sideBar": true,
   "skip_h1_title": false,
   "title_cell": "Table of Contents",
   "title_sidebar": "Contents",
   "toc_cell": false,
   "toc_position": {
    "height": "calc(100% - 180px)",
    "left": "10px",
    "top": "150px",
    "width": "320px"
   },
   "toc_section_display": true,
   "toc_window_display": true
  },
  "varInspector": {
   "cols": {
    "lenName": 16,
    "lenType": 16,
    "lenVar": 40
   },
   "kernels_config": {
    "python": {
     "delete_cmd_postfix": "",
     "delete_cmd_prefix": "del ",
     "library": "var_list.py",
     "varRefreshCmd": "print(var_dic_list())"
    },
    "r": {
     "delete_cmd_postfix": ") ",
     "delete_cmd_prefix": "rm(",
     "library": "var_list.r",
     "varRefreshCmd": "cat(var_dic_list()) "
    }
   },
   "types_to_exclude": [
    "module",
    "function",
    "builtin_function_or_method",
    "instance",
    "_Feature"
   ],
   "window_display": false
  }
 },
 "nbformat": 4,
 "nbformat_minor": 2
}
