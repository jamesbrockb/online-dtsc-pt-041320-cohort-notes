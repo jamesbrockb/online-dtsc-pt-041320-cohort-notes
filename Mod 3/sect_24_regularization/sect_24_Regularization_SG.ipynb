{
 "cells": [
  {
   "cell_type": "markdown",
   "metadata": {},
   "source": [
    "# Sect 24: Regularization"
   ]
  },
  {
   "cell_type": "markdown",
   "metadata": {},
   "source": [
    "- online-ds-pt-041320\n",
    "- 08/27/2020"
   ]
  },
  {
   "cell_type": "markdown",
   "metadata": {},
   "source": [
    "## Questions"
   ]
  },
  {
   "cell_type": "markdown",
   "metadata": {},
   "source": [
    "- What is the difference between fit_transform and transform in StandardScaler()?\n",
    "\n",
    "- What is happening exactly with “train_test_split”??\n",
    "\n",
    "- [Can we go over this lab? - Ridge and Lasso Regression](https://learn.co/tracks/module-3-data-science-career-2-1/machine-learning/section-24-feature-selection-ridge-and-lasso/ridge-and-lasso-regression-lab)\n",
    "\n",
    "\n",
    "- [Can we go over the feature selection methodology towards the end?](https://learn.co/tracks/module-3-data-science-career-2-1/machine-learning/section-24-feature-selection-ridge-and-lasso/feature-selection-methods)\n",
    "\n",
    "-\n"
   ]
  },
  {
   "cell_type": "markdown",
   "metadata": {},
   "source": [
    "## Objectives"
   ]
  },
  {
   "cell_type": "markdown",
   "metadata": {},
   "source": [
    "**DISCUSSION:**\n",
    "- Discuss Regularization Techniques\n",
    "    - Ridge Regression (L2 normalization)\n",
    "    - Lasso Regression (L1 normalization)\n",
    "- ~~AIC/BIC~~\n",
    "- Compare Feature Selection methods\n",
    "\n",
    "**APPLICATION:**\n",
    "- Practice turning repetitive code into flexible functions/loops\n"
   ]
  },
  {
   "cell_type": "markdown",
   "metadata": {},
   "source": [
    "# Regularization techniques"
   ]
  },
  {
   "cell_type": "markdown",
   "metadata": {},
   "source": [
    "We can \"shrink down\" prediction variables effects instead of deleting/zeroing them"
   ]
  },
  {
   "cell_type": "markdown",
   "metadata": {},
   "source": [
    "## Linear Regression Cost Function Previously Used (RSS)"
   ]
  },
  {
   "cell_type": "markdown",
   "metadata": {},
   "source": [
    "### Previously, we've used Residual Sum of Squares (RSS) as our cost function."
   ]
  },
  {
   "cell_type": "markdown",
   "metadata": {},
   "source": [
    "$$ \\large \\text{RSS}= \\sum_{i=1}^n(y_i - \\hat{y})^2  $$"
   ]
  },
  {
   "cell_type": "markdown",
   "metadata": {},
   "source": [
    "### When we substituted $mx+b$ for $\\hat{y}$ "
   ]
  },
  {
   "cell_type": "markdown",
   "metadata": {},
   "source": [
    "##### For a single predictor (X)\n",
    "$$ \\large \\text{cost_function}= \\sum_{i=1}^n(y_i - \\hat{y})^2 = \\sum_{i=1}^n(y_i - (mx_i + b))^2$$\n"
   ]
  },
  {
   "cell_type": "markdown",
   "metadata": {},
   "source": [
    "- #####  For multiple predictors, the equation becomes:\n",
    "$$ \\large \\text{cost_function}= \\sum_{i=1}^n(y_i - \\hat{y})^2 = \\sum_{i=1}^n(y_i - \\sum_{j=1}^k(m_jx_{ij} ) -b )^2$$\n",
    "- where $k$ is the number of predictors\n",
    "- and $j$ is each individual predictor."
   ]
  },
  {
   "cell_type": "markdown",
   "metadata": {},
   "source": [
    "# Penalized Estimation"
   ]
  },
  {
   "cell_type": "markdown",
   "metadata": {},
   "source": [
    "> ***The number of predictors in our models, the higher the chance of overfitting.***  \n",
    "\n",
    "> Now, **instead of completely \"deleting\"** certain predictors from a model ***(which is equal to setting coefficients equal to zero)*** we can **reduce the values of the coefficients** to make them less sensitive to noise in the data. \n",
    "\n",
    "> This is called **penalized estimation**."
   ]
  },
  {
   "cell_type": "markdown",
   "metadata": {},
   "source": [
    "## Ridge and Lasso regression"
   ]
  },
  {
   "cell_type": "markdown",
   "metadata": {},
   "source": [
    "> Lasso and Ridge are two commonly used so-called **regularization techniques**. (Regularization = when one tries to battle overfitting.)\n",
    "\n",
    "> Achieved by modifying the RSS cost/loss function that our regression model uses to determine the coefficients.\n",
    "\n",
    "\n",
    "- Advantages of Ridge/Lasso\n",
    "    - They reduce model complexity\n",
    "    - The may prevent from overfitting\n",
    "    - Some of them may perform variable selection at the same time (when coefficients are set to 0)\n",
    "    - They can be used to counter multicollinearity\n"
   ]
  },
  {
   "cell_type": "markdown",
   "metadata": {},
   "source": []
  },
  {
   "cell_type": "markdown",
   "metadata": {},
   "source": [
    "## Ridge Regression - L2 Norm Regularization"
   ]
  },
  {
   "cell_type": "markdown",
   "metadata": {},
   "source": [
    "- **Error term added to cost function** \n",
    "    - $\\large ...  +   \\lambda \\sum_{i=1}^n m_i^2$\n",
    "    - Notice that  $m_i^2$ is squared, hence \"L***2*** norm regularization\""
   ]
  },
  {
   "cell_type": "markdown",
   "metadata": {},
   "source": [
    "Define a penalty ***hyperparameter*** $\\lambda$ for extra terms (large $m$)"
   ]
  },
  {
   "cell_type": "markdown",
   "metadata": {},
   "source": [
    "<!-- $$ =\\sum_{i=1}^n(y_i - \\hat{y})^2= \\sum_{i=1}^n(y_i - \\sum_{j=1}^k(m_jx_{ij} + b))^2 + \\lambda \\sum_{i=1}^n m_i^2$$/-->\n",
    "\n",
    "$$\\large J_{\\text{ridge}}=\\sum_{i=1}^n(y_i - \\hat{y})^2 = \\sum_{i=1}^n(y_i - \\sum_{j=1}^k(m_jx_{ij})-b)^2 + \\lambda \\sum_{j=1}^p m_j^2$$\n",
    "\n",
    "- **By adding the penalty term $\\lambda$, ridge regression puts a constraint on the coefficients $m$.**\n",
    "- Therefore, large coefficients will penalize the optimization function. \n",
    "    - This shrinks the coefficients and helps to reduce model complexity and multicollinearity."
   ]
  },
  {
   "cell_type": "markdown",
   "metadata": {},
   "source": [
    "- With two predictors there is a penalty term m for each predictor.\n",
    "$$\\large J_\\text{ridge}= \\sum_{i=1}^n(y_i - \\hat{y})^2 = $$\n",
    "\n",
    "$$\\large  \\sum_{i=1}^n(y_i - ((m_1x_{1i})-b)^2 + \\lambda m_1^2 + (m_2x_{2i})-b)^2 + \\lambda m_2^2)$$"
   ]
  },
  {
   "cell_type": "markdown",
   "metadata": {},
   "source": [
    "### Uses"
   ]
  },
  {
   "cell_type": "markdown",
   "metadata": {},
   "source": [
    "> - Used mostly to prevent overfitting (but since includes all features it can be computationally expensive (for many variables))"
   ]
  },
  {
   "cell_type": "markdown",
   "metadata": {},
   "source": [
    "## Lasso Regression - L1 Norm Regularization\n",
    "\n",
    "\"Least Absolute Shrinkage and Selection Operator\""
   ]
  },
  {
   "cell_type": "markdown",
   "metadata": {},
   "source": [
    "- **Error term added to cost function** \n",
    "    - $ \\large ... + \\lambda \\sum_{j=1}^p \\mid m_j \\mid$\n",
    "    - Notice that  $m$ has no exponent (meaning its actually $m^1$, hence \"L***1*** norm regularization\"\n",
    "\n"
   ]
  },
  {
   "cell_type": "markdown",
   "metadata": {},
   "source": [
    "$$\\large J_\\text{lasso}= \\sum_{i=1}^n(y_i - \\hat{y})^2 = \\sum_{i=1}^n(y_i - \\sum_{j=1}^k(m_jx_{ij})-b)^2 + \\lambda \\sum_{j=1}^p \\mid m_j \\mid$$"
   ]
  },
  {
   "cell_type": "markdown",
   "metadata": {},
   "source": [
    "If you have two predictors the full equation would look like this (notice that there is a penalty term `m` for each predictor in the model - in this case, two): \n",
    "$$ \\text{cost_function_lasso}= \\sum_{i=1}^n(y_i - \\hat{y})^2 = $$\n",
    "\n",
    "$$\\sum_{i=1}^n(y_i - ((m_1x_{1i})-b)^2 + \\lambda \\mid m_1 \\mid) + ((m_2x_{2i})-b)^2 + \\lambda \\mid m_2 \\mid) $$"
   ]
  },
  {
   "cell_type": "markdown",
   "metadata": {},
   "source": [
    "### Uses"
   ]
  },
  {
   "cell_type": "markdown",
   "metadata": {},
   "source": [
    "> - Lasso also helps with over fitting \n",
    "- **Lasso shrinks the less important features' coefficients to zero**, removing them altogether. \n",
    "    - Therefore, Lasso regression can be used for **feature selection**"
   ]
  },
  {
   "cell_type": "markdown",
   "metadata": {},
   "source": [
    "### Using Regularization"
   ]
  },
  {
   "cell_type": "markdown",
   "metadata": {},
   "source": [
    "- ***Make sure to standardize the data before performing ridge or lasso regression***, otherwise features with large values/units will be unfairly penalized.\n",
    "- **Fit-transform the training data, only transform the test data**\n",
    "\n",
    "```python\n",
    "from sklearn.preprocessing import MinMaxScaler\n",
    "from sklearn.linear_model import Lasso, Ridge, LinearRegression\n",
    "```"
   ]
  },
  {
   "cell_type": "markdown",
   "metadata": {},
   "source": [
    "## Ridge & Lasson Regression Summary:"
   ]
  },
  {
   "cell_type": "markdown",
   "metadata": {},
   "source": [
    "In Ridge regression, the cost function is changed by adding a penalty term to the square of the magnitude of the coefficients.\n",
    "\n",
    "$$ \\text{cost_function_ridge}= \\sum_{i=1}^n(y_i - \\hat{y})^2 = \\sum_{i=1}^n(y_i - \\sum_{j=1}^k(m_jx_{ij})-b)^2 + \\lambda \\sum_{j=1}^p m_j^2$$\n",
    "\n",
    "Lasso regression is very similar to Ridge regression, except that the magnitude of the coefficients are not squared in the penalty term.\n",
    "\n",
    "$$ \\text{cost_function_lasso}= \\sum_{i=1}^n(y_i - \\hat{y})^2 = \\sum_{i=1}^n(y_i - \\sum_{j=1}^k(m_jx_{ij})-b)^2 + \\lambda \\sum_{j=1}^p \\mid m_j \\mid$$\n"
   ]
  },
  {
   "cell_type": "markdown",
   "metadata": {},
   "source": [
    "## Applying Ridge and Lasso Regression with Scikit-Learn"
   ]
  },
  {
   "cell_type": "code",
   "execution_count": 10,
   "metadata": {
    "ExecuteTime": {
     "end_time": "2020-08-27T23:25:52.213059Z",
     "start_time": "2020-08-27T23:25:50.022378Z"
    }
   },
   "outputs": [
    {
     "name": "stdout",
     "output_type": "stream",
     "text": [
      "fsds v0.2.23 loaded.  Read the docs: https://fs-ds.readthedocs.io/en/latest/ \n"
     ]
    },
    {
     "data": {
      "text/html": [
       "<style  type=\"text/css\" >\n",
       "</style><table id=\"T_a5130c22_e8bc_11ea_a576_4865ee12e626\" ><caption>Loaded Packages and Handles</caption><thead>    <tr>        <th class=\"col_heading level0 col0\" >Handle</th>        <th class=\"col_heading level0 col1\" >Package</th>        <th class=\"col_heading level0 col2\" >Description</th>    </tr></thead><tbody>\n",
       "                <tr>\n",
       "                                <td id=\"T_a5130c22_e8bc_11ea_a576_4865ee12e626row0_col0\" class=\"data row0 col0\" >dp</td>\n",
       "                        <td id=\"T_a5130c22_e8bc_11ea_a576_4865ee12e626row0_col1\" class=\"data row0 col1\" >IPython.display</td>\n",
       "                        <td id=\"T_a5130c22_e8bc_11ea_a576_4865ee12e626row0_col2\" class=\"data row0 col2\" >Display modules with helpful display and clearing commands.</td>\n",
       "            </tr>\n",
       "            <tr>\n",
       "                                <td id=\"T_a5130c22_e8bc_11ea_a576_4865ee12e626row1_col0\" class=\"data row1 col0\" >fs</td>\n",
       "                        <td id=\"T_a5130c22_e8bc_11ea_a576_4865ee12e626row1_col1\" class=\"data row1 col1\" >fsds</td>\n",
       "                        <td id=\"T_a5130c22_e8bc_11ea_a576_4865ee12e626row1_col2\" class=\"data row1 col2\" >Custom data science bootcamp student package</td>\n",
       "            </tr>\n",
       "            <tr>\n",
       "                                <td id=\"T_a5130c22_e8bc_11ea_a576_4865ee12e626row2_col0\" class=\"data row2 col0\" >mpl</td>\n",
       "                        <td id=\"T_a5130c22_e8bc_11ea_a576_4865ee12e626row2_col1\" class=\"data row2 col1\" >matplotlib</td>\n",
       "                        <td id=\"T_a5130c22_e8bc_11ea_a576_4865ee12e626row2_col2\" class=\"data row2 col2\" >Matplotlib's base OOP module with formatting artists</td>\n",
       "            </tr>\n",
       "            <tr>\n",
       "                                <td id=\"T_a5130c22_e8bc_11ea_a576_4865ee12e626row3_col0\" class=\"data row3 col0\" >plt</td>\n",
       "                        <td id=\"T_a5130c22_e8bc_11ea_a576_4865ee12e626row3_col1\" class=\"data row3 col1\" >matplotlib.pyplot</td>\n",
       "                        <td id=\"T_a5130c22_e8bc_11ea_a576_4865ee12e626row3_col2\" class=\"data row3 col2\" >Matplotlib's matlab-like plotting module</td>\n",
       "            </tr>\n",
       "            <tr>\n",
       "                                <td id=\"T_a5130c22_e8bc_11ea_a576_4865ee12e626row4_col0\" class=\"data row4 col0\" >np</td>\n",
       "                        <td id=\"T_a5130c22_e8bc_11ea_a576_4865ee12e626row4_col1\" class=\"data row4 col1\" >numpy</td>\n",
       "                        <td id=\"T_a5130c22_e8bc_11ea_a576_4865ee12e626row4_col2\" class=\"data row4 col2\" >scientific computing with Python</td>\n",
       "            </tr>\n",
       "            <tr>\n",
       "                                <td id=\"T_a5130c22_e8bc_11ea_a576_4865ee12e626row5_col0\" class=\"data row5 col0\" >pd</td>\n",
       "                        <td id=\"T_a5130c22_e8bc_11ea_a576_4865ee12e626row5_col1\" class=\"data row5 col1\" >pandas</td>\n",
       "                        <td id=\"T_a5130c22_e8bc_11ea_a576_4865ee12e626row5_col2\" class=\"data row5 col2\" >High performance data structures and tools</td>\n",
       "            </tr>\n",
       "            <tr>\n",
       "                                <td id=\"T_a5130c22_e8bc_11ea_a576_4865ee12e626row6_col0\" class=\"data row6 col0\" >sns</td>\n",
       "                        <td id=\"T_a5130c22_e8bc_11ea_a576_4865ee12e626row6_col1\" class=\"data row6 col1\" >seaborn</td>\n",
       "                        <td id=\"T_a5130c22_e8bc_11ea_a576_4865ee12e626row6_col2\" class=\"data row6 col2\" >High-level data visualization library based on matplotlib</td>\n",
       "            </tr>\n",
       "    </tbody></table>"
      ],
      "text/plain": [
       "<pandas.io.formats.style.Styler at 0x1093ad748>"
      ]
     },
     "metadata": {},
     "output_type": "display_data"
    },
    {
     "data": {
      "text/html": [
       "        <script type=\"text/javascript\">\n",
       "        window.PlotlyConfig = {MathJaxConfig: 'local'};\n",
       "        if (window.MathJax) {MathJax.Hub.Config({SVG: {font: \"STIX-Web\"}});}\n",
       "        if (typeof require !== 'undefined') {\n",
       "        require.undef(\"plotly\");\n",
       "        requirejs.config({\n",
       "            paths: {\n",
       "                'plotly': ['https://cdn.plot.ly/plotly-latest.min']\n",
       "            }\n",
       "        });\n",
       "        require(['plotly'], function(Plotly) {\n",
       "            window._Plotly = Plotly;\n",
       "        });\n",
       "        }\n",
       "        </script>\n",
       "        "
      ]
     },
     "metadata": {},
     "output_type": "display_data"
    },
    {
     "data": {
      "text/html": [
       "        <script type=\"text/javascript\">\n",
       "        window.PlotlyConfig = {MathJaxConfig: 'local'};\n",
       "        if (window.MathJax) {MathJax.Hub.Config({SVG: {font: \"STIX-Web\"}});}\n",
       "        if (typeof require !== 'undefined') {\n",
       "        require.undef(\"plotly\");\n",
       "        requirejs.config({\n",
       "            paths: {\n",
       "                'plotly': ['https://cdn.plot.ly/plotly-latest.min']\n",
       "            }\n",
       "        });\n",
       "        require(['plotly'], function(Plotly) {\n",
       "            window._Plotly = Plotly;\n",
       "        });\n",
       "        }\n",
       "        </script>\n",
       "        "
      ]
     },
     "metadata": {},
     "output_type": "display_data"
    },
    {
     "name": "stdout",
     "output_type": "stream",
     "text": [
      "[i] Pandas .iplot() method activated.\n"
     ]
    }
   ],
   "source": [
    "# !pip install -U fsds\n",
    "from fsds.imports import *\n",
    "import warnings\n",
    "# warnings.filterwarnings('ignore')\n",
    "\n",
    "# plt.style.use('seaborn-poster')"
   ]
  },
  {
   "cell_type": "code",
   "execution_count": 11,
   "metadata": {
    "ExecuteTime": {
     "end_time": "2020-08-27T23:25:52.823336Z",
     "start_time": "2020-08-27T23:25:52.215448Z"
    }
   },
   "outputs": [
    {
     "name": "stdout",
     "output_type": "stream",
     "text": [
      "<class 'pandas.core.frame.DataFrame'>\n",
      "Int64Index: 21597 entries, 7129300520 to 1523300157\n",
      "Data columns (total 19 columns):\n",
      " #   Column         Non-Null Count  Dtype  \n",
      "---  ------         --------------  -----  \n",
      " 0   price          21597 non-null  float64\n",
      " 1   bedrooms       21597 non-null  int64  \n",
      " 2   bathrooms      21597 non-null  float64\n",
      " 3   sqft_living    21597 non-null  int64  \n",
      " 4   sqft_lot       21597 non-null  int64  \n",
      " 5   floors         21597 non-null  float64\n",
      " 6   waterfront     19221 non-null  float64\n",
      " 7   view           21534 non-null  float64\n",
      " 8   condition      21597 non-null  int64  \n",
      " 9   grade          21597 non-null  int64  \n",
      " 10  sqft_above     21597 non-null  int64  \n",
      " 11  sqft_basement  21143 non-null  float64\n",
      " 12  yr_built       21597 non-null  int64  \n",
      " 13  yr_renovated   17755 non-null  float64\n",
      " 14  zipcode        21597 non-null  int64  \n",
      " 15  lat            21597 non-null  float64\n",
      " 16  long           21597 non-null  float64\n",
      " 17  sqft_living15  21597 non-null  int64  \n",
      " 18  sqft_lot15     21597 non-null  int64  \n",
      "dtypes: float64(9), int64(10)\n",
      "memory usage: 3.3 MB\n"
     ]
    },
    {
     "data": {
      "text/plain": [
       "None"
      ]
     },
     "metadata": {},
     "output_type": "display_data"
    },
    {
     "data": {
      "text/html": [
       "<div>\n",
       "<style scoped>\n",
       "    .dataframe tbody tr th:only-of-type {\n",
       "        vertical-align: middle;\n",
       "    }\n",
       "\n",
       "    .dataframe tbody tr th {\n",
       "        vertical-align: top;\n",
       "    }\n",
       "\n",
       "    .dataframe thead th {\n",
       "        text-align: right;\n",
       "    }\n",
       "</style>\n",
       "<table border=\"1\" class=\"dataframe\">\n",
       "  <thead>\n",
       "    <tr style=\"text-align: right;\">\n",
       "      <th></th>\n",
       "      <th>price</th>\n",
       "      <th>bedrooms</th>\n",
       "      <th>bathrooms</th>\n",
       "      <th>sqft_living</th>\n",
       "      <th>sqft_lot</th>\n",
       "      <th>floors</th>\n",
       "      <th>waterfront</th>\n",
       "      <th>view</th>\n",
       "      <th>condition</th>\n",
       "      <th>grade</th>\n",
       "      <th>sqft_above</th>\n",
       "      <th>sqft_basement</th>\n",
       "      <th>yr_built</th>\n",
       "      <th>yr_renovated</th>\n",
       "      <th>zipcode</th>\n",
       "      <th>lat</th>\n",
       "      <th>long</th>\n",
       "      <th>sqft_living15</th>\n",
       "      <th>sqft_lot15</th>\n",
       "    </tr>\n",
       "    <tr>\n",
       "      <th>id</th>\n",
       "      <th></th>\n",
       "      <th></th>\n",
       "      <th></th>\n",
       "      <th></th>\n",
       "      <th></th>\n",
       "      <th></th>\n",
       "      <th></th>\n",
       "      <th></th>\n",
       "      <th></th>\n",
       "      <th></th>\n",
       "      <th></th>\n",
       "      <th></th>\n",
       "      <th></th>\n",
       "      <th></th>\n",
       "      <th></th>\n",
       "      <th></th>\n",
       "      <th></th>\n",
       "      <th></th>\n",
       "      <th></th>\n",
       "    </tr>\n",
       "  </thead>\n",
       "  <tbody>\n",
       "    <tr>\n",
       "      <th>7129300520</th>\n",
       "      <td>221900.0</td>\n",
       "      <td>3</td>\n",
       "      <td>1.00</td>\n",
       "      <td>1180</td>\n",
       "      <td>5650</td>\n",
       "      <td>1.0</td>\n",
       "      <td>NaN</td>\n",
       "      <td>0.0</td>\n",
       "      <td>3</td>\n",
       "      <td>7</td>\n",
       "      <td>1180</td>\n",
       "      <td>0.0</td>\n",
       "      <td>1955</td>\n",
       "      <td>0.0</td>\n",
       "      <td>98178</td>\n",
       "      <td>47.5112</td>\n",
       "      <td>-122.257</td>\n",
       "      <td>1340</td>\n",
       "      <td>5650</td>\n",
       "    </tr>\n",
       "    <tr>\n",
       "      <th>6414100192</th>\n",
       "      <td>538000.0</td>\n",
       "      <td>3</td>\n",
       "      <td>2.25</td>\n",
       "      <td>2570</td>\n",
       "      <td>7242</td>\n",
       "      <td>2.0</td>\n",
       "      <td>0.0</td>\n",
       "      <td>0.0</td>\n",
       "      <td>3</td>\n",
       "      <td>7</td>\n",
       "      <td>2170</td>\n",
       "      <td>400.0</td>\n",
       "      <td>1951</td>\n",
       "      <td>1991.0</td>\n",
       "      <td>98125</td>\n",
       "      <td>47.7210</td>\n",
       "      <td>-122.319</td>\n",
       "      <td>1690</td>\n",
       "      <td>7639</td>\n",
       "    </tr>\n",
       "    <tr>\n",
       "      <th>5631500400</th>\n",
       "      <td>180000.0</td>\n",
       "      <td>2</td>\n",
       "      <td>1.00</td>\n",
       "      <td>770</td>\n",
       "      <td>10000</td>\n",
       "      <td>1.0</td>\n",
       "      <td>0.0</td>\n",
       "      <td>0.0</td>\n",
       "      <td>3</td>\n",
       "      <td>6</td>\n",
       "      <td>770</td>\n",
       "      <td>0.0</td>\n",
       "      <td>1933</td>\n",
       "      <td>NaN</td>\n",
       "      <td>98028</td>\n",
       "      <td>47.7379</td>\n",
       "      <td>-122.233</td>\n",
       "      <td>2720</td>\n",
       "      <td>8062</td>\n",
       "    </tr>\n",
       "    <tr>\n",
       "      <th>2487200875</th>\n",
       "      <td>604000.0</td>\n",
       "      <td>4</td>\n",
       "      <td>3.00</td>\n",
       "      <td>1960</td>\n",
       "      <td>5000</td>\n",
       "      <td>1.0</td>\n",
       "      <td>0.0</td>\n",
       "      <td>0.0</td>\n",
       "      <td>5</td>\n",
       "      <td>7</td>\n",
       "      <td>1050</td>\n",
       "      <td>910.0</td>\n",
       "      <td>1965</td>\n",
       "      <td>0.0</td>\n",
       "      <td>98136</td>\n",
       "      <td>47.5208</td>\n",
       "      <td>-122.393</td>\n",
       "      <td>1360</td>\n",
       "      <td>5000</td>\n",
       "    </tr>\n",
       "    <tr>\n",
       "      <th>1954400510</th>\n",
       "      <td>510000.0</td>\n",
       "      <td>3</td>\n",
       "      <td>2.00</td>\n",
       "      <td>1680</td>\n",
       "      <td>8080</td>\n",
       "      <td>1.0</td>\n",
       "      <td>0.0</td>\n",
       "      <td>0.0</td>\n",
       "      <td>3</td>\n",
       "      <td>8</td>\n",
       "      <td>1680</td>\n",
       "      <td>0.0</td>\n",
       "      <td>1987</td>\n",
       "      <td>0.0</td>\n",
       "      <td>98074</td>\n",
       "      <td>47.6168</td>\n",
       "      <td>-122.045</td>\n",
       "      <td>1800</td>\n",
       "      <td>7503</td>\n",
       "    </tr>\n",
       "  </tbody>\n",
       "</table>\n",
       "</div>"
      ],
      "text/plain": [
       "               price  bedrooms  bathrooms  sqft_living  sqft_lot  floors  \\\n",
       "id                                                                         \n",
       "7129300520  221900.0         3       1.00         1180      5650     1.0   \n",
       "6414100192  538000.0         3       2.25         2570      7242     2.0   \n",
       "5631500400  180000.0         2       1.00          770     10000     1.0   \n",
       "2487200875  604000.0         4       3.00         1960      5000     1.0   \n",
       "1954400510  510000.0         3       2.00         1680      8080     1.0   \n",
       "\n",
       "            waterfront  view  condition  grade  sqft_above  sqft_basement  \\\n",
       "id                                                                          \n",
       "7129300520         NaN   0.0          3      7        1180            0.0   \n",
       "6414100192         0.0   0.0          3      7        2170          400.0   \n",
       "5631500400         0.0   0.0          3      6         770            0.0   \n",
       "2487200875         0.0   0.0          5      7        1050          910.0   \n",
       "1954400510         0.0   0.0          3      8        1680            0.0   \n",
       "\n",
       "            yr_built  yr_renovated  zipcode      lat     long  sqft_living15  \\\n",
       "id                                                                             \n",
       "7129300520      1955           0.0    98178  47.5112 -122.257           1340   \n",
       "6414100192      1951        1991.0    98125  47.7210 -122.319           1690   \n",
       "5631500400      1933           NaN    98028  47.7379 -122.233           2720   \n",
       "2487200875      1965           0.0    98136  47.5208 -122.393           1360   \n",
       "1954400510      1987           0.0    98074  47.6168 -122.045           1800   \n",
       "\n",
       "            sqft_lot15  \n",
       "id                      \n",
       "7129300520        5650  \n",
       "6414100192        7639  \n",
       "5631500400        8062  \n",
       "2487200875        5000  \n",
       "1954400510        7503  "
      ]
     },
     "execution_count": 11,
     "metadata": {},
     "output_type": "execute_result"
    }
   ],
   "source": [
    "df = fs.datasets.load_mod1_proj(read_csv_kwds=dict(verbose=False,\n",
    "                                                  na_values='?',\n",
    "                                                  index_col='id'))\n",
    "df.drop(columns=['date'],inplace=True)\n",
    "display(df.info())\n",
    "df.head()"
   ]
  },
  {
   "cell_type": "code",
   "execution_count": 12,
   "metadata": {
    "ExecuteTime": {
     "end_time": "2020-08-27T23:25:52.831676Z",
     "start_time": "2020-08-27T23:25:52.825149Z"
    }
   },
   "outputs": [],
   "source": [
    "#make x,y\n",
    "y = df['price'].copy()\n",
    "X = df.drop('price',axis=1).copy()"
   ]
  },
  {
   "cell_type": "markdown",
   "metadata": {},
   "source": [
    "### Train Test Split"
   ]
  },
  {
   "cell_type": "code",
   "execution_count": 13,
   "metadata": {
    "ExecuteTime": {
     "end_time": "2020-08-27T23:28:54.212227Z",
     "start_time": "2020-08-27T23:28:54.208106Z"
    }
   },
   "outputs": [
    {
     "data": {
      "text/plain": [
       "'0.23.1'"
      ]
     },
     "execution_count": 13,
     "metadata": {},
     "output_type": "execute_result"
    }
   ],
   "source": [
    "import sklearn\n",
    "sklearn.__version__"
   ]
  },
  {
   "cell_type": "code",
   "execution_count": 15,
   "metadata": {
    "ExecuteTime": {
     "end_time": "2020-08-27T23:32:11.284491Z",
     "start_time": "2020-08-27T23:32:11.281002Z"
    },
    "scrolled": false
   },
   "outputs": [],
   "source": [
    "# %conda list\n",
    "# %conda update scikit-learn\n",
    "# !pip install -U scikit-learn"
   ]
  },
  {
   "cell_type": "code",
   "execution_count": 16,
   "metadata": {
    "ExecuteTime": {
     "end_time": "2020-08-27T23:32:41.588259Z",
     "start_time": "2020-08-27T23:32:41.576293Z"
    }
   },
   "outputs": [],
   "source": [
    "from sklearn.model_selection import train_test_split\n",
    "X_train,X_test, y_train, y_test =   train_test_split(X,y)"
   ]
  },
  {
   "cell_type": "markdown",
   "metadata": {},
   "source": [
    "#### `def remake_df`"
   ]
  },
  {
   "cell_type": "code",
   "execution_count": 18,
   "metadata": {
    "ExecuteTime": {
     "end_time": "2020-08-27T23:35:30.887392Z",
     "start_time": "2020-08-27T23:35:30.883818Z"
    }
   },
   "outputs": [],
   "source": [
    "def remake_df(array,df):\n",
    "    return pd.DataFrame(array, columns=df.columns, index=df.index)"
   ]
  },
  {
   "cell_type": "markdown",
   "metadata": {},
   "source": [
    "### Preprocessing"
   ]
  },
  {
   "cell_type": "markdown",
   "metadata": {},
   "source": [
    "#### FIlling Null Values"
   ]
  },
  {
   "cell_type": "code",
   "execution_count": 24,
   "metadata": {
    "ExecuteTime": {
     "end_time": "2020-08-27T23:38:09.644953Z",
     "start_time": "2020-08-27T23:38:09.637385Z"
    }
   },
   "outputs": [
    {
     "data": {
      "text/plain": [
       "bedrooms            0\n",
       "bathrooms           0\n",
       "sqft_living         0\n",
       "sqft_lot            0\n",
       "floors              0\n",
       "waterfront       1793\n",
       "view               49\n",
       "condition           0\n",
       "grade               0\n",
       "sqft_above          0\n",
       "sqft_basement     348\n",
       "yr_built            0\n",
       "yr_renovated     2849\n",
       "zipcode             0\n",
       "lat                 0\n",
       "long                0\n",
       "sqft_living15       0\n",
       "sqft_lot15          0\n",
       "dtype: int64"
      ]
     },
     "execution_count": 24,
     "metadata": {},
     "output_type": "execute_result"
    }
   ],
   "source": [
    "X_train.isna().sum()"
   ]
  },
  {
   "cell_type": "code",
   "execution_count": 22,
   "metadata": {
    "ExecuteTime": {
     "end_time": "2020-08-27T23:37:48.559568Z",
     "start_time": "2020-08-27T23:37:48.483154Z"
    }
   },
   "outputs": [
    {
     "data": {
      "text/html": [
       "<div>\n",
       "<style scoped>\n",
       "    .dataframe tbody tr th:only-of-type {\n",
       "        vertical-align: middle;\n",
       "    }\n",
       "\n",
       "    .dataframe tbody tr th {\n",
       "        vertical-align: top;\n",
       "    }\n",
       "\n",
       "    .dataframe thead th {\n",
       "        text-align: right;\n",
       "    }\n",
       "</style>\n",
       "<table border=\"1\" class=\"dataframe\">\n",
       "  <thead>\n",
       "    <tr style=\"text-align: right;\">\n",
       "      <th></th>\n",
       "      <th>bedrooms</th>\n",
       "      <th>bathrooms</th>\n",
       "      <th>sqft_living</th>\n",
       "      <th>sqft_lot</th>\n",
       "      <th>floors</th>\n",
       "      <th>waterfront</th>\n",
       "      <th>view</th>\n",
       "      <th>condition</th>\n",
       "      <th>grade</th>\n",
       "      <th>sqft_above</th>\n",
       "      <th>sqft_basement</th>\n",
       "      <th>yr_built</th>\n",
       "      <th>yr_renovated</th>\n",
       "      <th>zipcode</th>\n",
       "      <th>lat</th>\n",
       "      <th>long</th>\n",
       "      <th>sqft_living15</th>\n",
       "      <th>sqft_lot15</th>\n",
       "    </tr>\n",
       "    <tr>\n",
       "      <th>id</th>\n",
       "      <th></th>\n",
       "      <th></th>\n",
       "      <th></th>\n",
       "      <th></th>\n",
       "      <th></th>\n",
       "      <th></th>\n",
       "      <th></th>\n",
       "      <th></th>\n",
       "      <th></th>\n",
       "      <th></th>\n",
       "      <th></th>\n",
       "      <th></th>\n",
       "      <th></th>\n",
       "      <th></th>\n",
       "      <th></th>\n",
       "      <th></th>\n",
       "      <th></th>\n",
       "      <th></th>\n",
       "    </tr>\n",
       "  </thead>\n",
       "  <tbody>\n",
       "    <tr>\n",
       "      <th>476000017</th>\n",
       "      <td>2.0</td>\n",
       "      <td>2.00</td>\n",
       "      <td>1400.0</td>\n",
       "      <td>1512.0</td>\n",
       "      <td>2.0</td>\n",
       "      <td>0.0</td>\n",
       "      <td>0.0</td>\n",
       "      <td>3.0</td>\n",
       "      <td>8.0</td>\n",
       "      <td>940.0</td>\n",
       "      <td>460.0</td>\n",
       "      <td>2006.0</td>\n",
       "      <td>0.0</td>\n",
       "      <td>98107.0</td>\n",
       "      <td>47.6719</td>\n",
       "      <td>-122.392</td>\n",
       "      <td>1400.0</td>\n",
       "      <td>3500.0</td>\n",
       "    </tr>\n",
       "    <tr>\n",
       "      <th>4449800681</th>\n",
       "      <td>4.0</td>\n",
       "      <td>1.75</td>\n",
       "      <td>2160.0</td>\n",
       "      <td>4333.0</td>\n",
       "      <td>1.0</td>\n",
       "      <td>0.0</td>\n",
       "      <td>0.0</td>\n",
       "      <td>4.0</td>\n",
       "      <td>8.0</td>\n",
       "      <td>1260.0</td>\n",
       "      <td>900.0</td>\n",
       "      <td>1942.0</td>\n",
       "      <td>0.0</td>\n",
       "      <td>98117.0</td>\n",
       "      <td>47.6893</td>\n",
       "      <td>-122.388</td>\n",
       "      <td>1670.0</td>\n",
       "      <td>4426.0</td>\n",
       "    </tr>\n",
       "    <tr>\n",
       "      <th>1137300690</th>\n",
       "      <td>4.0</td>\n",
       "      <td>2.50</td>\n",
       "      <td>2820.0</td>\n",
       "      <td>33750.0</td>\n",
       "      <td>2.0</td>\n",
       "      <td>0.0</td>\n",
       "      <td>0.0</td>\n",
       "      <td>4.0</td>\n",
       "      <td>9.0</td>\n",
       "      <td>2820.0</td>\n",
       "      <td>0.0</td>\n",
       "      <td>1984.0</td>\n",
       "      <td>0.0</td>\n",
       "      <td>98072.0</td>\n",
       "      <td>47.7387</td>\n",
       "      <td>-122.096</td>\n",
       "      <td>2510.0</td>\n",
       "      <td>36180.0</td>\n",
       "    </tr>\n",
       "    <tr>\n",
       "      <th>1545808560</th>\n",
       "      <td>3.0</td>\n",
       "      <td>2.50</td>\n",
       "      <td>1530.0</td>\n",
       "      <td>8500.0</td>\n",
       "      <td>1.0</td>\n",
       "      <td>0.0</td>\n",
       "      <td>0.0</td>\n",
       "      <td>5.0</td>\n",
       "      <td>7.0</td>\n",
       "      <td>1030.0</td>\n",
       "      <td>500.0</td>\n",
       "      <td>1996.0</td>\n",
       "      <td>0.0</td>\n",
       "      <td>98038.0</td>\n",
       "      <td>47.3592</td>\n",
       "      <td>-122.046</td>\n",
       "      <td>1850.0</td>\n",
       "      <td>8140.0</td>\n",
       "    </tr>\n",
       "    <tr>\n",
       "      <th>3880900010</th>\n",
       "      <td>5.0</td>\n",
       "      <td>3.25</td>\n",
       "      <td>3410.0</td>\n",
       "      <td>9088.0</td>\n",
       "      <td>2.0</td>\n",
       "      <td>0.0</td>\n",
       "      <td>3.0</td>\n",
       "      <td>3.0</td>\n",
       "      <td>9.0</td>\n",
       "      <td>2760.0</td>\n",
       "      <td>650.0</td>\n",
       "      <td>1912.0</td>\n",
       "      <td>0.0</td>\n",
       "      <td>98119.0</td>\n",
       "      <td>47.6285</td>\n",
       "      <td>-122.361</td>\n",
       "      <td>3540.0</td>\n",
       "      <td>7100.0</td>\n",
       "    </tr>\n",
       "    <tr>\n",
       "      <th>...</th>\n",
       "      <td>...</td>\n",
       "      <td>...</td>\n",
       "      <td>...</td>\n",
       "      <td>...</td>\n",
       "      <td>...</td>\n",
       "      <td>...</td>\n",
       "      <td>...</td>\n",
       "      <td>...</td>\n",
       "      <td>...</td>\n",
       "      <td>...</td>\n",
       "      <td>...</td>\n",
       "      <td>...</td>\n",
       "      <td>...</td>\n",
       "      <td>...</td>\n",
       "      <td>...</td>\n",
       "      <td>...</td>\n",
       "      <td>...</td>\n",
       "      <td>...</td>\n",
       "    </tr>\n",
       "    <tr>\n",
       "      <th>1250700060</th>\n",
       "      <td>3.0</td>\n",
       "      <td>1.75</td>\n",
       "      <td>1830.0</td>\n",
       "      <td>4160.0</td>\n",
       "      <td>1.0</td>\n",
       "      <td>0.0</td>\n",
       "      <td>0.0</td>\n",
       "      <td>3.0</td>\n",
       "      <td>7.0</td>\n",
       "      <td>1230.0</td>\n",
       "      <td>600.0</td>\n",
       "      <td>1919.0</td>\n",
       "      <td>0.0</td>\n",
       "      <td>98144.0</td>\n",
       "      <td>47.5962</td>\n",
       "      <td>-122.288</td>\n",
       "      <td>1950.0</td>\n",
       "      <td>4160.0</td>\n",
       "    </tr>\n",
       "    <tr>\n",
       "      <th>2723069082</th>\n",
       "      <td>4.0</td>\n",
       "      <td>2.25</td>\n",
       "      <td>2510.0</td>\n",
       "      <td>133729.0</td>\n",
       "      <td>2.0</td>\n",
       "      <td>0.0</td>\n",
       "      <td>0.0</td>\n",
       "      <td>4.0</td>\n",
       "      <td>8.0</td>\n",
       "      <td>2510.0</td>\n",
       "      <td>0.0</td>\n",
       "      <td>1977.0</td>\n",
       "      <td>0.0</td>\n",
       "      <td>98027.0</td>\n",
       "      <td>47.4569</td>\n",
       "      <td>-122.020</td>\n",
       "      <td>2510.0</td>\n",
       "      <td>69696.0</td>\n",
       "    </tr>\n",
       "    <tr>\n",
       "      <th>2482500040</th>\n",
       "      <td>5.0</td>\n",
       "      <td>1.75</td>\n",
       "      <td>1798.0</td>\n",
       "      <td>11232.0</td>\n",
       "      <td>1.0</td>\n",
       "      <td>0.0</td>\n",
       "      <td>0.0</td>\n",
       "      <td>3.0</td>\n",
       "      <td>7.0</td>\n",
       "      <td>1798.0</td>\n",
       "      <td>0.0</td>\n",
       "      <td>1967.0</td>\n",
       "      <td>0.0</td>\n",
       "      <td>98001.0</td>\n",
       "      <td>47.3266</td>\n",
       "      <td>-122.291</td>\n",
       "      <td>1300.0</td>\n",
       "      <td>15582.0</td>\n",
       "    </tr>\n",
       "    <tr>\n",
       "      <th>6791000050</th>\n",
       "      <td>3.0</td>\n",
       "      <td>2.75</td>\n",
       "      <td>2230.0</td>\n",
       "      <td>14400.0</td>\n",
       "      <td>1.0</td>\n",
       "      <td>0.0</td>\n",
       "      <td>0.0</td>\n",
       "      <td>4.0</td>\n",
       "      <td>8.0</td>\n",
       "      <td>1460.0</td>\n",
       "      <td>770.0</td>\n",
       "      <td>1977.0</td>\n",
       "      <td>0.0</td>\n",
       "      <td>98075.0</td>\n",
       "      <td>47.5791</td>\n",
       "      <td>-122.048</td>\n",
       "      <td>2200.0</td>\n",
       "      <td>13280.0</td>\n",
       "    </tr>\n",
       "    <tr>\n",
       "      <th>8682310220</th>\n",
       "      <td>2.0</td>\n",
       "      <td>2.50</td>\n",
       "      <td>2170.0</td>\n",
       "      <td>6750.0</td>\n",
       "      <td>1.0</td>\n",
       "      <td>0.0</td>\n",
       "      <td>0.0</td>\n",
       "      <td>3.0</td>\n",
       "      <td>8.0</td>\n",
       "      <td>2170.0</td>\n",
       "      <td>0.0</td>\n",
       "      <td>2012.0</td>\n",
       "      <td>0.0</td>\n",
       "      <td>98053.0</td>\n",
       "      <td>47.7115</td>\n",
       "      <td>-122.014</td>\n",
       "      <td>2150.0</td>\n",
       "      <td>6074.0</td>\n",
       "    </tr>\n",
       "  </tbody>\n",
       "</table>\n",
       "<p>5400 rows × 18 columns</p>\n",
       "</div>"
      ],
      "text/plain": [
       "            bedrooms  bathrooms  sqft_living  sqft_lot  floors  waterfront  \\\n",
       "id                                                                           \n",
       "476000017        2.0       2.00       1400.0    1512.0     2.0         0.0   \n",
       "4449800681       4.0       1.75       2160.0    4333.0     1.0         0.0   \n",
       "1137300690       4.0       2.50       2820.0   33750.0     2.0         0.0   \n",
       "1545808560       3.0       2.50       1530.0    8500.0     1.0         0.0   \n",
       "3880900010       5.0       3.25       3410.0    9088.0     2.0         0.0   \n",
       "...              ...        ...          ...       ...     ...         ...   \n",
       "1250700060       3.0       1.75       1830.0    4160.0     1.0         0.0   \n",
       "2723069082       4.0       2.25       2510.0  133729.0     2.0         0.0   \n",
       "2482500040       5.0       1.75       1798.0   11232.0     1.0         0.0   \n",
       "6791000050       3.0       2.75       2230.0   14400.0     1.0         0.0   \n",
       "8682310220       2.0       2.50       2170.0    6750.0     1.0         0.0   \n",
       "\n",
       "            view  condition  grade  sqft_above  sqft_basement  yr_built  \\\n",
       "id                                                                        \n",
       "476000017    0.0        3.0    8.0       940.0          460.0    2006.0   \n",
       "4449800681   0.0        4.0    8.0      1260.0          900.0    1942.0   \n",
       "1137300690   0.0        4.0    9.0      2820.0            0.0    1984.0   \n",
       "1545808560   0.0        5.0    7.0      1030.0          500.0    1996.0   \n",
       "3880900010   3.0        3.0    9.0      2760.0          650.0    1912.0   \n",
       "...          ...        ...    ...         ...            ...       ...   \n",
       "1250700060   0.0        3.0    7.0      1230.0          600.0    1919.0   \n",
       "2723069082   0.0        4.0    8.0      2510.0            0.0    1977.0   \n",
       "2482500040   0.0        3.0    7.0      1798.0            0.0    1967.0   \n",
       "6791000050   0.0        4.0    8.0      1460.0          770.0    1977.0   \n",
       "8682310220   0.0        3.0    8.0      2170.0            0.0    2012.0   \n",
       "\n",
       "            yr_renovated  zipcode      lat     long  sqft_living15  sqft_lot15  \n",
       "id                                                                              \n",
       "476000017            0.0  98107.0  47.6719 -122.392         1400.0      3500.0  \n",
       "4449800681           0.0  98117.0  47.6893 -122.388         1670.0      4426.0  \n",
       "1137300690           0.0  98072.0  47.7387 -122.096         2510.0     36180.0  \n",
       "1545808560           0.0  98038.0  47.3592 -122.046         1850.0      8140.0  \n",
       "3880900010           0.0  98119.0  47.6285 -122.361         3540.0      7100.0  \n",
       "...                  ...      ...      ...      ...            ...         ...  \n",
       "1250700060           0.0  98144.0  47.5962 -122.288         1950.0      4160.0  \n",
       "2723069082           0.0  98027.0  47.4569 -122.020         2510.0     69696.0  \n",
       "2482500040           0.0  98001.0  47.3266 -122.291         1300.0     15582.0  \n",
       "6791000050           0.0  98075.0  47.5791 -122.048         2200.0     13280.0  \n",
       "8682310220           0.0  98053.0  47.7115 -122.014         2150.0      6074.0  \n",
       "\n",
       "[5400 rows x 18 columns]"
      ]
     },
     "execution_count": 22,
     "metadata": {},
     "output_type": "execute_result"
    }
   ],
   "source": [
    "from sklearn.impute import SimpleImputer\n",
    "from sklearn.preprocessing import RobustScaler,StandardScaler,MinMaxScaler\n",
    "\n",
    "imputer = SimpleImputer(strategy='median')\n",
    "X_train_cln = remake_df(imputer.fit_transform(X_train), X_train)\n",
    "X_test_cln = remake_df(imputer.transform(X_test ), X_test)\n",
    "X_test_cln"
   ]
  },
  {
   "cell_type": "code",
   "execution_count": 23,
   "metadata": {
    "ExecuteTime": {
     "end_time": "2020-08-27T23:38:00.584622Z",
     "start_time": "2020-08-27T23:38:00.578603Z"
    }
   },
   "outputs": [
    {
     "data": {
      "text/plain": [
       "bedrooms         0\n",
       "bathrooms        0\n",
       "sqft_living      0\n",
       "sqft_lot         0\n",
       "floors           0\n",
       "waterfront       0\n",
       "view             0\n",
       "condition        0\n",
       "grade            0\n",
       "sqft_above       0\n",
       "sqft_basement    0\n",
       "yr_built         0\n",
       "yr_renovated     0\n",
       "zipcode          0\n",
       "lat              0\n",
       "long             0\n",
       "sqft_living15    0\n",
       "sqft_lot15       0\n",
       "dtype: int64"
      ]
     },
     "execution_count": 23,
     "metadata": {},
     "output_type": "execute_result"
    }
   ],
   "source": [
    "X_train_cln.isna().sum()"
   ]
  },
  {
   "cell_type": "markdown",
   "metadata": {},
   "source": [
    "#### Scaling"
   ]
  },
  {
   "cell_type": "code",
   "execution_count": 52,
   "metadata": {
    "ExecuteTime": {
     "end_time": "2020-08-27T23:07:07.057245Z",
     "start_time": "2020-08-27T23:07:07.054926Z"
    }
   },
   "outputs": [],
   "source": [
    "from sklearn.preprocessing import MinMaxScaler,StandardScaler,RobustScaler"
   ]
  },
  {
   "cell_type": "code",
   "execution_count": null,
   "metadata": {},
   "outputs": [],
   "source": []
  },
  {
   "cell_type": "code",
   "execution_count": 32,
   "metadata": {
    "ExecuteTime": {
     "end_time": "2020-08-27T23:44:00.067981Z",
     "start_time": "2020-08-27T23:44:00.018073Z"
    }
   },
   "outputs": [
    {
     "data": {
      "text/html": [
       "<div>\n",
       "<style scoped>\n",
       "    .dataframe tbody tr th:only-of-type {\n",
       "        vertical-align: middle;\n",
       "    }\n",
       "\n",
       "    .dataframe tbody tr th {\n",
       "        vertical-align: top;\n",
       "    }\n",
       "\n",
       "    .dataframe thead th {\n",
       "        text-align: right;\n",
       "    }\n",
       "</style>\n",
       "<table border=\"1\" class=\"dataframe\">\n",
       "  <thead>\n",
       "    <tr style=\"text-align: right;\">\n",
       "      <th></th>\n",
       "      <th>bedrooms</th>\n",
       "      <th>bathrooms</th>\n",
       "      <th>sqft_living</th>\n",
       "      <th>sqft_lot</th>\n",
       "      <th>floors</th>\n",
       "      <th>waterfront</th>\n",
       "      <th>view</th>\n",
       "      <th>condition</th>\n",
       "      <th>grade</th>\n",
       "      <th>sqft_above</th>\n",
       "      <th>sqft_basement</th>\n",
       "      <th>yr_built</th>\n",
       "      <th>yr_renovated</th>\n",
       "      <th>zipcode</th>\n",
       "      <th>lat</th>\n",
       "      <th>long</th>\n",
       "      <th>sqft_living15</th>\n",
       "      <th>sqft_lot15</th>\n",
       "    </tr>\n",
       "    <tr>\n",
       "      <th>id</th>\n",
       "      <th></th>\n",
       "      <th></th>\n",
       "      <th></th>\n",
       "      <th></th>\n",
       "      <th></th>\n",
       "      <th></th>\n",
       "      <th></th>\n",
       "      <th></th>\n",
       "      <th></th>\n",
       "      <th></th>\n",
       "      <th></th>\n",
       "      <th></th>\n",
       "      <th></th>\n",
       "      <th></th>\n",
       "      <th></th>\n",
       "      <th></th>\n",
       "      <th></th>\n",
       "      <th></th>\n",
       "    </tr>\n",
       "  </thead>\n",
       "  <tbody>\n",
       "    <tr>\n",
       "      <th>476000017</th>\n",
       "      <td>-1.0</td>\n",
       "      <td>-0.333333</td>\n",
       "      <td>-0.459459</td>\n",
       "      <td>-1.085414</td>\n",
       "      <td>0.5</td>\n",
       "      <td>0.0</td>\n",
       "      <td>0.0</td>\n",
       "      <td>0.0</td>\n",
       "      <td>1.0</td>\n",
       "      <td>-0.607843</td>\n",
       "      <td>0.836364</td>\n",
       "      <td>0.688889</td>\n",
       "      <td>0.0</td>\n",
       "      <td>0.500000</td>\n",
       "      <td>0.481570</td>\n",
       "      <td>-0.789216</td>\n",
       "      <td>-0.505747</td>\n",
       "      <td>-0.827309</td>\n",
       "    </tr>\n",
       "    <tr>\n",
       "      <th>4449800681</th>\n",
       "      <td>1.0</td>\n",
       "      <td>-0.666667</td>\n",
       "      <td>0.225225</td>\n",
       "      <td>-0.582382</td>\n",
       "      <td>-0.5</td>\n",
       "      <td>0.0</td>\n",
       "      <td>0.0</td>\n",
       "      <td>1.0</td>\n",
       "      <td>1.0</td>\n",
       "      <td>-0.294118</td>\n",
       "      <td>1.636364</td>\n",
       "      <td>-0.733333</td>\n",
       "      <td>0.0</td>\n",
       "      <td>0.619048</td>\n",
       "      <td>0.564864</td>\n",
       "      <td>-0.769608</td>\n",
       "      <td>-0.195402</td>\n",
       "      <td>-0.641365</td>\n",
       "    </tr>\n",
       "    <tr>\n",
       "      <th>1137300690</th>\n",
       "      <td>1.0</td>\n",
       "      <td>0.333333</td>\n",
       "      <td>0.819820</td>\n",
       "      <td>4.663160</td>\n",
       "      <td>0.5</td>\n",
       "      <td>0.0</td>\n",
       "      <td>0.0</td>\n",
       "      <td>1.0</td>\n",
       "      <td>2.0</td>\n",
       "      <td>1.235294</td>\n",
       "      <td>0.000000</td>\n",
       "      <td>0.200000</td>\n",
       "      <td>0.0</td>\n",
       "      <td>0.083333</td>\n",
       "      <td>0.801340</td>\n",
       "      <td>0.661765</td>\n",
       "      <td>0.770115</td>\n",
       "      <td>5.734940</td>\n",
       "    </tr>\n",
       "    <tr>\n",
       "      <th>1545808560</th>\n",
       "      <td>0.0</td>\n",
       "      <td>0.333333</td>\n",
       "      <td>-0.342342</td>\n",
       "      <td>0.160663</td>\n",
       "      <td>-0.5</td>\n",
       "      <td>0.0</td>\n",
       "      <td>0.0</td>\n",
       "      <td>2.0</td>\n",
       "      <td>0.0</td>\n",
       "      <td>-0.519608</td>\n",
       "      <td>0.909091</td>\n",
       "      <td>0.466667</td>\n",
       "      <td>0.0</td>\n",
       "      <td>-0.321429</td>\n",
       "      <td>-1.015318</td>\n",
       "      <td>0.906863</td>\n",
       "      <td>0.011494</td>\n",
       "      <td>0.104418</td>\n",
       "    </tr>\n",
       "    <tr>\n",
       "      <th>3880900010</th>\n",
       "      <td>2.0</td>\n",
       "      <td>1.333333</td>\n",
       "      <td>1.351351</td>\n",
       "      <td>0.265514</td>\n",
       "      <td>0.5</td>\n",
       "      <td>0.0</td>\n",
       "      <td>3.0</td>\n",
       "      <td>0.0</td>\n",
       "      <td>2.0</td>\n",
       "      <td>1.176471</td>\n",
       "      <td>1.181818</td>\n",
       "      <td>-1.400000</td>\n",
       "      <td>0.0</td>\n",
       "      <td>0.642857</td>\n",
       "      <td>0.273815</td>\n",
       "      <td>-0.637255</td>\n",
       "      <td>1.954023</td>\n",
       "      <td>-0.104418</td>\n",
       "    </tr>\n",
       "    <tr>\n",
       "      <th>...</th>\n",
       "      <td>...</td>\n",
       "      <td>...</td>\n",
       "      <td>...</td>\n",
       "      <td>...</td>\n",
       "      <td>...</td>\n",
       "      <td>...</td>\n",
       "      <td>...</td>\n",
       "      <td>...</td>\n",
       "      <td>...</td>\n",
       "      <td>...</td>\n",
       "      <td>...</td>\n",
       "      <td>...</td>\n",
       "      <td>...</td>\n",
       "      <td>...</td>\n",
       "      <td>...</td>\n",
       "      <td>...</td>\n",
       "      <td>...</td>\n",
       "      <td>...</td>\n",
       "    </tr>\n",
       "    <tr>\n",
       "      <th>1250700060</th>\n",
       "      <td>0.0</td>\n",
       "      <td>-0.666667</td>\n",
       "      <td>-0.072072</td>\n",
       "      <td>-0.613231</td>\n",
       "      <td>-0.5</td>\n",
       "      <td>0.0</td>\n",
       "      <td>0.0</td>\n",
       "      <td>0.0</td>\n",
       "      <td>0.0</td>\n",
       "      <td>-0.323529</td>\n",
       "      <td>1.090909</td>\n",
       "      <td>-1.244444</td>\n",
       "      <td>0.0</td>\n",
       "      <td>0.940476</td>\n",
       "      <td>0.119196</td>\n",
       "      <td>-0.279412</td>\n",
       "      <td>0.126437</td>\n",
       "      <td>-0.694779</td>\n",
       "    </tr>\n",
       "    <tr>\n",
       "      <th>2723069082</th>\n",
       "      <td>1.0</td>\n",
       "      <td>0.000000</td>\n",
       "      <td>0.540541</td>\n",
       "      <td>22.491084</td>\n",
       "      <td>0.5</td>\n",
       "      <td>0.0</td>\n",
       "      <td>0.0</td>\n",
       "      <td>1.0</td>\n",
       "      <td>1.0</td>\n",
       "      <td>0.931373</td>\n",
       "      <td>0.000000</td>\n",
       "      <td>0.044444</td>\n",
       "      <td>0.0</td>\n",
       "      <td>-0.452381</td>\n",
       "      <td>-0.547630</td>\n",
       "      <td>1.034314</td>\n",
       "      <td>0.770115</td>\n",
       "      <td>12.465060</td>\n",
       "    </tr>\n",
       "    <tr>\n",
       "      <th>2482500040</th>\n",
       "      <td>2.0</td>\n",
       "      <td>-0.666667</td>\n",
       "      <td>-0.100901</td>\n",
       "      <td>0.647825</td>\n",
       "      <td>-0.5</td>\n",
       "      <td>0.0</td>\n",
       "      <td>0.0</td>\n",
       "      <td>0.0</td>\n",
       "      <td>0.0</td>\n",
       "      <td>0.233333</td>\n",
       "      <td>0.000000</td>\n",
       "      <td>-0.177778</td>\n",
       "      <td>0.0</td>\n",
       "      <td>-0.761905</td>\n",
       "      <td>-1.171374</td>\n",
       "      <td>-0.294118</td>\n",
       "      <td>-0.620690</td>\n",
       "      <td>1.598795</td>\n",
       "    </tr>\n",
       "    <tr>\n",
       "      <th>6791000050</th>\n",
       "      <td>0.0</td>\n",
       "      <td>0.666667</td>\n",
       "      <td>0.288288</td>\n",
       "      <td>1.212732</td>\n",
       "      <td>-0.5</td>\n",
       "      <td>0.0</td>\n",
       "      <td>0.0</td>\n",
       "      <td>1.0</td>\n",
       "      <td>1.0</td>\n",
       "      <td>-0.098039</td>\n",
       "      <td>1.400000</td>\n",
       "      <td>0.044444</td>\n",
       "      <td>0.0</td>\n",
       "      <td>0.119048</td>\n",
       "      <td>0.037338</td>\n",
       "      <td>0.897059</td>\n",
       "      <td>0.413793</td>\n",
       "      <td>1.136546</td>\n",
       "    </tr>\n",
       "    <tr>\n",
       "      <th>8682310220</th>\n",
       "      <td>-1.0</td>\n",
       "      <td>0.333333</td>\n",
       "      <td>0.234234</td>\n",
       "      <td>-0.151391</td>\n",
       "      <td>-0.5</td>\n",
       "      <td>0.0</td>\n",
       "      <td>0.0</td>\n",
       "      <td>0.0</td>\n",
       "      <td>1.0</td>\n",
       "      <td>0.598039</td>\n",
       "      <td>0.000000</td>\n",
       "      <td>0.822222</td>\n",
       "      <td>0.0</td>\n",
       "      <td>-0.142857</td>\n",
       "      <td>0.671135</td>\n",
       "      <td>1.063725</td>\n",
       "      <td>0.356322</td>\n",
       "      <td>-0.310442</td>\n",
       "    </tr>\n",
       "  </tbody>\n",
       "</table>\n",
       "<p>5400 rows × 18 columns</p>\n",
       "</div>"
      ],
      "text/plain": [
       "            bedrooms  bathrooms  sqft_living   sqft_lot  floors  waterfront  \\\n",
       "id                                                                            \n",
       "476000017       -1.0  -0.333333    -0.459459  -1.085414     0.5         0.0   \n",
       "4449800681       1.0  -0.666667     0.225225  -0.582382    -0.5         0.0   \n",
       "1137300690       1.0   0.333333     0.819820   4.663160     0.5         0.0   \n",
       "1545808560       0.0   0.333333    -0.342342   0.160663    -0.5         0.0   \n",
       "3880900010       2.0   1.333333     1.351351   0.265514     0.5         0.0   \n",
       "...              ...        ...          ...        ...     ...         ...   \n",
       "1250700060       0.0  -0.666667    -0.072072  -0.613231    -0.5         0.0   \n",
       "2723069082       1.0   0.000000     0.540541  22.491084     0.5         0.0   \n",
       "2482500040       2.0  -0.666667    -0.100901   0.647825    -0.5         0.0   \n",
       "6791000050       0.0   0.666667     0.288288   1.212732    -0.5         0.0   \n",
       "8682310220      -1.0   0.333333     0.234234  -0.151391    -0.5         0.0   \n",
       "\n",
       "            view  condition  grade  sqft_above  sqft_basement  yr_built  \\\n",
       "id                                                                        \n",
       "476000017    0.0        0.0    1.0   -0.607843       0.836364  0.688889   \n",
       "4449800681   0.0        1.0    1.0   -0.294118       1.636364 -0.733333   \n",
       "1137300690   0.0        1.0    2.0    1.235294       0.000000  0.200000   \n",
       "1545808560   0.0        2.0    0.0   -0.519608       0.909091  0.466667   \n",
       "3880900010   3.0        0.0    2.0    1.176471       1.181818 -1.400000   \n",
       "...          ...        ...    ...         ...            ...       ...   \n",
       "1250700060   0.0        0.0    0.0   -0.323529       1.090909 -1.244444   \n",
       "2723069082   0.0        1.0    1.0    0.931373       0.000000  0.044444   \n",
       "2482500040   0.0        0.0    0.0    0.233333       0.000000 -0.177778   \n",
       "6791000050   0.0        1.0    1.0   -0.098039       1.400000  0.044444   \n",
       "8682310220   0.0        0.0    1.0    0.598039       0.000000  0.822222   \n",
       "\n",
       "            yr_renovated   zipcode       lat      long  sqft_living15  \\\n",
       "id                                                                      \n",
       "476000017            0.0  0.500000  0.481570 -0.789216      -0.505747   \n",
       "4449800681           0.0  0.619048  0.564864 -0.769608      -0.195402   \n",
       "1137300690           0.0  0.083333  0.801340  0.661765       0.770115   \n",
       "1545808560           0.0 -0.321429 -1.015318  0.906863       0.011494   \n",
       "3880900010           0.0  0.642857  0.273815 -0.637255       1.954023   \n",
       "...                  ...       ...       ...       ...            ...   \n",
       "1250700060           0.0  0.940476  0.119196 -0.279412       0.126437   \n",
       "2723069082           0.0 -0.452381 -0.547630  1.034314       0.770115   \n",
       "2482500040           0.0 -0.761905 -1.171374 -0.294118      -0.620690   \n",
       "6791000050           0.0  0.119048  0.037338  0.897059       0.413793   \n",
       "8682310220           0.0 -0.142857  0.671135  1.063725       0.356322   \n",
       "\n",
       "            sqft_lot15  \n",
       "id                      \n",
       "476000017    -0.827309  \n",
       "4449800681   -0.641365  \n",
       "1137300690    5.734940  \n",
       "1545808560    0.104418  \n",
       "3880900010   -0.104418  \n",
       "...                ...  \n",
       "1250700060   -0.694779  \n",
       "2723069082   12.465060  \n",
       "2482500040    1.598795  \n",
       "6791000050    1.136546  \n",
       "8682310220   -0.310442  \n",
       "\n",
       "[5400 rows x 18 columns]"
      ]
     },
     "execution_count": 32,
     "metadata": {},
     "output_type": "execute_result"
    }
   ],
   "source": [
    "scaler = RobustScaler()\n",
    "X_train_sca = remake_df(scaler.fit_transform(X_train_cln),X_train_cln)\n",
    "X_test_sca = remake_df(scaler.transform(X_test_cln),X_test_cln)\n",
    "\n",
    "X_test_sca"
   ]
  },
  {
   "cell_type": "code",
   "execution_count": 33,
   "metadata": {
    "ExecuteTime": {
     "end_time": "2020-08-27T23:44:00.648638Z",
     "start_time": "2020-08-27T23:44:00.540399Z"
    }
   },
   "outputs": [
    {
     "data": {
      "text/html": [
       "<div>\n",
       "<style scoped>\n",
       "    .dataframe tbody tr th:only-of-type {\n",
       "        vertical-align: middle;\n",
       "    }\n",
       "\n",
       "    .dataframe tbody tr th {\n",
       "        vertical-align: top;\n",
       "    }\n",
       "\n",
       "    .dataframe thead th {\n",
       "        text-align: right;\n",
       "    }\n",
       "</style>\n",
       "<table border=\"1\" class=\"dataframe\">\n",
       "  <thead>\n",
       "    <tr style=\"text-align: right;\">\n",
       "      <th></th>\n",
       "      <th>bedrooms</th>\n",
       "      <th>bathrooms</th>\n",
       "      <th>sqft_living</th>\n",
       "      <th>sqft_lot</th>\n",
       "      <th>floors</th>\n",
       "      <th>waterfront</th>\n",
       "      <th>view</th>\n",
       "      <th>condition</th>\n",
       "      <th>grade</th>\n",
       "      <th>sqft_above</th>\n",
       "      <th>sqft_basement</th>\n",
       "      <th>yr_built</th>\n",
       "      <th>yr_renovated</th>\n",
       "      <th>zipcode</th>\n",
       "      <th>lat</th>\n",
       "      <th>long</th>\n",
       "      <th>sqft_living15</th>\n",
       "      <th>sqft_lot15</th>\n",
       "    </tr>\n",
       "  </thead>\n",
       "  <tbody>\n",
       "    <tr>\n",
       "      <th>count</th>\n",
       "      <td>16197.000</td>\n",
       "      <td>16197.000</td>\n",
       "      <td>16197.000</td>\n",
       "      <td>16197.000</td>\n",
       "      <td>16197.000</td>\n",
       "      <td>16197.000</td>\n",
       "      <td>16197.000</td>\n",
       "      <td>16197.000</td>\n",
       "      <td>16197.000</td>\n",
       "      <td>16197.000</td>\n",
       "      <td>16197.000</td>\n",
       "      <td>16197.000</td>\n",
       "      <td>16197.000</td>\n",
       "      <td>16197.000</td>\n",
       "      <td>16197.000</td>\n",
       "      <td>16197.000</td>\n",
       "      <td>16197.000</td>\n",
       "      <td>16197.000</td>\n",
       "    </tr>\n",
       "    <tr>\n",
       "      <th>mean</th>\n",
       "      <td>0.370</td>\n",
       "      <td>-0.183</td>\n",
       "      <td>0.151</td>\n",
       "      <td>1.333</td>\n",
       "      <td>-0.007</td>\n",
       "      <td>0.007</td>\n",
       "      <td>0.229</td>\n",
       "      <td>0.414</td>\n",
       "      <td>0.662</td>\n",
       "      <td>0.223</td>\n",
       "      <td>0.518</td>\n",
       "      <td>-0.090</td>\n",
       "      <td>69.365</td>\n",
       "      <td>0.154</td>\n",
       "      <td>-0.056</td>\n",
       "      <td>0.082</td>\n",
       "      <td>0.167</td>\n",
       "      <td>1.048</td>\n",
       "    </tr>\n",
       "    <tr>\n",
       "      <th>std</th>\n",
       "      <td>0.897</td>\n",
       "      <td>1.019</td>\n",
       "      <td>0.823</td>\n",
       "      <td>7.391</td>\n",
       "      <td>0.540</td>\n",
       "      <td>0.082</td>\n",
       "      <td>0.759</td>\n",
       "      <td>0.654</td>\n",
       "      <td>1.171</td>\n",
       "      <td>0.811</td>\n",
       "      <td>0.796</td>\n",
       "      <td>0.651</td>\n",
       "      <td>365.553</td>\n",
       "      <td>0.637</td>\n",
       "      <td>0.666</td>\n",
       "      <td>0.690</td>\n",
       "      <td>0.785</td>\n",
       "      <td>5.535</td>\n",
       "    </tr>\n",
       "    <tr>\n",
       "      <th>min</th>\n",
       "      <td>-2.000</td>\n",
       "      <td>-2.333</td>\n",
       "      <td>-1.369</td>\n",
       "      <td>-1.248</td>\n",
       "      <td>-0.500</td>\n",
       "      <td>0.000</td>\n",
       "      <td>0.000</td>\n",
       "      <td>-2.000</td>\n",
       "      <td>-3.000</td>\n",
       "      <td>-1.147</td>\n",
       "      <td>0.000</td>\n",
       "      <td>-1.667</td>\n",
       "      <td>0.000</td>\n",
       "      <td>-0.762</td>\n",
       "      <td>-1.972</td>\n",
       "      <td>-1.412</td>\n",
       "      <td>-1.656</td>\n",
       "      <td>-1.399</td>\n",
       "    </tr>\n",
       "    <tr>\n",
       "      <th>25%</th>\n",
       "      <td>0.000</td>\n",
       "      <td>-0.667</td>\n",
       "      <td>-0.432</td>\n",
       "      <td>-0.456</td>\n",
       "      <td>-0.500</td>\n",
       "      <td>0.000</td>\n",
       "      <td>0.000</td>\n",
       "      <td>0.000</td>\n",
       "      <td>0.000</td>\n",
       "      <td>-0.363</td>\n",
       "      <td>0.000</td>\n",
       "      <td>-0.511</td>\n",
       "      <td>0.000</td>\n",
       "      <td>-0.381</td>\n",
       "      <td>-0.488</td>\n",
       "      <td>-0.475</td>\n",
       "      <td>-0.402</td>\n",
       "      <td>-0.506</td>\n",
       "    </tr>\n",
       "    <tr>\n",
       "      <th>50%</th>\n",
       "      <td>0.000</td>\n",
       "      <td>0.000</td>\n",
       "      <td>0.000</td>\n",
       "      <td>0.000</td>\n",
       "      <td>0.000</td>\n",
       "      <td>0.000</td>\n",
       "      <td>0.000</td>\n",
       "      <td>0.000</td>\n",
       "      <td>0.000</td>\n",
       "      <td>0.000</td>\n",
       "      <td>0.000</td>\n",
       "      <td>0.000</td>\n",
       "      <td>0.000</td>\n",
       "      <td>0.000</td>\n",
       "      <td>0.000</td>\n",
       "      <td>0.000</td>\n",
       "      <td>0.000</td>\n",
       "      <td>0.000</td>\n",
       "    </tr>\n",
       "    <tr>\n",
       "      <th>75%</th>\n",
       "      <td>1.000</td>\n",
       "      <td>0.333</td>\n",
       "      <td>0.568</td>\n",
       "      <td>0.544</td>\n",
       "      <td>0.500</td>\n",
       "      <td>0.000</td>\n",
       "      <td>0.000</td>\n",
       "      <td>1.000</td>\n",
       "      <td>1.000</td>\n",
       "      <td>0.637</td>\n",
       "      <td>1.000</td>\n",
       "      <td>0.489</td>\n",
       "      <td>0.000</td>\n",
       "      <td>0.619</td>\n",
       "      <td>0.512</td>\n",
       "      <td>0.525</td>\n",
       "      <td>0.598</td>\n",
       "      <td>0.494</td>\n",
       "    </tr>\n",
       "    <tr>\n",
       "      <th>max</th>\n",
       "      <td>7.000</td>\n",
       "      <td>7.667</td>\n",
       "      <td>10.477</td>\n",
       "      <td>293.110</td>\n",
       "      <td>2.000</td>\n",
       "      <td>1.000</td>\n",
       "      <td>4.000</td>\n",
       "      <td>2.000</td>\n",
       "      <td>6.000</td>\n",
       "      <td>7.696</td>\n",
       "      <td>8.764</td>\n",
       "      <td>0.889</td>\n",
       "      <td>2015.000</td>\n",
       "      <td>1.595</td>\n",
       "      <td>0.988</td>\n",
       "      <td>4.490</td>\n",
       "      <td>5.023</td>\n",
       "      <td>173.410</td>\n",
       "    </tr>\n",
       "  </tbody>\n",
       "</table>\n",
       "</div>"
      ],
      "text/plain": [
       "        bedrooms  bathrooms  sqft_living   sqft_lot     floors  waterfront  \\\n",
       "count  16197.000  16197.000    16197.000  16197.000  16197.000   16197.000   \n",
       "mean       0.370     -0.183        0.151      1.333     -0.007       0.007   \n",
       "std        0.897      1.019        0.823      7.391      0.540       0.082   \n",
       "min       -2.000     -2.333       -1.369     -1.248     -0.500       0.000   \n",
       "25%        0.000     -0.667       -0.432     -0.456     -0.500       0.000   \n",
       "50%        0.000      0.000        0.000      0.000      0.000       0.000   \n",
       "75%        1.000      0.333        0.568      0.544      0.500       0.000   \n",
       "max        7.000      7.667       10.477    293.110      2.000       1.000   \n",
       "\n",
       "            view  condition      grade  sqft_above  sqft_basement   yr_built  \\\n",
       "count  16197.000  16197.000  16197.000   16197.000      16197.000  16197.000   \n",
       "mean       0.229      0.414      0.662       0.223          0.518     -0.090   \n",
       "std        0.759      0.654      1.171       0.811          0.796      0.651   \n",
       "min        0.000     -2.000     -3.000      -1.147          0.000     -1.667   \n",
       "25%        0.000      0.000      0.000      -0.363          0.000     -0.511   \n",
       "50%        0.000      0.000      0.000       0.000          0.000      0.000   \n",
       "75%        0.000      1.000      1.000       0.637          1.000      0.489   \n",
       "max        4.000      2.000      6.000       7.696          8.764      0.889   \n",
       "\n",
       "       yr_renovated    zipcode        lat       long  sqft_living15  \\\n",
       "count     16197.000  16197.000  16197.000  16197.000      16197.000   \n",
       "mean         69.365      0.154     -0.056      0.082          0.167   \n",
       "std         365.553      0.637      0.666      0.690          0.785   \n",
       "min           0.000     -0.762     -1.972     -1.412         -1.656   \n",
       "25%           0.000     -0.381     -0.488     -0.475         -0.402   \n",
       "50%           0.000      0.000      0.000      0.000          0.000   \n",
       "75%           0.000      0.619      0.512      0.525          0.598   \n",
       "max        2015.000      1.595      0.988      4.490          5.023   \n",
       "\n",
       "       sqft_lot15  \n",
       "count   16197.000  \n",
       "mean        1.048  \n",
       "std         5.535  \n",
       "min        -1.399  \n",
       "25%        -0.506  \n",
       "50%         0.000  \n",
       "75%         0.494  \n",
       "max       173.410  "
      ]
     },
     "execution_count": 33,
     "metadata": {},
     "output_type": "execute_result"
    }
   ],
   "source": [
    "X_train_sca.describe().round(3)"
   ]
  },
  {
   "cell_type": "markdown",
   "metadata": {},
   "source": [
    "### Linear Regression with sklearn"
   ]
  },
  {
   "cell_type": "code",
   "execution_count": 36,
   "metadata": {
    "ExecuteTime": {
     "end_time": "2020-08-27T23:50:33.864253Z",
     "start_time": "2020-08-27T23:50:33.843374Z"
    }
   },
   "outputs": [
    {
     "data": {
      "text/plain": [
       "array([450575.73645416, 687952.59350178, 867872.44565437, ...,\n",
       "       236243.86966931, 586611.48781181, 593608.05624228])"
      ]
     },
     "execution_count": 36,
     "metadata": {},
     "output_type": "execute_result"
    }
   ],
   "source": [
    "from sklearn.linear_model import Lasso, Ridge, LassoCV, LinearRegression\n",
    "from sklearn import metrics\n",
    "\n",
    "linreg = LinearRegression()\n",
    "linreg.fit(X_train_sca, y_train)\n",
    "\n",
    "y_hat_train = linreg.predict(X_train_sca)\n",
    "y_hat_test = linreg.predict(X_test_sca)\n",
    "y_hat_test"
   ]
  },
  {
   "cell_type": "code",
   "execution_count": 37,
   "metadata": {
    "ExecuteTime": {
     "end_time": "2020-08-27T23:53:58.488655Z",
     "start_time": "2020-08-27T23:53:58.473429Z"
    }
   },
   "outputs": [
    {
     "data": {
      "text/plain": [
       "(192082.15528694552, 204371.13018274572)"
      ]
     },
     "execution_count": 37,
     "metadata": {},
     "output_type": "execute_result"
    }
   ],
   "source": [
    "rmse_train = np.sqrt(metrics.mean_squared_error(y_train, y_hat_train))\n",
    "rmse_test = np.sqrt(metrics.mean_squared_error(y_test, y_hat_test))\n",
    "\n",
    "r2_train = metrics.r2_score(y_train, y_hat_train)\n",
    "r2_test = metrics.r2_score(y_test, y_hat_test)\n",
    "\n",
    "rmse_test, rmse_train"
   ]
  },
  {
   "cell_type": "code",
   "execution_count": 39,
   "metadata": {
    "ExecuteTime": {
     "end_time": "2020-08-27T23:55:13.731278Z",
     "start_time": "2020-08-27T23:55:13.721053Z"
    }
   },
   "outputs": [
    {
     "data": {
      "text/plain": [
       "train-R2           0.700543\n",
       "test-R2            0.696037\n",
       "train-RMSE    204371.130183\n",
       "test-RMSE     192082.155287\n",
       "dtype: float64"
      ]
     },
     "execution_count": 39,
     "metadata": {},
     "output_type": "execute_result"
    }
   ],
   "source": [
    "\n",
    "results = {'train-R2':metrics.r2_score(y_train, y_hat_train),\n",
    "            'test-R2':metrics.r2_score(y_test, y_hat_test),\n",
    "          'train-RMSE':np.sqrt(metrics.mean_squared_error(y_train,\n",
    "                                                          y_hat_train)),\n",
    "          'test-RMSE':np.sqrt(metrics.mean_squared_error(y_test,\n",
    "                                                          y_hat_test))}\n",
    "pd.Series(results)"
   ]
  },
  {
   "cell_type": "code",
   "execution_count": 38,
   "metadata": {
    "ExecuteTime": {
     "end_time": "2020-08-27T23:54:08.102084Z",
     "start_time": "2020-08-27T23:54:08.098089Z"
    }
   },
   "outputs": [
    {
     "data": {
      "text/plain": [
       "(0.6960373863188943, 0.7005429958951728)"
      ]
     },
     "execution_count": 38,
     "metadata": {},
     "output_type": "execute_result"
    }
   ],
   "source": [
    "r2_test,r2_train"
   ]
  },
  {
   "cell_type": "code",
   "execution_count": 41,
   "metadata": {
    "ExecuteTime": {
     "end_time": "2020-08-27T23:58:07.735527Z",
     "start_time": "2020-08-27T23:58:07.730679Z"
    }
   },
   "outputs": [],
   "source": [
    "def fit_evaluate_model(linreg,X_train_sca, X_test_sca, y_train, y_test):\n",
    "    linreg.fit(X_train_sca, y_train)\n",
    "\n",
    "    y_hat_train = linreg.predict(X_train_sca)\n",
    "    y_hat_test = linreg.predict(X_test_sca)\n",
    "\n",
    "    results = {'train-R2':metrics.r2_score(y_train, y_hat_train),\n",
    "                'test-R2':metrics.r2_score(y_test, y_hat_test),\n",
    "              'train-RMSE':np.sqrt(metrics.mean_squared_error(y_train,\n",
    "                                                              y_hat_train)),\n",
    "              'test-RMSE':np.sqrt(metrics.mean_squared_error(y_test,\n",
    "                                                              y_hat_test))}\n",
    "    display(pd.Series(results))\n",
    "    return linreg"
   ]
  },
  {
   "cell_type": "code",
   "execution_count": 42,
   "metadata": {
    "ExecuteTime": {
     "end_time": "2020-08-27T23:58:42.400775Z",
     "start_time": "2020-08-27T23:58:42.376850Z"
    }
   },
   "outputs": [
    {
     "data": {
      "text/plain": [
       "train-R2           0.700543\n",
       "test-R2            0.696037\n",
       "train-RMSE    204371.130183\n",
       "test-RMSE     192082.155287\n",
       "dtype: float64"
      ]
     },
     "metadata": {},
     "output_type": "display_data"
    }
   ],
   "source": [
    "linreg2 = fit_evaluate_model(LinearRegression(),X_train_sca, X_test_sca, y_train, y_test)"
   ]
  },
  {
   "cell_type": "code",
   "execution_count": 62,
   "metadata": {
    "ExecuteTime": {
     "end_time": "2020-08-28T00:05:31.256325Z",
     "start_time": "2020-08-28T00:05:31.244762Z"
    }
   },
   "outputs": [
    {
     "data": {
      "text/html": [
       "<div>\n",
       "<style scoped>\n",
       "    .dataframe tbody tr th:only-of-type {\n",
       "        vertical-align: middle;\n",
       "    }\n",
       "\n",
       "    .dataframe tbody tr th {\n",
       "        vertical-align: top;\n",
       "    }\n",
       "\n",
       "    .dataframe thead th {\n",
       "        text-align: right;\n",
       "    }\n",
       "</style>\n",
       "<table border=\"1\" class=\"dataframe\">\n",
       "  <thead>\n",
       "    <tr style=\"text-align: right;\">\n",
       "      <th></th>\n",
       "      <th>sklearn</th>\n",
       "    </tr>\n",
       "  </thead>\n",
       "  <tbody>\n",
       "    <tr>\n",
       "      <th>bedrooms</th>\n",
       "      <td>-40458.060436</td>\n",
       "    </tr>\n",
       "    <tr>\n",
       "      <th>bathrooms</th>\n",
       "      <td>32868.950862</td>\n",
       "    </tr>\n",
       "    <tr>\n",
       "      <th>sqft_living</th>\n",
       "      <td>128084.180128</td>\n",
       "    </tr>\n",
       "    <tr>\n",
       "      <th>sqft_lot</th>\n",
       "      <td>601.786397</td>\n",
       "    </tr>\n",
       "    <tr>\n",
       "      <th>floors</th>\n",
       "      <td>10098.199147</td>\n",
       "    </tr>\n",
       "    <tr>\n",
       "      <th>waterfront</th>\n",
       "      <td>688357.260269</td>\n",
       "    </tr>\n",
       "    <tr>\n",
       "      <th>view</th>\n",
       "      <td>54803.112416</td>\n",
       "    </tr>\n",
       "    <tr>\n",
       "      <th>condition</th>\n",
       "      <td>28836.217829</td>\n",
       "    </tr>\n",
       "    <tr>\n",
       "      <th>grade</th>\n",
       "      <td>98323.662029</td>\n",
       "    </tr>\n",
       "    <tr>\n",
       "      <th>sqft_above</th>\n",
       "      <td>73464.274298</td>\n",
       "    </tr>\n",
       "    <tr>\n",
       "      <th>sqft_basement</th>\n",
       "      <td>20538.758783</td>\n",
       "    </tr>\n",
       "    <tr>\n",
       "      <th>yr_built</th>\n",
       "      <td>-123517.890581</td>\n",
       "    </tr>\n",
       "    <tr>\n",
       "      <th>yr_renovated</th>\n",
       "      <td>22.013822</td>\n",
       "    </tr>\n",
       "    <tr>\n",
       "      <th>zipcode</th>\n",
       "      <td>-50097.919828</td>\n",
       "    </tr>\n",
       "    <tr>\n",
       "      <th>lat</th>\n",
       "      <td>125944.389256</td>\n",
       "    </tr>\n",
       "    <tr>\n",
       "      <th>long</th>\n",
       "      <td>-42867.718792</td>\n",
       "    </tr>\n",
       "    <tr>\n",
       "      <th>sqft_living15</th>\n",
       "      <td>12969.573130</td>\n",
       "    </tr>\n",
       "    <tr>\n",
       "      <th>sqft_lot15</th>\n",
       "      <td>-1871.689837</td>\n",
       "    </tr>\n",
       "    <tr>\n",
       "      <th>const</th>\n",
       "      <td>425347.779165</td>\n",
       "    </tr>\n",
       "  </tbody>\n",
       "</table>\n",
       "</div>"
      ],
      "text/plain": [
       "                     sklearn\n",
       "bedrooms       -40458.060436\n",
       "bathrooms       32868.950862\n",
       "sqft_living    128084.180128\n",
       "sqft_lot          601.786397\n",
       "floors          10098.199147\n",
       "waterfront     688357.260269\n",
       "view            54803.112416\n",
       "condition       28836.217829\n",
       "grade           98323.662029\n",
       "sqft_above      73464.274298\n",
       "sqft_basement   20538.758783\n",
       "yr_built      -123517.890581\n",
       "yr_renovated       22.013822\n",
       "zipcode        -50097.919828\n",
       "lat            125944.389256\n",
       "long           -42867.718792\n",
       "sqft_living15   12969.573130\n",
       "sqft_lot15      -1871.689837\n",
       "const          425347.779165"
      ]
     },
     "execution_count": 62,
     "metadata": {},
     "output_type": "execute_result"
    }
   ],
   "source": [
    "## Pull out coeffs\n",
    "coeffs =dict(zip(X_train_sca.columns,linreg2.coef_))\n",
    "coeffs['const'] = linreg2.intercept_\n",
    "coeffs_df = pd.DataFrame(coeffs,index=['sklearn']).T\n",
    "coeffs_df"
   ]
  },
  {
   "cell_type": "markdown",
   "metadata": {},
   "source": [
    "#### Compare to Statsmodels OLS"
   ]
  },
  {
   "cell_type": "code",
   "execution_count": 63,
   "metadata": {
    "ExecuteTime": {
     "end_time": "2020-08-28T00:05:32.381428Z",
     "start_time": "2020-08-28T00:05:32.319848Z"
    }
   },
   "outputs": [
    {
     "data": {
      "text/html": [
       "<table class=\"simpletable\">\n",
       "<caption>OLS Regression Results</caption>\n",
       "<tr>\n",
       "  <th>Dep. Variable:</th>          <td>price</td>      <th>  R-squared:         </th>  <td>   0.701</td>  \n",
       "</tr>\n",
       "<tr>\n",
       "  <th>Model:</th>                   <td>OLS</td>       <th>  Adj. R-squared:    </th>  <td>   0.700</td>  \n",
       "</tr>\n",
       "<tr>\n",
       "  <th>Method:</th>             <td>Least Squares</td>  <th>  F-statistic:       </th>  <td>   2103.</td>  \n",
       "</tr>\n",
       "<tr>\n",
       "  <th>Date:</th>             <td>Thu, 27 Aug 2020</td> <th>  Prob (F-statistic):</th>   <td>  0.00</td>   \n",
       "</tr>\n",
       "<tr>\n",
       "  <th>Time:</th>                 <td>20:05:32</td>     <th>  Log-Likelihood:    </th> <td>-2.2103e+05</td>\n",
       "</tr>\n",
       "<tr>\n",
       "  <th>No. Observations:</th>      <td> 16197</td>      <th>  AIC:               </th>  <td>4.421e+05</td> \n",
       "</tr>\n",
       "<tr>\n",
       "  <th>Df Residuals:</th>          <td> 16178</td>      <th>  BIC:               </th>  <td>4.423e+05</td> \n",
       "</tr>\n",
       "<tr>\n",
       "  <th>Df Model:</th>              <td>    18</td>      <th>                     </th>      <td> </td>     \n",
       "</tr>\n",
       "<tr>\n",
       "  <th>Covariance Type:</th>      <td>nonrobust</td>    <th>                     </th>      <td> </td>     \n",
       "</tr>\n",
       "</table>\n",
       "<table class=\"simpletable\">\n",
       "<tr>\n",
       "        <td></td>           <th>coef</th>     <th>std err</th>      <th>t</th>      <th>P>|t|</th>  <th>[0.025</th>    <th>0.975]</th>  \n",
       "</tr>\n",
       "<tr>\n",
       "  <th>const</th>         <td> 4.253e+05</td> <td> 8093.893</td> <td>   52.552</td> <td> 0.000</td> <td> 4.09e+05</td> <td> 4.41e+05</td>\n",
       "</tr>\n",
       "<tr>\n",
       "  <th>bedrooms</th>      <td>-4.046e+04</td> <td> 2328.901</td> <td>  -17.372</td> <td> 0.000</td> <td> -4.5e+04</td> <td>-3.59e+04</td>\n",
       "</tr>\n",
       "<tr>\n",
       "  <th>bathrooms</th>     <td> 3.287e+04</td> <td> 2884.636</td> <td>   11.394</td> <td> 0.000</td> <td> 2.72e+04</td> <td> 3.85e+04</td>\n",
       "</tr>\n",
       "<tr>\n",
       "  <th>sqft_living</th>   <td> 1.281e+05</td> <td> 2.46e+04</td> <td>    5.206</td> <td> 0.000</td> <td> 7.99e+04</td> <td> 1.76e+05</td>\n",
       "</tr>\n",
       "<tr>\n",
       "  <th>sqft_lot</th>      <td>  601.7864</td> <td>  316.925</td> <td>    1.899</td> <td> 0.058</td> <td>  -19.422</td> <td> 1222.995</td>\n",
       "</tr>\n",
       "<tr>\n",
       "  <th>floors</th>        <td>  1.01e+04</td> <td> 4219.845</td> <td>    2.393</td> <td> 0.017</td> <td> 1826.837</td> <td> 1.84e+04</td>\n",
       "</tr>\n",
       "<tr>\n",
       "  <th>waterfront</th>    <td> 6.884e+05</td> <td> 2.14e+04</td> <td>   32.233</td> <td> 0.000</td> <td> 6.46e+05</td> <td>  7.3e+05</td>\n",
       "</tr>\n",
       "<tr>\n",
       "  <th>view</th>          <td>  5.48e+04</td> <td> 2504.325</td> <td>   21.883</td> <td> 0.000</td> <td> 4.99e+04</td> <td> 5.97e+04</td>\n",
       "</tr>\n",
       "<tr>\n",
       "  <th>condition</th>     <td> 2.884e+04</td> <td> 2750.693</td> <td>   10.483</td> <td> 0.000</td> <td> 2.34e+04</td> <td> 3.42e+04</td>\n",
       "</tr>\n",
       "<tr>\n",
       "  <th>grade</th>         <td> 9.832e+04</td> <td> 2544.839</td> <td>   38.636</td> <td> 0.000</td> <td> 9.33e+04</td> <td> 1.03e+05</td>\n",
       "</tr>\n",
       "<tr>\n",
       "  <th>sqft_above</th>    <td> 7.346e+04</td> <td> 2.26e+04</td> <td>    3.256</td> <td> 0.001</td> <td> 2.92e+04</td> <td> 1.18e+05</td>\n",
       "</tr>\n",
       "<tr>\n",
       "  <th>sqft_basement</th> <td> 2.054e+04</td> <td> 1.21e+04</td> <td>    1.702</td> <td> 0.089</td> <td>-3119.649</td> <td> 4.42e+04</td>\n",
       "</tr>\n",
       "<tr>\n",
       "  <th>yr_built</th>      <td>-1.235e+05</td> <td> 3815.136</td> <td>  -32.376</td> <td> 0.000</td> <td>-1.31e+05</td> <td>-1.16e+05</td>\n",
       "</tr>\n",
       "<tr>\n",
       "  <th>yr_renovated</th>  <td>   22.0138</td> <td>    4.657</td> <td>    4.727</td> <td> 0.000</td> <td>   12.885</td> <td>   31.142</td>\n",
       "</tr>\n",
       "<tr>\n",
       "  <th>zipcode</th>       <td> -5.01e+04</td> <td> 3269.815</td> <td>  -15.321</td> <td> 0.000</td> <td>-5.65e+04</td> <td>-4.37e+04</td>\n",
       "</tr>\n",
       "<tr>\n",
       "  <th>lat</th>           <td> 1.259e+05</td> <td> 2626.492</td> <td>   47.952</td> <td> 0.000</td> <td> 1.21e+05</td> <td> 1.31e+05</td>\n",
       "</tr>\n",
       "<tr>\n",
       "  <th>long</th>          <td>-4.287e+04</td> <td> 3136.900</td> <td>  -13.666</td> <td> 0.000</td> <td> -4.9e+04</td> <td>-3.67e+04</td>\n",
       "</tr>\n",
       "<tr>\n",
       "  <th>sqft_living15</th> <td> 1.297e+04</td> <td> 3533.873</td> <td>    3.670</td> <td> 0.000</td> <td> 6042.791</td> <td> 1.99e+04</td>\n",
       "</tr>\n",
       "<tr>\n",
       "  <th>sqft_lot15</th>    <td>-1871.6898</td> <td>  427.273</td> <td>   -4.381</td> <td> 0.000</td> <td>-2709.192</td> <td>-1034.188</td>\n",
       "</tr>\n",
       "</table>\n",
       "<table class=\"simpletable\">\n",
       "<tr>\n",
       "  <th>Omnibus:</th>       <td>13841.172</td> <th>  Durbin-Watson:     </th>  <td>   1.991</td>  \n",
       "</tr>\n",
       "<tr>\n",
       "  <th>Prob(Omnibus):</th>  <td> 0.000</td>   <th>  Jarque-Bera (JB):  </th> <td>1434702.950</td>\n",
       "</tr>\n",
       "<tr>\n",
       "  <th>Skew:</th>           <td> 3.583</td>   <th>  Prob(JB):          </th>  <td>    0.00</td>  \n",
       "</tr>\n",
       "<tr>\n",
       "  <th>Kurtosis:</th>       <td>48.547</td>   <th>  Cond. No.          </th>  <td>8.35e+03</td>  \n",
       "</tr>\n",
       "</table><br/><br/>Warnings:<br/>[1] Standard Errors assume that the covariance matrix of the errors is correctly specified.<br/>[2] The condition number is large, 8.35e+03. This might indicate that there are<br/>strong multicollinearity or other numerical problems."
      ],
      "text/plain": [
       "<class 'statsmodels.iolib.summary.Summary'>\n",
       "\"\"\"\n",
       "                            OLS Regression Results                            \n",
       "==============================================================================\n",
       "Dep. Variable:                  price   R-squared:                       0.701\n",
       "Model:                            OLS   Adj. R-squared:                  0.700\n",
       "Method:                 Least Squares   F-statistic:                     2103.\n",
       "Date:                Thu, 27 Aug 2020   Prob (F-statistic):               0.00\n",
       "Time:                        20:05:32   Log-Likelihood:            -2.2103e+05\n",
       "No. Observations:               16197   AIC:                         4.421e+05\n",
       "Df Residuals:                   16178   BIC:                         4.423e+05\n",
       "Df Model:                          18                                         \n",
       "Covariance Type:            nonrobust                                         \n",
       "=================================================================================\n",
       "                    coef    std err          t      P>|t|      [0.025      0.975]\n",
       "---------------------------------------------------------------------------------\n",
       "const          4.253e+05   8093.893     52.552      0.000    4.09e+05    4.41e+05\n",
       "bedrooms      -4.046e+04   2328.901    -17.372      0.000    -4.5e+04   -3.59e+04\n",
       "bathrooms      3.287e+04   2884.636     11.394      0.000    2.72e+04    3.85e+04\n",
       "sqft_living    1.281e+05   2.46e+04      5.206      0.000    7.99e+04    1.76e+05\n",
       "sqft_lot        601.7864    316.925      1.899      0.058     -19.422    1222.995\n",
       "floors          1.01e+04   4219.845      2.393      0.017    1826.837    1.84e+04\n",
       "waterfront     6.884e+05   2.14e+04     32.233      0.000    6.46e+05     7.3e+05\n",
       "view            5.48e+04   2504.325     21.883      0.000    4.99e+04    5.97e+04\n",
       "condition      2.884e+04   2750.693     10.483      0.000    2.34e+04    3.42e+04\n",
       "grade          9.832e+04   2544.839     38.636      0.000    9.33e+04    1.03e+05\n",
       "sqft_above     7.346e+04   2.26e+04      3.256      0.001    2.92e+04    1.18e+05\n",
       "sqft_basement  2.054e+04   1.21e+04      1.702      0.089   -3119.649    4.42e+04\n",
       "yr_built      -1.235e+05   3815.136    -32.376      0.000   -1.31e+05   -1.16e+05\n",
       "yr_renovated     22.0138      4.657      4.727      0.000      12.885      31.142\n",
       "zipcode        -5.01e+04   3269.815    -15.321      0.000   -5.65e+04   -4.37e+04\n",
       "lat            1.259e+05   2626.492     47.952      0.000    1.21e+05    1.31e+05\n",
       "long          -4.287e+04   3136.900    -13.666      0.000    -4.9e+04   -3.67e+04\n",
       "sqft_living15  1.297e+04   3533.873      3.670      0.000    6042.791    1.99e+04\n",
       "sqft_lot15    -1871.6898    427.273     -4.381      0.000   -2709.192   -1034.188\n",
       "==============================================================================\n",
       "Omnibus:                    13841.172   Durbin-Watson:                   1.991\n",
       "Prob(Omnibus):                  0.000   Jarque-Bera (JB):          1434702.950\n",
       "Skew:                           3.583   Prob(JB):                         0.00\n",
       "Kurtosis:                      48.547   Cond. No.                     8.35e+03\n",
       "==============================================================================\n",
       "\n",
       "Warnings:\n",
       "[1] Standard Errors assume that the covariance matrix of the errors is correctly specified.\n",
       "[2] The condition number is large, 8.35e+03. This might indicate that there are\n",
       "strong multicollinearity or other numerical problems.\n",
       "\"\"\""
      ]
     },
     "execution_count": 63,
     "metadata": {},
     "output_type": "execute_result"
    }
   ],
   "source": [
    "import statsmodels.api as sm\n",
    "X_train_ols = sm.add_constant(X_train_sca)\n",
    "X_test_ols = sm.add_constant(X_test_sca)\n",
    "ols = sm.OLS(y_train,X_train_ols).fit()\n",
    "ols.summary()"
   ]
  },
  {
   "cell_type": "code",
   "execution_count": 64,
   "metadata": {
    "ExecuteTime": {
     "end_time": "2020-08-28T00:05:33.142891Z",
     "start_time": "2020-08-28T00:05:33.131737Z"
    }
   },
   "outputs": [
    {
     "data": {
      "text/html": [
       "<div>\n",
       "<style scoped>\n",
       "    .dataframe tbody tr th:only-of-type {\n",
       "        vertical-align: middle;\n",
       "    }\n",
       "\n",
       "    .dataframe tbody tr th {\n",
       "        vertical-align: top;\n",
       "    }\n",
       "\n",
       "    .dataframe thead th {\n",
       "        text-align: right;\n",
       "    }\n",
       "</style>\n",
       "<table border=\"1\" class=\"dataframe\">\n",
       "  <thead>\n",
       "    <tr style=\"text-align: right;\">\n",
       "      <th></th>\n",
       "      <th>sklearn</th>\n",
       "      <th>ols</th>\n",
       "    </tr>\n",
       "  </thead>\n",
       "  <tbody>\n",
       "    <tr>\n",
       "      <th>bedrooms</th>\n",
       "      <td>-40458.060436</td>\n",
       "      <td>-40458.060436</td>\n",
       "    </tr>\n",
       "    <tr>\n",
       "      <th>bathrooms</th>\n",
       "      <td>32868.950862</td>\n",
       "      <td>32868.950862</td>\n",
       "    </tr>\n",
       "    <tr>\n",
       "      <th>sqft_living</th>\n",
       "      <td>128084.180128</td>\n",
       "      <td>128084.180128</td>\n",
       "    </tr>\n",
       "    <tr>\n",
       "      <th>sqft_lot</th>\n",
       "      <td>601.786397</td>\n",
       "      <td>601.786397</td>\n",
       "    </tr>\n",
       "    <tr>\n",
       "      <th>floors</th>\n",
       "      <td>10098.199147</td>\n",
       "      <td>10098.199147</td>\n",
       "    </tr>\n",
       "    <tr>\n",
       "      <th>waterfront</th>\n",
       "      <td>688357.260269</td>\n",
       "      <td>688357.260269</td>\n",
       "    </tr>\n",
       "    <tr>\n",
       "      <th>view</th>\n",
       "      <td>54803.112416</td>\n",
       "      <td>54803.112416</td>\n",
       "    </tr>\n",
       "    <tr>\n",
       "      <th>condition</th>\n",
       "      <td>28836.217829</td>\n",
       "      <td>28836.217829</td>\n",
       "    </tr>\n",
       "    <tr>\n",
       "      <th>grade</th>\n",
       "      <td>98323.662029</td>\n",
       "      <td>98323.662029</td>\n",
       "    </tr>\n",
       "    <tr>\n",
       "      <th>sqft_above</th>\n",
       "      <td>73464.274298</td>\n",
       "      <td>73464.274298</td>\n",
       "    </tr>\n",
       "    <tr>\n",
       "      <th>sqft_basement</th>\n",
       "      <td>20538.758783</td>\n",
       "      <td>20538.758783</td>\n",
       "    </tr>\n",
       "    <tr>\n",
       "      <th>yr_built</th>\n",
       "      <td>-123517.890581</td>\n",
       "      <td>-123517.890581</td>\n",
       "    </tr>\n",
       "    <tr>\n",
       "      <th>yr_renovated</th>\n",
       "      <td>22.013822</td>\n",
       "      <td>22.013822</td>\n",
       "    </tr>\n",
       "    <tr>\n",
       "      <th>zipcode</th>\n",
       "      <td>-50097.919828</td>\n",
       "      <td>-50097.919828</td>\n",
       "    </tr>\n",
       "    <tr>\n",
       "      <th>lat</th>\n",
       "      <td>125944.389256</td>\n",
       "      <td>125944.389256</td>\n",
       "    </tr>\n",
       "    <tr>\n",
       "      <th>long</th>\n",
       "      <td>-42867.718792</td>\n",
       "      <td>-42867.718792</td>\n",
       "    </tr>\n",
       "    <tr>\n",
       "      <th>sqft_living15</th>\n",
       "      <td>12969.573130</td>\n",
       "      <td>12969.573130</td>\n",
       "    </tr>\n",
       "    <tr>\n",
       "      <th>sqft_lot15</th>\n",
       "      <td>-1871.689837</td>\n",
       "      <td>-1871.689837</td>\n",
       "    </tr>\n",
       "    <tr>\n",
       "      <th>const</th>\n",
       "      <td>425347.779165</td>\n",
       "      <td>425347.779165</td>\n",
       "    </tr>\n",
       "  </tbody>\n",
       "</table>\n",
       "</div>"
      ],
      "text/plain": [
       "                     sklearn            ols\n",
       "bedrooms       -40458.060436  -40458.060436\n",
       "bathrooms       32868.950862   32868.950862\n",
       "sqft_living    128084.180128  128084.180128\n",
       "sqft_lot          601.786397     601.786397\n",
       "floors          10098.199147   10098.199147\n",
       "waterfront     688357.260269  688357.260269\n",
       "view            54803.112416   54803.112416\n",
       "condition       28836.217829   28836.217829\n",
       "grade           98323.662029   98323.662029\n",
       "sqft_above      73464.274298   73464.274298\n",
       "sqft_basement   20538.758783   20538.758783\n",
       "yr_built      -123517.890581 -123517.890581\n",
       "yr_renovated       22.013822      22.013822\n",
       "zipcode        -50097.919828  -50097.919828\n",
       "lat            125944.389256  125944.389256\n",
       "long           -42867.718792  -42867.718792\n",
       "sqft_living15   12969.573130   12969.573130\n",
       "sqft_lot15      -1871.689837   -1871.689837\n",
       "const          425347.779165  425347.779165"
      ]
     },
     "execution_count": 64,
     "metadata": {},
     "output_type": "execute_result"
    }
   ],
   "source": [
    "coeffs_df['ols'] = ols.params\n",
    "coeffs_df"
   ]
  },
  {
   "cell_type": "code",
   "execution_count": 65,
   "metadata": {
    "ExecuteTime": {
     "end_time": "2020-08-28T00:06:29.350003Z",
     "start_time": "2020-08-28T00:06:29.344044Z"
    }
   },
   "outputs": [],
   "source": [
    "def get_model_coeffs(X_df, sklearn_model=None, ols_model = None):\n",
    "    \n",
    "    coeffs_df = pd.DataFrame()\n",
    "    \n",
    "    if sklearn_model is not None:\n",
    "\n",
    "        coeffs = dict(zip(X_df.columns,sklearn_model.coef_))\n",
    "        coeffs['const'] = sklearn_model.intercept_\n",
    "\n",
    "        coeffs_df = pd.DataFrame(coeffs,index=['sklearn']).T\n",
    "\n",
    "    if ols_model is not None:\n",
    "        coeffs_df = coeffs_df.join(ols_model.params.rename('statsmodels'))\n",
    "        coeffs_df = coeffs_df.join(ols_model.pvalues.rename('p-values').round(4))\n",
    "        \n",
    "    return coeffs_df"
   ]
  },
  {
   "cell_type": "code",
   "execution_count": 67,
   "metadata": {
    "ExecuteTime": {
     "end_time": "2020-08-28T00:06:52.184012Z",
     "start_time": "2020-08-28T00:06:52.164305Z"
    }
   },
   "outputs": [
    {
     "data": {
      "text/html": [
       "<div>\n",
       "<style scoped>\n",
       "    .dataframe tbody tr th:only-of-type {\n",
       "        vertical-align: middle;\n",
       "    }\n",
       "\n",
       "    .dataframe tbody tr th {\n",
       "        vertical-align: top;\n",
       "    }\n",
       "\n",
       "    .dataframe thead th {\n",
       "        text-align: right;\n",
       "    }\n",
       "</style>\n",
       "<table border=\"1\" class=\"dataframe\">\n",
       "  <thead>\n",
       "    <tr style=\"text-align: right;\">\n",
       "      <th></th>\n",
       "      <th>sklearn</th>\n",
       "      <th>statsmodels</th>\n",
       "      <th>p-values</th>\n",
       "    </tr>\n",
       "  </thead>\n",
       "  <tbody>\n",
       "    <tr>\n",
       "      <th>bedrooms</th>\n",
       "      <td>-40458.060436</td>\n",
       "      <td>-40458.060436</td>\n",
       "      <td>0.0000</td>\n",
       "    </tr>\n",
       "    <tr>\n",
       "      <th>bathrooms</th>\n",
       "      <td>32868.950862</td>\n",
       "      <td>32868.950862</td>\n",
       "      <td>0.0000</td>\n",
       "    </tr>\n",
       "    <tr>\n",
       "      <th>sqft_living</th>\n",
       "      <td>128084.180128</td>\n",
       "      <td>128084.180128</td>\n",
       "      <td>0.0000</td>\n",
       "    </tr>\n",
       "    <tr>\n",
       "      <th>sqft_lot</th>\n",
       "      <td>601.786397</td>\n",
       "      <td>601.786397</td>\n",
       "      <td>0.0576</td>\n",
       "    </tr>\n",
       "    <tr>\n",
       "      <th>floors</th>\n",
       "      <td>10098.199147</td>\n",
       "      <td>10098.199147</td>\n",
       "      <td>0.0167</td>\n",
       "    </tr>\n",
       "    <tr>\n",
       "      <th>waterfront</th>\n",
       "      <td>688357.260269</td>\n",
       "      <td>688357.260269</td>\n",
       "      <td>0.0000</td>\n",
       "    </tr>\n",
       "    <tr>\n",
       "      <th>view</th>\n",
       "      <td>54803.112416</td>\n",
       "      <td>54803.112416</td>\n",
       "      <td>0.0000</td>\n",
       "    </tr>\n",
       "    <tr>\n",
       "      <th>condition</th>\n",
       "      <td>28836.217829</td>\n",
       "      <td>28836.217829</td>\n",
       "      <td>0.0000</td>\n",
       "    </tr>\n",
       "    <tr>\n",
       "      <th>grade</th>\n",
       "      <td>98323.662029</td>\n",
       "      <td>98323.662029</td>\n",
       "      <td>0.0000</td>\n",
       "    </tr>\n",
       "    <tr>\n",
       "      <th>sqft_above</th>\n",
       "      <td>73464.274298</td>\n",
       "      <td>73464.274298</td>\n",
       "      <td>0.0011</td>\n",
       "    </tr>\n",
       "    <tr>\n",
       "      <th>sqft_basement</th>\n",
       "      <td>20538.758783</td>\n",
       "      <td>20538.758783</td>\n",
       "      <td>0.0888</td>\n",
       "    </tr>\n",
       "    <tr>\n",
       "      <th>yr_built</th>\n",
       "      <td>-123517.890581</td>\n",
       "      <td>-123517.890581</td>\n",
       "      <td>0.0000</td>\n",
       "    </tr>\n",
       "    <tr>\n",
       "      <th>yr_renovated</th>\n",
       "      <td>22.013822</td>\n",
       "      <td>22.013822</td>\n",
       "      <td>0.0000</td>\n",
       "    </tr>\n",
       "    <tr>\n",
       "      <th>zipcode</th>\n",
       "      <td>-50097.919828</td>\n",
       "      <td>-50097.919828</td>\n",
       "      <td>0.0000</td>\n",
       "    </tr>\n",
       "    <tr>\n",
       "      <th>lat</th>\n",
       "      <td>125944.389256</td>\n",
       "      <td>125944.389256</td>\n",
       "      <td>0.0000</td>\n",
       "    </tr>\n",
       "    <tr>\n",
       "      <th>long</th>\n",
       "      <td>-42867.718792</td>\n",
       "      <td>-42867.718792</td>\n",
       "      <td>0.0000</td>\n",
       "    </tr>\n",
       "    <tr>\n",
       "      <th>sqft_living15</th>\n",
       "      <td>12969.573130</td>\n",
       "      <td>12969.573130</td>\n",
       "      <td>0.0002</td>\n",
       "    </tr>\n",
       "    <tr>\n",
       "      <th>sqft_lot15</th>\n",
       "      <td>-1871.689837</td>\n",
       "      <td>-1871.689837</td>\n",
       "      <td>0.0000</td>\n",
       "    </tr>\n",
       "    <tr>\n",
       "      <th>const</th>\n",
       "      <td>425347.779165</td>\n",
       "      <td>425347.779165</td>\n",
       "      <td>0.0000</td>\n",
       "    </tr>\n",
       "  </tbody>\n",
       "</table>\n",
       "</div>"
      ],
      "text/plain": [
       "                     sklearn    statsmodels  p-values\n",
       "bedrooms       -40458.060436  -40458.060436    0.0000\n",
       "bathrooms       32868.950862   32868.950862    0.0000\n",
       "sqft_living    128084.180128  128084.180128    0.0000\n",
       "sqft_lot          601.786397     601.786397    0.0576\n",
       "floors          10098.199147   10098.199147    0.0167\n",
       "waterfront     688357.260269  688357.260269    0.0000\n",
       "view            54803.112416   54803.112416    0.0000\n",
       "condition       28836.217829   28836.217829    0.0000\n",
       "grade           98323.662029   98323.662029    0.0000\n",
       "sqft_above      73464.274298   73464.274298    0.0011\n",
       "sqft_basement   20538.758783   20538.758783    0.0888\n",
       "yr_built      -123517.890581 -123517.890581    0.0000\n",
       "yr_renovated       22.013822      22.013822    0.0000\n",
       "zipcode        -50097.919828  -50097.919828    0.0000\n",
       "lat            125944.389256  125944.389256    0.0000\n",
       "long           -42867.718792  -42867.718792    0.0000\n",
       "sqft_living15   12969.573130   12969.573130    0.0002\n",
       "sqft_lot15      -1871.689837   -1871.689837    0.0000\n",
       "const          425347.779165  425347.779165    0.0000"
      ]
     },
     "execution_count": 67,
     "metadata": {},
     "output_type": "execute_result"
    }
   ],
   "source": [
    "coeffs_df = get_model_coeffs(X_train_sca, linreg2, ols)\n",
    "coeffs_df"
   ]
  },
  {
   "cell_type": "markdown",
   "metadata": {},
   "source": [
    "### Using Lasso Regression for Feature Selection"
   ]
  },
  {
   "cell_type": "code",
   "execution_count": null,
   "metadata": {},
   "outputs": [],
   "source": [
    "LassoCV()"
   ]
  },
  {
   "cell_type": "code",
   "execution_count": 68,
   "metadata": {
    "ExecuteTime": {
     "end_time": "2020-08-28T00:10:01.796247Z",
     "start_time": "2020-08-28T00:10:01.485442Z"
    }
   },
   "outputs": [
    {
     "data": {
      "text/plain": [
       "train-R2           0.649418\n",
       "test-R2            0.673336\n",
       "train-RMSE    221129.650916\n",
       "test-RMSE     199125.916544\n",
       "dtype: float64"
      ]
     },
     "metadata": {},
     "output_type": "display_data"
    },
    {
     "data": {
      "text/html": [
       "<div>\n",
       "<style scoped>\n",
       "    .dataframe tbody tr th:only-of-type {\n",
       "        vertical-align: middle;\n",
       "    }\n",
       "\n",
       "    .dataframe tbody tr th {\n",
       "        vertical-align: top;\n",
       "    }\n",
       "\n",
       "    .dataframe thead th {\n",
       "        text-align: right;\n",
       "    }\n",
       "</style>\n",
       "<table border=\"1\" class=\"dataframe\">\n",
       "  <thead>\n",
       "    <tr style=\"text-align: right;\">\n",
       "      <th></th>\n",
       "      <th>sklearn</th>\n",
       "    </tr>\n",
       "  </thead>\n",
       "  <tbody>\n",
       "    <tr>\n",
       "      <th>bedrooms</th>\n",
       "      <td>-0.00</td>\n",
       "    </tr>\n",
       "    <tr>\n",
       "      <th>bathrooms</th>\n",
       "      <td>0.00</td>\n",
       "    </tr>\n",
       "    <tr>\n",
       "      <th>sqft_living</th>\n",
       "      <td>168662.95</td>\n",
       "    </tr>\n",
       "    <tr>\n",
       "      <th>sqft_lot</th>\n",
       "      <td>0.00</td>\n",
       "    </tr>\n",
       "    <tr>\n",
       "      <th>floors</th>\n",
       "      <td>0.00</td>\n",
       "    </tr>\n",
       "    <tr>\n",
       "      <th>waterfront</th>\n",
       "      <td>0.00</td>\n",
       "    </tr>\n",
       "    <tr>\n",
       "      <th>view</th>\n",
       "      <td>67801.57</td>\n",
       "    </tr>\n",
       "    <tr>\n",
       "      <th>condition</th>\n",
       "      <td>4432.26</td>\n",
       "    </tr>\n",
       "    <tr>\n",
       "      <th>grade</th>\n",
       "      <td>108181.07</td>\n",
       "    </tr>\n",
       "    <tr>\n",
       "      <th>sqft_above</th>\n",
       "      <td>0.00</td>\n",
       "    </tr>\n",
       "    <tr>\n",
       "      <th>sqft_basement</th>\n",
       "      <td>0.00</td>\n",
       "    </tr>\n",
       "    <tr>\n",
       "      <th>yr_built</th>\n",
       "      <td>-59938.05</td>\n",
       "    </tr>\n",
       "    <tr>\n",
       "      <th>yr_renovated</th>\n",
       "      <td>57.85</td>\n",
       "    </tr>\n",
       "    <tr>\n",
       "      <th>zipcode</th>\n",
       "      <td>-0.00</td>\n",
       "    </tr>\n",
       "    <tr>\n",
       "      <th>lat</th>\n",
       "      <td>90547.47</td>\n",
       "    </tr>\n",
       "    <tr>\n",
       "      <th>long</th>\n",
       "      <td>-0.00</td>\n",
       "    </tr>\n",
       "    <tr>\n",
       "      <th>sqft_living15</th>\n",
       "      <td>0.00</td>\n",
       "    </tr>\n",
       "    <tr>\n",
       "      <th>sqft_lot15</th>\n",
       "      <td>-612.20</td>\n",
       "    </tr>\n",
       "    <tr>\n",
       "      <th>const</th>\n",
       "      <td>422108.71</td>\n",
       "    </tr>\n",
       "  </tbody>\n",
       "</table>\n",
       "</div>"
      ],
      "text/plain": [
       "                 sklearn\n",
       "bedrooms           -0.00\n",
       "bathrooms           0.00\n",
       "sqft_living    168662.95\n",
       "sqft_lot            0.00\n",
       "floors              0.00\n",
       "waterfront          0.00\n",
       "view            67801.57\n",
       "condition        4432.26\n",
       "grade          108181.07\n",
       "sqft_above          0.00\n",
       "sqft_basement       0.00\n",
       "yr_built       -59938.05\n",
       "yr_renovated       57.85\n",
       "zipcode            -0.00\n",
       "lat             90547.47\n",
       "long               -0.00\n",
       "sqft_living15       0.00\n",
       "sqft_lot15       -612.20\n",
       "const          422108.71"
      ]
     },
     "execution_count": 68,
     "metadata": {},
     "output_type": "execute_result"
    }
   ],
   "source": [
    "from sklearn.feature_selection import SelectFromModel\n",
    "from sklearn.linear_model import LassoCV,Lasso\n",
    "# lassocv =LassoCV()\n",
    "\n",
    "lasso_cv = fit_evaluate_model(LassoCV(),X_train_sca,X_test_sca,y_train,y_test)\n",
    "res_df = get_model_coeffs(X_train_sca,lasso_cv)\n",
    "res_df = res_df.round(2)\n",
    "res_df"
   ]
  },
  {
   "cell_type": "code",
   "execution_count": 69,
   "metadata": {
    "ExecuteTime": {
     "end_time": "2020-08-28T00:10:24.631386Z",
     "start_time": "2020-08-28T00:10:24.620869Z"
    }
   },
   "outputs": [
    {
     "data": {
      "text/plain": [
       "['bedrooms',\n",
       " 'bathrooms',\n",
       " 'sqft_lot',\n",
       " 'floors',\n",
       " 'waterfront',\n",
       " 'sqft_above',\n",
       " 'sqft_basement',\n",
       " 'zipcode',\n",
       " 'long',\n",
       " 'sqft_living15']"
      ]
     },
     "execution_count": 69,
     "metadata": {},
     "output_type": "execute_result"
    }
   ],
   "source": [
    "removed_coeffs = list(res_df[res_df['sklearn']==0].index)\n",
    "removed_coeffs"
   ]
  },
  {
   "cell_type": "code",
   "execution_count": 70,
   "metadata": {
    "ExecuteTime": {
     "end_time": "2020-08-28T00:11:55.739833Z",
     "start_time": "2020-08-28T00:11:55.730109Z"
    }
   },
   "outputs": [],
   "source": [
    "X_train_ols.drop(columns=removed_coeffs,inplace=True)\n",
    "X_test_ols.drop(columns=removed_coeffs,inplace=True)"
   ]
  },
  {
   "cell_type": "code",
   "execution_count": 71,
   "metadata": {
    "ExecuteTime": {
     "end_time": "2020-08-28T00:11:56.938898Z",
     "start_time": "2020-08-28T00:11:56.601916Z"
    }
   },
   "outputs": [
    {
     "data": {
      "text/html": [
       "<table class=\"simpletable\">\n",
       "<caption>OLS Regression Results</caption>\n",
       "<tr>\n",
       "  <th>Dep. Variable:</th>          <td>price</td>      <th>  R-squared:         </th>  <td>   0.666</td>  \n",
       "</tr>\n",
       "<tr>\n",
       "  <th>Model:</th>                   <td>OLS</td>       <th>  Adj. R-squared:    </th>  <td>   0.666</td>  \n",
       "</tr>\n",
       "<tr>\n",
       "  <th>Method:</th>             <td>Least Squares</td>  <th>  F-statistic:       </th>  <td>   4037.</td>  \n",
       "</tr>\n",
       "<tr>\n",
       "  <th>Date:</th>             <td>Thu, 27 Aug 2020</td> <th>  Prob (F-statistic):</th>   <td>  0.00</td>   \n",
       "</tr>\n",
       "<tr>\n",
       "  <th>Time:</th>                 <td>20:11:56</td>     <th>  Log-Likelihood:    </th> <td>-2.2192e+05</td>\n",
       "</tr>\n",
       "<tr>\n",
       "  <th>No. Observations:</th>      <td> 16197</td>      <th>  AIC:               </th>  <td>4.439e+05</td> \n",
       "</tr>\n",
       "<tr>\n",
       "  <th>Df Residuals:</th>          <td> 16188</td>      <th>  BIC:               </th>  <td>4.439e+05</td> \n",
       "</tr>\n",
       "<tr>\n",
       "  <th>Df Model:</th>              <td>     8</td>      <th>                     </th>      <td> </td>     \n",
       "</tr>\n",
       "<tr>\n",
       "  <th>Covariance Type:</th>      <td>nonrobust</td>    <th>                     </th>      <td> </td>     \n",
       "</tr>\n",
       "</table>\n",
       "<table class=\"simpletable\">\n",
       "<tr>\n",
       "        <td></td>          <th>coef</th>     <th>std err</th>      <th>t</th>      <th>P>|t|</th>  <th>[0.025</th>    <th>0.975]</th>  \n",
       "</tr>\n",
       "<tr>\n",
       "  <th>const</th>        <td> 3.992e+05</td> <td> 2522.977</td> <td>  158.213</td> <td> 0.000</td> <td> 3.94e+05</td> <td> 4.04e+05</td>\n",
       "</tr>\n",
       "<tr>\n",
       "  <th>sqft_living</th>  <td> 1.916e+05</td> <td> 3269.738</td> <td>   58.586</td> <td> 0.000</td> <td> 1.85e+05</td> <td> 1.98e+05</td>\n",
       "</tr>\n",
       "<tr>\n",
       "  <th>view</th>         <td> 8.419e+04</td> <td> 2384.514</td> <td>   35.307</td> <td> 0.000</td> <td> 7.95e+04</td> <td> 8.89e+04</td>\n",
       "</tr>\n",
       "<tr>\n",
       "  <th>condition</th>    <td> 3.004e+04</td> <td> 2838.072</td> <td>   10.585</td> <td> 0.000</td> <td> 2.45e+04</td> <td> 3.56e+04</td>\n",
       "</tr>\n",
       "<tr>\n",
       "  <th>grade</th>        <td> 1.161e+05</td> <td> 2438.777</td> <td>   47.599</td> <td> 0.000</td> <td> 1.11e+05</td> <td> 1.21e+05</td>\n",
       "</tr>\n",
       "<tr>\n",
       "  <th>yr_built</th>     <td>-1.009e+05</td> <td> 3350.010</td> <td>  -30.112</td> <td> 0.000</td> <td>-1.07e+05</td> <td>-9.43e+04</td>\n",
       "</tr>\n",
       "<tr>\n",
       "  <th>yr_renovated</th> <td>   38.2463</td> <td>    4.844</td> <td>    7.896</td> <td> 0.000</td> <td>   28.752</td> <td>   47.741</td>\n",
       "</tr>\n",
       "<tr>\n",
       "  <th>lat</th>          <td> 1.183e+05</td> <td> 2659.128</td> <td>   44.474</td> <td> 0.000</td> <td> 1.13e+05</td> <td> 1.23e+05</td>\n",
       "</tr>\n",
       "<tr>\n",
       "  <th>sqft_lot15</th>   <td>-1473.3478</td> <td>  313.261</td> <td>   -4.703</td> <td> 0.000</td> <td>-2087.373</td> <td> -859.322</td>\n",
       "</tr>\n",
       "</table>\n",
       "<table class=\"simpletable\">\n",
       "<tr>\n",
       "  <th>Omnibus:</th>       <td>15049.166</td> <th>  Durbin-Watson:     </th>  <td>   1.996</td>  \n",
       "</tr>\n",
       "<tr>\n",
       "  <th>Prob(Omnibus):</th>  <td> 0.000</td>   <th>  Jarque-Bera (JB):  </th> <td>1797316.285</td>\n",
       "</tr>\n",
       "<tr>\n",
       "  <th>Skew:</th>           <td> 4.086</td>   <th>  Prob(JB):          </th>  <td>    0.00</td>  \n",
       "</tr>\n",
       "<tr>\n",
       "  <th>Kurtosis:</th>       <td>53.955</td>   <th>  Cond. No.          </th>  <td>    909.</td>  \n",
       "</tr>\n",
       "</table><br/><br/>Warnings:<br/>[1] Standard Errors assume that the covariance matrix of the errors is correctly specified."
      ],
      "text/plain": [
       "<class 'statsmodels.iolib.summary.Summary'>\n",
       "\"\"\"\n",
       "                            OLS Regression Results                            \n",
       "==============================================================================\n",
       "Dep. Variable:                  price   R-squared:                       0.666\n",
       "Model:                            OLS   Adj. R-squared:                  0.666\n",
       "Method:                 Least Squares   F-statistic:                     4037.\n",
       "Date:                Thu, 27 Aug 2020   Prob (F-statistic):               0.00\n",
       "Time:                        20:11:56   Log-Likelihood:            -2.2192e+05\n",
       "No. Observations:               16197   AIC:                         4.439e+05\n",
       "Df Residuals:                   16188   BIC:                         4.439e+05\n",
       "Df Model:                           8                                         \n",
       "Covariance Type:            nonrobust                                         \n",
       "================================================================================\n",
       "                   coef    std err          t      P>|t|      [0.025      0.975]\n",
       "--------------------------------------------------------------------------------\n",
       "const         3.992e+05   2522.977    158.213      0.000    3.94e+05    4.04e+05\n",
       "sqft_living   1.916e+05   3269.738     58.586      0.000    1.85e+05    1.98e+05\n",
       "view          8.419e+04   2384.514     35.307      0.000    7.95e+04    8.89e+04\n",
       "condition     3.004e+04   2838.072     10.585      0.000    2.45e+04    3.56e+04\n",
       "grade         1.161e+05   2438.777     47.599      0.000    1.11e+05    1.21e+05\n",
       "yr_built     -1.009e+05   3350.010    -30.112      0.000   -1.07e+05   -9.43e+04\n",
       "yr_renovated    38.2463      4.844      7.896      0.000      28.752      47.741\n",
       "lat           1.183e+05   2659.128     44.474      0.000    1.13e+05    1.23e+05\n",
       "sqft_lot15   -1473.3478    313.261     -4.703      0.000   -2087.373    -859.322\n",
       "==============================================================================\n",
       "Omnibus:                    15049.166   Durbin-Watson:                   1.996\n",
       "Prob(Omnibus):                  0.000   Jarque-Bera (JB):          1797316.285\n",
       "Skew:                           4.086   Prob(JB):                         0.00\n",
       "Kurtosis:                      53.955   Cond. No.                         909.\n",
       "==============================================================================\n",
       "\n",
       "Warnings:\n",
       "[1] Standard Errors assume that the covariance matrix of the errors is correctly specified.\n",
       "\"\"\""
      ]
     },
     "metadata": {},
     "output_type": "display_data"
    },
    {
     "data": {
      "image/png": "[encoded data removed]",
      "text/plain": [
       "<Figure size 432x288 with 1 Axes>"
      ]
     },
     "metadata": {
      "needs_background": "light"
     },
     "output_type": "display_data"
    }
   ],
   "source": [
    "model = sm.OLS(y_train, X_train_ols).fit()\n",
    "display(model.summary())\n",
    "fig = sm.graphics.qqplot(model.resid,fit=True,line='45')"
   ]
  },
  {
   "cell_type": "code",
   "execution_count": 74,
   "metadata": {
    "ExecuteTime": {
     "end_time": "2020-08-28T00:17:53.936258Z",
     "start_time": "2020-08-28T00:17:53.928461Z"
    }
   },
   "outputs": [
    {
     "data": {
      "text/plain": [
       "0.6733356766907705"
      ]
     },
     "execution_count": 74,
     "metadata": {},
     "output_type": "execute_result"
    }
   ],
   "source": [
    "lasso_cv.score(X_test_sca,y_test)"
   ]
  },
  {
   "cell_type": "code",
   "execution_count": 64,
   "metadata": {
    "ExecuteTime": {
     "end_time": "2020-08-27T23:07:07.855329Z",
     "start_time": "2020-08-27T23:07:07.853151Z"
    }
   },
   "outputs": [],
   "source": [
    "# lassocv.fit(X_train_sca,y_train)\n",
    "# y_hat_train = lassocv.predict(X_train_sca)\n",
    "# y_hat_test = lassocv.predict(X_test_sca)"
   ]
  },
  {
   "cell_type": "markdown",
   "metadata": {},
   "source": [
    "### Exhibit A: The case for functions and dictionaries"
   ]
  },
  {
   "cell_type": "markdown",
   "metadata": {},
   "source": [
    "- Code From [Ridge And Lasso Regression Lesson](https://learn.co/tracks/module-3-data-science-career-2-1/machine-learning/section-24-feature-selection-ridge-and-lasso/ridge-and-lasso-regression)\n",
    "\n",
    "- The following code is from the Learn.co lesson and its goal is to create,fit and evaluate 3 different models to compare the results."
   ]
  },
  {
   "cell_type": "code",
   "execution_count": 65,
   "metadata": {
    "ExecuteTime": {
     "end_time": "2020-08-27T23:07:07.860013Z",
     "start_time": "2020-08-27T23:07:07.856733Z"
    }
   },
   "outputs": [
    {
     "data": {
      "text/plain": [
       "((16197,), (5400,))"
      ]
     },
     "execution_count": 65,
     "metadata": {},
     "output_type": "execute_result"
    }
   ],
   "source": [
    "y_train.shape, y_test.shape"
   ]
  },
  {
   "cell_type": "code",
   "execution_count": 66,
   "metadata": {
    "ExecuteTime": {
     "end_time": "2020-08-27T23:07:08.476312Z",
     "start_time": "2020-08-27T23:07:07.861567Z"
    }
   },
   "outputs": [
    {
     "name": "stdout",
     "output_type": "stream",
     "text": [
      "Train Error Ridge Model 684160572397506.6\n",
      "Test Error Ridge Model 191037421634241.0\n",
      "\n",
      "\n",
      "Train Error Lasso Model 684159645158872.0\n",
      "Test Error Lasso Model 191029874247614.2\n",
      "\n",
      "\n",
      "Train Error Unpenalized Linear Model 684159642508145.6\n",
      "Test Error Unpenalized Linear Model 191030186606736.75\n",
      "\n",
      "\n",
      "\n",
      "\n",
      "Ridge parameter coefficients:\n",
      " [-3.64786523e+04  3.29736409e+04  1.09192194e+05  6.54357495e+01\n",
      "  3.36674111e+03  6.04293643e+05  5.21225315e+04  2.71933056e+04\n",
      "  9.56532283e+04  9.40758267e+04  3.36076203e+04 -1.19638660e+05\n",
      "  2.30863725e+01 -5.10667097e+04  1.23116744e+05 -4.70664305e+04\n",
      "  1.58184685e+04 -1.66218377e+03]\n",
      "Lasso parameter coefficients:\n",
      " [-3.64664652e+04  3.29736976e+04  1.09405059e+05  6.58428424e+01\n",
      "  3.36753174e+03  6.07300107e+05  5.19933451e+04  2.71824993e+04\n",
      "  9.56646853e+04  9.38608478e+04  3.35028131e+04 -1.19657592e+05\n",
      "  2.30425758e+01 -5.10698600e+04  1.23128012e+05 -4.70583690e+04\n",
      "  1.58279346e+04 -1.66287700e+03]\n",
      "Linear model parameter coefficients:\n",
      " [-3.64672593e+04  3.29765552e+04  1.09253571e+05  6.58554735e+01\n",
      "  3.36816338e+03  6.07377631e+05  5.19906018e+04  2.71837502e+04\n",
      "  9.56632881e+04  9.39966657e+04  3.35757438e+04 -1.19660367e+05\n",
      "  2.30409553e+01 -5.10729701e+04  1.23129696e+05 -4.70610699e+04\n",
      "  1.58304587e+04 -1.66286871e+03]\n"
     ]
    },
    {
     "name": "stderr",
     "output_type": "stream",
     "text": [
      "/opt/anaconda3/envs/learn-env/lib/python3.6/site-packages/sklearn/linear_model/_coordinate_descent.py:531: ConvergenceWarning:\n",
      "\n",
      "Objective did not converge. You might want to increase the number of iterations. Duality gap: 1015634814617.375, tolerance: 226251545093.74475\n",
      "\n"
     ]
    }
   ],
   "source": [
    "# Build a Ridge, Lasso and regular linear regression model  \n",
    "# Note that in scikit-learn, the regularization parameter is denoted by alpha (and not lambda)\n",
    "ridge = Ridge(alpha=0.5)\n",
    "ridge.fit(X_train_sca, y_train)\n",
    "\n",
    "lasso = Lasso(alpha=0.5)\n",
    "lasso.fit(X_train_sca, y_train)\n",
    "\n",
    "lin = LinearRegression()\n",
    "lin.fit(X_train_sca, y_train)\n",
    "\n",
    "\n",
    "# Generate preditions for training and test sets\n",
    "y_h_ridge_train = ridge.predict(X_train_sca)\n",
    "y_h_ridge_test = ridge.predict(X_test_sca)\n",
    "\n",
    "y_h_lasso_train = np.reshape(lasso.predict(X_train_sca), y_train.shape)\n",
    "y_h_lasso_test = np.reshape(lasso.predict(X_test_sca),  y_test.shape)\n",
    "\n",
    "y_h_lin_train = lin.predict(X_train_sca)\n",
    "y_h_lin_test = lin.predict(X_test_sca)\n",
    "\n",
    "\n",
    "print('Train Error Ridge Model', np.sum((y_train - y_h_ridge_train)**2))\n",
    "print('Test Error Ridge Model', np.sum((y_test - y_h_ridge_test)**2))\n",
    "print('\\n')\n",
    "\n",
    "print('Train Error Lasso Model', np.sum((y_train - y_h_lasso_train)**2))\n",
    "print('Test Error Lasso Model', np.sum((y_test - y_h_lasso_test)**2))\n",
    "print('\\n')\n",
    "\n",
    "print('Train Error Unpenalized Linear Model', \n",
    "      np.sum((y_train - lin.predict(X_train_sca))**2))\n",
    "print('Test Error Unpenalized Linear Model', \n",
    "      np.sum((y_test - lin.predict(X_test_sca))**2))\n",
    "print('\\n'*3)\n",
    "print('Ridge parameter coefficients:\\n', ridge.coef_)\n",
    "print('Lasso parameter coefficients:\\n', lasso.coef_)\n",
    "print('Linear model parameter coefficients:\\n', lin.coef_)"
   ]
  },
  {
   "cell_type": "markdown",
   "metadata": {},
   "source": [
    "### Q1: What are the issues/limitations of the way we tested/compared the 3 different types of models? \n",
    "-  A: If we wanted to add another model type, we'd have to copy a lot and edit a lot."
   ]
  },
  {
   "cell_type": "markdown",
   "metadata": {},
   "source": [
    "### Q2: What other limitation does the above code have? (what is inflexible?)\n",
    "\n",
    "- A: hard coded values for data shapes"
   ]
  },
  {
   "cell_type": "markdown",
   "metadata": {},
   "source": [
    "### Whats the solution? \n",
    "- Functions and dictionaries!"
   ]
  },
  {
   "cell_type": "code",
   "execution_count": 67,
   "metadata": {
    "ExecuteTime": {
     "end_time": "2020-08-27T23:07:08.485753Z",
     "start_time": "2020-08-27T23:07:08.478123Z"
    }
   },
   "outputs": [],
   "source": [
    "from sklearn.metrics import r2_score, mean_squared_error\n",
    "def make_model(model, X_train , X_test, y_train, y_test ):\n",
    "    \"\"\"Takes a sklearn model and train/test data to fit model, \n",
    "    get R2 and RMSE for both the training and test data.\n",
    "    \n",
    "    Returns:\n",
    "        DataFrame: results as a df\n",
    "        model: fit scikit-learn model itself\"\"\"\n",
    "    \n",
    "    res= [['Data','R2','RMSE']]\n",
    "    model.fit(X_train, y_train)\n",
    "    # Generate preditions for training and test sets\n",
    "    y_hat_train = model.predict(X_train)\n",
    "    y_hat_test = model.predict(X_test)\n",
    "    \n",
    "    r2_train = r2_score(y_train,y_hat_train)\n",
    "    r2_test = r2_score(y_test,y_hat_test)\n",
    "    \n",
    "    rmse_train = np.sqrt(mean_squared_error(y_train,y_hat_train))\n",
    "    rmse_test = np.sqrt(mean_squared_error(y_test,y_hat_test))\n",
    "    res.append(['Train', r2_train, rmse_train] )\n",
    "    res.append(['Test', r2_test, rmse_test] )\n",
    "    \n",
    "    res_df = pd.DataFrame(res[1:], columns=res[0]).round(4)\n",
    "    \n",
    "    return res_df, model\n",
    "    "
   ]
  },
  {
   "cell_type": "code",
   "execution_count": 68,
   "metadata": {
    "ExecuteTime": {
     "end_time": "2020-08-27T23:07:08.522247Z",
     "start_time": "2020-08-27T23:07:08.490491Z"
    }
   },
   "outputs": [
    {
     "data": {
      "text/html": [
       "<div>\n",
       "<style scoped>\n",
       "    .dataframe tbody tr th:only-of-type {\n",
       "        vertical-align: middle;\n",
       "    }\n",
       "\n",
       "    .dataframe tbody tr th {\n",
       "        vertical-align: top;\n",
       "    }\n",
       "\n",
       "    .dataframe thead th {\n",
       "        text-align: right;\n",
       "    }\n",
       "</style>\n",
       "<table border=\"1\" class=\"dataframe\">\n",
       "  <thead>\n",
       "    <tr style=\"text-align: right;\">\n",
       "      <th></th>\n",
       "      <th>Data</th>\n",
       "      <th>R2</th>\n",
       "      <th>RMSE</th>\n",
       "    </tr>\n",
       "  </thead>\n",
       "  <tbody>\n",
       "    <tr>\n",
       "      <th>0</th>\n",
       "      <td>Train</td>\n",
       "      <td>0.698</td>\n",
       "      <td>205523.475</td>\n",
       "    </tr>\n",
       "    <tr>\n",
       "      <th>1</th>\n",
       "      <td>Test</td>\n",
       "      <td>0.707</td>\n",
       "      <td>188084.982</td>\n",
       "    </tr>\n",
       "  </tbody>\n",
       "</table>\n",
       "</div>"
      ],
      "text/plain": [
       "    Data     R2        RMSE\n",
       "0  Train  0.698  205523.475\n",
       "1   Test  0.707  188084.982"
      ]
     },
     "metadata": {},
     "output_type": "display_data"
    }
   ],
   "source": [
    "## Test our function\n",
    "df_res, model = make_model(LinearRegression(),\n",
    "                           X_train_sca , X_test_sca, y_train, y_test  )\n",
    "display(df_res.round(3))"
   ]
  },
  {
   "cell_type": "code",
   "execution_count": 69,
   "metadata": {
    "ExecuteTime": {
     "end_time": "2020-08-27T23:07:08.528749Z",
     "start_time": "2020-08-27T23:07:08.525028Z"
    }
   },
   "outputs": [],
   "source": [
    "## Use a dictionary to store our models\n",
    "models_to_make = dict( linear=LinearRegression(),\n",
    "                     ridge=Ridge(alpha=0.5),\n",
    "                     lasso = Lasso(alpha=0.5))"
   ]
  },
  {
   "cell_type": "code",
   "execution_count": 70,
   "metadata": {
    "ExecuteTime": {
     "end_time": "2020-08-27T23:07:08.536626Z",
     "start_time": "2020-08-27T23:07:08.530911Z"
    }
   },
   "outputs": [
    {
     "data": {
      "text/plain": [
       "LinearRegression()"
      ]
     },
     "execution_count": 70,
     "metadata": {},
     "output_type": "execute_result"
    }
   ],
   "source": [
    "## Test our dictionary and function together to make a linear regression.\n",
    "models_to_make['linear']"
   ]
  },
  {
   "cell_type": "code",
   "execution_count": 71,
   "metadata": {
    "ExecuteTime": {
     "end_time": "2020-08-27T23:07:08.544458Z",
     "start_time": "2020-08-27T23:07:08.538940Z"
    }
   },
   "outputs": [
    {
     "data": {
      "text/plain": [
       "{'linear': LinearRegression(),\n",
       " 'ridge': Ridge(alpha=0.5),\n",
       " 'lasso': Lasso(alpha=0.5)}"
      ]
     },
     "execution_count": 71,
     "metadata": {},
     "output_type": "execute_result"
    }
   ],
   "source": [
    "models_to_make"
   ]
  },
  {
   "cell_type": "code",
   "execution_count": 72,
   "metadata": {
    "ExecuteTime": {
     "end_time": "2020-08-27T23:07:09.179047Z",
     "start_time": "2020-08-27T23:07:08.546644Z"
    }
   },
   "outputs": [
    {
     "data": {
      "text/html": [
       "<div>\n",
       "<style scoped>\n",
       "    .dataframe tbody tr th:only-of-type {\n",
       "        vertical-align: middle;\n",
       "    }\n",
       "\n",
       "    .dataframe tbody tr th {\n",
       "        vertical-align: top;\n",
       "    }\n",
       "\n",
       "    .dataframe thead th {\n",
       "        text-align: right;\n",
       "    }\n",
       "</style>\n",
       "<table border=\"1\" class=\"dataframe\">\n",
       "  <thead>\n",
       "    <tr style=\"text-align: right;\">\n",
       "      <th></th>\n",
       "      <th>Data</th>\n",
       "      <th>R2</th>\n",
       "      <th>RMSE</th>\n",
       "      <th>Type</th>\n",
       "    </tr>\n",
       "  </thead>\n",
       "  <tbody>\n",
       "    <tr>\n",
       "      <th>0</th>\n",
       "      <td>Train</td>\n",
       "      <td>0.6976</td>\n",
       "      <td>205523.4753</td>\n",
       "      <td>linear</td>\n",
       "    </tr>\n",
       "    <tr>\n",
       "      <th>1</th>\n",
       "      <td>Test</td>\n",
       "      <td>0.7070</td>\n",
       "      <td>188084.9821</td>\n",
       "      <td>linear</td>\n",
       "    </tr>\n",
       "  </tbody>\n",
       "</table>\n",
       "</div>"
      ],
      "text/plain": [
       "    Data      R2         RMSE    Type\n",
       "0  Train  0.6976  205523.4753  linear\n",
       "1   Test  0.7070  188084.9821  linear"
      ]
     },
     "metadata": {},
     "output_type": "display_data"
    },
    {
     "data": {
      "text/html": [
       "<div>\n",
       "<style scoped>\n",
       "    .dataframe tbody tr th:only-of-type {\n",
       "        vertical-align: middle;\n",
       "    }\n",
       "\n",
       "    .dataframe tbody tr th {\n",
       "        vertical-align: top;\n",
       "    }\n",
       "\n",
       "    .dataframe thead th {\n",
       "        text-align: right;\n",
       "    }\n",
       "</style>\n",
       "<table border=\"1\" class=\"dataframe\">\n",
       "  <thead>\n",
       "    <tr style=\"text-align: right;\">\n",
       "      <th></th>\n",
       "      <th>Data</th>\n",
       "      <th>R2</th>\n",
       "      <th>RMSE</th>\n",
       "      <th>Type</th>\n",
       "    </tr>\n",
       "  </thead>\n",
       "  <tbody>\n",
       "    <tr>\n",
       "      <th>0</th>\n",
       "      <td>Train</td>\n",
       "      <td>0.6976</td>\n",
       "      <td>205523.6150</td>\n",
       "      <td>ridge</td>\n",
       "    </tr>\n",
       "    <tr>\n",
       "      <th>1</th>\n",
       "      <td>Test</td>\n",
       "      <td>0.7070</td>\n",
       "      <td>188088.5438</td>\n",
       "      <td>ridge</td>\n",
       "    </tr>\n",
       "  </tbody>\n",
       "</table>\n",
       "</div>"
      ],
      "text/plain": [
       "    Data      R2         RMSE   Type\n",
       "0  Train  0.6976  205523.6150  ridge\n",
       "1   Test  0.7070  188088.5438  ridge"
      ]
     },
     "metadata": {},
     "output_type": "display_data"
    },
    {
     "name": "stderr",
     "output_type": "stream",
     "text": [
      "/opt/anaconda3/envs/learn-env/lib/python3.6/site-packages/sklearn/linear_model/_coordinate_descent.py:531: ConvergenceWarning:\n",
      "\n",
      "Objective did not converge. You might want to increase the number of iterations. Duality gap: 1015634814617.375, tolerance: 226251545093.74475\n",
      "\n"
     ]
    },
    {
     "data": {
      "text/html": [
       "<div>\n",
       "<style scoped>\n",
       "    .dataframe tbody tr th:only-of-type {\n",
       "        vertical-align: middle;\n",
       "    }\n",
       "\n",
       "    .dataframe tbody tr th {\n",
       "        vertical-align: top;\n",
       "    }\n",
       "\n",
       "    .dataframe thead th {\n",
       "        text-align: right;\n",
       "    }\n",
       "</style>\n",
       "<table border=\"1\" class=\"dataframe\">\n",
       "  <thead>\n",
       "    <tr style=\"text-align: right;\">\n",
       "      <th></th>\n",
       "      <th>Data</th>\n",
       "      <th>R2</th>\n",
       "      <th>RMSE</th>\n",
       "      <th>Type</th>\n",
       "    </tr>\n",
       "  </thead>\n",
       "  <tbody>\n",
       "    <tr>\n",
       "      <th>0</th>\n",
       "      <td>Train</td>\n",
       "      <td>0.6976</td>\n",
       "      <td>205523.4757</td>\n",
       "      <td>lasso</td>\n",
       "    </tr>\n",
       "    <tr>\n",
       "      <th>1</th>\n",
       "      <td>Test</td>\n",
       "      <td>0.7070</td>\n",
       "      <td>188084.8283</td>\n",
       "      <td>lasso</td>\n",
       "    </tr>\n",
       "  </tbody>\n",
       "</table>\n",
       "</div>"
      ],
      "text/plain": [
       "    Data      R2         RMSE   Type\n",
       "0  Train  0.6976  205523.4757  lasso\n",
       "1   Test  0.7070  188084.8283  lasso"
      ]
     },
     "metadata": {},
     "output_type": "display_data"
    },
    {
     "data": {
      "text/html": [
       "<div>\n",
       "<style scoped>\n",
       "    .dataframe tbody tr th:only-of-type {\n",
       "        vertical-align: middle;\n",
       "    }\n",
       "\n",
       "    .dataframe tbody tr th {\n",
       "        vertical-align: top;\n",
       "    }\n",
       "\n",
       "    .dataframe thead th {\n",
       "        text-align: right;\n",
       "    }\n",
       "</style>\n",
       "<table border=\"1\" class=\"dataframe\">\n",
       "  <thead>\n",
       "    <tr style=\"text-align: right;\">\n",
       "      <th></th>\n",
       "      <th></th>\n",
       "      <th>R2</th>\n",
       "      <th>RMSE</th>\n",
       "    </tr>\n",
       "    <tr>\n",
       "      <th>Type</th>\n",
       "      <th>Data</th>\n",
       "      <th></th>\n",
       "      <th></th>\n",
       "    </tr>\n",
       "  </thead>\n",
       "  <tbody>\n",
       "    <tr>\n",
       "      <th rowspan=\"2\" valign=\"top\">linear</th>\n",
       "      <th>Train</th>\n",
       "      <td>0.6976</td>\n",
       "      <td>205523.4753</td>\n",
       "    </tr>\n",
       "    <tr>\n",
       "      <th>Test</th>\n",
       "      <td>0.7070</td>\n",
       "      <td>188084.9821</td>\n",
       "    </tr>\n",
       "    <tr>\n",
       "      <th rowspan=\"2\" valign=\"top\">ridge</th>\n",
       "      <th>Train</th>\n",
       "      <td>0.6976</td>\n",
       "      <td>205523.6150</td>\n",
       "    </tr>\n",
       "    <tr>\n",
       "      <th>Test</th>\n",
       "      <td>0.7070</td>\n",
       "      <td>188088.5438</td>\n",
       "    </tr>\n",
       "    <tr>\n",
       "      <th rowspan=\"2\" valign=\"top\">lasso</th>\n",
       "      <th>Train</th>\n",
       "      <td>0.6976</td>\n",
       "      <td>205523.4757</td>\n",
       "    </tr>\n",
       "    <tr>\n",
       "      <th>Test</th>\n",
       "      <td>0.7070</td>\n",
       "      <td>188084.8283</td>\n",
       "    </tr>\n",
       "  </tbody>\n",
       "</table>\n",
       "</div>"
      ],
      "text/plain": [
       "                  R2         RMSE\n",
       "Type   Data                      \n",
       "linear Train  0.6976  205523.4753\n",
       "       Test   0.7070  188084.9821\n",
       "ridge  Train  0.6976  205523.6150\n",
       "       Test   0.7070  188088.5438\n",
       "lasso  Train  0.6976  205523.4757\n",
       "       Test   0.7070  188084.8283"
      ]
     },
     "execution_count": 72,
     "metadata": {},
     "output_type": "execute_result"
    }
   ],
   "source": [
    "## Loop through models_to_make and save all results\n",
    "\n",
    "## Create an empty list to store result dfs\n",
    "results = []\n",
    "## Create an empty dict to store fit models\n",
    "fit_models={}\n",
    "\n",
    "for model_type,mod in models_to_make.items():\n",
    "\n",
    "    ## get model results and fit model using make_model\n",
    "    res, mod = make_model(mod, X_train_sca , X_test_sca, y_train, y_test)\n",
    "    ## Add model type as column to res\n",
    "    res['Type'] = model_type\n",
    "    \n",
    "    # Display results\n",
    "    display(res)\n",
    "    \n",
    "    ## Save fit model to models dict \n",
    "    fit_models[model_type] = mod\n",
    "    ## Save df to list \n",
    "    results.append(res)\n",
    "    \n",
    "## Concatenate results \n",
    "df_res = pd.concat(results)\n",
    "df_res.set_index(['Type',\"Data\"],inplace=True)\n",
    "df_res"
   ]
  },
  {
   "cell_type": "code",
   "execution_count": 73,
   "metadata": {
    "ExecuteTime": {
     "end_time": "2020-08-27T23:07:09.191987Z",
     "start_time": "2020-08-27T23:07:09.180822Z"
    }
   },
   "outputs": [
    {
     "data": {
      "text/html": [
       "<style  type=\"text/css\" >\n",
       "#T_08781e0c_e8ba_11ea_90b7_4865ee12e626row0_col0,#T_08781e0c_e8ba_11ea_90b7_4865ee12e626row2_col0,#T_08781e0c_e8ba_11ea_90b7_4865ee12e626row4_col0{\n",
       "            background-color:  #fff7fb;\n",
       "            color:  #000000;\n",
       "        }#T_08781e0c_e8ba_11ea_90b7_4865ee12e626row1_col0,#T_08781e0c_e8ba_11ea_90b7_4865ee12e626row3_col0,#T_08781e0c_e8ba_11ea_90b7_4865ee12e626row5_col0{\n",
       "            background-color:  #023858;\n",
       "            color:  #f1f1f1;\n",
       "        }</style><table id=\"T_08781e0c_e8ba_11ea_90b7_4865ee12e626\" ><thead>    <tr>        <th class=\"blank\" ></th>        <th class=\"blank level0\" ></th>        <th class=\"col_heading level0 col0\" >R2</th>        <th class=\"col_heading level0 col1\" >RMSE</th>    </tr>    <tr>        <th class=\"index_name level0\" >Type</th>        <th class=\"index_name level1\" >Data</th>        <th class=\"blank\" ></th>        <th class=\"blank\" ></th>    </tr></thead><tbody>\n",
       "                <tr>\n",
       "                        <th id=\"T_08781e0c_e8ba_11ea_90b7_4865ee12e626level0_row0\" class=\"row_heading level0 row0\" rowspan=2>linear</th>\n",
       "                        <th id=\"T_08781e0c_e8ba_11ea_90b7_4865ee12e626level1_row0\" class=\"row_heading level1 row0\" >Train</th>\n",
       "                        <td id=\"T_08781e0c_e8ba_11ea_90b7_4865ee12e626row0_col0\" class=\"data row0 col0\" >0.697600</td>\n",
       "                        <td id=\"T_08781e0c_e8ba_11ea_90b7_4865ee12e626row0_col1\" class=\"data row0 col1\" >205523.475300</td>\n",
       "            </tr>\n",
       "            <tr>\n",
       "                                <th id=\"T_08781e0c_e8ba_11ea_90b7_4865ee12e626level1_row1\" class=\"row_heading level1 row1\" >Test</th>\n",
       "                        <td id=\"T_08781e0c_e8ba_11ea_90b7_4865ee12e626row1_col0\" class=\"data row1 col0\" >0.707000</td>\n",
       "                        <td id=\"T_08781e0c_e8ba_11ea_90b7_4865ee12e626row1_col1\" class=\"data row1 col1\" >188084.982100</td>\n",
       "            </tr>\n",
       "            <tr>\n",
       "                        <th id=\"T_08781e0c_e8ba_11ea_90b7_4865ee12e626level0_row2\" class=\"row_heading level0 row2\" rowspan=2>ridge</th>\n",
       "                        <th id=\"T_08781e0c_e8ba_11ea_90b7_4865ee12e626level1_row2\" class=\"row_heading level1 row2\" >Train</th>\n",
       "                        <td id=\"T_08781e0c_e8ba_11ea_90b7_4865ee12e626row2_col0\" class=\"data row2 col0\" >0.697600</td>\n",
       "                        <td id=\"T_08781e0c_e8ba_11ea_90b7_4865ee12e626row2_col1\" class=\"data row2 col1\" >205523.615000</td>\n",
       "            </tr>\n",
       "            <tr>\n",
       "                                <th id=\"T_08781e0c_e8ba_11ea_90b7_4865ee12e626level1_row3\" class=\"row_heading level1 row3\" >Test</th>\n",
       "                        <td id=\"T_08781e0c_e8ba_11ea_90b7_4865ee12e626row3_col0\" class=\"data row3 col0\" >0.707000</td>\n",
       "                        <td id=\"T_08781e0c_e8ba_11ea_90b7_4865ee12e626row3_col1\" class=\"data row3 col1\" >188088.543800</td>\n",
       "            </tr>\n",
       "            <tr>\n",
       "                        <th id=\"T_08781e0c_e8ba_11ea_90b7_4865ee12e626level0_row4\" class=\"row_heading level0 row4\" rowspan=2>lasso</th>\n",
       "                        <th id=\"T_08781e0c_e8ba_11ea_90b7_4865ee12e626level1_row4\" class=\"row_heading level1 row4\" >Train</th>\n",
       "                        <td id=\"T_08781e0c_e8ba_11ea_90b7_4865ee12e626row4_col0\" class=\"data row4 col0\" >0.697600</td>\n",
       "                        <td id=\"T_08781e0c_e8ba_11ea_90b7_4865ee12e626row4_col1\" class=\"data row4 col1\" >205523.475700</td>\n",
       "            </tr>\n",
       "            <tr>\n",
       "                                <th id=\"T_08781e0c_e8ba_11ea_90b7_4865ee12e626level1_row5\" class=\"row_heading level1 row5\" >Test</th>\n",
       "                        <td id=\"T_08781e0c_e8ba_11ea_90b7_4865ee12e626row5_col0\" class=\"data row5 col0\" >0.707000</td>\n",
       "                        <td id=\"T_08781e0c_e8ba_11ea_90b7_4865ee12e626row5_col1\" class=\"data row5 col1\" >188084.828300</td>\n",
       "            </tr>\n",
       "    </tbody></table>"
      ],
      "text/plain": [
       "<pandas.io.formats.style.Styler at 0x137b1af28>"
      ]
     },
     "execution_count": 73,
     "metadata": {},
     "output_type": "execute_result"
    }
   ],
   "source": [
    "## Use styling to make it easier to find the best scores.\n",
    "df_res.style.background_gradient(subset=['R2'])#.highlight_max('R2')"
   ]
  },
  {
   "cell_type": "code",
   "execution_count": 74,
   "metadata": {
    "ExecuteTime": {
     "end_time": "2020-08-27T23:07:09.197271Z",
     "start_time": "2020-08-27T23:07:09.193653Z"
    }
   },
   "outputs": [
    {
     "data": {
      "text/plain": [
       "(18,)"
      ]
     },
     "execution_count": 74,
     "metadata": {},
     "output_type": "execute_result"
    }
   ],
   "source": [
    "## Now examine the coefficients of one of the fit models\n",
    "fit_models['lasso'].coef_.shape"
   ]
  },
  {
   "cell_type": "markdown",
   "metadata": {},
   "source": [
    "> #### Sidebar: You've heard of List Comprehensions but did you that there are Dictionary Comprehensions too?!"
   ]
  },
  {
   "cell_type": "code",
   "execution_count": 75,
   "metadata": {
    "ExecuteTime": {
     "end_time": "2020-08-27T23:07:09.205029Z",
     "start_time": "2020-08-27T23:07:09.198973Z"
    }
   },
   "outputs": [
    {
     "data": {
      "text/plain": [
       "{'linear': array([-3.64672593e+04,  3.29765552e+04,  1.09253571e+05,  6.58554735e+01,\n",
       "         3.36816338e+03,  6.07377631e+05,  5.19906018e+04,  2.71837502e+04,\n",
       "         9.56632881e+04,  9.39966657e+04,  3.35757438e+04, -1.19660367e+05,\n",
       "         2.30409553e+01, -5.10729701e+04,  1.23129696e+05, -4.70610699e+04,\n",
       "         1.58304587e+04, -1.66286871e+03]),\n",
       " 'ridge': array([-3.64786523e+04,  3.29736409e+04,  1.09192194e+05,  6.54357495e+01,\n",
       "         3.36674111e+03,  6.04293643e+05,  5.21225315e+04,  2.71933056e+04,\n",
       "         9.56532283e+04,  9.40758267e+04,  3.36076203e+04, -1.19638660e+05,\n",
       "         2.30863725e+01, -5.10667097e+04,  1.23116744e+05, -4.70664305e+04,\n",
       "         1.58184685e+04, -1.66218377e+03]),\n",
       " 'lasso': array([-3.64664652e+04,  3.29736976e+04,  1.09405059e+05,  6.58428424e+01,\n",
       "         3.36753174e+03,  6.07300107e+05,  5.19933451e+04,  2.71824993e+04,\n",
       "         9.56646853e+04,  9.38608478e+04,  3.35028131e+04, -1.19657592e+05,\n",
       "         2.30425758e+01, -5.10698600e+04,  1.23128012e+05, -4.70583690e+04,\n",
       "         1.58279346e+04, -1.66287700e+03])}"
      ]
     },
     "execution_count": 75,
     "metadata": {},
     "output_type": "execute_result"
    }
   ],
   "source": [
    "## Get the coefficients of every model in a dictionary using a dict comprehension\n",
    "dict_comp= {k:mod.coef_ for k,mod in fit_models.items() }\n",
    "dict_comp"
   ]
  },
  {
   "cell_type": "code",
   "execution_count": 76,
   "metadata": {
    "ExecuteTime": {
     "end_time": "2020-08-27T23:07:09.218944Z",
     "start_time": "2020-08-27T23:07:09.206682Z"
    }
   },
   "outputs": [
    {
     "name": "stdout",
     "output_type": "stream",
     "text": [
      "linear shape = (18,)\n",
      "ridge shape = (18,)\n",
      "lasso shape = (18,)\n"
     ]
    },
    {
     "data": {
      "text/html": [
       "<div>\n",
       "<style scoped>\n",
       "    .dataframe tbody tr th:only-of-type {\n",
       "        vertical-align: middle;\n",
       "    }\n",
       "\n",
       "    .dataframe tbody tr th {\n",
       "        vertical-align: top;\n",
       "    }\n",
       "\n",
       "    .dataframe thead th {\n",
       "        text-align: right;\n",
       "    }\n",
       "</style>\n",
       "<table border=\"1\" class=\"dataframe\">\n",
       "  <thead>\n",
       "    <tr style=\"text-align: right;\">\n",
       "      <th></th>\n",
       "      <th>linear</th>\n",
       "      <th>ridge</th>\n",
       "      <th>lasso</th>\n",
       "    </tr>\n",
       "  </thead>\n",
       "  <tbody>\n",
       "    <tr>\n",
       "      <th>0</th>\n",
       "      <td>-36467.259301</td>\n",
       "      <td>-36478.652307</td>\n",
       "      <td>-36466.465211</td>\n",
       "    </tr>\n",
       "    <tr>\n",
       "      <th>1</th>\n",
       "      <td>32976.555246</td>\n",
       "      <td>32973.640948</td>\n",
       "      <td>32973.697553</td>\n",
       "    </tr>\n",
       "    <tr>\n",
       "      <th>2</th>\n",
       "      <td>109253.570774</td>\n",
       "      <td>109192.193805</td>\n",
       "      <td>109405.059148</td>\n",
       "    </tr>\n",
       "    <tr>\n",
       "      <th>3</th>\n",
       "      <td>65.855474</td>\n",
       "      <td>65.435749</td>\n",
       "      <td>65.842842</td>\n",
       "    </tr>\n",
       "    <tr>\n",
       "      <th>4</th>\n",
       "      <td>3368.163384</td>\n",
       "      <td>3366.741113</td>\n",
       "      <td>3367.531741</td>\n",
       "    </tr>\n",
       "    <tr>\n",
       "      <th>5</th>\n",
       "      <td>607377.630551</td>\n",
       "      <td>604293.642582</td>\n",
       "      <td>607300.107285</td>\n",
       "    </tr>\n",
       "    <tr>\n",
       "      <th>6</th>\n",
       "      <td>51990.601828</td>\n",
       "      <td>52122.531490</td>\n",
       "      <td>51993.345066</td>\n",
       "    </tr>\n",
       "    <tr>\n",
       "      <th>7</th>\n",
       "      <td>27183.750236</td>\n",
       "      <td>27193.305646</td>\n",
       "      <td>27182.499304</td>\n",
       "    </tr>\n",
       "    <tr>\n",
       "      <th>8</th>\n",
       "      <td>95663.288130</td>\n",
       "      <td>95653.228291</td>\n",
       "      <td>95664.685336</td>\n",
       "    </tr>\n",
       "    <tr>\n",
       "      <th>9</th>\n",
       "      <td>93996.665698</td>\n",
       "      <td>94075.826653</td>\n",
       "      <td>93860.847753</td>\n",
       "    </tr>\n",
       "    <tr>\n",
       "      <th>10</th>\n",
       "      <td>33575.743834</td>\n",
       "      <td>33607.620302</td>\n",
       "      <td>33502.813135</td>\n",
       "    </tr>\n",
       "    <tr>\n",
       "      <th>11</th>\n",
       "      <td>-119660.367156</td>\n",
       "      <td>-119638.660050</td>\n",
       "      <td>-119657.591817</td>\n",
       "    </tr>\n",
       "    <tr>\n",
       "      <th>12</th>\n",
       "      <td>23.040955</td>\n",
       "      <td>23.086372</td>\n",
       "      <td>23.042576</td>\n",
       "    </tr>\n",
       "    <tr>\n",
       "      <th>13</th>\n",
       "      <td>-51072.970083</td>\n",
       "      <td>-51066.709671</td>\n",
       "      <td>-51069.859954</td>\n",
       "    </tr>\n",
       "    <tr>\n",
       "      <th>14</th>\n",
       "      <td>123129.695515</td>\n",
       "      <td>123116.744275</td>\n",
       "      <td>123128.012150</td>\n",
       "    </tr>\n",
       "    <tr>\n",
       "      <th>15</th>\n",
       "      <td>-47061.069907</td>\n",
       "      <td>-47066.430504</td>\n",
       "      <td>-47058.368967</td>\n",
       "    </tr>\n",
       "    <tr>\n",
       "      <th>16</th>\n",
       "      <td>15830.458745</td>\n",
       "      <td>15818.468532</td>\n",
       "      <td>15827.934632</td>\n",
       "    </tr>\n",
       "    <tr>\n",
       "      <th>17</th>\n",
       "      <td>-1662.868712</td>\n",
       "      <td>-1662.183767</td>\n",
       "      <td>-1662.876996</td>\n",
       "    </tr>\n",
       "  </tbody>\n",
       "</table>\n",
       "</div>"
      ],
      "text/plain": [
       "           linear          ridge          lasso\n",
       "0   -36467.259301  -36478.652307  -36466.465211\n",
       "1    32976.555246   32973.640948   32973.697553\n",
       "2   109253.570774  109192.193805  109405.059148\n",
       "3       65.855474      65.435749      65.842842\n",
       "4     3368.163384    3366.741113    3367.531741\n",
       "5   607377.630551  604293.642582  607300.107285\n",
       "6    51990.601828   52122.531490   51993.345066\n",
       "7    27183.750236   27193.305646   27182.499304\n",
       "8    95663.288130   95653.228291   95664.685336\n",
       "9    93996.665698   94075.826653   93860.847753\n",
       "10   33575.743834   33607.620302   33502.813135\n",
       "11 -119660.367156 -119638.660050 -119657.591817\n",
       "12      23.040955      23.086372      23.042576\n",
       "13  -51072.970083  -51066.709671  -51069.859954\n",
       "14  123129.695515  123116.744275  123128.012150\n",
       "15  -47061.069907  -47066.430504  -47058.368967\n",
       "16   15830.458745   15818.468532   15827.934632\n",
       "17   -1662.868712   -1662.183767   -1662.876996"
      ]
     },
     "execution_count": 76,
     "metadata": {},
     "output_type": "execute_result"
    }
   ],
   "source": [
    "## Notice the shapes of the arrays are not the same\n",
    "# Print out the shapes of each dict value\n",
    "for k,v in dict_comp.items():\n",
    "    print(f\"{k} shape = {v.shape}\")\n",
    "## Try making it a dataframe (error)\n",
    "pd.DataFrame(dict_comp)"
   ]
  },
  {
   "cell_type": "markdown",
   "metadata": {},
   "source": [
    "#### The solution: `.flatten()`"
   ]
  },
  {
   "cell_type": "code",
   "execution_count": 77,
   "metadata": {
    "ExecuteTime": {
     "end_time": "2020-08-27T23:07:09.234039Z",
     "start_time": "2020-08-27T23:07:09.220704Z"
    }
   },
   "outputs": [
    {
     "name": "stdout",
     "output_type": "stream",
     "text": [
      "linear shape = (18,)\n",
      "ridge shape = (18,)\n",
      "lasso shape = (18,)\n"
     ]
    },
    {
     "data": {
      "text/html": [
       "<div>\n",
       "<style scoped>\n",
       "    .dataframe tbody tr th:only-of-type {\n",
       "        vertical-align: middle;\n",
       "    }\n",
       "\n",
       "    .dataframe tbody tr th {\n",
       "        vertical-align: top;\n",
       "    }\n",
       "\n",
       "    .dataframe thead th {\n",
       "        text-align: right;\n",
       "    }\n",
       "</style>\n",
       "<table border=\"1\" class=\"dataframe\">\n",
       "  <thead>\n",
       "    <tr style=\"text-align: right;\">\n",
       "      <th></th>\n",
       "      <th>linear</th>\n",
       "      <th>ridge</th>\n",
       "      <th>lasso</th>\n",
       "    </tr>\n",
       "  </thead>\n",
       "  <tbody>\n",
       "    <tr>\n",
       "      <th>0</th>\n",
       "      <td>-36467.259301</td>\n",
       "      <td>-36478.652307</td>\n",
       "      <td>-36466.465211</td>\n",
       "    </tr>\n",
       "    <tr>\n",
       "      <th>1</th>\n",
       "      <td>32976.555246</td>\n",
       "      <td>32973.640948</td>\n",
       "      <td>32973.697553</td>\n",
       "    </tr>\n",
       "    <tr>\n",
       "      <th>2</th>\n",
       "      <td>109253.570774</td>\n",
       "      <td>109192.193805</td>\n",
       "      <td>109405.059148</td>\n",
       "    </tr>\n",
       "    <tr>\n",
       "      <th>3</th>\n",
       "      <td>65.855474</td>\n",
       "      <td>65.435749</td>\n",
       "      <td>65.842842</td>\n",
       "    </tr>\n",
       "    <tr>\n",
       "      <th>4</th>\n",
       "      <td>3368.163384</td>\n",
       "      <td>3366.741113</td>\n",
       "      <td>3367.531741</td>\n",
       "    </tr>\n",
       "    <tr>\n",
       "      <th>5</th>\n",
       "      <td>607377.630551</td>\n",
       "      <td>604293.642582</td>\n",
       "      <td>607300.107285</td>\n",
       "    </tr>\n",
       "    <tr>\n",
       "      <th>6</th>\n",
       "      <td>51990.601828</td>\n",
       "      <td>52122.531490</td>\n",
       "      <td>51993.345066</td>\n",
       "    </tr>\n",
       "    <tr>\n",
       "      <th>7</th>\n",
       "      <td>27183.750236</td>\n",
       "      <td>27193.305646</td>\n",
       "      <td>27182.499304</td>\n",
       "    </tr>\n",
       "    <tr>\n",
       "      <th>8</th>\n",
       "      <td>95663.288130</td>\n",
       "      <td>95653.228291</td>\n",
       "      <td>95664.685336</td>\n",
       "    </tr>\n",
       "    <tr>\n",
       "      <th>9</th>\n",
       "      <td>93996.665698</td>\n",
       "      <td>94075.826653</td>\n",
       "      <td>93860.847753</td>\n",
       "    </tr>\n",
       "    <tr>\n",
       "      <th>10</th>\n",
       "      <td>33575.743834</td>\n",
       "      <td>33607.620302</td>\n",
       "      <td>33502.813135</td>\n",
       "    </tr>\n",
       "    <tr>\n",
       "      <th>11</th>\n",
       "      <td>-119660.367156</td>\n",
       "      <td>-119638.660050</td>\n",
       "      <td>-119657.591817</td>\n",
       "    </tr>\n",
       "    <tr>\n",
       "      <th>12</th>\n",
       "      <td>23.040955</td>\n",
       "      <td>23.086372</td>\n",
       "      <td>23.042576</td>\n",
       "    </tr>\n",
       "    <tr>\n",
       "      <th>13</th>\n",
       "      <td>-51072.970083</td>\n",
       "      <td>-51066.709671</td>\n",
       "      <td>-51069.859954</td>\n",
       "    </tr>\n",
       "    <tr>\n",
       "      <th>14</th>\n",
       "      <td>123129.695515</td>\n",
       "      <td>123116.744275</td>\n",
       "      <td>123128.012150</td>\n",
       "    </tr>\n",
       "    <tr>\n",
       "      <th>15</th>\n",
       "      <td>-47061.069907</td>\n",
       "      <td>-47066.430504</td>\n",
       "      <td>-47058.368967</td>\n",
       "    </tr>\n",
       "    <tr>\n",
       "      <th>16</th>\n",
       "      <td>15830.458745</td>\n",
       "      <td>15818.468532</td>\n",
       "      <td>15827.934632</td>\n",
       "    </tr>\n",
       "    <tr>\n",
       "      <th>17</th>\n",
       "      <td>-1662.868712</td>\n",
       "      <td>-1662.183767</td>\n",
       "      <td>-1662.876996</td>\n",
       "    </tr>\n",
       "  </tbody>\n",
       "</table>\n",
       "</div>"
      ],
      "text/plain": [
       "           linear          ridge          lasso\n",
       "0   -36467.259301  -36478.652307  -36466.465211\n",
       "1    32976.555246   32973.640948   32973.697553\n",
       "2   109253.570774  109192.193805  109405.059148\n",
       "3       65.855474      65.435749      65.842842\n",
       "4     3368.163384    3366.741113    3367.531741\n",
       "5   607377.630551  604293.642582  607300.107285\n",
       "6    51990.601828   52122.531490   51993.345066\n",
       "7    27183.750236   27193.305646   27182.499304\n",
       "8    95663.288130   95653.228291   95664.685336\n",
       "9    93996.665698   94075.826653   93860.847753\n",
       "10   33575.743834   33607.620302   33502.813135\n",
       "11 -119660.367156 -119638.660050 -119657.591817\n",
       "12      23.040955      23.086372      23.042576\n",
       "13  -51072.970083  -51066.709671  -51069.859954\n",
       "14  123129.695515  123116.744275  123128.012150\n",
       "15  -47061.069907  -47066.430504  -47058.368967\n",
       "16   15830.458745   15818.468532   15827.934632\n",
       "17   -1662.868712   -1662.183767   -1662.876996"
      ]
     },
     "execution_count": 77,
     "metadata": {},
     "output_type": "execute_result"
    }
   ],
   "source": [
    "## Use .flatten() to make coefs 1D\n",
    "dict_comp= {k:mod.coef_.flatten() for k,mod in fit_models.items() }\n",
    "\n",
    "## Notice the shapes of the arrays are not the same\n",
    "\n",
    "for k,v in dict_comp.items():\n",
    "    print(f\"{k} shape = {v.shape}\")\n",
    "## Try making it a dataframe (error)\n",
    "pd.DataFrame(dict_comp)\n",
    "## make it into a df"
   ]
  },
  {
   "cell_type": "code",
   "execution_count": 78,
   "metadata": {
    "ExecuteTime": {
     "end_time": "2020-08-27T23:07:09.268378Z",
     "start_time": "2020-08-27T23:07:09.235853Z"
    }
   },
   "outputs": [
    {
     "data": {
      "text/html": [
       "<div>\n",
       "<style scoped>\n",
       "    .dataframe tbody tr th:only-of-type {\n",
       "        vertical-align: middle;\n",
       "    }\n",
       "\n",
       "    .dataframe tbody tr th {\n",
       "        vertical-align: top;\n",
       "    }\n",
       "\n",
       "    .dataframe thead th {\n",
       "        text-align: right;\n",
       "    }\n",
       "</style>\n",
       "<table border=\"1\" class=\"dataframe\">\n",
       "  <thead>\n",
       "    <tr style=\"text-align: right;\">\n",
       "      <th></th>\n",
       "      <th>bedrooms</th>\n",
       "      <th>bathrooms</th>\n",
       "      <th>sqft_living</th>\n",
       "      <th>sqft_lot</th>\n",
       "      <th>floors</th>\n",
       "      <th>waterfront</th>\n",
       "      <th>view</th>\n",
       "      <th>condition</th>\n",
       "      <th>grade</th>\n",
       "      <th>sqft_above</th>\n",
       "      <th>sqft_basement</th>\n",
       "      <th>yr_built</th>\n",
       "      <th>yr_renovated</th>\n",
       "      <th>zipcode</th>\n",
       "      <th>lat</th>\n",
       "      <th>long</th>\n",
       "      <th>sqft_living15</th>\n",
       "      <th>sqft_lot15</th>\n",
       "    </tr>\n",
       "    <tr>\n",
       "      <th>id</th>\n",
       "      <th></th>\n",
       "      <th></th>\n",
       "      <th></th>\n",
       "      <th></th>\n",
       "      <th></th>\n",
       "      <th></th>\n",
       "      <th></th>\n",
       "      <th></th>\n",
       "      <th></th>\n",
       "      <th></th>\n",
       "      <th></th>\n",
       "      <th></th>\n",
       "      <th></th>\n",
       "      <th></th>\n",
       "      <th></th>\n",
       "      <th></th>\n",
       "      <th></th>\n",
       "      <th></th>\n",
       "    </tr>\n",
       "  </thead>\n",
       "  <tbody>\n",
       "    <tr>\n",
       "      <th>1972200847</th>\n",
       "      <td>3</td>\n",
       "      <td>2.50</td>\n",
       "      <td>1730</td>\n",
       "      <td>1301</td>\n",
       "      <td>3.0</td>\n",
       "      <td>0.0</td>\n",
       "      <td>0.0</td>\n",
       "      <td>3</td>\n",
       "      <td>9</td>\n",
       "      <td>1730</td>\n",
       "      <td>0.0</td>\n",
       "      <td>2011</td>\n",
       "      <td>NaN</td>\n",
       "      <td>98103</td>\n",
       "      <td>47.6530</td>\n",
       "      <td>-122.352</td>\n",
       "      <td>1330</td>\n",
       "      <td>1240</td>\n",
       "    </tr>\n",
       "    <tr>\n",
       "      <th>8731980040</th>\n",
       "      <td>3</td>\n",
       "      <td>2.25</td>\n",
       "      <td>1980</td>\n",
       "      <td>8000</td>\n",
       "      <td>1.0</td>\n",
       "      <td>0.0</td>\n",
       "      <td>0.0</td>\n",
       "      <td>4</td>\n",
       "      <td>9</td>\n",
       "      <td>1560</td>\n",
       "      <td>420.0</td>\n",
       "      <td>1974</td>\n",
       "      <td>0.0</td>\n",
       "      <td>98023</td>\n",
       "      <td>47.3149</td>\n",
       "      <td>-122.378</td>\n",
       "      <td>2360</td>\n",
       "      <td>8000</td>\n",
       "    </tr>\n",
       "    <tr>\n",
       "      <th>2767603165</th>\n",
       "      <td>4</td>\n",
       "      <td>2.00</td>\n",
       "      <td>1980</td>\n",
       "      <td>4500</td>\n",
       "      <td>2.0</td>\n",
       "      <td>0.0</td>\n",
       "      <td>0.0</td>\n",
       "      <td>4</td>\n",
       "      <td>7</td>\n",
       "      <td>1980</td>\n",
       "      <td>0.0</td>\n",
       "      <td>1910</td>\n",
       "      <td>0.0</td>\n",
       "      <td>98107</td>\n",
       "      <td>47.6728</td>\n",
       "      <td>-122.379</td>\n",
       "      <td>1550</td>\n",
       "      <td>2541</td>\n",
       "    </tr>\n",
       "    <tr>\n",
       "      <th>8029770410</th>\n",
       "      <td>4</td>\n",
       "      <td>2.50</td>\n",
       "      <td>3160</td>\n",
       "      <td>8530</td>\n",
       "      <td>2.0</td>\n",
       "      <td>0.0</td>\n",
       "      <td>0.0</td>\n",
       "      <td>3</td>\n",
       "      <td>9</td>\n",
       "      <td>3160</td>\n",
       "      <td>0.0</td>\n",
       "      <td>2006</td>\n",
       "      <td>0.0</td>\n",
       "      <td>98059</td>\n",
       "      <td>47.5075</td>\n",
       "      <td>-122.148</td>\n",
       "      <td>3160</td>\n",
       "      <td>6460</td>\n",
       "    </tr>\n",
       "    <tr>\n",
       "      <th>4435000705</th>\n",
       "      <td>3</td>\n",
       "      <td>1.00</td>\n",
       "      <td>1350</td>\n",
       "      <td>8700</td>\n",
       "      <td>1.5</td>\n",
       "      <td>0.0</td>\n",
       "      <td>0.0</td>\n",
       "      <td>3</td>\n",
       "      <td>6</td>\n",
       "      <td>1350</td>\n",
       "      <td>0.0</td>\n",
       "      <td>1942</td>\n",
       "      <td>NaN</td>\n",
       "      <td>98188</td>\n",
       "      <td>47.4497</td>\n",
       "      <td>-122.289</td>\n",
       "      <td>1300</td>\n",
       "      <td>8700</td>\n",
       "    </tr>\n",
       "    <tr>\n",
       "      <th>...</th>\n",
       "      <td>...</td>\n",
       "      <td>...</td>\n",
       "      <td>...</td>\n",
       "      <td>...</td>\n",
       "      <td>...</td>\n",
       "      <td>...</td>\n",
       "      <td>...</td>\n",
       "      <td>...</td>\n",
       "      <td>...</td>\n",
       "      <td>...</td>\n",
       "      <td>...</td>\n",
       "      <td>...</td>\n",
       "      <td>...</td>\n",
       "      <td>...</td>\n",
       "      <td>...</td>\n",
       "      <td>...</td>\n",
       "      <td>...</td>\n",
       "      <td>...</td>\n",
       "    </tr>\n",
       "    <tr>\n",
       "      <th>5561000600</th>\n",
       "      <td>3</td>\n",
       "      <td>2.50</td>\n",
       "      <td>2190</td>\n",
       "      <td>34528</td>\n",
       "      <td>2.0</td>\n",
       "      <td>0.0</td>\n",
       "      <td>0.0</td>\n",
       "      <td>3</td>\n",
       "      <td>8</td>\n",
       "      <td>2190</td>\n",
       "      <td>0.0</td>\n",
       "      <td>1994</td>\n",
       "      <td>0.0</td>\n",
       "      <td>98027</td>\n",
       "      <td>47.4594</td>\n",
       "      <td>-121.986</td>\n",
       "      <td>2460</td>\n",
       "      <td>37901</td>\n",
       "    </tr>\n",
       "    <tr>\n",
       "      <th>424049059</th>\n",
       "      <td>3</td>\n",
       "      <td>2.00</td>\n",
       "      <td>1400</td>\n",
       "      <td>2445</td>\n",
       "      <td>1.0</td>\n",
       "      <td>0.0</td>\n",
       "      <td>0.0</td>\n",
       "      <td>3</td>\n",
       "      <td>7</td>\n",
       "      <td>840</td>\n",
       "      <td>560.0</td>\n",
       "      <td>2002</td>\n",
       "      <td>0.0</td>\n",
       "      <td>98144</td>\n",
       "      <td>47.5926</td>\n",
       "      <td>-122.299</td>\n",
       "      <td>1400</td>\n",
       "      <td>3200</td>\n",
       "    </tr>\n",
       "    <tr>\n",
       "      <th>1862400215</th>\n",
       "      <td>3</td>\n",
       "      <td>2.50</td>\n",
       "      <td>2480</td>\n",
       "      <td>5007</td>\n",
       "      <td>2.0</td>\n",
       "      <td>0.0</td>\n",
       "      <td>0.0</td>\n",
       "      <td>3</td>\n",
       "      <td>8</td>\n",
       "      <td>1960</td>\n",
       "      <td>520.0</td>\n",
       "      <td>2014</td>\n",
       "      <td>0.0</td>\n",
       "      <td>98117</td>\n",
       "      <td>47.6974</td>\n",
       "      <td>-122.369</td>\n",
       "      <td>1650</td>\n",
       "      <td>7806</td>\n",
       "    </tr>\n",
       "    <tr>\n",
       "      <th>3317500030</th>\n",
       "      <td>3</td>\n",
       "      <td>2.50</td>\n",
       "      <td>3630</td>\n",
       "      <td>11019</td>\n",
       "      <td>1.0</td>\n",
       "      <td>NaN</td>\n",
       "      <td>0.0</td>\n",
       "      <td>4</td>\n",
       "      <td>9</td>\n",
       "      <td>2150</td>\n",
       "      <td>1480.0</td>\n",
       "      <td>1972</td>\n",
       "      <td>0.0</td>\n",
       "      <td>98040</td>\n",
       "      <td>47.5610</td>\n",
       "      <td>-122.226</td>\n",
       "      <td>3150</td>\n",
       "      <td>13555</td>\n",
       "    </tr>\n",
       "    <tr>\n",
       "      <th>4136880460</th>\n",
       "      <td>4</td>\n",
       "      <td>2.50</td>\n",
       "      <td>2010</td>\n",
       "      <td>7226</td>\n",
       "      <td>2.0</td>\n",
       "      <td>0.0</td>\n",
       "      <td>0.0</td>\n",
       "      <td>3</td>\n",
       "      <td>8</td>\n",
       "      <td>2010</td>\n",
       "      <td>0.0</td>\n",
       "      <td>1995</td>\n",
       "      <td>0.0</td>\n",
       "      <td>98092</td>\n",
       "      <td>47.2588</td>\n",
       "      <td>-122.210</td>\n",
       "      <td>2160</td>\n",
       "      <td>7696</td>\n",
       "    </tr>\n",
       "  </tbody>\n",
       "</table>\n",
       "<p>16197 rows × 18 columns</p>\n",
       "</div>"
      ],
      "text/plain": [
       "            bedrooms  bathrooms  sqft_living  sqft_lot  floors  waterfront  \\\n",
       "id                                                                           \n",
       "1972200847         3       2.50         1730      1301     3.0         0.0   \n",
       "8731980040         3       2.25         1980      8000     1.0         0.0   \n",
       "2767603165         4       2.00         1980      4500     2.0         0.0   \n",
       "8029770410         4       2.50         3160      8530     2.0         0.0   \n",
       "4435000705         3       1.00         1350      8700     1.5         0.0   \n",
       "...              ...        ...          ...       ...     ...         ...   \n",
       "5561000600         3       2.50         2190     34528     2.0         0.0   \n",
       "424049059          3       2.00         1400      2445     1.0         0.0   \n",
       "1862400215         3       2.50         2480      5007     2.0         0.0   \n",
       "3317500030         3       2.50         3630     11019     1.0         NaN   \n",
       "4136880460         4       2.50         2010      7226     2.0         0.0   \n",
       "\n",
       "            view  condition  grade  sqft_above  sqft_basement  yr_built  \\\n",
       "id                                                                        \n",
       "1972200847   0.0          3      9        1730            0.0      2011   \n",
       "8731980040   0.0          4      9        1560          420.0      1974   \n",
       "2767603165   0.0          4      7        1980            0.0      1910   \n",
       "8029770410   0.0          3      9        3160            0.0      2006   \n",
       "4435000705   0.0          3      6        1350            0.0      1942   \n",
       "...          ...        ...    ...         ...            ...       ...   \n",
       "5561000600   0.0          3      8        2190            0.0      1994   \n",
       "424049059    0.0          3      7         840          560.0      2002   \n",
       "1862400215   0.0          3      8        1960          520.0      2014   \n",
       "3317500030   0.0          4      9        2150         1480.0      1972   \n",
       "4136880460   0.0          3      8        2010            0.0      1995   \n",
       "\n",
       "            yr_renovated  zipcode      lat     long  sqft_living15  sqft_lot15  \n",
       "id                                                                              \n",
       "1972200847           NaN    98103  47.6530 -122.352           1330        1240  \n",
       "8731980040           0.0    98023  47.3149 -122.378           2360        8000  \n",
       "2767603165           0.0    98107  47.6728 -122.379           1550        2541  \n",
       "8029770410           0.0    98059  47.5075 -122.148           3160        6460  \n",
       "4435000705           NaN    98188  47.4497 -122.289           1300        8700  \n",
       "...                  ...      ...      ...      ...            ...         ...  \n",
       "5561000600           0.0    98027  47.4594 -121.986           2460       37901  \n",
       "424049059            0.0    98144  47.5926 -122.299           1400        3200  \n",
       "1862400215           0.0    98117  47.6974 -122.369           1650        7806  \n",
       "3317500030           0.0    98040  47.5610 -122.226           3150       13555  \n",
       "4136880460           0.0    98092  47.2588 -122.210           2160        7696  \n",
       "\n",
       "[16197 rows x 18 columns]"
      ]
     },
     "execution_count": 78,
     "metadata": {},
     "output_type": "execute_result"
    }
   ],
   "source": [
    "X_train"
   ]
  },
  {
   "cell_type": "code",
   "execution_count": 79,
   "metadata": {
    "ExecuteTime": {
     "end_time": "2020-08-27T23:07:09.280891Z",
     "start_time": "2020-08-27T23:07:09.270021Z"
    }
   },
   "outputs": [
    {
     "data": {
      "text/html": [
       "<div>\n",
       "<style scoped>\n",
       "    .dataframe tbody tr th:only-of-type {\n",
       "        vertical-align: middle;\n",
       "    }\n",
       "\n",
       "    .dataframe tbody tr th {\n",
       "        vertical-align: top;\n",
       "    }\n",
       "\n",
       "    .dataframe thead th {\n",
       "        text-align: right;\n",
       "    }\n",
       "</style>\n",
       "<table border=\"1\" class=\"dataframe\">\n",
       "  <thead>\n",
       "    <tr style=\"text-align: right;\">\n",
       "      <th></th>\n",
       "      <th>linear</th>\n",
       "      <th>ridge</th>\n",
       "      <th>lasso</th>\n",
       "    </tr>\n",
       "  </thead>\n",
       "  <tbody>\n",
       "    <tr>\n",
       "      <th>bedrooms</th>\n",
       "      <td>-36467.259301</td>\n",
       "      <td>-36478.652307</td>\n",
       "      <td>-36466.465211</td>\n",
       "    </tr>\n",
       "    <tr>\n",
       "      <th>bathrooms</th>\n",
       "      <td>32976.555246</td>\n",
       "      <td>32973.640948</td>\n",
       "      <td>32973.697553</td>\n",
       "    </tr>\n",
       "    <tr>\n",
       "      <th>sqft_living</th>\n",
       "      <td>109253.570774</td>\n",
       "      <td>109192.193805</td>\n",
       "      <td>109405.059148</td>\n",
       "    </tr>\n",
       "    <tr>\n",
       "      <th>sqft_lot</th>\n",
       "      <td>65.855474</td>\n",
       "      <td>65.435749</td>\n",
       "      <td>65.842842</td>\n",
       "    </tr>\n",
       "    <tr>\n",
       "      <th>floors</th>\n",
       "      <td>3368.163384</td>\n",
       "      <td>3366.741113</td>\n",
       "      <td>3367.531741</td>\n",
       "    </tr>\n",
       "    <tr>\n",
       "      <th>waterfront</th>\n",
       "      <td>607377.630551</td>\n",
       "      <td>604293.642582</td>\n",
       "      <td>607300.107285</td>\n",
       "    </tr>\n",
       "    <tr>\n",
       "      <th>view</th>\n",
       "      <td>51990.601828</td>\n",
       "      <td>52122.531490</td>\n",
       "      <td>51993.345066</td>\n",
       "    </tr>\n",
       "    <tr>\n",
       "      <th>condition</th>\n",
       "      <td>27183.750236</td>\n",
       "      <td>27193.305646</td>\n",
       "      <td>27182.499304</td>\n",
       "    </tr>\n",
       "    <tr>\n",
       "      <th>grade</th>\n",
       "      <td>95663.288130</td>\n",
       "      <td>95653.228291</td>\n",
       "      <td>95664.685336</td>\n",
       "    </tr>\n",
       "    <tr>\n",
       "      <th>sqft_above</th>\n",
       "      <td>93996.665698</td>\n",
       "      <td>94075.826653</td>\n",
       "      <td>93860.847753</td>\n",
       "    </tr>\n",
       "    <tr>\n",
       "      <th>sqft_basement</th>\n",
       "      <td>33575.743834</td>\n",
       "      <td>33607.620302</td>\n",
       "      <td>33502.813135</td>\n",
       "    </tr>\n",
       "    <tr>\n",
       "      <th>yr_built</th>\n",
       "      <td>-119660.367156</td>\n",
       "      <td>-119638.660050</td>\n",
       "      <td>-119657.591817</td>\n",
       "    </tr>\n",
       "    <tr>\n",
       "      <th>yr_renovated</th>\n",
       "      <td>23.040955</td>\n",
       "      <td>23.086372</td>\n",
       "      <td>23.042576</td>\n",
       "    </tr>\n",
       "    <tr>\n",
       "      <th>zipcode</th>\n",
       "      <td>-51072.970083</td>\n",
       "      <td>-51066.709671</td>\n",
       "      <td>-51069.859954</td>\n",
       "    </tr>\n",
       "    <tr>\n",
       "      <th>lat</th>\n",
       "      <td>123129.695515</td>\n",
       "      <td>123116.744275</td>\n",
       "      <td>123128.012150</td>\n",
       "    </tr>\n",
       "    <tr>\n",
       "      <th>long</th>\n",
       "      <td>-47061.069907</td>\n",
       "      <td>-47066.430504</td>\n",
       "      <td>-47058.368967</td>\n",
       "    </tr>\n",
       "    <tr>\n",
       "      <th>sqft_living15</th>\n",
       "      <td>15830.458745</td>\n",
       "      <td>15818.468532</td>\n",
       "      <td>15827.934632</td>\n",
       "    </tr>\n",
       "    <tr>\n",
       "      <th>sqft_lot15</th>\n",
       "      <td>-1662.868712</td>\n",
       "      <td>-1662.183767</td>\n",
       "      <td>-1662.876996</td>\n",
       "    </tr>\n",
       "  </tbody>\n",
       "</table>\n",
       "</div>"
      ],
      "text/plain": [
       "                      linear          ridge          lasso\n",
       "bedrooms       -36467.259301  -36478.652307  -36466.465211\n",
       "bathrooms       32976.555246   32973.640948   32973.697553\n",
       "sqft_living    109253.570774  109192.193805  109405.059148\n",
       "sqft_lot           65.855474      65.435749      65.842842\n",
       "floors           3368.163384    3366.741113    3367.531741\n",
       "waterfront     607377.630551  604293.642582  607300.107285\n",
       "view            51990.601828   52122.531490   51993.345066\n",
       "condition       27183.750236   27193.305646   27182.499304\n",
       "grade           95663.288130   95653.228291   95664.685336\n",
       "sqft_above      93996.665698   94075.826653   93860.847753\n",
       "sqft_basement   33575.743834   33607.620302   33502.813135\n",
       "yr_built      -119660.367156 -119638.660050 -119657.591817\n",
       "yr_renovated       23.040955      23.086372      23.042576\n",
       "zipcode        -51072.970083  -51066.709671  -51069.859954\n",
       "lat            123129.695515  123116.744275  123128.012150\n",
       "long           -47061.069907  -47066.430504  -47058.368967\n",
       "sqft_living15   15830.458745   15818.468532   15827.934632\n",
       "sqft_lot15      -1662.868712   -1662.183767   -1662.876996"
      ]
     },
     "execution_count": 79,
     "metadata": {},
     "output_type": "execute_result"
    }
   ],
   "source": [
    "### Put it all together  into 1 line of code\n",
    "df_coeffs = pd.DataFrame({k:mod.coef_.flatten() for k,mod in fit_models.items()},\n",
    "                        index=X_train.columns)\n",
    "df_coeffs"
   ]
  },
  {
   "cell_type": "code",
   "execution_count": 80,
   "metadata": {
    "ExecuteTime": {
     "end_time": "2020-08-27T23:07:09.310864Z",
     "start_time": "2020-08-27T23:07:09.282606Z"
    }
   },
   "outputs": [
    {
     "data": {
      "text/html": [
       "<div>\n",
       "<style scoped>\n",
       "    .dataframe tbody tr th:only-of-type {\n",
       "        vertical-align: middle;\n",
       "    }\n",
       "\n",
       "    .dataframe tbody tr th {\n",
       "        vertical-align: top;\n",
       "    }\n",
       "\n",
       "    .dataframe thead th {\n",
       "        text-align: right;\n",
       "    }\n",
       "</style>\n",
       "<table border=\"1\" class=\"dataframe\">\n",
       "  <thead>\n",
       "    <tr style=\"text-align: right;\">\n",
       "      <th></th>\n",
       "      <th>bedrooms</th>\n",
       "      <th>bathrooms</th>\n",
       "      <th>sqft_living</th>\n",
       "      <th>sqft_lot</th>\n",
       "      <th>floors</th>\n",
       "      <th>waterfront</th>\n",
       "      <th>view</th>\n",
       "      <th>condition</th>\n",
       "      <th>grade</th>\n",
       "      <th>sqft_above</th>\n",
       "      <th>sqft_basement</th>\n",
       "      <th>yr_built</th>\n",
       "      <th>yr_renovated</th>\n",
       "      <th>zipcode</th>\n",
       "      <th>lat</th>\n",
       "      <th>long</th>\n",
       "      <th>sqft_living15</th>\n",
       "      <th>sqft_lot15</th>\n",
       "    </tr>\n",
       "  </thead>\n",
       "  <tbody>\n",
       "    <tr>\n",
       "      <th>linear</th>\n",
       "      <td>-36467.259</td>\n",
       "      <td>32976.555</td>\n",
       "      <td>109253.571</td>\n",
       "      <td>65.855</td>\n",
       "      <td>3368.163</td>\n",
       "      <td>607377.631</td>\n",
       "      <td>51990.602</td>\n",
       "      <td>27183.750</td>\n",
       "      <td>95663.288</td>\n",
       "      <td>93996.666</td>\n",
       "      <td>33575.744</td>\n",
       "      <td>-119660.367</td>\n",
       "      <td>23.041</td>\n",
       "      <td>-51072.97</td>\n",
       "      <td>123129.696</td>\n",
       "      <td>-47061.070</td>\n",
       "      <td>15830.459</td>\n",
       "      <td>-1662.869</td>\n",
       "    </tr>\n",
       "    <tr>\n",
       "      <th>ridge</th>\n",
       "      <td>-36478.652</td>\n",
       "      <td>32973.641</td>\n",
       "      <td>109192.194</td>\n",
       "      <td>65.436</td>\n",
       "      <td>3366.741</td>\n",
       "      <td>604293.643</td>\n",
       "      <td>52122.531</td>\n",
       "      <td>27193.306</td>\n",
       "      <td>95653.228</td>\n",
       "      <td>94075.827</td>\n",
       "      <td>33607.620</td>\n",
       "      <td>-119638.660</td>\n",
       "      <td>23.086</td>\n",
       "      <td>-51066.71</td>\n",
       "      <td>123116.744</td>\n",
       "      <td>-47066.431</td>\n",
       "      <td>15818.469</td>\n",
       "      <td>-1662.184</td>\n",
       "    </tr>\n",
       "    <tr>\n",
       "      <th>lasso</th>\n",
       "      <td>-36466.465</td>\n",
       "      <td>32973.698</td>\n",
       "      <td>109405.059</td>\n",
       "      <td>65.843</td>\n",
       "      <td>3367.532</td>\n",
       "      <td>607300.107</td>\n",
       "      <td>51993.345</td>\n",
       "      <td>27182.499</td>\n",
       "      <td>95664.685</td>\n",
       "      <td>93860.848</td>\n",
       "      <td>33502.813</td>\n",
       "      <td>-119657.592</td>\n",
       "      <td>23.043</td>\n",
       "      <td>-51069.86</td>\n",
       "      <td>123128.012</td>\n",
       "      <td>-47058.369</td>\n",
       "      <td>15827.935</td>\n",
       "      <td>-1662.877</td>\n",
       "    </tr>\n",
       "  </tbody>\n",
       "</table>\n",
       "</div>"
      ],
      "text/plain": [
       "         bedrooms  bathrooms  sqft_living  sqft_lot    floors  waterfront  \\\n",
       "linear -36467.259  32976.555   109253.571    65.855  3368.163  607377.631   \n",
       "ridge  -36478.652  32973.641   109192.194    65.436  3366.741  604293.643   \n",
       "lasso  -36466.465  32973.698   109405.059    65.843  3367.532  607300.107   \n",
       "\n",
       "             view  condition      grade  sqft_above  sqft_basement  \\\n",
       "linear  51990.602  27183.750  95663.288   93996.666      33575.744   \n",
       "ridge   52122.531  27193.306  95653.228   94075.827      33607.620   \n",
       "lasso   51993.345  27182.499  95664.685   93860.848      33502.813   \n",
       "\n",
       "          yr_built  yr_renovated   zipcode         lat       long  \\\n",
       "linear -119660.367        23.041 -51072.97  123129.696 -47061.070   \n",
       "ridge  -119638.660        23.086 -51066.71  123116.744 -47066.431   \n",
       "lasso  -119657.592        23.043 -51069.86  123128.012 -47058.369   \n",
       "\n",
       "        sqft_living15  sqft_lot15  \n",
       "linear      15830.459   -1662.869  \n",
       "ridge       15818.469   -1662.184  \n",
       "lasso       15827.935   -1662.877  "
      ]
     },
     "execution_count": 80,
     "metadata": {},
     "output_type": "execute_result"
    }
   ],
   "source": [
    "## Tanspose df and round\n",
    "df_coeffs.T.round(3)"
   ]
  },
  {
   "cell_type": "markdown",
   "metadata": {},
   "source": [
    "## Discussion: what was the result of the different regressions on the coefficients?"
   ]
  },
  {
   "cell_type": "markdown",
   "metadata": {},
   "source": [
    "-  lasso regression shrunk some of the coefficients down to 0"
   ]
  },
  {
   "cell_type": "markdown",
   "metadata": {},
   "source": [
    "# Feature Selection\n",
    "[Lesson](https://learn.co/tracks/module-3-data-science-career-2-1/machine-learning/section-24-feature-selection-ridge-and-lasso/feature-selection-methods)"
   ]
  },
  {
   "cell_type": "markdown",
   "metadata": {},
   "source": [
    "## Types of Feature Selection "
   ]
  },
  {
   "cell_type": "markdown",
   "metadata": {},
   "source": [
    "* Domain knowledge\n",
    "* Wrapper methods\n",
    "* Filter methods\n",
    "* Embedded methods\n",
    "\n",
    "> ### Wrapper Methods\n",
    "<img src=\"https://raw.githubusercontent.com/jirvingphd/dsc-feature-selection-methods-online-ds-pt-100719/master/images/new_wrapper.png\">\n",
    "\n",
    "\n",
    "> ### Filter Methods\n",
    "<img src=\"https://raw.githubusercontent.com/jirvingphd/dsc-feature-selection-methods-online-ds-pt-100719/master/images/new_filter.png\">\n",
    "\n",
    "\n",
    "> ### Embed Methods\n",
    "<img src=\"https://raw.githubusercontent.com/jirvingphd/dsc-feature-selection-methods-online-ds-pt-100719/master/images/new_embedded.png\">"
   ]
  },
  {
   "cell_type": "markdown",
   "metadata": {},
   "source": [
    "# ACTIVITY"
   ]
  },
  {
   "cell_type": "markdown",
   "metadata": {},
   "source": [
    "[**Rewrite Feature Selection Methods Lesson to easily capture and compare results across methods.**](https://learn.co/tracks/module-3-data-science-career-2-1/machine-learning/section-24-feature-selection-ridge-and-lasso/feature-selection-methods)\n"
   ]
  },
  {
   "cell_type": "code",
   "execution_count": 81,
   "metadata": {
    "ExecuteTime": {
     "end_time": "2020-08-27T23:07:09.543691Z",
     "start_time": "2020-08-27T23:07:09.312722Z"
    }
   },
   "outputs": [],
   "source": [
    "## Feature Selection Dataset\n",
    "data= \"https://raw.githubusercontent.com/learn-co-students/dsc-feature-selection-methods-online-ds-pt-100719/master/diabetes.tab.txt\"\n",
    "df = pd.read_csv(data,sep='\\t')"
   ]
  },
  {
   "cell_type": "code",
   "execution_count": 82,
   "metadata": {
    "ExecuteTime": {
     "end_time": "2020-08-27T23:07:09.551893Z",
     "start_time": "2020-08-27T23:07:09.545788Z"
    }
   },
   "outputs": [],
   "source": [
    "## Make a new version of make_model that also adds a note column to results\n",
    "def run_model(model,X_train,X_test,y_train,y_test,note=''):\n",
    "    \"\"\"Takes a sklearn model and train/test data to fit model, \n",
    "    get R2 and RMSE for both the training and test data.\n",
    "    \n",
    "    Returns:\n",
    "        DataFrame: results as a df\n",
    "        model: fit scikit-learn model itself\"\"\"\n",
    "    \n",
    "    res= [['Data','R2','RMSE']]\n",
    "    model.fit(X_train, y_train)\n",
    "    # Generate preditions for training and test sets\n",
    "    y_hat_train = model.predict(X_train)\n",
    "    y_hat_test = model.predict(X_test)\n",
    "    \n",
    "    r2_train = r2_score(y_train,y_hat_train)\n",
    "    r2_test = r2_score(y_test,y_hat_test)\n",
    "    \n",
    "    rmse_train = np.sqrt(mean_squared_error(y_train,y_hat_train))\n",
    "    rmse_test = np.sqrt(mean_squared_error(y_test,y_hat_test))\n",
    "    res.append(['Train', r2_train, rmse_train] )\n",
    "    res.append(['Test', r2_test, rmse_test] )\n",
    "    \n",
    "    res_df = pd.DataFrame(res[1:], columns=res[0]).round(4)\n",
    "    res_df['Note'] = note\n",
    "    return res_df#, model\n",
    "    "
   ]
  },
  {
   "cell_type": "code",
   "execution_count": 83,
   "metadata": {
    "ExecuteTime": {
     "end_time": "2020-08-27T23:07:09.573172Z",
     "start_time": "2020-08-27T23:07:09.553746Z"
    }
   },
   "outputs": [
    {
     "data": {
      "text/html": [
       "<div>\n",
       "<style scoped>\n",
       "    .dataframe tbody tr th:only-of-type {\n",
       "        vertical-align: middle;\n",
       "    }\n",
       "\n",
       "    .dataframe tbody tr th {\n",
       "        vertical-align: top;\n",
       "    }\n",
       "\n",
       "    .dataframe thead th {\n",
       "        text-align: right;\n",
       "    }\n",
       "</style>\n",
       "<table border=\"1\" class=\"dataframe\">\n",
       "  <thead>\n",
       "    <tr style=\"text-align: right;\">\n",
       "      <th></th>\n",
       "      <th>AGE</th>\n",
       "      <th>BMI</th>\n",
       "      <th>BP</th>\n",
       "      <th>S1</th>\n",
       "      <th>S2</th>\n",
       "      <th>S3</th>\n",
       "      <th>S4</th>\n",
       "      <th>S5</th>\n",
       "      <th>S6</th>\n",
       "      <th>female</th>\n",
       "    </tr>\n",
       "  </thead>\n",
       "  <tbody>\n",
       "    <tr>\n",
       "      <th>0</th>\n",
       "      <td>59</td>\n",
       "      <td>32.1</td>\n",
       "      <td>101.0</td>\n",
       "      <td>157</td>\n",
       "      <td>93.2</td>\n",
       "      <td>38.0</td>\n",
       "      <td>4.0</td>\n",
       "      <td>4.8598</td>\n",
       "      <td>87</td>\n",
       "      <td>1</td>\n",
       "    </tr>\n",
       "    <tr>\n",
       "      <th>1</th>\n",
       "      <td>48</td>\n",
       "      <td>21.6</td>\n",
       "      <td>87.0</td>\n",
       "      <td>183</td>\n",
       "      <td>103.2</td>\n",
       "      <td>70.0</td>\n",
       "      <td>3.0</td>\n",
       "      <td>3.8918</td>\n",
       "      <td>69</td>\n",
       "      <td>0</td>\n",
       "    </tr>\n",
       "    <tr>\n",
       "      <th>2</th>\n",
       "      <td>72</td>\n",
       "      <td>30.5</td>\n",
       "      <td>93.0</td>\n",
       "      <td>156</td>\n",
       "      <td>93.6</td>\n",
       "      <td>41.0</td>\n",
       "      <td>4.0</td>\n",
       "      <td>4.6728</td>\n",
       "      <td>85</td>\n",
       "      <td>1</td>\n",
       "    </tr>\n",
       "    <tr>\n",
       "      <th>3</th>\n",
       "      <td>24</td>\n",
       "      <td>25.3</td>\n",
       "      <td>84.0</td>\n",
       "      <td>198</td>\n",
       "      <td>131.4</td>\n",
       "      <td>40.0</td>\n",
       "      <td>5.0</td>\n",
       "      <td>4.8903</td>\n",
       "      <td>89</td>\n",
       "      <td>0</td>\n",
       "    </tr>\n",
       "    <tr>\n",
       "      <th>4</th>\n",
       "      <td>50</td>\n",
       "      <td>23.0</td>\n",
       "      <td>101.0</td>\n",
       "      <td>192</td>\n",
       "      <td>125.4</td>\n",
       "      <td>52.0</td>\n",
       "      <td>4.0</td>\n",
       "      <td>4.2905</td>\n",
       "      <td>80</td>\n",
       "      <td>0</td>\n",
       "    </tr>\n",
       "  </tbody>\n",
       "</table>\n",
       "</div>"
      ],
      "text/plain": [
       "   AGE   BMI     BP   S1     S2    S3   S4      S5  S6  female\n",
       "0   59  32.1  101.0  157   93.2  38.0  4.0  4.8598  87       1\n",
       "1   48  21.6   87.0  183  103.2  70.0  3.0  3.8918  69       0\n",
       "2   72  30.5   93.0  156   93.6  41.0  4.0  4.6728  85       1\n",
       "3   24  25.3   84.0  198  131.4  40.0  5.0  4.8903  89       0\n",
       "4   50  23.0  101.0  192  125.4  52.0  4.0  4.2905  80       0"
      ]
     },
     "execution_count": 83,
     "metadata": {},
     "output_type": "execute_result"
    }
   ],
   "source": [
    "from sklearn.model_selection import train_test_split\n",
    "from sklearn import metrics\n",
    "from sklearn.linear_model import LinearRegression\n",
    "\n",
    "# Obtain the target and features from the DataFrame\n",
    "target = df['Y']\n",
    "features = df.drop(columns='Y')\n",
    "\n",
    "# Create dummy variable for sex\n",
    "features['female'] = pd.get_dummies(features['SEX'], drop_first=True)\n",
    "features.drop(columns=['SEX'], inplace=True)\n",
    "features.head()"
   ]
  },
  {
   "cell_type": "code",
   "execution_count": 84,
   "metadata": {
    "ExecuteTime": {
     "end_time": "2020-08-27T23:07:09.598657Z",
     "start_time": "2020-08-27T23:07:09.575012Z"
    }
   },
   "outputs": [
    {
     "data": {
      "text/html": [
       "<div>\n",
       "<style scoped>\n",
       "    .dataframe tbody tr th:only-of-type {\n",
       "        vertical-align: middle;\n",
       "    }\n",
       "\n",
       "    .dataframe tbody tr th {\n",
       "        vertical-align: top;\n",
       "    }\n",
       "\n",
       "    .dataframe thead th {\n",
       "        text-align: right;\n",
       "    }\n",
       "</style>\n",
       "<table border=\"1\" class=\"dataframe\">\n",
       "  <thead>\n",
       "    <tr style=\"text-align: right;\">\n",
       "      <th></th>\n",
       "      <th>AGE</th>\n",
       "      <th>BMI</th>\n",
       "      <th>BP</th>\n",
       "      <th>S1</th>\n",
       "      <th>S2</th>\n",
       "      <th>S3</th>\n",
       "      <th>S4</th>\n",
       "      <th>S5</th>\n",
       "      <th>S6</th>\n",
       "      <th>female</th>\n",
       "    </tr>\n",
       "  </thead>\n",
       "  <tbody>\n",
       "    <tr>\n",
       "      <th>171</th>\n",
       "      <td>43</td>\n",
       "      <td>22.1</td>\n",
       "      <td>66.0</td>\n",
       "      <td>134</td>\n",
       "      <td>77.2</td>\n",
       "      <td>45.0</td>\n",
       "      <td>3.0</td>\n",
       "      <td>4.0775</td>\n",
       "      <td>80</td>\n",
       "      <td>0</td>\n",
       "    </tr>\n",
       "    <tr>\n",
       "      <th>388</th>\n",
       "      <td>63</td>\n",
       "      <td>24.1</td>\n",
       "      <td>111.0</td>\n",
       "      <td>184</td>\n",
       "      <td>112.2</td>\n",
       "      <td>44.0</td>\n",
       "      <td>4.0</td>\n",
       "      <td>4.9345</td>\n",
       "      <td>82</td>\n",
       "      <td>1</td>\n",
       "    </tr>\n",
       "    <tr>\n",
       "      <th>268</th>\n",
       "      <td>66</td>\n",
       "      <td>34.6</td>\n",
       "      <td>115.0</td>\n",
       "      <td>204</td>\n",
       "      <td>139.4</td>\n",
       "      <td>36.0</td>\n",
       "      <td>6.0</td>\n",
       "      <td>4.9628</td>\n",
       "      <td>109</td>\n",
       "      <td>1</td>\n",
       "    </tr>\n",
       "    <tr>\n",
       "      <th>31</th>\n",
       "      <td>42</td>\n",
       "      <td>20.3</td>\n",
       "      <td>71.0</td>\n",
       "      <td>161</td>\n",
       "      <td>81.2</td>\n",
       "      <td>66.0</td>\n",
       "      <td>2.0</td>\n",
       "      <td>4.2341</td>\n",
       "      <td>81</td>\n",
       "      <td>0</td>\n",
       "    </tr>\n",
       "    <tr>\n",
       "      <th>427</th>\n",
       "      <td>39</td>\n",
       "      <td>26.9</td>\n",
       "      <td>93.0</td>\n",
       "      <td>136</td>\n",
       "      <td>75.4</td>\n",
       "      <td>48.0</td>\n",
       "      <td>3.0</td>\n",
       "      <td>4.1431</td>\n",
       "      <td>99</td>\n",
       "      <td>1</td>\n",
       "    </tr>\n",
       "    <tr>\n",
       "      <th>...</th>\n",
       "      <td>...</td>\n",
       "      <td>...</td>\n",
       "      <td>...</td>\n",
       "      <td>...</td>\n",
       "      <td>...</td>\n",
       "      <td>...</td>\n",
       "      <td>...</td>\n",
       "      <td>...</td>\n",
       "      <td>...</td>\n",
       "      <td>...</td>\n",
       "    </tr>\n",
       "    <tr>\n",
       "      <th>218</th>\n",
       "      <td>37</td>\n",
       "      <td>20.3</td>\n",
       "      <td>83.0</td>\n",
       "      <td>185</td>\n",
       "      <td>124.6</td>\n",
       "      <td>38.0</td>\n",
       "      <td>5.0</td>\n",
       "      <td>4.7185</td>\n",
       "      <td>88</td>\n",
       "      <td>0</td>\n",
       "    </tr>\n",
       "    <tr>\n",
       "      <th>412</th>\n",
       "      <td>69</td>\n",
       "      <td>34.3</td>\n",
       "      <td>113.0</td>\n",
       "      <td>200</td>\n",
       "      <td>123.8</td>\n",
       "      <td>54.0</td>\n",
       "      <td>4.0</td>\n",
       "      <td>4.7095</td>\n",
       "      <td>112</td>\n",
       "      <td>0</td>\n",
       "    </tr>\n",
       "    <tr>\n",
       "      <th>223</th>\n",
       "      <td>21</td>\n",
       "      <td>24.2</td>\n",
       "      <td>76.0</td>\n",
       "      <td>147</td>\n",
       "      <td>77.0</td>\n",
       "      <td>53.0</td>\n",
       "      <td>3.0</td>\n",
       "      <td>4.4427</td>\n",
       "      <td>79</td>\n",
       "      <td>0</td>\n",
       "    </tr>\n",
       "    <tr>\n",
       "      <th>271</th>\n",
       "      <td>59</td>\n",
       "      <td>27.2</td>\n",
       "      <td>107.0</td>\n",
       "      <td>158</td>\n",
       "      <td>102.0</td>\n",
       "      <td>39.0</td>\n",
       "      <td>4.0</td>\n",
       "      <td>4.4427</td>\n",
       "      <td>93</td>\n",
       "      <td>1</td>\n",
       "    </tr>\n",
       "    <tr>\n",
       "      <th>355</th>\n",
       "      <td>28</td>\n",
       "      <td>25.5</td>\n",
       "      <td>99.0</td>\n",
       "      <td>162</td>\n",
       "      <td>101.6</td>\n",
       "      <td>46.0</td>\n",
       "      <td>4.0</td>\n",
       "      <td>4.2767</td>\n",
       "      <td>94</td>\n",
       "      <td>1</td>\n",
       "    </tr>\n",
       "  </tbody>\n",
       "</table>\n",
       "<p>353 rows × 10 columns</p>\n",
       "</div>"
      ],
      "text/plain": [
       "     AGE   BMI     BP   S1     S2    S3   S4      S5   S6  female\n",
       "171   43  22.1   66.0  134   77.2  45.0  3.0  4.0775   80       0\n",
       "388   63  24.1  111.0  184  112.2  44.0  4.0  4.9345   82       1\n",
       "268   66  34.6  115.0  204  139.4  36.0  6.0  4.9628  109       1\n",
       "31    42  20.3   71.0  161   81.2  66.0  2.0  4.2341   81       0\n",
       "427   39  26.9   93.0  136   75.4  48.0  3.0  4.1431   99       1\n",
       "..   ...   ...    ...  ...    ...   ...  ...     ...  ...     ...\n",
       "218   37  20.3   83.0  185  124.6  38.0  5.0  4.7185   88       0\n",
       "412   69  34.3  113.0  200  123.8  54.0  4.0  4.7095  112       0\n",
       "223   21  24.2   76.0  147   77.0  53.0  3.0  4.4427   79       0\n",
       "271   59  27.2  107.0  158  102.0  39.0  4.0  4.4427   93       1\n",
       "355   28  25.5   99.0  162  101.6  46.0  4.0  4.2767   94       1\n",
       "\n",
       "[353 rows x 10 columns]"
      ]
     },
     "execution_count": 84,
     "metadata": {},
     "output_type": "execute_result"
    }
   ],
   "source": [
    "from sklearn.preprocessing import StandardScaler\n",
    "\n",
    "# Split the data\n",
    "X_train, X_test, y_train, y_test = train_test_split(features, target, random_state=20, test_size=0.2)\n",
    "X_train"
   ]
  },
  {
   "cell_type": "code",
   "execution_count": 85,
   "metadata": {
    "ExecuteTime": {
     "end_time": "2020-08-27T23:07:09.606110Z",
     "start_time": "2020-08-27T23:07:09.600127Z"
    }
   },
   "outputs": [
    {
     "data": {
      "text/plain": [
       "Index(['AGE', 'BMI', 'BP', 'S1', 'S2', 'S3', 'S4', 'S5', 'S6'], dtype='object')"
      ]
     },
     "execution_count": 85,
     "metadata": {},
     "output_type": "execute_result"
    }
   ],
   "source": [
    "# Initialize the scaler\n",
    "scaler = StandardScaler()\n",
    "# Scale every feature except the binary column - female\n",
    "scale_cols = X_train.drop('female',axis=1).columns\n",
    "scale_cols"
   ]
  },
  {
   "cell_type": "code",
   "execution_count": 86,
   "metadata": {
    "ExecuteTime": {
     "end_time": "2020-08-27T23:07:09.623748Z",
     "start_time": "2020-08-27T23:07:09.607523Z"
    }
   },
   "outputs": [],
   "source": [
    "X_train[scale_cols] = scaler.fit_transform(X_train[scale_cols])\n",
    "X_test[scale_cols] = scaler.transform(X_test[scale_cols])"
   ]
  },
  {
   "cell_type": "code",
   "execution_count": 87,
   "metadata": {
    "ExecuteTime": {
     "end_time": "2020-08-27T23:07:09.640016Z",
     "start_time": "2020-08-27T23:07:09.625279Z"
    }
   },
   "outputs": [],
   "source": [
    "## Make an empty RESULTS list\n",
    "RESULTS = []\n",
    "## Run our baseline regression and append to RESULTS\n",
    "RESULTS.append(run_model(LinearRegression(),\n",
    "                         X_train,X_test,y_train,y_test,'Baseline'))"
   ]
  },
  {
   "cell_type": "code",
   "execution_count": 88,
   "metadata": {
    "ExecuteTime": {
     "end_time": "2020-08-27T23:07:09.654980Z",
     "start_time": "2020-08-27T23:07:09.641615Z"
    }
   },
   "outputs": [
    {
     "data": {
      "text/html": [
       "<style  type=\"text/css\" >\n",
       "#T_08bee974_e8ba_11ea_93a5_4865ee12e626row0_col1{\n",
       "            background-color:  #fff7fb;\n",
       "            color:  #000000;\n",
       "        }</style><table id=\"T_08bee974_e8ba_11ea_93a5_4865ee12e626\" ><thead>    <tr>        <th class=\"blank level0\" ></th>        <th class=\"col_heading level0 col0\" >Data</th>        <th class=\"col_heading level0 col1\" >R2</th>        <th class=\"col_heading level0 col2\" >RMSE</th>    </tr>    <tr>        <th class=\"index_name level0\" >Note</th>        <th class=\"blank\" ></th>        <th class=\"blank\" ></th>        <th class=\"blank\" ></th>    </tr></thead><tbody>\n",
       "                <tr>\n",
       "                        <th id=\"T_08bee974_e8ba_11ea_93a5_4865ee12e626level0_row0\" class=\"row_heading level0 row0\" >Baseline</th>\n",
       "                        <td id=\"T_08bee974_e8ba_11ea_93a5_4865ee12e626row0_col0\" class=\"data row0 col0\" >Test</td>\n",
       "                        <td id=\"T_08bee974_e8ba_11ea_93a5_4865ee12e626row0_col1\" class=\"data row0 col1\" >0.418000</td>\n",
       "                        <td id=\"T_08bee974_e8ba_11ea_93a5_4865ee12e626row0_col2\" class=\"data row0 col2\" >58.835900</td>\n",
       "            </tr>\n",
       "    </tbody></table>"
      ],
      "text/plain": [
       "<pandas.io.formats.style.Styler at 0x137ef8c18>"
      ]
     },
     "metadata": {},
     "output_type": "display_data"
    }
   ],
   "source": [
    "def show_results(RESULTS,style_kws={'subset':['R2']}):\n",
    "    res = pd.concat(RESULTS).set_index('Note').groupby(\"Data\").get_group('Test')   \n",
    "    try:\n",
    "        display(res.style.background_gradient(**style_kws))\n",
    "    except:\n",
    "        display(res)\n",
    "show_results(RESULTS)"
   ]
  },
  {
   "cell_type": "code",
   "execution_count": 89,
   "metadata": {
    "ExecuteTime": {
     "end_time": "2020-08-27T23:07:09.688821Z",
     "start_time": "2020-08-27T23:07:09.656401Z"
    }
   },
   "outputs": [
    {
     "data": {
      "text/html": [
       "<div>\n",
       "<style scoped>\n",
       "    .dataframe tbody tr th:only-of-type {\n",
       "        vertical-align: middle;\n",
       "    }\n",
       "\n",
       "    .dataframe tbody tr th {\n",
       "        vertical-align: top;\n",
       "    }\n",
       "\n",
       "    .dataframe thead th {\n",
       "        text-align: right;\n",
       "    }\n",
       "</style>\n",
       "<table border=\"1\" class=\"dataframe\">\n",
       "  <thead>\n",
       "    <tr style=\"text-align: right;\">\n",
       "      <th></th>\n",
       "      <th>AGE</th>\n",
       "      <th>BMI</th>\n",
       "      <th>BP</th>\n",
       "      <th>S1</th>\n",
       "      <th>S2</th>\n",
       "      <th>S3</th>\n",
       "      <th>S4</th>\n",
       "      <th>S5</th>\n",
       "      <th>S6</th>\n",
       "      <th>female</th>\n",
       "      <th>...</th>\n",
       "      <th>S4^2</th>\n",
       "      <th>S4 S5</th>\n",
       "      <th>S4 S6</th>\n",
       "      <th>S4 female</th>\n",
       "      <th>S5^2</th>\n",
       "      <th>S5 S6</th>\n",
       "      <th>S5 female</th>\n",
       "      <th>S6^2</th>\n",
       "      <th>S6 female</th>\n",
       "      <th>female^2</th>\n",
       "    </tr>\n",
       "  </thead>\n",
       "  <tbody>\n",
       "    <tr>\n",
       "      <th>0</th>\n",
       "      <td>-0.433522</td>\n",
       "      <td>-0.967597</td>\n",
       "      <td>-2.067847</td>\n",
       "      <td>-1.623215</td>\n",
       "      <td>-1.280312</td>\n",
       "      <td>-0.347527</td>\n",
       "      <td>-0.852832</td>\n",
       "      <td>-1.095555</td>\n",
       "      <td>-1.006077</td>\n",
       "      <td>0.0</td>\n",
       "      <td>...</td>\n",
       "      <td>0.727322</td>\n",
       "      <td>0.934324</td>\n",
       "      <td>0.858015</td>\n",
       "      <td>-0.000000</td>\n",
       "      <td>1.200240</td>\n",
       "      <td>1.102213</td>\n",
       "      <td>-0.000000</td>\n",
       "      <td>1.012192</td>\n",
       "      <td>-0.000000</td>\n",
       "      <td>0.0</td>\n",
       "    </tr>\n",
       "    <tr>\n",
       "      <th>1</th>\n",
       "      <td>1.117754</td>\n",
       "      <td>-0.516691</td>\n",
       "      <td>1.142458</td>\n",
       "      <td>-0.168101</td>\n",
       "      <td>-0.129601</td>\n",
       "      <td>-0.424950</td>\n",
       "      <td>-0.083651</td>\n",
       "      <td>0.543382</td>\n",
       "      <td>-0.831901</td>\n",
       "      <td>1.0</td>\n",
       "      <td>...</td>\n",
       "      <td>0.006998</td>\n",
       "      <td>-0.045455</td>\n",
       "      <td>0.069589</td>\n",
       "      <td>-0.083651</td>\n",
       "      <td>0.295264</td>\n",
       "      <td>-0.452040</td>\n",
       "      <td>0.543382</td>\n",
       "      <td>0.692060</td>\n",
       "      <td>-0.831901</td>\n",
       "      <td>1.0</td>\n",
       "    </tr>\n",
       "    <tr>\n",
       "      <th>2</th>\n",
       "      <td>1.350445</td>\n",
       "      <td>1.850570</td>\n",
       "      <td>1.427819</td>\n",
       "      <td>0.413945</td>\n",
       "      <td>0.764667</td>\n",
       "      <td>-1.044334</td>\n",
       "      <td>1.454710</td>\n",
       "      <td>0.597504</td>\n",
       "      <td>1.519478</td>\n",
       "      <td>1.0</td>\n",
       "      <td>...</td>\n",
       "      <td>2.116182</td>\n",
       "      <td>0.869195</td>\n",
       "      <td>2.210400</td>\n",
       "      <td>1.454710</td>\n",
       "      <td>0.357011</td>\n",
       "      <td>0.907894</td>\n",
       "      <td>0.597504</td>\n",
       "      <td>2.308813</td>\n",
       "      <td>1.519478</td>\n",
       "      <td>1.0</td>\n",
       "    </tr>\n",
       "    <tr>\n",
       "      <th>3</th>\n",
       "      <td>-0.511086</td>\n",
       "      <td>-1.373413</td>\n",
       "      <td>-1.711146</td>\n",
       "      <td>-0.837453</td>\n",
       "      <td>-1.148802</td>\n",
       "      <td>1.278358</td>\n",
       "      <td>-1.622013</td>\n",
       "      <td>-0.796071</td>\n",
       "      <td>-0.918989</td>\n",
       "      <td>0.0</td>\n",
       "      <td>...</td>\n",
       "      <td>2.630925</td>\n",
       "      <td>1.291237</td>\n",
       "      <td>1.490612</td>\n",
       "      <td>-0.000000</td>\n",
       "      <td>0.633729</td>\n",
       "      <td>0.731581</td>\n",
       "      <td>-0.000000</td>\n",
       "      <td>0.844541</td>\n",
       "      <td>-0.000000</td>\n",
       "      <td>0.0</td>\n",
       "    </tr>\n",
       "    <tr>\n",
       "      <th>4</th>\n",
       "      <td>-0.743778</td>\n",
       "      <td>0.114579</td>\n",
       "      <td>-0.141664</td>\n",
       "      <td>-1.565010</td>\n",
       "      <td>-1.339491</td>\n",
       "      <td>-0.115257</td>\n",
       "      <td>-0.852832</td>\n",
       "      <td>-0.970101</td>\n",
       "      <td>0.648597</td>\n",
       "      <td>1.0</td>\n",
       "      <td>...</td>\n",
       "      <td>0.727322</td>\n",
       "      <td>0.827333</td>\n",
       "      <td>-0.553144</td>\n",
       "      <td>-0.852832</td>\n",
       "      <td>0.941095</td>\n",
       "      <td>-0.629204</td>\n",
       "      <td>-0.970101</td>\n",
       "      <td>0.420678</td>\n",
       "      <td>0.648597</td>\n",
       "      <td>1.0</td>\n",
       "    </tr>\n",
       "  </tbody>\n",
       "</table>\n",
       "<p>5 rows × 65 columns</p>\n",
       "</div>"
      ],
      "text/plain": [
       "        AGE       BMI        BP        S1        S2        S3        S4  \\\n",
       "0 -0.433522 -0.967597 -2.067847 -1.623215 -1.280312 -0.347527 -0.852832   \n",
       "1  1.117754 -0.516691  1.142458 -0.168101 -0.129601 -0.424950 -0.083651   \n",
       "2  1.350445  1.850570  1.427819  0.413945  0.764667 -1.044334  1.454710   \n",
       "3 -0.511086 -1.373413 -1.711146 -0.837453 -1.148802  1.278358 -1.622013   \n",
       "4 -0.743778  0.114579 -0.141664 -1.565010 -1.339491 -0.115257 -0.852832   \n",
       "\n",
       "         S5        S6  female  ...      S4^2     S4 S5     S4 S6  S4 female  \\\n",
       "0 -1.095555 -1.006077     0.0  ...  0.727322  0.934324  0.858015  -0.000000   \n",
       "1  0.543382 -0.831901     1.0  ...  0.006998 -0.045455  0.069589  -0.083651   \n",
       "2  0.597504  1.519478     1.0  ...  2.116182  0.869195  2.210400   1.454710   \n",
       "3 -0.796071 -0.918989     0.0  ...  2.630925  1.291237  1.490612  -0.000000   \n",
       "4 -0.970101  0.648597     1.0  ...  0.727322  0.827333 -0.553144  -0.852832   \n",
       "\n",
       "       S5^2     S5 S6  S5 female      S6^2  S6 female  female^2  \n",
       "0  1.200240  1.102213  -0.000000  1.012192  -0.000000       0.0  \n",
       "1  0.295264 -0.452040   0.543382  0.692060  -0.831901       1.0  \n",
       "2  0.357011  0.907894   0.597504  2.308813   1.519478       1.0  \n",
       "3  0.633729  0.731581  -0.000000  0.844541  -0.000000       0.0  \n",
       "4  0.941095 -0.629204  -0.970101  0.420678   0.648597       1.0  \n",
       "\n",
       "[5 rows x 65 columns]"
      ]
     },
     "execution_count": 89,
     "metadata": {},
     "output_type": "execute_result"
    }
   ],
   "source": [
    "from sklearn.preprocessing import PolynomialFeatures\n",
    "poly = PolynomialFeatures(degree=2, interaction_only=False, include_bias=False)\n",
    "\n",
    "X_poly_train = pd.DataFrame(poly.fit_transform(X_train),\n",
    "                            columns=poly.get_feature_names(features.columns))\n",
    "\n",
    "X_poly_test = pd.DataFrame(poly.transform(X_test),\n",
    "                           columns=poly.get_feature_names(features.columns))\n",
    "\n",
    "X_poly_train.head()"
   ]
  },
  {
   "cell_type": "code",
   "execution_count": 90,
   "metadata": {
    "ExecuteTime": {
     "end_time": "2020-08-27T23:07:09.724728Z",
     "start_time": "2020-08-27T23:07:09.690379Z"
    }
   },
   "outputs": [
    {
     "data": {
      "text/html": [
       "<style  type=\"text/css\" >\n",
       "#T_08c96f7a_e8ba_11ea_b5c0_4865ee12e626row0_col1{\n",
       "            background-color:  #023858;\n",
       "            color:  #f1f1f1;\n",
       "        }#T_08c96f7a_e8ba_11ea_b5c0_4865ee12e626row1_col1{\n",
       "            background-color:  #fff7fb;\n",
       "            color:  #000000;\n",
       "        }</style><table id=\"T_08c96f7a_e8ba_11ea_b5c0_4865ee12e626\" ><thead>    <tr>        <th class=\"blank level0\" ></th>        <th class=\"col_heading level0 col0\" >Data</th>        <th class=\"col_heading level0 col1\" >R2</th>        <th class=\"col_heading level0 col2\" >RMSE</th>    </tr>    <tr>        <th class=\"index_name level0\" >Note</th>        <th class=\"blank\" ></th>        <th class=\"blank\" ></th>        <th class=\"blank\" ></th>    </tr></thead><tbody>\n",
       "                <tr>\n",
       "                        <th id=\"T_08c96f7a_e8ba_11ea_b5c0_4865ee12e626level0_row0\" class=\"row_heading level0 row0\" >Baseline</th>\n",
       "                        <td id=\"T_08c96f7a_e8ba_11ea_b5c0_4865ee12e626row0_col0\" class=\"data row0 col0\" >Test</td>\n",
       "                        <td id=\"T_08c96f7a_e8ba_11ea_b5c0_4865ee12e626row0_col1\" class=\"data row0 col1\" >0.418000</td>\n",
       "                        <td id=\"T_08c96f7a_e8ba_11ea_b5c0_4865ee12e626row0_col2\" class=\"data row0 col2\" >58.835900</td>\n",
       "            </tr>\n",
       "            <tr>\n",
       "                        <th id=\"T_08c96f7a_e8ba_11ea_b5c0_4865ee12e626level0_row1\" class=\"row_heading level0 row1\" >Poly</th>\n",
       "                        <td id=\"T_08c96f7a_e8ba_11ea_b5c0_4865ee12e626row1_col0\" class=\"data row1 col0\" >Test</td>\n",
       "                        <td id=\"T_08c96f7a_e8ba_11ea_b5c0_4865ee12e626row1_col1\" class=\"data row1 col1\" >0.368900</td>\n",
       "                        <td id=\"T_08c96f7a_e8ba_11ea_b5c0_4865ee12e626row1_col2\" class=\"data row1 col2\" >61.267800</td>\n",
       "            </tr>\n",
       "    </tbody></table>"
      ],
      "text/plain": [
       "<pandas.io.formats.style.Styler at 0x13445f908>"
      ]
     },
     "metadata": {},
     "output_type": "display_data"
    }
   ],
   "source": [
    "## Make a linear regression with our X_poly data and append to RESULTS\n",
    "RESULTS.append(run_model(LinearRegression(),\n",
    "                         X_poly_train,X_poly_test,y_train,y_test,'Poly'))\n",
    "\n",
    "## Show resuls\n",
    "show_results(RESULTS)"
   ]
  },
  {
   "cell_type": "markdown",
   "metadata": {},
   "source": [
    "### Filter Methods"
   ]
  },
  {
   "cell_type": "markdown",
   "metadata": {},
   "source": [
    ">\"The benefit of filter methods is that they can provide us with some useful visualizations for helping us gain an understanding about the characteristics of our data. To begin with, let's use a simple variance threshold to eliminate the features with low variance.\""
   ]
  },
  {
   "cell_type": "code",
   "execution_count": 91,
   "metadata": {
    "ExecuteTime": {
     "end_time": "2020-08-27T23:07:09.858638Z",
     "start_time": "2020-08-27T23:07:09.726894Z"
    }
   },
   "outputs": [
    {
     "data": {
      "text/html": [
       "<style  type=\"text/css\" >\n",
       "#T_08ddbb2e_e8ba_11ea_9bad_4865ee12e626row0_col1{\n",
       "            background-color:  #023858;\n",
       "            color:  #f1f1f1;\n",
       "        }#T_08ddbb2e_e8ba_11ea_9bad_4865ee12e626row1_col1,#T_08ddbb2e_e8ba_11ea_9bad_4865ee12e626row2_col1{\n",
       "            background-color:  #045a8d;\n",
       "            color:  #f1f1f1;\n",
       "        }#T_08ddbb2e_e8ba_11ea_9bad_4865ee12e626row3_col1{\n",
       "            background-color:  #046096;\n",
       "            color:  #f1f1f1;\n",
       "        }#T_08ddbb2e_e8ba_11ea_9bad_4865ee12e626row4_col1{\n",
       "            background-color:  #045d92;\n",
       "            color:  #f1f1f1;\n",
       "        }#T_08ddbb2e_e8ba_11ea_9bad_4865ee12e626row5_col1{\n",
       "            background-color:  #fff7fb;\n",
       "            color:  #000000;\n",
       "        }#T_08ddbb2e_e8ba_11ea_9bad_4865ee12e626row6_col1{\n",
       "            background-color:  #e7e3f0;\n",
       "            color:  #000000;\n",
       "        }#T_08ddbb2e_e8ba_11ea_9bad_4865ee12e626row7_col1{\n",
       "            background-color:  #fdf5fa;\n",
       "            color:  #000000;\n",
       "        }</style><table id=\"T_08ddbb2e_e8ba_11ea_9bad_4865ee12e626\" ><thead>    <tr>        <th class=\"blank level0\" ></th>        <th class=\"col_heading level0 col0\" >Data</th>        <th class=\"col_heading level0 col1\" >R2</th>        <th class=\"col_heading level0 col2\" >RMSE</th>    </tr>    <tr>        <th class=\"index_name level0\" >Note</th>        <th class=\"blank\" ></th>        <th class=\"blank\" ></th>        <th class=\"blank\" ></th>    </tr></thead><tbody>\n",
       "                <tr>\n",
       "                        <th id=\"T_08ddbb2e_e8ba_11ea_9bad_4865ee12e626level0_row0\" class=\"row_heading level0 row0\" >Baseline</th>\n",
       "                        <td id=\"T_08ddbb2e_e8ba_11ea_9bad_4865ee12e626row0_col0\" class=\"data row0 col0\" >Test</td>\n",
       "                        <td id=\"T_08ddbb2e_e8ba_11ea_9bad_4865ee12e626row0_col1\" class=\"data row0 col1\" >0.418000</td>\n",
       "                        <td id=\"T_08ddbb2e_e8ba_11ea_9bad_4865ee12e626row0_col2\" class=\"data row0 col2\" >58.835900</td>\n",
       "            </tr>\n",
       "            <tr>\n",
       "                        <th id=\"T_08ddbb2e_e8ba_11ea_9bad_4865ee12e626level0_row1\" class=\"row_heading level0 row1\" >Poly</th>\n",
       "                        <td id=\"T_08ddbb2e_e8ba_11ea_9bad_4865ee12e626row1_col0\" class=\"data row1 col0\" >Test</td>\n",
       "                        <td id=\"T_08ddbb2e_e8ba_11ea_9bad_4865ee12e626row1_col1\" class=\"data row1 col1\" >0.368900</td>\n",
       "                        <td id=\"T_08ddbb2e_e8ba_11ea_9bad_4865ee12e626row1_col2\" class=\"data row1 col2\" >61.267800</td>\n",
       "            </tr>\n",
       "            <tr>\n",
       "                        <th id=\"T_08ddbb2e_e8ba_11ea_9bad_4865ee12e626level0_row2\" class=\"row_heading level0 row2\" >VarThresh=0.0</th>\n",
       "                        <td id=\"T_08ddbb2e_e8ba_11ea_9bad_4865ee12e626row2_col0\" class=\"data row2 col0\" >Test</td>\n",
       "                        <td id=\"T_08ddbb2e_e8ba_11ea_9bad_4865ee12e626row2_col1\" class=\"data row2 col1\" >0.368900</td>\n",
       "                        <td id=\"T_08ddbb2e_e8ba_11ea_9bad_4865ee12e626row2_col2\" class=\"data row2 col2\" >61.267800</td>\n",
       "            </tr>\n",
       "            <tr>\n",
       "                        <th id=\"T_08ddbb2e_e8ba_11ea_9bad_4865ee12e626level0_row3\" class=\"row_heading level0 row3\" >VarThresh=0.4</th>\n",
       "                        <td id=\"T_08ddbb2e_e8ba_11ea_9bad_4865ee12e626row3_col0\" class=\"data row3 col0\" >Test</td>\n",
       "                        <td id=\"T_08ddbb2e_e8ba_11ea_9bad_4865ee12e626row3_col1\" class=\"data row3 col1\" >0.358100</td>\n",
       "                        <td id=\"T_08ddbb2e_e8ba_11ea_9bad_4865ee12e626row3_col2\" class=\"data row3 col2\" >61.789200</td>\n",
       "            </tr>\n",
       "            <tr>\n",
       "                        <th id=\"T_08ddbb2e_e8ba_11ea_9bad_4865ee12e626level0_row4\" class=\"row_heading level0 row4\" >VarThresh=0.8</th>\n",
       "                        <td id=\"T_08ddbb2e_e8ba_11ea_9bad_4865ee12e626row4_col0\" class=\"data row4 col0\" >Test</td>\n",
       "                        <td id=\"T_08ddbb2e_e8ba_11ea_9bad_4865ee12e626row4_col1\" class=\"data row4 col1\" >0.364000</td>\n",
       "                        <td id=\"T_08ddbb2e_e8ba_11ea_9bad_4865ee12e626row4_col2\" class=\"data row4 col2\" >61.502900</td>\n",
       "            </tr>\n",
       "            <tr>\n",
       "                        <th id=\"T_08ddbb2e_e8ba_11ea_9bad_4865ee12e626level0_row5\" class=\"row_heading level0 row5\" >VarThresh=1.2</th>\n",
       "                        <td id=\"T_08ddbb2e_e8ba_11ea_9bad_4865ee12e626row5_col0\" class=\"data row5 col0\" >Test</td>\n",
       "                        <td id=\"T_08ddbb2e_e8ba_11ea_9bad_4865ee12e626row5_col1\" class=\"data row5 col1\" >0.036300</td>\n",
       "                        <td id=\"T_08ddbb2e_e8ba_11ea_9bad_4865ee12e626row5_col2\" class=\"data row5 col2\" >75.710100</td>\n",
       "            </tr>\n",
       "            <tr>\n",
       "                        <th id=\"T_08ddbb2e_e8ba_11ea_9bad_4865ee12e626level0_row6\" class=\"row_heading level0 row6\" >VarThresh=1.6</th>\n",
       "                        <td id=\"T_08ddbb2e_e8ba_11ea_9bad_4865ee12e626row6_col0\" class=\"data row6 col0\" >Test</td>\n",
       "                        <td id=\"T_08ddbb2e_e8ba_11ea_9bad_4865ee12e626row6_col1\" class=\"data row6 col1\" >0.092700</td>\n",
       "                        <td id=\"T_08ddbb2e_e8ba_11ea_9bad_4865ee12e626row6_col2\" class=\"data row6 col2\" >73.459300</td>\n",
       "            </tr>\n",
       "            <tr>\n",
       "                        <th id=\"T_08ddbb2e_e8ba_11ea_9bad_4865ee12e626level0_row7\" class=\"row_heading level0 row7\" >VarThresh=2.0</th>\n",
       "                        <td id=\"T_08ddbb2e_e8ba_11ea_9bad_4865ee12e626row7_col0\" class=\"data row7 col0\" >Test</td>\n",
       "                        <td id=\"T_08ddbb2e_e8ba_11ea_9bad_4865ee12e626row7_col1\" class=\"data row7 col1\" >0.042000</td>\n",
       "                        <td id=\"T_08ddbb2e_e8ba_11ea_9bad_4865ee12e626row7_col2\" class=\"data row7 col2\" >75.483900</td>\n",
       "            </tr>\n",
       "    </tbody></table>"
      ],
      "text/plain": [
       "<pandas.io.formats.style.Styler at 0x137b1a9e8>"
      ]
     },
     "metadata": {},
     "output_type": "display_data"
    }
   ],
   "source": [
    "## Filter Methods\n",
    "from sklearn.feature_selection import VarianceThreshold\n",
    "\n",
    "threshold_ranges = np.linspace(0, 2, num=6)\n",
    "\n",
    "results = []\n",
    "for thresh in threshold_ranges:\n",
    "#     print(thresh)\n",
    "    selector = VarianceThreshold(thresh)\n",
    "    reduced_feature_train = selector.fit_transform(X_poly_train)\n",
    "    reduced_feature_test = selector.transform(X_poly_test)\n",
    "    lr = LinearRegression()\n",
    "    lr.fit(reduced_feature_train, y_train)\n",
    "    res = run_model(lr, reduced_feature_train, reduced_feature_test,\n",
    "                    y_train, y_test,f\"VarThresh={round(thresh,3)}\")\n",
    "    \n",
    "    results.append(res)\n",
    "\n",
    "res_df = pd.concat(results)\n",
    "RESULTS.append(res_df)\n",
    "show_results(RESULTS)"
   ]
  },
  {
   "cell_type": "markdown",
   "metadata": {},
   "source": [
    "> Well, that did not seem to eliminate the features very well. It only does a little better than the base polynomial. "
   ]
  },
  {
   "cell_type": "code",
   "execution_count": 92,
   "metadata": {
    "ExecuteTime": {
     "end_time": "2020-08-27T23:07:09.883849Z",
     "start_time": "2020-08-27T23:07:09.860560Z"
    }
   },
   "outputs": [],
   "source": [
    "from sklearn.feature_selection import f_regression, mutual_info_regression, SelectKBest\n",
    "selector = SelectKBest(score_func=f_regression)\n",
    "X_k_best_train = selector.fit_transform(X_poly_train, y_train)\n",
    "X_k_best_test= selector.transform(X_poly_test)\n",
    "lr = LinearRegression()\n",
    "lr.fit(X_k_best_train ,y_train)\n",
    "RESULTS.append(run_model(lr,X_k_best_train,X_k_best_test,y_train,y_test,'KBest-f_regr'))"
   ]
  },
  {
   "cell_type": "code",
   "execution_count": 93,
   "metadata": {
    "ExecuteTime": {
     "end_time": "2020-08-27T23:07:10.300588Z",
     "start_time": "2020-08-27T23:07:09.885707Z"
    }
   },
   "outputs": [],
   "source": [
    "selector = SelectKBest(score_func=mutual_info_regression)\n",
    "X_k_best_train = selector.fit_transform(X_poly_train, y_train)\n",
    "X_k_best_test= selector.transform(X_poly_test)\n",
    "lr = LinearRegression()\n",
    "lr.fit(X_k_best_train ,y_train)\n",
    "RESULTS.append(run_model(lr,X_k_best_train,X_k_best_test,y_train,y_test,'KBest-mutual_info'))"
   ]
  },
  {
   "cell_type": "code",
   "execution_count": 94,
   "metadata": {
    "ExecuteTime": {
     "end_time": "2020-08-27T23:07:10.318311Z",
     "start_time": "2020-08-27T23:07:10.301996Z"
    }
   },
   "outputs": [
    {
     "data": {
      "text/html": [
       "<style  type=\"text/css\" >\n",
       "#T_0923f698_e8ba_11ea_9d0b_4865ee12e626row0_col1{\n",
       "            background-color:  #023c5f;\n",
       "            color:  #f1f1f1;\n",
       "        }#T_0923f698_e8ba_11ea_9d0b_4865ee12e626row1_col1,#T_0923f698_e8ba_11ea_9d0b_4865ee12e626row2_col1{\n",
       "            background-color:  #045d92;\n",
       "            color:  #f1f1f1;\n",
       "        }#T_0923f698_e8ba_11ea_9d0b_4865ee12e626row3_col1{\n",
       "            background-color:  #04629a;\n",
       "            color:  #f1f1f1;\n",
       "        }#T_0923f698_e8ba_11ea_9d0b_4865ee12e626row4_col1{\n",
       "            background-color:  #046096;\n",
       "            color:  #f1f1f1;\n",
       "        }#T_0923f698_e8ba_11ea_9d0b_4865ee12e626row5_col1{\n",
       "            background-color:  #fff7fb;\n",
       "            color:  #000000;\n",
       "        }#T_0923f698_e8ba_11ea_9d0b_4865ee12e626row6_col1{\n",
       "            background-color:  #e7e3f0;\n",
       "            color:  #000000;\n",
       "        }#T_0923f698_e8ba_11ea_9d0b_4865ee12e626row7_col1{\n",
       "            background-color:  #fdf5fa;\n",
       "            color:  #000000;\n",
       "        }#T_0923f698_e8ba_11ea_9d0b_4865ee12e626row8_col1{\n",
       "            background-color:  #023858;\n",
       "            color:  #f1f1f1;\n",
       "        }#T_0923f698_e8ba_11ea_9d0b_4865ee12e626row9_col1{\n",
       "            background-color:  #023d60;\n",
       "            color:  #f1f1f1;\n",
       "        }</style><table id=\"T_0923f698_e8ba_11ea_9d0b_4865ee12e626\" ><thead>    <tr>        <th class=\"blank level0\" ></th>        <th class=\"col_heading level0 col0\" >Data</th>        <th class=\"col_heading level0 col1\" >R2</th>        <th class=\"col_heading level0 col2\" >RMSE</th>    </tr>    <tr>        <th class=\"index_name level0\" >Note</th>        <th class=\"blank\" ></th>        <th class=\"blank\" ></th>        <th class=\"blank\" ></th>    </tr></thead><tbody>\n",
       "                <tr>\n",
       "                        <th id=\"T_0923f698_e8ba_11ea_9d0b_4865ee12e626level0_row0\" class=\"row_heading level0 row0\" >Baseline</th>\n",
       "                        <td id=\"T_0923f698_e8ba_11ea_9d0b_4865ee12e626row0_col0\" class=\"data row0 col0\" >Test</td>\n",
       "                        <td id=\"T_0923f698_e8ba_11ea_9d0b_4865ee12e626row0_col1\" class=\"data row0 col1\" >0.418000</td>\n",
       "                        <td id=\"T_0923f698_e8ba_11ea_9d0b_4865ee12e626row0_col2\" class=\"data row0 col2\" >58.835900</td>\n",
       "            </tr>\n",
       "            <tr>\n",
       "                        <th id=\"T_0923f698_e8ba_11ea_9d0b_4865ee12e626level0_row1\" class=\"row_heading level0 row1\" >Poly</th>\n",
       "                        <td id=\"T_0923f698_e8ba_11ea_9d0b_4865ee12e626row1_col0\" class=\"data row1 col0\" >Test</td>\n",
       "                        <td id=\"T_0923f698_e8ba_11ea_9d0b_4865ee12e626row1_col1\" class=\"data row1 col1\" >0.368900</td>\n",
       "                        <td id=\"T_0923f698_e8ba_11ea_9d0b_4865ee12e626row1_col2\" class=\"data row1 col2\" >61.267800</td>\n",
       "            </tr>\n",
       "            <tr>\n",
       "                        <th id=\"T_0923f698_e8ba_11ea_9d0b_4865ee12e626level0_row2\" class=\"row_heading level0 row2\" >VarThresh=0.0</th>\n",
       "                        <td id=\"T_0923f698_e8ba_11ea_9d0b_4865ee12e626row2_col0\" class=\"data row2 col0\" >Test</td>\n",
       "                        <td id=\"T_0923f698_e8ba_11ea_9d0b_4865ee12e626row2_col1\" class=\"data row2 col1\" >0.368900</td>\n",
       "                        <td id=\"T_0923f698_e8ba_11ea_9d0b_4865ee12e626row2_col2\" class=\"data row2 col2\" >61.267800</td>\n",
       "            </tr>\n",
       "            <tr>\n",
       "                        <th id=\"T_0923f698_e8ba_11ea_9d0b_4865ee12e626level0_row3\" class=\"row_heading level0 row3\" >VarThresh=0.4</th>\n",
       "                        <td id=\"T_0923f698_e8ba_11ea_9d0b_4865ee12e626row3_col0\" class=\"data row3 col0\" >Test</td>\n",
       "                        <td id=\"T_0923f698_e8ba_11ea_9d0b_4865ee12e626row3_col1\" class=\"data row3 col1\" >0.358100</td>\n",
       "                        <td id=\"T_0923f698_e8ba_11ea_9d0b_4865ee12e626row3_col2\" class=\"data row3 col2\" >61.789200</td>\n",
       "            </tr>\n",
       "            <tr>\n",
       "                        <th id=\"T_0923f698_e8ba_11ea_9d0b_4865ee12e626level0_row4\" class=\"row_heading level0 row4\" >VarThresh=0.8</th>\n",
       "                        <td id=\"T_0923f698_e8ba_11ea_9d0b_4865ee12e626row4_col0\" class=\"data row4 col0\" >Test</td>\n",
       "                        <td id=\"T_0923f698_e8ba_11ea_9d0b_4865ee12e626row4_col1\" class=\"data row4 col1\" >0.364000</td>\n",
       "                        <td id=\"T_0923f698_e8ba_11ea_9d0b_4865ee12e626row4_col2\" class=\"data row4 col2\" >61.502900</td>\n",
       "            </tr>\n",
       "            <tr>\n",
       "                        <th id=\"T_0923f698_e8ba_11ea_9d0b_4865ee12e626level0_row5\" class=\"row_heading level0 row5\" >VarThresh=1.2</th>\n",
       "                        <td id=\"T_0923f698_e8ba_11ea_9d0b_4865ee12e626row5_col0\" class=\"data row5 col0\" >Test</td>\n",
       "                        <td id=\"T_0923f698_e8ba_11ea_9d0b_4865ee12e626row5_col1\" class=\"data row5 col1\" >0.036300</td>\n",
       "                        <td id=\"T_0923f698_e8ba_11ea_9d0b_4865ee12e626row5_col2\" class=\"data row5 col2\" >75.710100</td>\n",
       "            </tr>\n",
       "            <tr>\n",
       "                        <th id=\"T_0923f698_e8ba_11ea_9d0b_4865ee12e626level0_row6\" class=\"row_heading level0 row6\" >VarThresh=1.6</th>\n",
       "                        <td id=\"T_0923f698_e8ba_11ea_9d0b_4865ee12e626row6_col0\" class=\"data row6 col0\" >Test</td>\n",
       "                        <td id=\"T_0923f698_e8ba_11ea_9d0b_4865ee12e626row6_col1\" class=\"data row6 col1\" >0.092700</td>\n",
       "                        <td id=\"T_0923f698_e8ba_11ea_9d0b_4865ee12e626row6_col2\" class=\"data row6 col2\" >73.459300</td>\n",
       "            </tr>\n",
       "            <tr>\n",
       "                        <th id=\"T_0923f698_e8ba_11ea_9d0b_4865ee12e626level0_row7\" class=\"row_heading level0 row7\" >VarThresh=2.0</th>\n",
       "                        <td id=\"T_0923f698_e8ba_11ea_9d0b_4865ee12e626row7_col0\" class=\"data row7 col0\" >Test</td>\n",
       "                        <td id=\"T_0923f698_e8ba_11ea_9d0b_4865ee12e626row7_col1\" class=\"data row7 col1\" >0.042000</td>\n",
       "                        <td id=\"T_0923f698_e8ba_11ea_9d0b_4865ee12e626row7_col2\" class=\"data row7 col2\" >75.483900</td>\n",
       "            </tr>\n",
       "            <tr>\n",
       "                        <th id=\"T_0923f698_e8ba_11ea_9d0b_4865ee12e626level0_row8\" class=\"row_heading level0 row8\" >KBest-f_regr</th>\n",
       "                        <td id=\"T_0923f698_e8ba_11ea_9d0b_4865ee12e626row8_col0\" class=\"data row8 col0\" >Test</td>\n",
       "                        <td id=\"T_0923f698_e8ba_11ea_9d0b_4865ee12e626row8_col1\" class=\"data row8 col1\" >0.425000</td>\n",
       "                        <td id=\"T_0923f698_e8ba_11ea_9d0b_4865ee12e626row8_col2\" class=\"data row8 col2\" >58.479900</td>\n",
       "            </tr>\n",
       "            <tr>\n",
       "                        <th id=\"T_0923f698_e8ba_11ea_9d0b_4865ee12e626level0_row9\" class=\"row_heading level0 row9\" >KBest-mutual_info</th>\n",
       "                        <td id=\"T_0923f698_e8ba_11ea_9d0b_4865ee12e626row9_col0\" class=\"data row9 col0\" >Test</td>\n",
       "                        <td id=\"T_0923f698_e8ba_11ea_9d0b_4865ee12e626row9_col1\" class=\"data row9 col1\" >0.416500</td>\n",
       "                        <td id=\"T_0923f698_e8ba_11ea_9d0b_4865ee12e626row9_col2\" class=\"data row9 col2\" >58.912800</td>\n",
       "            </tr>\n",
       "    </tbody></table>"
      ],
      "text/plain": [
       "<pandas.io.formats.style.Styler at 0x137f828d0>"
      ]
     },
     "metadata": {},
     "output_type": "display_data"
    }
   ],
   "source": [
    "show_results(RESULTS)"
   ]
  },
  {
   "cell_type": "markdown",
   "metadata": {},
   "source": [
    "> Well, that did not seem to eliminate the features very well. It only does a little better than the base polynomial. "
   ]
  },
  {
   "cell_type": "markdown",
   "metadata": {},
   "source": [
    "### Wrapper methods\n",
    "\n",
    "> Now let's use Recursive Feature elimination (RFE) to try out a wrapper method. You'll notice that scikit-learn has a built in `RFECV()` function, which automatically determines the optimal number of features to keep when it is run based off the estimator that is passed into it. Here it is in action: "
   ]
  },
  {
   "cell_type": "code",
   "execution_count": 95,
   "metadata": {
    "ExecuteTime": {
     "end_time": "2020-08-27T23:07:11.131259Z",
     "start_time": "2020-08-27T23:07:10.320169Z"
    }
   },
   "outputs": [],
   "source": [
    "from sklearn.feature_selection import RFE, RFECV\n",
    "from sklearn.linear_model import LinearRegression\n",
    "\n",
    "rfe = RFECV(LinearRegression(),cv=5)\n",
    "X_rfe_train = rfe.fit_transform(X_poly_train, y_train)\n",
    "X_rfe_test = rfe.transform(X_poly_test)\n",
    "lm = LinearRegression().fit(X_rfe_train, y_train)\n",
    "RESULTS.append(run_model(lm, X_rfe_train, X_rfe_test, y_train, y_test,f'RFE w. {rfe.n_features_} feats'))\n",
    "# print ('The optimal number of features is: ', rfe.n_features_)"
   ]
  },
  {
   "cell_type": "markdown",
   "metadata": {},
   "source": [
    "## Embedded methods  \n",
    "> To compare to our other methods, we will use Lasso as the embedded method of feature selection. Luckily for us, sklearn has a built-in method to help us find the optimal features! It performs cross validation to determine the correct regularization parameter (how much to penalize our function)."
   ]
  },
  {
   "cell_type": "code",
   "execution_count": 96,
   "metadata": {
    "ExecuteTime": {
     "end_time": "2020-08-27T23:07:11.325330Z",
     "start_time": "2020-08-27T23:07:11.133293Z"
    }
   },
   "outputs": [],
   "source": [
    "from sklearn.linear_model import LassoCV\n",
    "lasso = LassoCV(max_iter=100000, cv=5)\n",
    "lasso.fit(X_train, y_train)\n",
    "RESULTS.append(run_model(lasso,X_train, X_test, y_train, y_test,f'Lasso - X data'))\n",
    "# print('The optimal alpha for the Lasso Regression is: ', lasso.alpha_)"
   ]
  },
  {
   "cell_type": "markdown",
   "metadata": {},
   "source": [
    "> Let's compare this to a model with all of the polynomial features included."
   ]
  },
  {
   "cell_type": "code",
   "execution_count": 97,
   "metadata": {
    "ExecuteTime": {
     "end_time": "2020-08-27T23:07:12.261670Z",
     "start_time": "2020-08-27T23:07:11.327479Z"
    }
   },
   "outputs": [],
   "source": [
    "lasso2 = LassoCV(max_iter=100000, cv=5)\n",
    "lasso2.fit(X_poly_train, y_train)\n",
    "\n",
    "RESULTS.append(run_model(lasso2, X_poly_train, X_poly_test, y_train, y_test,f'Lasso Poly '))\n",
    "# print('The optimal alpha for the Lasso Regression is: ', lasso2.alpha_)"
   ]
  },
  {
   "cell_type": "code",
   "execution_count": 98,
   "metadata": {
    "ExecuteTime": {
     "end_time": "2020-08-27T23:07:12.290017Z",
     "start_time": "2020-08-27T23:07:12.264099Z"
    }
   },
   "outputs": [
    {
     "data": {
      "text/html": [
       "<style  type=\"text/css\" >\n",
       "#T_0a506240_e8ba_11ea_b3eb_4865ee12e626row12_col1{\n",
       "            background-color:  yellow;\n",
       "        }</style><table id=\"T_0a506240_e8ba_11ea_b3eb_4865ee12e626\" ><thead>    <tr>        <th class=\"blank level0\" ></th>        <th class=\"col_heading level0 col0\" >Data</th>        <th class=\"col_heading level0 col1\" >R2</th>        <th class=\"col_heading level0 col2\" >RMSE</th>    </tr>    <tr>        <th class=\"index_name level0\" >Note</th>        <th class=\"blank\" ></th>        <th class=\"blank\" ></th>        <th class=\"blank\" ></th>    </tr></thead><tbody>\n",
       "                <tr>\n",
       "                        <th id=\"T_0a506240_e8ba_11ea_b3eb_4865ee12e626level0_row0\" class=\"row_heading level0 row0\" >Baseline</th>\n",
       "                        <td id=\"T_0a506240_e8ba_11ea_b3eb_4865ee12e626row0_col0\" class=\"data row0 col0\" >Test</td>\n",
       "                        <td id=\"T_0a506240_e8ba_11ea_b3eb_4865ee12e626row0_col1\" class=\"data row0 col1\" >0.418000</td>\n",
       "                        <td id=\"T_0a506240_e8ba_11ea_b3eb_4865ee12e626row0_col2\" class=\"data row0 col2\" >58.835900</td>\n",
       "            </tr>\n",
       "            <tr>\n",
       "                        <th id=\"T_0a506240_e8ba_11ea_b3eb_4865ee12e626level0_row1\" class=\"row_heading level0 row1\" >Poly</th>\n",
       "                        <td id=\"T_0a506240_e8ba_11ea_b3eb_4865ee12e626row1_col0\" class=\"data row1 col0\" >Test</td>\n",
       "                        <td id=\"T_0a506240_e8ba_11ea_b3eb_4865ee12e626row1_col1\" class=\"data row1 col1\" >0.368900</td>\n",
       "                        <td id=\"T_0a506240_e8ba_11ea_b3eb_4865ee12e626row1_col2\" class=\"data row1 col2\" >61.267800</td>\n",
       "            </tr>\n",
       "            <tr>\n",
       "                        <th id=\"T_0a506240_e8ba_11ea_b3eb_4865ee12e626level0_row2\" class=\"row_heading level0 row2\" >VarThresh=0.0</th>\n",
       "                        <td id=\"T_0a506240_e8ba_11ea_b3eb_4865ee12e626row2_col0\" class=\"data row2 col0\" >Test</td>\n",
       "                        <td id=\"T_0a506240_e8ba_11ea_b3eb_4865ee12e626row2_col1\" class=\"data row2 col1\" >0.368900</td>\n",
       "                        <td id=\"T_0a506240_e8ba_11ea_b3eb_4865ee12e626row2_col2\" class=\"data row2 col2\" >61.267800</td>\n",
       "            </tr>\n",
       "            <tr>\n",
       "                        <th id=\"T_0a506240_e8ba_11ea_b3eb_4865ee12e626level0_row3\" class=\"row_heading level0 row3\" >VarThresh=0.4</th>\n",
       "                        <td id=\"T_0a506240_e8ba_11ea_b3eb_4865ee12e626row3_col0\" class=\"data row3 col0\" >Test</td>\n",
       "                        <td id=\"T_0a506240_e8ba_11ea_b3eb_4865ee12e626row3_col1\" class=\"data row3 col1\" >0.358100</td>\n",
       "                        <td id=\"T_0a506240_e8ba_11ea_b3eb_4865ee12e626row3_col2\" class=\"data row3 col2\" >61.789200</td>\n",
       "            </tr>\n",
       "            <tr>\n",
       "                        <th id=\"T_0a506240_e8ba_11ea_b3eb_4865ee12e626level0_row4\" class=\"row_heading level0 row4\" >VarThresh=0.8</th>\n",
       "                        <td id=\"T_0a506240_e8ba_11ea_b3eb_4865ee12e626row4_col0\" class=\"data row4 col0\" >Test</td>\n",
       "                        <td id=\"T_0a506240_e8ba_11ea_b3eb_4865ee12e626row4_col1\" class=\"data row4 col1\" >0.364000</td>\n",
       "                        <td id=\"T_0a506240_e8ba_11ea_b3eb_4865ee12e626row4_col2\" class=\"data row4 col2\" >61.502900</td>\n",
       "            </tr>\n",
       "            <tr>\n",
       "                        <th id=\"T_0a506240_e8ba_11ea_b3eb_4865ee12e626level0_row5\" class=\"row_heading level0 row5\" >VarThresh=1.2</th>\n",
       "                        <td id=\"T_0a506240_e8ba_11ea_b3eb_4865ee12e626row5_col0\" class=\"data row5 col0\" >Test</td>\n",
       "                        <td id=\"T_0a506240_e8ba_11ea_b3eb_4865ee12e626row5_col1\" class=\"data row5 col1\" >0.036300</td>\n",
       "                        <td id=\"T_0a506240_e8ba_11ea_b3eb_4865ee12e626row5_col2\" class=\"data row5 col2\" >75.710100</td>\n",
       "            </tr>\n",
       "            <tr>\n",
       "                        <th id=\"T_0a506240_e8ba_11ea_b3eb_4865ee12e626level0_row6\" class=\"row_heading level0 row6\" >VarThresh=1.6</th>\n",
       "                        <td id=\"T_0a506240_e8ba_11ea_b3eb_4865ee12e626row6_col0\" class=\"data row6 col0\" >Test</td>\n",
       "                        <td id=\"T_0a506240_e8ba_11ea_b3eb_4865ee12e626row6_col1\" class=\"data row6 col1\" >0.092700</td>\n",
       "                        <td id=\"T_0a506240_e8ba_11ea_b3eb_4865ee12e626row6_col2\" class=\"data row6 col2\" >73.459300</td>\n",
       "            </tr>\n",
       "            <tr>\n",
       "                        <th id=\"T_0a506240_e8ba_11ea_b3eb_4865ee12e626level0_row7\" class=\"row_heading level0 row7\" >VarThresh=2.0</th>\n",
       "                        <td id=\"T_0a506240_e8ba_11ea_b3eb_4865ee12e626row7_col0\" class=\"data row7 col0\" >Test</td>\n",
       "                        <td id=\"T_0a506240_e8ba_11ea_b3eb_4865ee12e626row7_col1\" class=\"data row7 col1\" >0.042000</td>\n",
       "                        <td id=\"T_0a506240_e8ba_11ea_b3eb_4865ee12e626row7_col2\" class=\"data row7 col2\" >75.483900</td>\n",
       "            </tr>\n",
       "            <tr>\n",
       "                        <th id=\"T_0a506240_e8ba_11ea_b3eb_4865ee12e626level0_row8\" class=\"row_heading level0 row8\" >KBest-f_regr</th>\n",
       "                        <td id=\"T_0a506240_e8ba_11ea_b3eb_4865ee12e626row8_col0\" class=\"data row8 col0\" >Test</td>\n",
       "                        <td id=\"T_0a506240_e8ba_11ea_b3eb_4865ee12e626row8_col1\" class=\"data row8 col1\" >0.425000</td>\n",
       "                        <td id=\"T_0a506240_e8ba_11ea_b3eb_4865ee12e626row8_col2\" class=\"data row8 col2\" >58.479900</td>\n",
       "            </tr>\n",
       "            <tr>\n",
       "                        <th id=\"T_0a506240_e8ba_11ea_b3eb_4865ee12e626level0_row9\" class=\"row_heading level0 row9\" >KBest-mutual_info</th>\n",
       "                        <td id=\"T_0a506240_e8ba_11ea_b3eb_4865ee12e626row9_col0\" class=\"data row9 col0\" >Test</td>\n",
       "                        <td id=\"T_0a506240_e8ba_11ea_b3eb_4865ee12e626row9_col1\" class=\"data row9 col1\" >0.416500</td>\n",
       "                        <td id=\"T_0a506240_e8ba_11ea_b3eb_4865ee12e626row9_col2\" class=\"data row9 col2\" >58.912800</td>\n",
       "            </tr>\n",
       "            <tr>\n",
       "                        <th id=\"T_0a506240_e8ba_11ea_b3eb_4865ee12e626level0_row10\" class=\"row_heading level0 row10\" >RFE w. 10 feats</th>\n",
       "                        <td id=\"T_0a506240_e8ba_11ea_b3eb_4865ee12e626row10_col0\" class=\"data row10 col0\" >Test</td>\n",
       "                        <td id=\"T_0a506240_e8ba_11ea_b3eb_4865ee12e626row10_col1\" class=\"data row10 col1\" >0.374200</td>\n",
       "                        <td id=\"T_0a506240_e8ba_11ea_b3eb_4865ee12e626row10_col2\" class=\"data row10 col2\" >61.009600</td>\n",
       "            </tr>\n",
       "            <tr>\n",
       "                        <th id=\"T_0a506240_e8ba_11ea_b3eb_4865ee12e626level0_row11\" class=\"row_heading level0 row11\" >Lasso - X data</th>\n",
       "                        <td id=\"T_0a506240_e8ba_11ea_b3eb_4865ee12e626row11_col0\" class=\"data row11 col0\" >Test</td>\n",
       "                        <td id=\"T_0a506240_e8ba_11ea_b3eb_4865ee12e626row11_col1\" class=\"data row11 col1\" >0.426700</td>\n",
       "                        <td id=\"T_0a506240_e8ba_11ea_b3eb_4865ee12e626row11_col2\" class=\"data row11 col2\" >58.393100</td>\n",
       "            </tr>\n",
       "            <tr>\n",
       "                        <th id=\"T_0a506240_e8ba_11ea_b3eb_4865ee12e626level0_row12\" class=\"row_heading level0 row12\" >Lasso Poly </th>\n",
       "                        <td id=\"T_0a506240_e8ba_11ea_b3eb_4865ee12e626row12_col0\" class=\"data row12 col0\" >Test</td>\n",
       "                        <td id=\"T_0a506240_e8ba_11ea_b3eb_4865ee12e626row12_col1\" class=\"data row12 col1\" >0.430700</td>\n",
       "                        <td id=\"T_0a506240_e8ba_11ea_b3eb_4865ee12e626row12_col2\" class=\"data row12 col2\" >58.191400</td>\n",
       "            </tr>\n",
       "    </tbody></table>"
      ],
      "text/plain": [
       "<pandas.io.formats.style.Styler at 0x12d8d4d68>"
      ]
     },
     "execution_count": 98,
     "metadata": {},
     "output_type": "execute_result"
    }
   ],
   "source": [
    "res_df = pd.concat(RESULTS)\n",
    "test_res = res_df.groupby('Data').get_group('Test')\n",
    "test_res.set_index(['Note']).style.highlight_max('R2')#.sort_values('MSE',ascending=True)#.groupby('Data').get_group('Test')\n"
   ]
  },
  {
   "cell_type": "code",
   "execution_count": 99,
   "metadata": {
    "ExecuteTime": {
     "end_time": "2020-08-27T23:07:12.316763Z",
     "start_time": "2020-08-27T23:07:12.292056Z"
    }
   },
   "outputs": [
    {
     "data": {
      "text/html": [
       "<style  type=\"text/css\" >\n",
       "#T_0a5472c2_e8ba_11ea_a923_4865ee12e626row0_col2{\n",
       "            background-color:  #005020;\n",
       "            color:  #f1f1f1;\n",
       "        }#T_0a5472c2_e8ba_11ea_a923_4865ee12e626row1_col2,#T_0a5472c2_e8ba_11ea_a923_4865ee12e626row2_col2{\n",
       "            background-color:  #0d7836;\n",
       "            color:  #f1f1f1;\n",
       "        }#T_0a5472c2_e8ba_11ea_a923_4865ee12e626row3_col2{\n",
       "            background-color:  #16803c;\n",
       "            color:  #f1f1f1;\n",
       "        }#T_0a5472c2_e8ba_11ea_a923_4865ee12e626row4_col2{\n",
       "            background-color:  #127c39;\n",
       "            color:  #f1f1f1;\n",
       "        }#T_0a5472c2_e8ba_11ea_a923_4865ee12e626row5_col2{\n",
       "            background-color:  #f7fcf5;\n",
       "            color:  #000000;\n",
       "        }#T_0a5472c2_e8ba_11ea_a923_4865ee12e626row6_col2{\n",
       "            background-color:  #e5f5e0;\n",
       "            color:  #000000;\n",
       "        }#T_0a5472c2_e8ba_11ea_a923_4865ee12e626row7_col2{\n",
       "            background-color:  #f5fbf3;\n",
       "            color:  #000000;\n",
       "        }#T_0a5472c2_e8ba_11ea_a923_4865ee12e626row8_col2{\n",
       "            background-color:  #00491d;\n",
       "            color:  #f1f1f1;\n",
       "        }#T_0a5472c2_e8ba_11ea_a923_4865ee12e626row9_col2{\n",
       "            background-color:  #005120;\n",
       "            color:  #f1f1f1;\n",
       "        }#T_0a5472c2_e8ba_11ea_a923_4865ee12e626row10_col2{\n",
       "            background-color:  #0a7633;\n",
       "            color:  #f1f1f1;\n",
       "        }#T_0a5472c2_e8ba_11ea_a923_4865ee12e626row11_col2{\n",
       "            background-color:  #00471c;\n",
       "            color:  #f1f1f1;\n",
       "        }#T_0a5472c2_e8ba_11ea_a923_4865ee12e626row12_col2{\n",
       "            background-color:  #00441b;\n",
       "            color:  #f1f1f1;\n",
       "        }</style><table id=\"T_0a5472c2_e8ba_11ea_a923_4865ee12e626\" ><thead>    <tr>        <th class=\"blank level0\" ></th>        <th class=\"col_heading level0 col0\" >Data</th>        <th class=\"col_heading level0 col1\" >R2</th>        <th class=\"col_heading level0 col2\" >RMSE</th>    </tr>    <tr>        <th class=\"index_name level0\" >Note</th>        <th class=\"blank\" ></th>        <th class=\"blank\" ></th>        <th class=\"blank\" ></th>    </tr></thead><tbody>\n",
       "                <tr>\n",
       "                        <th id=\"T_0a5472c2_e8ba_11ea_a923_4865ee12e626level0_row0\" class=\"row_heading level0 row0\" >Baseline</th>\n",
       "                        <td id=\"T_0a5472c2_e8ba_11ea_a923_4865ee12e626row0_col0\" class=\"data row0 col0\" >Test</td>\n",
       "                        <td id=\"T_0a5472c2_e8ba_11ea_a923_4865ee12e626row0_col1\" class=\"data row0 col1\" >0.418000</td>\n",
       "                        <td id=\"T_0a5472c2_e8ba_11ea_a923_4865ee12e626row0_col2\" class=\"data row0 col2\" >58.835900</td>\n",
       "            </tr>\n",
       "            <tr>\n",
       "                        <th id=\"T_0a5472c2_e8ba_11ea_a923_4865ee12e626level0_row1\" class=\"row_heading level0 row1\" >Poly</th>\n",
       "                        <td id=\"T_0a5472c2_e8ba_11ea_a923_4865ee12e626row1_col0\" class=\"data row1 col0\" >Test</td>\n",
       "                        <td id=\"T_0a5472c2_e8ba_11ea_a923_4865ee12e626row1_col1\" class=\"data row1 col1\" >0.368900</td>\n",
       "                        <td id=\"T_0a5472c2_e8ba_11ea_a923_4865ee12e626row1_col2\" class=\"data row1 col2\" >61.267800</td>\n",
       "            </tr>\n",
       "            <tr>\n",
       "                        <th id=\"T_0a5472c2_e8ba_11ea_a923_4865ee12e626level0_row2\" class=\"row_heading level0 row2\" >VarThresh=0.0</th>\n",
       "                        <td id=\"T_0a5472c2_e8ba_11ea_a923_4865ee12e626row2_col0\" class=\"data row2 col0\" >Test</td>\n",
       "                        <td id=\"T_0a5472c2_e8ba_11ea_a923_4865ee12e626row2_col1\" class=\"data row2 col1\" >0.368900</td>\n",
       "                        <td id=\"T_0a5472c2_e8ba_11ea_a923_4865ee12e626row2_col2\" class=\"data row2 col2\" >61.267800</td>\n",
       "            </tr>\n",
       "            <tr>\n",
       "                        <th id=\"T_0a5472c2_e8ba_11ea_a923_4865ee12e626level0_row3\" class=\"row_heading level0 row3\" >VarThresh=0.4</th>\n",
       "                        <td id=\"T_0a5472c2_e8ba_11ea_a923_4865ee12e626row3_col0\" class=\"data row3 col0\" >Test</td>\n",
       "                        <td id=\"T_0a5472c2_e8ba_11ea_a923_4865ee12e626row3_col1\" class=\"data row3 col1\" >0.358100</td>\n",
       "                        <td id=\"T_0a5472c2_e8ba_11ea_a923_4865ee12e626row3_col2\" class=\"data row3 col2\" >61.789200</td>\n",
       "            </tr>\n",
       "            <tr>\n",
       "                        <th id=\"T_0a5472c2_e8ba_11ea_a923_4865ee12e626level0_row4\" class=\"row_heading level0 row4\" >VarThresh=0.8</th>\n",
       "                        <td id=\"T_0a5472c2_e8ba_11ea_a923_4865ee12e626row4_col0\" class=\"data row4 col0\" >Test</td>\n",
       "                        <td id=\"T_0a5472c2_e8ba_11ea_a923_4865ee12e626row4_col1\" class=\"data row4 col1\" >0.364000</td>\n",
       "                        <td id=\"T_0a5472c2_e8ba_11ea_a923_4865ee12e626row4_col2\" class=\"data row4 col2\" >61.502900</td>\n",
       "            </tr>\n",
       "            <tr>\n",
       "                        <th id=\"T_0a5472c2_e8ba_11ea_a923_4865ee12e626level0_row5\" class=\"row_heading level0 row5\" >VarThresh=1.2</th>\n",
       "                        <td id=\"T_0a5472c2_e8ba_11ea_a923_4865ee12e626row5_col0\" class=\"data row5 col0\" >Test</td>\n",
       "                        <td id=\"T_0a5472c2_e8ba_11ea_a923_4865ee12e626row5_col1\" class=\"data row5 col1\" >0.036300</td>\n",
       "                        <td id=\"T_0a5472c2_e8ba_11ea_a923_4865ee12e626row5_col2\" class=\"data row5 col2\" >75.710100</td>\n",
       "            </tr>\n",
       "            <tr>\n",
       "                        <th id=\"T_0a5472c2_e8ba_11ea_a923_4865ee12e626level0_row6\" class=\"row_heading level0 row6\" >VarThresh=1.6</th>\n",
       "                        <td id=\"T_0a5472c2_e8ba_11ea_a923_4865ee12e626row6_col0\" class=\"data row6 col0\" >Test</td>\n",
       "                        <td id=\"T_0a5472c2_e8ba_11ea_a923_4865ee12e626row6_col1\" class=\"data row6 col1\" >0.092700</td>\n",
       "                        <td id=\"T_0a5472c2_e8ba_11ea_a923_4865ee12e626row6_col2\" class=\"data row6 col2\" >73.459300</td>\n",
       "            </tr>\n",
       "            <tr>\n",
       "                        <th id=\"T_0a5472c2_e8ba_11ea_a923_4865ee12e626level0_row7\" class=\"row_heading level0 row7\" >VarThresh=2.0</th>\n",
       "                        <td id=\"T_0a5472c2_e8ba_11ea_a923_4865ee12e626row7_col0\" class=\"data row7 col0\" >Test</td>\n",
       "                        <td id=\"T_0a5472c2_e8ba_11ea_a923_4865ee12e626row7_col1\" class=\"data row7 col1\" >0.042000</td>\n",
       "                        <td id=\"T_0a5472c2_e8ba_11ea_a923_4865ee12e626row7_col2\" class=\"data row7 col2\" >75.483900</td>\n",
       "            </tr>\n",
       "            <tr>\n",
       "                        <th id=\"T_0a5472c2_e8ba_11ea_a923_4865ee12e626level0_row8\" class=\"row_heading level0 row8\" >KBest-f_regr</th>\n",
       "                        <td id=\"T_0a5472c2_e8ba_11ea_a923_4865ee12e626row8_col0\" class=\"data row8 col0\" >Test</td>\n",
       "                        <td id=\"T_0a5472c2_e8ba_11ea_a923_4865ee12e626row8_col1\" class=\"data row8 col1\" >0.425000</td>\n",
       "                        <td id=\"T_0a5472c2_e8ba_11ea_a923_4865ee12e626row8_col2\" class=\"data row8 col2\" >58.479900</td>\n",
       "            </tr>\n",
       "            <tr>\n",
       "                        <th id=\"T_0a5472c2_e8ba_11ea_a923_4865ee12e626level0_row9\" class=\"row_heading level0 row9\" >KBest-mutual_info</th>\n",
       "                        <td id=\"T_0a5472c2_e8ba_11ea_a923_4865ee12e626row9_col0\" class=\"data row9 col0\" >Test</td>\n",
       "                        <td id=\"T_0a5472c2_e8ba_11ea_a923_4865ee12e626row9_col1\" class=\"data row9 col1\" >0.416500</td>\n",
       "                        <td id=\"T_0a5472c2_e8ba_11ea_a923_4865ee12e626row9_col2\" class=\"data row9 col2\" >58.912800</td>\n",
       "            </tr>\n",
       "            <tr>\n",
       "                        <th id=\"T_0a5472c2_e8ba_11ea_a923_4865ee12e626level0_row10\" class=\"row_heading level0 row10\" >RFE w. 10 feats</th>\n",
       "                        <td id=\"T_0a5472c2_e8ba_11ea_a923_4865ee12e626row10_col0\" class=\"data row10 col0\" >Test</td>\n",
       "                        <td id=\"T_0a5472c2_e8ba_11ea_a923_4865ee12e626row10_col1\" class=\"data row10 col1\" >0.374200</td>\n",
       "                        <td id=\"T_0a5472c2_e8ba_11ea_a923_4865ee12e626row10_col2\" class=\"data row10 col2\" >61.009600</td>\n",
       "            </tr>\n",
       "            <tr>\n",
       "                        <th id=\"T_0a5472c2_e8ba_11ea_a923_4865ee12e626level0_row11\" class=\"row_heading level0 row11\" >Lasso - X data</th>\n",
       "                        <td id=\"T_0a5472c2_e8ba_11ea_a923_4865ee12e626row11_col0\" class=\"data row11 col0\" >Test</td>\n",
       "                        <td id=\"T_0a5472c2_e8ba_11ea_a923_4865ee12e626row11_col1\" class=\"data row11 col1\" >0.426700</td>\n",
       "                        <td id=\"T_0a5472c2_e8ba_11ea_a923_4865ee12e626row11_col2\" class=\"data row11 col2\" >58.393100</td>\n",
       "            </tr>\n",
       "            <tr>\n",
       "                        <th id=\"T_0a5472c2_e8ba_11ea_a923_4865ee12e626level0_row12\" class=\"row_heading level0 row12\" >Lasso Poly </th>\n",
       "                        <td id=\"T_0a5472c2_e8ba_11ea_a923_4865ee12e626row12_col0\" class=\"data row12 col0\" >Test</td>\n",
       "                        <td id=\"T_0a5472c2_e8ba_11ea_a923_4865ee12e626row12_col1\" class=\"data row12 col1\" >0.430700</td>\n",
       "                        <td id=\"T_0a5472c2_e8ba_11ea_a923_4865ee12e626row12_col2\" class=\"data row12 col2\" >58.191400</td>\n",
       "            </tr>\n",
       "    </tbody></table>"
      ],
      "text/plain": [
       "<pandas.io.formats.style.Styler at 0x12d8d4b70>"
      ]
     },
     "metadata": {},
     "output_type": "display_data"
    }
   ],
   "source": [
    "show_results(RESULTS,style_kws=dict(subset=['RMSE'],\n",
    "                                   cmap = plt.cm.get_cmap('Greens').reversed()))"
   ]
  },
  {
   "cell_type": "markdown",
   "metadata": {},
   "source": [
    "> As we can see, the regularization had minimal effect on the performance of the model, but it did improve the RMSE for the test set ever so slightly! There are no set steps someone should take in order to determine the optimal feature set. In fact, now there are automated machine learning pipelines that will determine the optimal subset of features for a given problem. One of the most important and often overlooked methods of feature selection is using domain knowledge about a given area to either eliminate features or create new ones."
   ]
  },
  {
   "cell_type": "markdown",
   "metadata": {
    "heading_collapsed": true
   },
   "source": [
    "# APPENDIX"
   ]
  },
  {
   "cell_type": "code",
   "execution_count": null,
   "metadata": {
    "hidden": true
   },
   "outputs": [],
   "source": []
  },
  {
   "cell_type": "markdown",
   "metadata": {
    "heading_collapsed": true,
    "hidden": true
   },
   "source": [
    "## Akaike Information Criterion (AIC) and Bayesian Information Criterion (BIC)"
   ]
  },
  {
   "cell_type": "markdown",
   "metadata": {
    "hidden": true
   },
   "source": [
    "### Uses of AIC and BIC"
   ]
  },
  {
   "cell_type": "markdown",
   "metadata": {
    "hidden": true
   },
   "source": [
    "- Performing feature selection: comparing models with only a few variables and more variables, computing the AIC/BIC and select the features that generated the lowest AIC or BIC\n",
    "- Similarly, selecting or not selecting interactions/polynomial features depending on whether or not the AIC/BIC decreases when adding them in\n",
    "- Computing the AIC and BIC for several values of the regularization parameter in Ridge/Lasso models and selecting the best regularization parameter, and many more! "
   ]
  },
  {
   "cell_type": "markdown",
   "metadata": {
    "hidden": true
   },
   "source": [
    "#### Akaike's Information Criterion (AIC)\n"
   ]
  },
  {
   "cell_type": "markdown",
   "metadata": {
    "hidden": true
   },
   "source": [
    "The formula for the AIC, invented by Hirotugu Akaike in 1973 and short for \"Akaike's Information Criterion\" is given by:\n",
    "\n",
    "$$ \\large \\text{AIC} = -2\\ln(\\hat{L}) + 2k $$\n",
    "\n",
    "Where:\n",
    "* $k$ : length of the parameter space (i.e. the number of features)\n",
    "* $\\hat{L}$ : the maximum value of the likelihood function for the model\n",
    "\n",
    "Another way to phrase the equation is:\n",
    "\n",
    "$$ \n",
    "\\large \\text{AIC(model)} =  - 2 * \\text{log-likelihood(model)} + 2 * \\text{length of the parameter space} $$\n",
    "\n",
    "\n",
    "- AIC used to **compare** models with unbounded units not independently interpretable\n",
    "\n",
    "- If model uses Maximum Likelihood Estimation, log-likelihood is automatically computed, so AIC is easy to calculate.\n",
    "- AIC acts like penalized log-likelihood criterion, balancing good fit and complexity\n",
    "\n",
    "- In Python, the AIC is built into `statsmodels` and in `sklearn` (such as `LassoLarsIC`, which you'll use in the upcoming lab). "
   ]
  },
  {
   "cell_type": "markdown",
   "metadata": {
    "hidden": true
   },
   "source": [
    "#### Bayesian Information Criterion (BIC)"
   ]
  },
  {
   "cell_type": "markdown",
   "metadata": {
    "hidden": true
   },
   "source": [
    "- Bayesian alternative to AIC, used the same way.\n",
    "\n",
    " $$\\large \\text{BIC} = -2\\ln(\\hat L) + \\ln(n)*k $$\n",
    "\n",
    "\n",
    "where:\n",
    "\n",
    "* $\\hat{L}$ and $k$ are the same as in AIC\n",
    "* $n$ : the number of data points (the sample size)\n",
    "\n",
    "Another way to phrase the equation is:\n",
    "\n",
    "$$ \\text{BIC(model)} = -2 * \\text{log-likelihood(model)} + \\text{log(number of observations)} * \\text{(length of the parameter space)} $$"
   ]
  },
  {
   "cell_type": "code",
   "execution_count": null,
   "metadata": {
    "ExecuteTime": {
     "end_time": "2020-08-27T22:59:24.291948Z",
     "start_time": "2020-08-27T22:59:19.666Z"
    },
    "hidden": true
   },
   "outputs": [],
   "source": [
    "from sklearn.linear_model import LassoCV, LassoLarsCV, LassoLarsIC\n",
    "# alphas = np.arange(0.1,100,0.1)\n",
    "\n",
    "lasso_cvA = LassoLarsIC(criterion='aic')\n",
    "lasso_cvA.fit(X_train,y_train);\n",
    "lasso_cvA.alpha_\n",
    "\n",
    "\n",
    "lasso_cvB = LassoLarsIC(criterion='bic')\n",
    "lasso_cvB.fit(X_train,y_train);\n",
    "lasso_cvB.alpha_"
   ]
  },
  {
   "cell_type": "code",
   "execution_count": null,
   "metadata": {
    "ExecuteTime": {
     "end_time": "2020-08-27T22:59:24.292805Z",
     "start_time": "2020-08-27T22:59:19.700Z"
    },
    "hidden": true
   },
   "outputs": [],
   "source": [
    "def plot_ic_criterion(model, name, color):\n",
    "    \"\"\"Taken from:\n",
    "    https://scikit-learn.org/stable/auto_examples/linear_model/plot_lasso_model_selection.html\"\"\"\n",
    "    # This is to avoid division by zero while doing np.log10\n",
    "    EPSILON = 1e-4\n",
    "    alpha_ = model.alpha_ + EPSILON\n",
    "    alphas_ = model.alphas_ + EPSILON\n",
    "    criterion_ = model.criterion_\n",
    "    plt.plot(-np.log10(alphas_), criterion_, '--', color=color,\n",
    "             linewidth=3, label='%s criterion' % name)\n",
    "    \n",
    "    plt.axvline(-np.log10(alpha_), color=color, linewidth=3,\n",
    "                label=f'alpha: {name} estimate (alpha={round(alpha_,5)})')\n",
    "    plt.xlabel('-log(alpha)')\n",
    "    plt.ylabel('criterion')\n",
    "\n",
    "plot_ic_criterion(lasso_cvA,'AIC','blue')\n",
    "plot_ic_criterion(lasso_cvB,'BIC','green')#,'BIC' )\n",
    "plt.legend(bbox_to_anchor=[1,1],loc='upper left')"
   ]
  },
  {
   "cell_type": "markdown",
   "metadata": {
    "heading_collapsed": true,
    "hidden": true
   },
   "source": [
    "## Akaike Information Criterion (AIC) and Bayesian Information Criterion (BIC)"
   ]
  },
  {
   "cell_type": "markdown",
   "metadata": {
    "hidden": true
   },
   "source": [
    "### Uses of AIC and BIC"
   ]
  },
  {
   "cell_type": "markdown",
   "metadata": {
    "hidden": true
   },
   "source": [
    "- Performing feature selection: comparing models with only a few variables and more variables, computing the AIC/BIC and select the features that generated the lowest AIC or BIC\n",
    "- Similarly, selecting or not selecting interactions/polynomial features depending on whether or not the AIC/BIC decreases when adding them in\n",
    "- Computing the AIC and BIC for several values of the regularization parameter in Ridge/Lasso models and selecting the best regularization parameter, and many more! "
   ]
  },
  {
   "cell_type": "markdown",
   "metadata": {
    "hidden": true
   },
   "source": [
    "### Akaike's Information Criterion (AIC)\n"
   ]
  },
  {
   "cell_type": "markdown",
   "metadata": {
    "hidden": true
   },
   "source": [
    "The formula for the AIC, invented by Hirotugu Akaike in 1973 and short for \"Akaike's Information Criterion\" is given by:\n",
    "\n",
    "$$ \\large \\text{AIC} = -2\\ln(\\hat{L}) + 2k $$\n",
    "\n",
    "Where:\n",
    "* $k$ : length of the parameter space (i.e. the number of features)\n",
    "* $\\hat{L}$ : the maximum value of the likelihood function for the model\n",
    "\n",
    "Another way to phrase the equation is:\n",
    "\n",
    "$$ \n",
    "\\large \\text{AIC(model)} =  - 2 * \\text{log-likelihood(model)} + 2 * \\text{length of the parameter space} $$\n",
    "\n",
    "\n",
    "- AIC used to **compare** models with unbounded units not independently interpretable\n",
    "\n",
    "- If model uses Maximum Likelihood Estimation, log-likelihood is automatically computed, so AIC is easy to calculate.\n",
    "- AIC acts like penalized log-likelihood criterion, balancing good fit and complexity\n",
    "\n",
    "- In Python, the AIC is built into `statsmodels` and in `sklearn` (such as `LassoLarsIC`, which you'll use in the upcoming lab). "
   ]
  },
  {
   "cell_type": "markdown",
   "metadata": {
    "hidden": true
   },
   "source": [
    "### Bayesian Information Criterion (BIC)"
   ]
  },
  {
   "cell_type": "markdown",
   "metadata": {
    "hidden": true
   },
   "source": [
    "- Bayesian alternative to AIC, used the same way.\n",
    "\n",
    " $$\\large \\text{BIC} = -2\\ln(\\hat L) + \\ln(n)*k $$\n",
    "\n",
    "\n",
    "where:\n",
    "\n",
    "* $\\hat{L}$ and $k$ are the same as in AIC\n",
    "* $n$ : the number of data points (the sample size)\n",
    "\n",
    "Another way to phrase the equation is:\n",
    "\n",
    "$$ \\text{BIC(model)} = -2 * \\text{log-likelihood(model)} + \\text{log(number of observations)} * \\text{(length of the parameter space)} $$"
   ]
  },
  {
   "cell_type": "code",
   "execution_count": null,
   "metadata": {
    "ExecuteTime": {
     "end_time": "2020-08-27T22:59:24.291948Z",
     "start_time": "2020-08-27T22:59:19.666Z"
    },
    "hidden": true
   },
   "outputs": [],
   "source": [
    "from sklearn.linear_model import LassoCV, LassoLarsCV, LassoLarsIC\n",
    "# alphas = np.arange(0.1,100,0.1)\n",
    "\n",
    "lasso_cvA = LassoLarsIC(criterion='aic')\n",
    "lasso_cvA.fit(X_train,y_train);\n",
    "lasso_cvA.alpha_\n",
    "\n",
    "\n",
    "lasso_cvB = LassoLarsIC(criterion='bic')\n",
    "lasso_cvB.fit(X_train,y_train);\n",
    "lasso_cvB.alpha_"
   ]
  },
  {
   "cell_type": "code",
   "execution_count": null,
   "metadata": {
    "ExecuteTime": {
     "end_time": "2020-08-27T22:59:24.292805Z",
     "start_time": "2020-08-27T22:59:19.700Z"
    },
    "hidden": true
   },
   "outputs": [],
   "source": [
    "def plot_ic_criterion(model, name, color):\n",
    "    \"\"\"Taken from:\n",
    "    https://scikit-learn.org/stable/auto_examples/linear_model/plot_lasso_model_selection.html\"\"\"\n",
    "    # This is to avoid division by zero while doing np.log10\n",
    "    EPSILON = 1e-4\n",
    "    alpha_ = model.alpha_ + EPSILON\n",
    "    alphas_ = model.alphas_ + EPSILON\n",
    "    criterion_ = model.criterion_\n",
    "    plt.plot(-np.log10(alphas_), criterion_, '--', color=color,\n",
    "             linewidth=3, label='%s criterion' % name)\n",
    "    \n",
    "    plt.axvline(-np.log10(alpha_), color=color, linewidth=3,\n",
    "                label=f'alpha: {name} estimate (alpha={round(alpha_,5)})')\n",
    "    plt.xlabel('-log(alpha)')\n",
    "    plt.ylabel('criterion')\n",
    "\n",
    "plot_ic_criterion(lasso_cvA,'AIC','blue')\n",
    "plot_ic_criterion(lasso_cvB,'BIC','green')#,'BIC' )\n",
    "plt.legend(bbox_to_anchor=[1,1],loc='upper left')"
   ]
  }
 ],
 "metadata": {
  "kernelspec": {
   "display_name": "Python 3",
   "language": "python",
   "name": "python3"
  },
  "language_info": {
   "codemirror_mode": {
    "name": "ipython",
    "version": 3
   },
   "file_extension": ".py",
   "mimetype": "text/x-python",
   "name": "python",
   "nbconvert_exporter": "python",
   "pygments_lexer": "ipython3",
   "version": "3.6.11"
  },
  "toc": {
   "base_numbering": 1,
   "nav_menu": {},
   "number_sections": true,
   "sideBar": true,
   "skip_h1_title": false,
   "title_cell": "Table of Contents",
   "title_sidebar": "Contents",
   "toc_cell": false,
   "toc_position": {
    "height": "calc(100% - 180px)",
    "left": "10px",
    "top": "150px",
    "width": "320px"
   },
   "toc_section_display": true,
   "toc_window_display": true
  },
  "varInspector": {
   "cols": {
    "lenName": 16,
    "lenType": 16,
    "lenVar": 40
   },
   "kernels_config": {
    "python": {
     "delete_cmd_postfix": "",
     "delete_cmd_prefix": "del ",
     "library": "var_list.py",
     "varRefreshCmd": "print(var_dic_list())"
    },
    "r": {
     "delete_cmd_postfix": ") ",
     "delete_cmd_prefix": "rm(",
     "library": "var_list.r",
     "varRefreshCmd": "cat(var_dic_list()) "
    }
   },
   "types_to_exclude": [
    "module",
    "function",
    "builtin_function_or_method",
    "instance",
    "_Feature"
   ],
   "window_display": false
  }
 },
 "nbformat": 4,
 "nbformat_minor": 2
}
